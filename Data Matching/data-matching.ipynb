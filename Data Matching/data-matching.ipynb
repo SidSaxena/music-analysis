{
 "metadata": {
  "language_info": {
   "codemirror_mode": {
    "name": "ipython",
    "version": 3
   },
   "file_extension": ".py",
   "mimetype": "text/x-python",
   "name": "python",
   "nbconvert_exporter": "python",
   "pygments_lexer": "ipython3",
   "version": "3.8.2-final"
  },
  "orig_nbformat": 2,
  "kernelspec": {
   "name": "python_defaultSpec_1598864630517",
   "display_name": "Python 3.8.2 64-bit"
  }
 },
 "nbformat": 4,
 "nbformat_minor": 2,
 "cells": [
  {
   "cell_type": "code",
   "execution_count": 83,
   "metadata": {},
   "outputs": [],
   "source": [
    "import pandas as pd\n",
    "import recordlinkage\n",
    "import jellyfish as jf"
   ]
  },
  {
   "cell_type": "code",
   "execution_count": 84,
   "metadata": {},
   "outputs": [],
   "source": [
    "failed = pd.read_csv('/home/sid/development/python/music-analysis/spotify/Spreadsheets/Failed Results (Union minus Merged).csv')\n",
    "\n",
    "failed_features = pd.read_csv('/home/sid/development/python/music-analysis/spotify/Spreadsheets/Failed Features.csv')\n",
    "\n",
    "failed_not_features = pd.read_csv('/home/sid/development/python/music-analysis/spotify/Spreadsheets/Failed Scrobbles without Features.csv')"
   ]
  },
  {
   "cell_type": "code",
   "execution_count": 85,
   "metadata": {},
   "outputs": [
    {
     "output_type": "execute_result",
     "data": {
      "text/plain": "                      artist  \\\n0             Declan Mckenna   \n1             Declan Mckenna   \n2             Declan Mckenna   \n3      Everything Everything   \n4             Gotham Knights   \n...                      ...   \n17312        Various Artists   \n17313        Various Artists   \n17314        Various Artists   \n17315               Yoe Mase   \n17316        Various Artists   \n\n                                                   track             datetime  \\\n0                                                In Blue  2020-08-25 11:10:56   \n1                                                In Blue  2020-08-07 22:31:03   \n2                                                In Blue  2020-03-27 23:02:03   \n3      Don't Let It Bring You Down - Live At Bbc Maid...  2020-08-24 13:17:44   \n4                                 World Premiere Trailer  2020-08-24 10:37:20   \n...                                                  ...                  ...   \n17312                                        Überflieger                  NaN   \n17313                                      Slumber Party                  NaN   \n17314                    Ragtime Cat (feat. Lilja Bloom)                  NaN   \n17315                      Nothing More (deaf Kev Remix)                  NaN   \n17316                                               Mess                  NaN   \n\n                                             album release_date  \\\n0                                              NaN          NaN   \n1                                              NaN          NaN   \n2                                              NaN          NaN   \n3                                              NaN          NaN   \n4                                              NaN          NaN   \n...                                            ...          ...   \n17312  MrSuicideSheep Presents - Taking You Higher   2015-10-09   \n17313  MrSuicideSheep Presents - Taking You Higher   2015-10-09   \n17314                  Electro Swing Fever, Vol. 3   2014-02-17   \n17315                Nothing More (Deaf Kev Remix)   2015-11-06   \n17316                             Music For Undays   2014-02-24   \n\n                         genres    length  popularity  danceability  energy  \\\n0                           NaN       NaN         NaN           NaN     NaN   \n1                           NaN       NaN         NaN           NaN     NaN   \n2                           NaN       NaN         NaN           NaN     NaN   \n3                           NaN       NaN         NaN           NaN     NaN   \n4                           NaN       NaN         NaN           NaN     NaN   \n...                         ...       ...         ...           ...     ...   \n17312                        []  530750.0        25.0         0.649   0.864   \n17313                        []  233587.0        37.0         0.533   0.936   \n17314                        []  181000.0        22.0         0.736   0.715   \n17315  ['chillstep', 'pop edm']  376200.0        37.0         0.383   0.831   \n17316                        []  188895.0        15.0         0.679   0.296   \n\n        key  loudness  mode  speechiness  acousticness  instrumentalness  \\\n0       NaN       NaN   NaN          NaN           NaN               NaN   \n1       NaN       NaN   NaN          NaN           NaN               NaN   \n2       NaN       NaN   NaN          NaN           NaN               NaN   \n3       NaN       NaN   NaN          NaN           NaN               NaN   \n4       NaN       NaN   NaN          NaN           NaN               NaN   \n...     ...       ...   ...          ...           ...               ...   \n17312  10.0    -6.659   0.0       0.0497        0.0172          0.864000   \n17313   1.0    -4.626   1.0       0.0447        0.0143          0.721000   \n17314   5.0    -4.114   0.0       0.0412        0.0120          0.000796   \n17315   1.0    -5.063   1.0       0.0511        0.0123          0.066100   \n17316   8.0    -9.768   1.0       0.0356        0.7380          0.000521   \n\n       liveness  valence    tempo  time_signature  \n0           NaN      NaN      NaN             NaN  \n1           NaN      NaN      NaN             NaN  \n2           NaN      NaN      NaN             NaN  \n3           NaN      NaN      NaN             NaN  \n4           NaN      NaN      NaN             NaN  \n...         ...      ...      ...             ...  \n17312    0.0308   0.5380  127.987             4.0  \n17313    0.0622   0.4210  128.018             4.0  \n17314    0.2180   0.8510  119.976             4.0  \n17315    0.1020   0.0912  199.850             4.0  \n17316    0.1120   0.1410  128.098             4.0  \n\n[17317 rows x 20 columns]",
      "text/html": "<div>\n<style scoped>\n    .dataframe tbody tr th:only-of-type {\n        vertical-align: middle;\n    }\n\n    .dataframe tbody tr th {\n        vertical-align: top;\n    }\n\n    .dataframe thead th {\n        text-align: right;\n    }\n</style>\n<table border=\"1\" class=\"dataframe\">\n  <thead>\n    <tr style=\"text-align: right;\">\n      <th></th>\n      <th>artist</th>\n      <th>track</th>\n      <th>datetime</th>\n      <th>album</th>\n      <th>release_date</th>\n      <th>genres</th>\n      <th>length</th>\n      <th>popularity</th>\n      <th>danceability</th>\n      <th>energy</th>\n      <th>key</th>\n      <th>loudness</th>\n      <th>mode</th>\n      <th>speechiness</th>\n      <th>acousticness</th>\n      <th>instrumentalness</th>\n      <th>liveness</th>\n      <th>valence</th>\n      <th>tempo</th>\n      <th>time_signature</th>\n    </tr>\n  </thead>\n  <tbody>\n    <tr>\n      <th>0</th>\n      <td>Declan Mckenna</td>\n      <td>In Blue</td>\n      <td>2020-08-25 11:10:56</td>\n      <td>NaN</td>\n      <td>NaN</td>\n      <td>NaN</td>\n      <td>NaN</td>\n      <td>NaN</td>\n      <td>NaN</td>\n      <td>NaN</td>\n      <td>NaN</td>\n      <td>NaN</td>\n      <td>NaN</td>\n      <td>NaN</td>\n      <td>NaN</td>\n      <td>NaN</td>\n      <td>NaN</td>\n      <td>NaN</td>\n      <td>NaN</td>\n      <td>NaN</td>\n    </tr>\n    <tr>\n      <th>1</th>\n      <td>Declan Mckenna</td>\n      <td>In Blue</td>\n      <td>2020-08-07 22:31:03</td>\n      <td>NaN</td>\n      <td>NaN</td>\n      <td>NaN</td>\n      <td>NaN</td>\n      <td>NaN</td>\n      <td>NaN</td>\n      <td>NaN</td>\n      <td>NaN</td>\n      <td>NaN</td>\n      <td>NaN</td>\n      <td>NaN</td>\n      <td>NaN</td>\n      <td>NaN</td>\n      <td>NaN</td>\n      <td>NaN</td>\n      <td>NaN</td>\n      <td>NaN</td>\n    </tr>\n    <tr>\n      <th>2</th>\n      <td>Declan Mckenna</td>\n      <td>In Blue</td>\n      <td>2020-03-27 23:02:03</td>\n      <td>NaN</td>\n      <td>NaN</td>\n      <td>NaN</td>\n      <td>NaN</td>\n      <td>NaN</td>\n      <td>NaN</td>\n      <td>NaN</td>\n      <td>NaN</td>\n      <td>NaN</td>\n      <td>NaN</td>\n      <td>NaN</td>\n      <td>NaN</td>\n      <td>NaN</td>\n      <td>NaN</td>\n      <td>NaN</td>\n      <td>NaN</td>\n      <td>NaN</td>\n    </tr>\n    <tr>\n      <th>3</th>\n      <td>Everything Everything</td>\n      <td>Don't Let It Bring You Down - Live At Bbc Maid...</td>\n      <td>2020-08-24 13:17:44</td>\n      <td>NaN</td>\n      <td>NaN</td>\n      <td>NaN</td>\n      <td>NaN</td>\n      <td>NaN</td>\n      <td>NaN</td>\n      <td>NaN</td>\n      <td>NaN</td>\n      <td>NaN</td>\n      <td>NaN</td>\n      <td>NaN</td>\n      <td>NaN</td>\n      <td>NaN</td>\n      <td>NaN</td>\n      <td>NaN</td>\n      <td>NaN</td>\n      <td>NaN</td>\n    </tr>\n    <tr>\n      <th>4</th>\n      <td>Gotham Knights</td>\n      <td>World Premiere Trailer</td>\n      <td>2020-08-24 10:37:20</td>\n      <td>NaN</td>\n      <td>NaN</td>\n      <td>NaN</td>\n      <td>NaN</td>\n      <td>NaN</td>\n      <td>NaN</td>\n      <td>NaN</td>\n      <td>NaN</td>\n      <td>NaN</td>\n      <td>NaN</td>\n      <td>NaN</td>\n      <td>NaN</td>\n      <td>NaN</td>\n      <td>NaN</td>\n      <td>NaN</td>\n      <td>NaN</td>\n      <td>NaN</td>\n    </tr>\n    <tr>\n      <th>...</th>\n      <td>...</td>\n      <td>...</td>\n      <td>...</td>\n      <td>...</td>\n      <td>...</td>\n      <td>...</td>\n      <td>...</td>\n      <td>...</td>\n      <td>...</td>\n      <td>...</td>\n      <td>...</td>\n      <td>...</td>\n      <td>...</td>\n      <td>...</td>\n      <td>...</td>\n      <td>...</td>\n      <td>...</td>\n      <td>...</td>\n      <td>...</td>\n      <td>...</td>\n    </tr>\n    <tr>\n      <th>17312</th>\n      <td>Various Artists</td>\n      <td>Überflieger</td>\n      <td>NaN</td>\n      <td>MrSuicideSheep Presents - Taking You Higher</td>\n      <td>2015-10-09</td>\n      <td>[]</td>\n      <td>530750.0</td>\n      <td>25.0</td>\n      <td>0.649</td>\n      <td>0.864</td>\n      <td>10.0</td>\n      <td>-6.659</td>\n      <td>0.0</td>\n      <td>0.0497</td>\n      <td>0.0172</td>\n      <td>0.864000</td>\n      <td>0.0308</td>\n      <td>0.5380</td>\n      <td>127.987</td>\n      <td>4.0</td>\n    </tr>\n    <tr>\n      <th>17313</th>\n      <td>Various Artists</td>\n      <td>Slumber Party</td>\n      <td>NaN</td>\n      <td>MrSuicideSheep Presents - Taking You Higher</td>\n      <td>2015-10-09</td>\n      <td>[]</td>\n      <td>233587.0</td>\n      <td>37.0</td>\n      <td>0.533</td>\n      <td>0.936</td>\n      <td>1.0</td>\n      <td>-4.626</td>\n      <td>1.0</td>\n      <td>0.0447</td>\n      <td>0.0143</td>\n      <td>0.721000</td>\n      <td>0.0622</td>\n      <td>0.4210</td>\n      <td>128.018</td>\n      <td>4.0</td>\n    </tr>\n    <tr>\n      <th>17314</th>\n      <td>Various Artists</td>\n      <td>Ragtime Cat (feat. Lilja Bloom)</td>\n      <td>NaN</td>\n      <td>Electro Swing Fever, Vol. 3</td>\n      <td>2014-02-17</td>\n      <td>[]</td>\n      <td>181000.0</td>\n      <td>22.0</td>\n      <td>0.736</td>\n      <td>0.715</td>\n      <td>5.0</td>\n      <td>-4.114</td>\n      <td>0.0</td>\n      <td>0.0412</td>\n      <td>0.0120</td>\n      <td>0.000796</td>\n      <td>0.2180</td>\n      <td>0.8510</td>\n      <td>119.976</td>\n      <td>4.0</td>\n    </tr>\n    <tr>\n      <th>17315</th>\n      <td>Yoe Mase</td>\n      <td>Nothing More (deaf Kev Remix)</td>\n      <td>NaN</td>\n      <td>Nothing More (Deaf Kev Remix)</td>\n      <td>2015-11-06</td>\n      <td>['chillstep', 'pop edm']</td>\n      <td>376200.0</td>\n      <td>37.0</td>\n      <td>0.383</td>\n      <td>0.831</td>\n      <td>1.0</td>\n      <td>-5.063</td>\n      <td>1.0</td>\n      <td>0.0511</td>\n      <td>0.0123</td>\n      <td>0.066100</td>\n      <td>0.1020</td>\n      <td>0.0912</td>\n      <td>199.850</td>\n      <td>4.0</td>\n    </tr>\n    <tr>\n      <th>17316</th>\n      <td>Various Artists</td>\n      <td>Mess</td>\n      <td>NaN</td>\n      <td>Music For Undays</td>\n      <td>2014-02-24</td>\n      <td>[]</td>\n      <td>188895.0</td>\n      <td>15.0</td>\n      <td>0.679</td>\n      <td>0.296</td>\n      <td>8.0</td>\n      <td>-9.768</td>\n      <td>1.0</td>\n      <td>0.0356</td>\n      <td>0.7380</td>\n      <td>0.000521</td>\n      <td>0.1120</td>\n      <td>0.1410</td>\n      <td>128.098</td>\n      <td>4.0</td>\n    </tr>\n  </tbody>\n</table>\n<p>17317 rows × 20 columns</p>\n</div>"
     },
     "metadata": {},
     "execution_count": 85
    }
   ],
   "source": [
    "failed"
   ]
  },
  {
   "cell_type": "code",
   "execution_count": 10,
   "metadata": {},
   "outputs": [
    {
     "output_type": "execute_result",
     "data": {
      "text/plain": "               artist                                          track  \\\n0     Various Artists                                        In Blue   \n1     Various Artists  See You Space Cowboys Not Final Mountain Root   \n2     Gustaf Grefberg                                      A Way Out   \n3      Foreign Fields                        Don’t Give Up - Renewed   \n4     Various Artists                                         Ramona   \n...               ...                                            ...   \n1045  Various Artists                                    Überflieger   \n1046  Various Artists                                  Slumber Party   \n1047  Various Artists                Ragtime Cat (feat. Lilja Bloom)   \n1048         Yoe Mase                  Nothing More (deaf Kev Remix)   \n1049  Various Artists                                           Mess   \n\n      datetime                                              album  \\\n0          NaN                 MOOMINVALLEY (Official Soundtrack)   \n1          NaN  COWBOY BEBOP (Original Motion Picture Soundtra...   \n2          NaN               A Way Out (Original Game Soundtrack)   \n3          NaN  Light On Your Face (Renewed) / Don’t Give Up (...   \n4          NaN  Scott Pilgrim vs. the World (Original Motion P...   \n...        ...                                                ...   \n1045       NaN        MrSuicideSheep Presents - Taking You Higher   \n1046       NaN        MrSuicideSheep Presents - Taking You Higher   \n1047       NaN                        Electro Swing Fever, Vol. 3   \n1048       NaN                      Nothing More (Deaf Kev Remix)   \n1049       NaN                                   Music For Undays   \n\n     release_date                                             genres  \\\n0      2019-04-19                                                 []   \n1      1999-05-01                                                 []   \n2      2020-02-05                                                 []   \n3      2020-08-06  ['ambient folk', 'chamber pop', 'indie anthem-...   \n4      2010-01-01                                                 []   \n...           ...                                                ...   \n1045   2015-10-09                                                 []   \n1046   2015-10-09                                                 []   \n1047   2014-02-17                                                 []   \n1048   2015-11-06                           ['chillstep', 'pop edm']   \n1049   2014-02-24                                                 []   \n\n        length  popularity  danceability  energy   key  loudness  mode  \\\n0     294021.0        53.0         0.578   0.456   0.0   -10.155   1.0   \n1     355866.0        35.0         0.489   0.695   4.0    -9.893   0.0   \n2     210859.0        16.0         0.231   0.241   9.0   -15.071   0.0   \n3     412626.0        41.0         0.625   0.259   0.0   -16.307   0.0   \n4     261506.0        48.0         0.413   0.565   9.0    -7.200   0.0   \n...        ...         ...           ...     ...   ...       ...   ...   \n1045  530750.0        25.0         0.649   0.864  10.0    -6.659   0.0   \n1046  233587.0        37.0         0.533   0.936   1.0    -4.626   1.0   \n1047  181000.0        22.0         0.736   0.715   5.0    -4.114   0.0   \n1048  376200.0        37.0         0.383   0.831   1.0    -5.063   1.0   \n1049  188895.0        15.0         0.679   0.296   8.0    -9.768   1.0   \n\n      speechiness  acousticness  instrumentalness  liveness  valence    tempo  \\\n0          0.0243       0.16800          0.003060    0.2020   0.2760   96.979   \n1          0.0311       0.00015          0.221000    0.0935   0.5740   80.499   \n2          0.0331       0.78000          0.943000    0.0962   0.0620   56.020   \n3          0.0849       0.16800          0.686000    0.1110   0.1430  123.063   \n4          0.0288       0.03590          0.768000    0.1390   0.3410  123.044   \n...           ...           ...               ...       ...      ...      ...   \n1045       0.0497       0.01720          0.864000    0.0308   0.5380  127.987   \n1046       0.0447       0.01430          0.721000    0.0622   0.4210  128.018   \n1047       0.0412       0.01200          0.000796    0.2180   0.8510  119.976   \n1048       0.0511       0.01230          0.066100    0.1020   0.0912  199.850   \n1049       0.0356       0.73800          0.000521    0.1120   0.1410  128.098   \n\n      time_signature  \n0                4.0  \n1                4.0  \n2                3.0  \n3                4.0  \n4                4.0  \n...              ...  \n1045             4.0  \n1046             4.0  \n1047             4.0  \n1048             4.0  \n1049             4.0  \n\n[1050 rows x 20 columns]",
      "text/html": "<div>\n<style scoped>\n    .dataframe tbody tr th:only-of-type {\n        vertical-align: middle;\n    }\n\n    .dataframe tbody tr th {\n        vertical-align: top;\n    }\n\n    .dataframe thead th {\n        text-align: right;\n    }\n</style>\n<table border=\"1\" class=\"dataframe\">\n  <thead>\n    <tr style=\"text-align: right;\">\n      <th></th>\n      <th>artist</th>\n      <th>track</th>\n      <th>datetime</th>\n      <th>album</th>\n      <th>release_date</th>\n      <th>genres</th>\n      <th>length</th>\n      <th>popularity</th>\n      <th>danceability</th>\n      <th>energy</th>\n      <th>key</th>\n      <th>loudness</th>\n      <th>mode</th>\n      <th>speechiness</th>\n      <th>acousticness</th>\n      <th>instrumentalness</th>\n      <th>liveness</th>\n      <th>valence</th>\n      <th>tempo</th>\n      <th>time_signature</th>\n    </tr>\n  </thead>\n  <tbody>\n    <tr>\n      <th>0</th>\n      <td>Various Artists</td>\n      <td>In Blue</td>\n      <td>NaN</td>\n      <td>MOOMINVALLEY (Official Soundtrack)</td>\n      <td>2019-04-19</td>\n      <td>[]</td>\n      <td>294021.0</td>\n      <td>53.0</td>\n      <td>0.578</td>\n      <td>0.456</td>\n      <td>0.0</td>\n      <td>-10.155</td>\n      <td>1.0</td>\n      <td>0.0243</td>\n      <td>0.16800</td>\n      <td>0.003060</td>\n      <td>0.2020</td>\n      <td>0.2760</td>\n      <td>96.979</td>\n      <td>4.0</td>\n    </tr>\n    <tr>\n      <th>1</th>\n      <td>Various Artists</td>\n      <td>See You Space Cowboys Not Final Mountain Root</td>\n      <td>NaN</td>\n      <td>COWBOY BEBOP (Original Motion Picture Soundtra...</td>\n      <td>1999-05-01</td>\n      <td>[]</td>\n      <td>355866.0</td>\n      <td>35.0</td>\n      <td>0.489</td>\n      <td>0.695</td>\n      <td>4.0</td>\n      <td>-9.893</td>\n      <td>0.0</td>\n      <td>0.0311</td>\n      <td>0.00015</td>\n      <td>0.221000</td>\n      <td>0.0935</td>\n      <td>0.5740</td>\n      <td>80.499</td>\n      <td>4.0</td>\n    </tr>\n    <tr>\n      <th>2</th>\n      <td>Gustaf Grefberg</td>\n      <td>A Way Out</td>\n      <td>NaN</td>\n      <td>A Way Out (Original Game Soundtrack)</td>\n      <td>2020-02-05</td>\n      <td>[]</td>\n      <td>210859.0</td>\n      <td>16.0</td>\n      <td>0.231</td>\n      <td>0.241</td>\n      <td>9.0</td>\n      <td>-15.071</td>\n      <td>0.0</td>\n      <td>0.0331</td>\n      <td>0.78000</td>\n      <td>0.943000</td>\n      <td>0.0962</td>\n      <td>0.0620</td>\n      <td>56.020</td>\n      <td>3.0</td>\n    </tr>\n    <tr>\n      <th>3</th>\n      <td>Foreign Fields</td>\n      <td>Don’t Give Up - Renewed</td>\n      <td>NaN</td>\n      <td>Light On Your Face (Renewed) / Don’t Give Up (...</td>\n      <td>2020-08-06</td>\n      <td>['ambient folk', 'chamber pop', 'indie anthem-...</td>\n      <td>412626.0</td>\n      <td>41.0</td>\n      <td>0.625</td>\n      <td>0.259</td>\n      <td>0.0</td>\n      <td>-16.307</td>\n      <td>0.0</td>\n      <td>0.0849</td>\n      <td>0.16800</td>\n      <td>0.686000</td>\n      <td>0.1110</td>\n      <td>0.1430</td>\n      <td>123.063</td>\n      <td>4.0</td>\n    </tr>\n    <tr>\n      <th>4</th>\n      <td>Various Artists</td>\n      <td>Ramona</td>\n      <td>NaN</td>\n      <td>Scott Pilgrim vs. the World (Original Motion P...</td>\n      <td>2010-01-01</td>\n      <td>[]</td>\n      <td>261506.0</td>\n      <td>48.0</td>\n      <td>0.413</td>\n      <td>0.565</td>\n      <td>9.0</td>\n      <td>-7.200</td>\n      <td>0.0</td>\n      <td>0.0288</td>\n      <td>0.03590</td>\n      <td>0.768000</td>\n      <td>0.1390</td>\n      <td>0.3410</td>\n      <td>123.044</td>\n      <td>4.0</td>\n    </tr>\n    <tr>\n      <th>...</th>\n      <td>...</td>\n      <td>...</td>\n      <td>...</td>\n      <td>...</td>\n      <td>...</td>\n      <td>...</td>\n      <td>...</td>\n      <td>...</td>\n      <td>...</td>\n      <td>...</td>\n      <td>...</td>\n      <td>...</td>\n      <td>...</td>\n      <td>...</td>\n      <td>...</td>\n      <td>...</td>\n      <td>...</td>\n      <td>...</td>\n      <td>...</td>\n      <td>...</td>\n    </tr>\n    <tr>\n      <th>1045</th>\n      <td>Various Artists</td>\n      <td>Überflieger</td>\n      <td>NaN</td>\n      <td>MrSuicideSheep Presents - Taking You Higher</td>\n      <td>2015-10-09</td>\n      <td>[]</td>\n      <td>530750.0</td>\n      <td>25.0</td>\n      <td>0.649</td>\n      <td>0.864</td>\n      <td>10.0</td>\n      <td>-6.659</td>\n      <td>0.0</td>\n      <td>0.0497</td>\n      <td>0.01720</td>\n      <td>0.864000</td>\n      <td>0.0308</td>\n      <td>0.5380</td>\n      <td>127.987</td>\n      <td>4.0</td>\n    </tr>\n    <tr>\n      <th>1046</th>\n      <td>Various Artists</td>\n      <td>Slumber Party</td>\n      <td>NaN</td>\n      <td>MrSuicideSheep Presents - Taking You Higher</td>\n      <td>2015-10-09</td>\n      <td>[]</td>\n      <td>233587.0</td>\n      <td>37.0</td>\n      <td>0.533</td>\n      <td>0.936</td>\n      <td>1.0</td>\n      <td>-4.626</td>\n      <td>1.0</td>\n      <td>0.0447</td>\n      <td>0.01430</td>\n      <td>0.721000</td>\n      <td>0.0622</td>\n      <td>0.4210</td>\n      <td>128.018</td>\n      <td>4.0</td>\n    </tr>\n    <tr>\n      <th>1047</th>\n      <td>Various Artists</td>\n      <td>Ragtime Cat (feat. Lilja Bloom)</td>\n      <td>NaN</td>\n      <td>Electro Swing Fever, Vol. 3</td>\n      <td>2014-02-17</td>\n      <td>[]</td>\n      <td>181000.0</td>\n      <td>22.0</td>\n      <td>0.736</td>\n      <td>0.715</td>\n      <td>5.0</td>\n      <td>-4.114</td>\n      <td>0.0</td>\n      <td>0.0412</td>\n      <td>0.01200</td>\n      <td>0.000796</td>\n      <td>0.2180</td>\n      <td>0.8510</td>\n      <td>119.976</td>\n      <td>4.0</td>\n    </tr>\n    <tr>\n      <th>1048</th>\n      <td>Yoe Mase</td>\n      <td>Nothing More (deaf Kev Remix)</td>\n      <td>NaN</td>\n      <td>Nothing More (Deaf Kev Remix)</td>\n      <td>2015-11-06</td>\n      <td>['chillstep', 'pop edm']</td>\n      <td>376200.0</td>\n      <td>37.0</td>\n      <td>0.383</td>\n      <td>0.831</td>\n      <td>1.0</td>\n      <td>-5.063</td>\n      <td>1.0</td>\n      <td>0.0511</td>\n      <td>0.01230</td>\n      <td>0.066100</td>\n      <td>0.1020</td>\n      <td>0.0912</td>\n      <td>199.850</td>\n      <td>4.0</td>\n    </tr>\n    <tr>\n      <th>1049</th>\n      <td>Various Artists</td>\n      <td>Mess</td>\n      <td>NaN</td>\n      <td>Music For Undays</td>\n      <td>2014-02-24</td>\n      <td>[]</td>\n      <td>188895.0</td>\n      <td>15.0</td>\n      <td>0.679</td>\n      <td>0.296</td>\n      <td>8.0</td>\n      <td>-9.768</td>\n      <td>1.0</td>\n      <td>0.0356</td>\n      <td>0.73800</td>\n      <td>0.000521</td>\n      <td>0.1120</td>\n      <td>0.1410</td>\n      <td>128.098</td>\n      <td>4.0</td>\n    </tr>\n  </tbody>\n</table>\n<p>1050 rows × 20 columns</p>\n</div>"
     },
     "metadata": {},
     "execution_count": 10
    }
   ],
   "source": [
    "failed_features"
   ]
  },
  {
   "cell_type": "code",
   "execution_count": 89,
   "metadata": {},
   "outputs": [
    {
     "output_type": "execute_result",
     "data": {
      "text/plain": "                      writer  \\\n0             Declan Mckenna   \n1             Declan Mckenna   \n2             Declan Mckenna   \n3      Everything Everything   \n4             Gotham Knights   \n...                      ...   \n16262          Unday Records   \n16263          Unday Records   \n16264          Unday Records   \n16265                   Jacm   \n16266         Mrsuicidesheep   \n\n                                                    song             datetime  \n0                                                In Blue  2020-08-25 11:10:56  \n1                                                In Blue  2020-08-07 22:31:03  \n2                                                In Blue  2020-03-27 23:02:03  \n3      Don't Let It Bring You Down - Live At Bbc Maid...  2020-08-24 13:17:44  \n4                                 World Premiere Trailer  2020-08-24 10:37:20  \n...                                                  ...                  ...  \n16262                        Hydrogen Sea - Free Falling  2016-10-08 10:53:04  \n16263                        Hydrogen Sea - Lead Us Home  2016-10-08 10:49:37  \n16264                        Hydrogen Sea - Another Skin  2016-10-08 10:37:19  \n16265            Bon Iver - Perth (jacm Chillstep Remix)  2016-10-08 07:42:08  \n16266                             Yoe Mase - Snow Ghosts  2016-10-08 07:36:47  \n\n[16267 rows x 3 columns]",
      "text/html": "<div>\n<style scoped>\n    .dataframe tbody tr th:only-of-type {\n        vertical-align: middle;\n    }\n\n    .dataframe tbody tr th {\n        vertical-align: top;\n    }\n\n    .dataframe thead th {\n        text-align: right;\n    }\n</style>\n<table border=\"1\" class=\"dataframe\">\n  <thead>\n    <tr style=\"text-align: right;\">\n      <th></th>\n      <th>writer</th>\n      <th>song</th>\n      <th>datetime</th>\n    </tr>\n  </thead>\n  <tbody>\n    <tr>\n      <th>0</th>\n      <td>Declan Mckenna</td>\n      <td>In Blue</td>\n      <td>2020-08-25 11:10:56</td>\n    </tr>\n    <tr>\n      <th>1</th>\n      <td>Declan Mckenna</td>\n      <td>In Blue</td>\n      <td>2020-08-07 22:31:03</td>\n    </tr>\n    <tr>\n      <th>2</th>\n      <td>Declan Mckenna</td>\n      <td>In Blue</td>\n      <td>2020-03-27 23:02:03</td>\n    </tr>\n    <tr>\n      <th>3</th>\n      <td>Everything Everything</td>\n      <td>Don't Let It Bring You Down - Live At Bbc Maid...</td>\n      <td>2020-08-24 13:17:44</td>\n    </tr>\n    <tr>\n      <th>4</th>\n      <td>Gotham Knights</td>\n      <td>World Premiere Trailer</td>\n      <td>2020-08-24 10:37:20</td>\n    </tr>\n    <tr>\n      <th>...</th>\n      <td>...</td>\n      <td>...</td>\n      <td>...</td>\n    </tr>\n    <tr>\n      <th>16262</th>\n      <td>Unday Records</td>\n      <td>Hydrogen Sea - Free Falling</td>\n      <td>2016-10-08 10:53:04</td>\n    </tr>\n    <tr>\n      <th>16263</th>\n      <td>Unday Records</td>\n      <td>Hydrogen Sea - Lead Us Home</td>\n      <td>2016-10-08 10:49:37</td>\n    </tr>\n    <tr>\n      <th>16264</th>\n      <td>Unday Records</td>\n      <td>Hydrogen Sea - Another Skin</td>\n      <td>2016-10-08 10:37:19</td>\n    </tr>\n    <tr>\n      <th>16265</th>\n      <td>Jacm</td>\n      <td>Bon Iver - Perth (jacm Chillstep Remix)</td>\n      <td>2016-10-08 07:42:08</td>\n    </tr>\n    <tr>\n      <th>16266</th>\n      <td>Mrsuicidesheep</td>\n      <td>Yoe Mase - Snow Ghosts</td>\n      <td>2016-10-08 07:36:47</td>\n    </tr>\n  </tbody>\n</table>\n<p>16267 rows × 3 columns</p>\n</div>"
     },
     "metadata": {},
     "execution_count": 89
    }
   ],
   "source": [
    "failed_not_features\n"
   ]
  },
  {
   "cell_type": "code",
   "execution_count": 87,
   "metadata": {},
   "outputs": [],
   "source": [
    "failed_not_features = failed_not_features.rename(columns={'track': 'song', 'artist': 'writer'})"
   ]
  },
  {
   "cell_type": "code",
   "execution_count": 88,
   "metadata": {},
   "outputs": [],
   "source": [
    "failed_not_features = failed_not_features.drop(['album', 'release_date', 'genres', 'length', 'popularity', 'danceability', 'energy', 'loudness', 'speechiness', 'acousticness', 'instrumentalness','liveness', 'valence','tempo','time_signature', 'key', 'mode'], axis=1)"
   ]
  },
  {
   "cell_type": "code",
   "execution_count": 15,
   "metadata": {},
   "outputs": [],
   "source": [
    "indexer = recordlinkage.Index()\n",
    "indexer.full()"
   ]
  },
  {
   "cell_type": "code",
   "execution_count": 16,
   "metadata": {
    "tags": []
   },
   "outputs": [
    {
     "output_type": "stream",
     "name": "stdout",
     "text": "WARNING:recordlinkage:indexing - performance warning - A full index can result in large number of record pairs.\n"
    },
    {
     "output_type": "execute_result",
     "data": {
      "text/plain": "<Index>"
     },
     "metadata": {},
     "execution_count": 16
    }
   ],
   "source": [
    "candidates = indexer.index(failed_features, failed_not_features)\n",
    "print(len(candidates))"
   ]
  },
  {
   "cell_type": "code",
   "execution_count": 20,
   "metadata": {},
   "outputs": [],
   "source": [
    "compare = recordlinkage.Compare()"
   ]
  },
  {
   "cell_type": "code",
   "execution_count": 21,
   "metadata": {},
   "outputs": [
    {
     "output_type": "execute_result",
     "data": {
      "text/plain": "<Compare>"
     },
     "metadata": {},
     "execution_count": 21
    }
   ],
   "source": [
    "compare.string('track',\n",
    "            'song',\n",
    "            threshold=0.85,\n",
    "            label='tracks')\n",
    "\n",
    "compare.string('artist',\n",
    "            'writer',\n",
    "            threshold = 0.85,\n",
    "            label = 'artists')"
   ]
  },
  {
   "cell_type": "code",
   "execution_count": 26,
   "metadata": {},
   "outputs": [],
   "source": [
    "features = compare.compute(candidates, failed_features, failed_not_features)"
   ]
  },
  {
   "cell_type": "code",
   "execution_count": 27,
   "metadata": {},
   "outputs": [
    {
     "output_type": "execute_result",
     "data": {
      "text/plain": "            tracks  artists\n0    0         1.0      0.0\n     1         1.0      0.0\n     2         1.0      0.0\n     3         0.0      0.0\n     4         0.0      0.0\n...            ...      ...\n1049 16262     0.0      0.0\n     16263     0.0      0.0\n     16264     0.0      0.0\n     16265     0.0      0.0\n     16266     0.0      0.0\n\n[17080350 rows x 2 columns]",
      "text/html": "<div>\n<style scoped>\n    .dataframe tbody tr th:only-of-type {\n        vertical-align: middle;\n    }\n\n    .dataframe tbody tr th {\n        vertical-align: top;\n    }\n\n    .dataframe thead th {\n        text-align: right;\n    }\n</style>\n<table border=\"1\" class=\"dataframe\">\n  <thead>\n    <tr style=\"text-align: right;\">\n      <th></th>\n      <th></th>\n      <th>tracks</th>\n      <th>artists</th>\n    </tr>\n  </thead>\n  <tbody>\n    <tr>\n      <th rowspan=\"5\" valign=\"top\">0</th>\n      <th>0</th>\n      <td>1.0</td>\n      <td>0.0</td>\n    </tr>\n    <tr>\n      <th>1</th>\n      <td>1.0</td>\n      <td>0.0</td>\n    </tr>\n    <tr>\n      <th>2</th>\n      <td>1.0</td>\n      <td>0.0</td>\n    </tr>\n    <tr>\n      <th>3</th>\n      <td>0.0</td>\n      <td>0.0</td>\n    </tr>\n    <tr>\n      <th>4</th>\n      <td>0.0</td>\n      <td>0.0</td>\n    </tr>\n    <tr>\n      <th>...</th>\n      <th>...</th>\n      <td>...</td>\n      <td>...</td>\n    </tr>\n    <tr>\n      <th rowspan=\"5\" valign=\"top\">1049</th>\n      <th>16262</th>\n      <td>0.0</td>\n      <td>0.0</td>\n    </tr>\n    <tr>\n      <th>16263</th>\n      <td>0.0</td>\n      <td>0.0</td>\n    </tr>\n    <tr>\n      <th>16264</th>\n      <td>0.0</td>\n      <td>0.0</td>\n    </tr>\n    <tr>\n      <th>16265</th>\n      <td>0.0</td>\n      <td>0.0</td>\n    </tr>\n    <tr>\n      <th>16266</th>\n      <td>0.0</td>\n      <td>0.0</td>\n    </tr>\n  </tbody>\n</table>\n<p>17080350 rows × 2 columns</p>\n</div>"
     },
     "metadata": {},
     "execution_count": 27
    }
   ],
   "source": [
    "features"
   ]
  },
  {
   "cell_type": "code",
   "execution_count": 29,
   "metadata": {},
   "outputs": [],
   "source": [
    "features.to_csv('record linkage.csv', index=False)"
   ]
  },
  {
   "cell_type": "code",
   "execution_count": 28,
   "metadata": {},
   "outputs": [
    {
     "output_type": "execute_result",
     "data": {
      "text/plain": "2.0         321\n1.0       34224\n0.0    17045805\ndtype: int64"
     },
     "metadata": {},
     "execution_count": 28
    }
   ],
   "source": [
    "features.sum(axis=1).value_counts().sort_index(ascending=False)"
   ]
  },
  {
   "cell_type": "code",
   "execution_count": 30,
   "metadata": {},
   "outputs": [],
   "source": [
    "potential_matches = features[features.sum(axis=1) > 0].reset_index()\n",
    "potential_matches['Score'] = potential_matches.loc[:, 'tracks':'artists'].sum(axis=1)"
   ]
  },
  {
   "cell_type": "code",
   "execution_count": 31,
   "metadata": {},
   "outputs": [
    {
     "output_type": "execute_result",
     "data": {
      "text/plain": "       level_0  level_1  tracks  artists  Score\n0            0        0     1.0      0.0    1.0\n1            0        1     1.0      0.0    1.0\n2            0        2     1.0      0.0    1.0\n3            0     9460     0.0      1.0    1.0\n4            1      176     1.0      0.0    1.0\n...        ...      ...     ...      ...    ...\n34540     1047     9460     0.0      1.0    1.0\n34541     1047    16176     1.0      0.0    1.0\n34542     1048    16204     0.0      1.0    1.0\n34543     1049     9460     0.0      1.0    1.0\n34544     1049    16207     1.0      0.0    1.0\n\n[34545 rows x 5 columns]",
      "text/html": "<div>\n<style scoped>\n    .dataframe tbody tr th:only-of-type {\n        vertical-align: middle;\n    }\n\n    .dataframe tbody tr th {\n        vertical-align: top;\n    }\n\n    .dataframe thead th {\n        text-align: right;\n    }\n</style>\n<table border=\"1\" class=\"dataframe\">\n  <thead>\n    <tr style=\"text-align: right;\">\n      <th></th>\n      <th>level_0</th>\n      <th>level_1</th>\n      <th>tracks</th>\n      <th>artists</th>\n      <th>Score</th>\n    </tr>\n  </thead>\n  <tbody>\n    <tr>\n      <th>0</th>\n      <td>0</td>\n      <td>0</td>\n      <td>1.0</td>\n      <td>0.0</td>\n      <td>1.0</td>\n    </tr>\n    <tr>\n      <th>1</th>\n      <td>0</td>\n      <td>1</td>\n      <td>1.0</td>\n      <td>0.0</td>\n      <td>1.0</td>\n    </tr>\n    <tr>\n      <th>2</th>\n      <td>0</td>\n      <td>2</td>\n      <td>1.0</td>\n      <td>0.0</td>\n      <td>1.0</td>\n    </tr>\n    <tr>\n      <th>3</th>\n      <td>0</td>\n      <td>9460</td>\n      <td>0.0</td>\n      <td>1.0</td>\n      <td>1.0</td>\n    </tr>\n    <tr>\n      <th>4</th>\n      <td>1</td>\n      <td>176</td>\n      <td>1.0</td>\n      <td>0.0</td>\n      <td>1.0</td>\n    </tr>\n    <tr>\n      <th>...</th>\n      <td>...</td>\n      <td>...</td>\n      <td>...</td>\n      <td>...</td>\n      <td>...</td>\n    </tr>\n    <tr>\n      <th>34540</th>\n      <td>1047</td>\n      <td>9460</td>\n      <td>0.0</td>\n      <td>1.0</td>\n      <td>1.0</td>\n    </tr>\n    <tr>\n      <th>34541</th>\n      <td>1047</td>\n      <td>16176</td>\n      <td>1.0</td>\n      <td>0.0</td>\n      <td>1.0</td>\n    </tr>\n    <tr>\n      <th>34542</th>\n      <td>1048</td>\n      <td>16204</td>\n      <td>0.0</td>\n      <td>1.0</td>\n      <td>1.0</td>\n    </tr>\n    <tr>\n      <th>34543</th>\n      <td>1049</td>\n      <td>9460</td>\n      <td>0.0</td>\n      <td>1.0</td>\n      <td>1.0</td>\n    </tr>\n    <tr>\n      <th>34544</th>\n      <td>1049</td>\n      <td>16207</td>\n      <td>1.0</td>\n      <td>0.0</td>\n      <td>1.0</td>\n    </tr>\n  </tbody>\n</table>\n<p>34545 rows × 5 columns</p>\n</div>"
     },
     "metadata": {},
     "execution_count": 31
    }
   ],
   "source": [
    "potential_matches"
   ]
  },
  {
   "cell_type": "code",
   "execution_count": 32,
   "metadata": {},
   "outputs": [],
   "source": [
    "potential_matches.to_csv('potential matches.csv', index=False)"
   ]
  },
  {
   "cell_type": "code",
   "execution_count": 46,
   "metadata": {},
   "outputs": [
    {
     "output_type": "execute_result",
     "data": {
      "text/plain": "       level_0  level_1  tracks  artists  Score\n581         17      848     1.0      1.0    2.0\n582         17      849     1.0      1.0    2.0\n583         17      850     1.0      1.0    2.0\n584         17      851     1.0      1.0    2.0\n585         17      852     1.0      1.0    2.0\n...        ...      ...     ...      ...    ...\n34392     1034    15718     1.0      1.0    2.0\n34393     1034    15719     1.0      1.0    2.0\n34400     1038    15763     1.0      1.0    2.0\n34429     1041    16003     1.0      1.0    2.0\n34480     1042    16151     1.0      1.0    2.0\n\n[321 rows x 5 columns]",
      "text/html": "<div>\n<style scoped>\n    .dataframe tbody tr th:only-of-type {\n        vertical-align: middle;\n    }\n\n    .dataframe tbody tr th {\n        vertical-align: top;\n    }\n\n    .dataframe thead th {\n        text-align: right;\n    }\n</style>\n<table border=\"1\" class=\"dataframe\">\n  <thead>\n    <tr style=\"text-align: right;\">\n      <th></th>\n      <th>level_0</th>\n      <th>level_1</th>\n      <th>tracks</th>\n      <th>artists</th>\n      <th>Score</th>\n    </tr>\n  </thead>\n  <tbody>\n    <tr>\n      <th>581</th>\n      <td>17</td>\n      <td>848</td>\n      <td>1.0</td>\n      <td>1.0</td>\n      <td>2.0</td>\n    </tr>\n    <tr>\n      <th>582</th>\n      <td>17</td>\n      <td>849</td>\n      <td>1.0</td>\n      <td>1.0</td>\n      <td>2.0</td>\n    </tr>\n    <tr>\n      <th>583</th>\n      <td>17</td>\n      <td>850</td>\n      <td>1.0</td>\n      <td>1.0</td>\n      <td>2.0</td>\n    </tr>\n    <tr>\n      <th>584</th>\n      <td>17</td>\n      <td>851</td>\n      <td>1.0</td>\n      <td>1.0</td>\n      <td>2.0</td>\n    </tr>\n    <tr>\n      <th>585</th>\n      <td>17</td>\n      <td>852</td>\n      <td>1.0</td>\n      <td>1.0</td>\n      <td>2.0</td>\n    </tr>\n    <tr>\n      <th>...</th>\n      <td>...</td>\n      <td>...</td>\n      <td>...</td>\n      <td>...</td>\n      <td>...</td>\n    </tr>\n    <tr>\n      <th>34392</th>\n      <td>1034</td>\n      <td>15718</td>\n      <td>1.0</td>\n      <td>1.0</td>\n      <td>2.0</td>\n    </tr>\n    <tr>\n      <th>34393</th>\n      <td>1034</td>\n      <td>15719</td>\n      <td>1.0</td>\n      <td>1.0</td>\n      <td>2.0</td>\n    </tr>\n    <tr>\n      <th>34400</th>\n      <td>1038</td>\n      <td>15763</td>\n      <td>1.0</td>\n      <td>1.0</td>\n      <td>2.0</td>\n    </tr>\n    <tr>\n      <th>34429</th>\n      <td>1041</td>\n      <td>16003</td>\n      <td>1.0</td>\n      <td>1.0</td>\n      <td>2.0</td>\n    </tr>\n    <tr>\n      <th>34480</th>\n      <td>1042</td>\n      <td>16151</td>\n      <td>1.0</td>\n      <td>1.0</td>\n      <td>2.0</td>\n    </tr>\n  </tbody>\n</table>\n<p>321 rows × 5 columns</p>\n</div>"
     },
     "metadata": {},
     "execution_count": 46
    }
   ],
   "source": [
    "potential_matches[potential_matches['Score'] == 2]"
   ]
  },
  {
   "cell_type": "code",
   "execution_count": 71,
   "metadata": {},
   "outputs": [],
   "source": [
    "potential_matches = potential_matches.rename(columns={'level_0': 'features_idx', 'level_1': 'not_features_idx'})"
   ]
  },
  {
   "cell_type": "code",
   "execution_count": 69,
   "metadata": {},
   "outputs": [],
   "source": [
    "failed_not_features['song_writer'] = failed_not_features[['song', 'writer']].apply(lambda x: '_'.join(x), axis=1)\n",
    "\n",
    "failed_features['track_artist'] = failed_features[['track', 'artist']].apply(lambda x: '_'.join(x), axis=1)\n",
    "\n",
    "not_features_lookup = failed_not_features[['song_writer']].reset_index()\n",
    "features_lookup = failed_features[['track_artist']].reset_index()"
   ]
  },
  {
   "cell_type": "code",
   "execution_count": 73,
   "metadata": {},
   "outputs": [],
   "source": [
    "features_lookup = features_lookup.rename(columns={'index': 'features_idx'})\n",
    "not_features_lookup = not_features_lookup.rename(columns={'index': 'not_features_idx'})"
   ]
  },
  {
   "cell_type": "code",
   "execution_count": 76,
   "metadata": {},
   "outputs": [],
   "source": [
    "features_lookup_merge = potential_matches.merge(features_lookup, how='left')"
   ]
  },
  {
   "cell_type": "code",
   "execution_count": 78,
   "metadata": {},
   "outputs": [],
   "source": [
    "final_merge = features_lookup_merge.merge(not_features_lookup, how='left')"
   ]
  },
  {
   "cell_type": "code",
   "execution_count": 79,
   "metadata": {},
   "outputs": [
    {
     "output_type": "execute_result",
     "data": {
      "text/plain": "       features_idx  not_features_idx  tracks  artists  Score  \\\n0                 0                 0     1.0      0.0    1.0   \n1                 0                 1     1.0      0.0    1.0   \n2                 0                 2     1.0      0.0    1.0   \n3                 0              9460     0.0      1.0    1.0   \n4                 1               176     1.0      0.0    1.0   \n...             ...               ...     ...      ...    ...   \n34540          1047              9460     0.0      1.0    1.0   \n34541          1047             16176     1.0      0.0    1.0   \n34542          1048             16204     0.0      1.0    1.0   \n34543          1049              9460     0.0      1.0    1.0   \n34544          1049             16207     1.0      0.0    1.0   \n\n                                            track_artist  \n0                                In Blue_Various Artists  \n1                                In Blue_Various Artists  \n2                                In Blue_Various Artists  \n3                                In Blue_Various Artists  \n4      See You Space Cowboys Not Final Mountain Root_...  \n...                                                  ...  \n34540    Ragtime Cat (feat. Lilja Bloom)_Various Artists  \n34541    Ragtime Cat (feat. Lilja Bloom)_Various Artists  \n34542             Nothing More (deaf Kev Remix)_Yoe Mase  \n34543                               Mess_Various Artists  \n34544                               Mess_Various Artists  \n\n[34545 rows x 6 columns]",
      "text/html": "<div>\n<style scoped>\n    .dataframe tbody tr th:only-of-type {\n        vertical-align: middle;\n    }\n\n    .dataframe tbody tr th {\n        vertical-align: top;\n    }\n\n    .dataframe thead th {\n        text-align: right;\n    }\n</style>\n<table border=\"1\" class=\"dataframe\">\n  <thead>\n    <tr style=\"text-align: right;\">\n      <th></th>\n      <th>features_idx</th>\n      <th>not_features_idx</th>\n      <th>tracks</th>\n      <th>artists</th>\n      <th>Score</th>\n      <th>track_artist</th>\n    </tr>\n  </thead>\n  <tbody>\n    <tr>\n      <th>0</th>\n      <td>0</td>\n      <td>0</td>\n      <td>1.0</td>\n      <td>0.0</td>\n      <td>1.0</td>\n      <td>In Blue_Various Artists</td>\n    </tr>\n    <tr>\n      <th>1</th>\n      <td>0</td>\n      <td>1</td>\n      <td>1.0</td>\n      <td>0.0</td>\n      <td>1.0</td>\n      <td>In Blue_Various Artists</td>\n    </tr>\n    <tr>\n      <th>2</th>\n      <td>0</td>\n      <td>2</td>\n      <td>1.0</td>\n      <td>0.0</td>\n      <td>1.0</td>\n      <td>In Blue_Various Artists</td>\n    </tr>\n    <tr>\n      <th>3</th>\n      <td>0</td>\n      <td>9460</td>\n      <td>0.0</td>\n      <td>1.0</td>\n      <td>1.0</td>\n      <td>In Blue_Various Artists</td>\n    </tr>\n    <tr>\n      <th>4</th>\n      <td>1</td>\n      <td>176</td>\n      <td>1.0</td>\n      <td>0.0</td>\n      <td>1.0</td>\n      <td>See You Space Cowboys Not Final Mountain Root_...</td>\n    </tr>\n    <tr>\n      <th>...</th>\n      <td>...</td>\n      <td>...</td>\n      <td>...</td>\n      <td>...</td>\n      <td>...</td>\n      <td>...</td>\n    </tr>\n    <tr>\n      <th>34540</th>\n      <td>1047</td>\n      <td>9460</td>\n      <td>0.0</td>\n      <td>1.0</td>\n      <td>1.0</td>\n      <td>Ragtime Cat (feat. Lilja Bloom)_Various Artists</td>\n    </tr>\n    <tr>\n      <th>34541</th>\n      <td>1047</td>\n      <td>16176</td>\n      <td>1.0</td>\n      <td>0.0</td>\n      <td>1.0</td>\n      <td>Ragtime Cat (feat. Lilja Bloom)_Various Artists</td>\n    </tr>\n    <tr>\n      <th>34542</th>\n      <td>1048</td>\n      <td>16204</td>\n      <td>0.0</td>\n      <td>1.0</td>\n      <td>1.0</td>\n      <td>Nothing More (deaf Kev Remix)_Yoe Mase</td>\n    </tr>\n    <tr>\n      <th>34543</th>\n      <td>1049</td>\n      <td>9460</td>\n      <td>0.0</td>\n      <td>1.0</td>\n      <td>1.0</td>\n      <td>Mess_Various Artists</td>\n    </tr>\n    <tr>\n      <th>34544</th>\n      <td>1049</td>\n      <td>16207</td>\n      <td>1.0</td>\n      <td>0.0</td>\n      <td>1.0</td>\n      <td>Mess_Various Artists</td>\n    </tr>\n  </tbody>\n</table>\n<p>34545 rows × 6 columns</p>\n</div>"
     },
     "metadata": {},
     "execution_count": 79
    }
   ],
   "source": [
    "final_merge"
   ]
  },
  {
   "cell_type": "code",
   "execution_count": null,
   "metadata": {},
   "outputs": [],
   "source": []
  }
 ]
}