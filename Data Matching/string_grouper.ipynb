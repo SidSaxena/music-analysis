{
 "metadata": {
  "language_info": {
   "codemirror_mode": {
    "name": "ipython",
    "version": 3
   },
   "file_extension": ".py",
   "mimetype": "text/x-python",
   "name": "python",
   "nbconvert_exporter": "python",
   "pygments_lexer": "ipython3",
   "version": "3.8.2-final"
  },
  "orig_nbformat": 2,
  "kernelspec": {
   "name": "python_defaultSpec_1598975375246",
   "display_name": "Python 3.8.2 64-bit"
  }
 },
 "nbformat": 4,
 "nbformat_minor": 2,
 "cells": [
  {
   "cell_type": "code",
   "execution_count": 87,
   "metadata": {},
   "outputs": [],
   "source": [
    "import string_grouper\n",
    "import pandas as pd"
   ]
  },
  {
   "cell_type": "code",
   "execution_count": 88,
   "metadata": {},
   "outputs": [],
   "source": [
    "failed =  pd.read_csv('/home/sid/development/python/music-analysis/Temp Sheets/Failed Results (Union minus Merged).csv')\n",
    "failed = failed.drop_duplicates()\n",
    "\n",
    "failed_features = pd.read_csv('/home/sid/development/python/music-analysis/spotify/Spreadsheets/Failed Features.csv')\n",
    "\n",
    "failed_not_features = pd.read_csv('/home/sid/development/python/music-analysis/spotify/Spreadsheets/Failed Scrobbles without Features.csv')\n",
    "\n",
    "scrobble_features = pd.read_csv('/home/sid/development/python/music-analysis/Temp Sheets/scrobbles_features.csv')"
   ]
  },
  {
   "cell_type": "code",
   "execution_count": 89,
   "metadata": {},
   "outputs": [],
   "source": [
    "failed_not_features = failed_not_features[['artist', 'track', 'datetime']]\n",
    "failed_features = failed_features.drop('datetime', axis=1)"
   ]
  },
  {
   "cell_type": "code",
   "execution_count": 90,
   "metadata": {},
   "outputs": [
    {
     "output_type": "execute_result",
     "data": {
      "text/plain": "               not_features       features  similarity\n0                   In Blue        In Blue    1.000000\n1                   In Blue        In Blue    1.000000\n2                   In Blue        In Blue    1.000000\n3                 Hollywood      Hollywood    1.000000\n4                 Hollywood      Hollywood    1.000000\n...                     ...            ...         ...\n10113          Nothing More   Nothing More    1.000000\n10114                 Armor          Armor    1.000000\n10115                  Mess           Mess    1.000000\n10116  Eden - Say Something  Say Something    0.803212\n10117  Eden - Say Something  Say Something    0.803212\n\n[10118 rows x 3 columns]",
      "text/html": "<div>\n<style scoped>\n    .dataframe tbody tr th:only-of-type {\n        vertical-align: middle;\n    }\n\n    .dataframe tbody tr th {\n        vertical-align: top;\n    }\n\n    .dataframe thead th {\n        text-align: right;\n    }\n</style>\n<table border=\"1\" class=\"dataframe\">\n  <thead>\n    <tr style=\"text-align: right;\">\n      <th></th>\n      <th>not_features</th>\n      <th>features</th>\n      <th>similarity</th>\n    </tr>\n  </thead>\n  <tbody>\n    <tr>\n      <th>0</th>\n      <td>In Blue</td>\n      <td>In Blue</td>\n      <td>1.000000</td>\n    </tr>\n    <tr>\n      <th>1</th>\n      <td>In Blue</td>\n      <td>In Blue</td>\n      <td>1.000000</td>\n    </tr>\n    <tr>\n      <th>2</th>\n      <td>In Blue</td>\n      <td>In Blue</td>\n      <td>1.000000</td>\n    </tr>\n    <tr>\n      <th>3</th>\n      <td>Hollywood</td>\n      <td>Hollywood</td>\n      <td>1.000000</td>\n    </tr>\n    <tr>\n      <th>4</th>\n      <td>Hollywood</td>\n      <td>Hollywood</td>\n      <td>1.000000</td>\n    </tr>\n    <tr>\n      <th>...</th>\n      <td>...</td>\n      <td>...</td>\n      <td>...</td>\n    </tr>\n    <tr>\n      <th>10113</th>\n      <td>Nothing More</td>\n      <td>Nothing More</td>\n      <td>1.000000</td>\n    </tr>\n    <tr>\n      <th>10114</th>\n      <td>Armor</td>\n      <td>Armor</td>\n      <td>1.000000</td>\n    </tr>\n    <tr>\n      <th>10115</th>\n      <td>Mess</td>\n      <td>Mess</td>\n      <td>1.000000</td>\n    </tr>\n    <tr>\n      <th>10116</th>\n      <td>Eden - Say Something</td>\n      <td>Say Something</td>\n      <td>0.803212</td>\n    </tr>\n    <tr>\n      <th>10117</th>\n      <td>Eden - Say Something</td>\n      <td>Say Something</td>\n      <td>0.803212</td>\n    </tr>\n  </tbody>\n</table>\n<p>10118 rows × 3 columns</p>\n</div>"
     },
     "metadata": {},
     "execution_count": 90
    }
   ],
   "source": [
    "matches = string_grouper.match_strings(failed_not_features['track'], scrobble_features['track'])\n",
    "matches = matches.rename(columns={'left_side': 'not_features', 'right_side': 'features'})\n",
    "matches"
   ]
  },
  {
   "cell_type": "code",
   "execution_count": 91,
   "metadata": {},
   "outputs": [],
   "source": [
    "# matches = match_strings(dfREFERENCE[dfREFERENCE_KeyColumn], dfSUBJECT[dfSUBJECT_KeyColumn])\n",
    "# df = dfSUBJECT.merge(matches, left_on=dfREFERENCE_KeyColumn, right_on='left_side') # defaults to left join - not sure if that is what you want\n",
    "# df = df.merge(matches, left_on='right_side', right_on='dfSUBJECT_KeyColumn')"
   ]
  },
  {
   "cell_type": "code",
   "execution_count": 92,
   "metadata": {},
   "outputs": [
    {
     "output_type": "execute_result",
     "data": {
      "text/plain": "              features   not_features  similarity\n0              In Blue        In Blue    1.000000\n1              In Blue        In Blue    1.000000\n2              In Blue        In Blue    1.000000\n3               Wonder      Wondering    0.843782\n4               Wonder      Wondering    0.843782\n...                ...            ...         ...\n7532     Awake, Asleep  Awake, Asleep    1.000000\n7533     Awake, Asleep  Awake, Asleep    1.000000\n7534     Awake, Asleep  Awake, Asleep    1.000000\n7535  Better Than This    Better Than    0.841764\n7536              Mess           Mess    1.000000\n\n[7537 rows x 3 columns]",
      "text/html": "<div>\n<style scoped>\n    .dataframe tbody tr th:only-of-type {\n        vertical-align: middle;\n    }\n\n    .dataframe tbody tr th {\n        vertical-align: top;\n    }\n\n    .dataframe thead th {\n        text-align: right;\n    }\n</style>\n<table border=\"1\" class=\"dataframe\">\n  <thead>\n    <tr style=\"text-align: right;\">\n      <th></th>\n      <th>features</th>\n      <th>not_features</th>\n      <th>similarity</th>\n    </tr>\n  </thead>\n  <tbody>\n    <tr>\n      <th>0</th>\n      <td>In Blue</td>\n      <td>In Blue</td>\n      <td>1.000000</td>\n    </tr>\n    <tr>\n      <th>1</th>\n      <td>In Blue</td>\n      <td>In Blue</td>\n      <td>1.000000</td>\n    </tr>\n    <tr>\n      <th>2</th>\n      <td>In Blue</td>\n      <td>In Blue</td>\n      <td>1.000000</td>\n    </tr>\n    <tr>\n      <th>3</th>\n      <td>Wonder</td>\n      <td>Wondering</td>\n      <td>0.843782</td>\n    </tr>\n    <tr>\n      <th>4</th>\n      <td>Wonder</td>\n      <td>Wondering</td>\n      <td>0.843782</td>\n    </tr>\n    <tr>\n      <th>...</th>\n      <td>...</td>\n      <td>...</td>\n      <td>...</td>\n    </tr>\n    <tr>\n      <th>7532</th>\n      <td>Awake, Asleep</td>\n      <td>Awake, Asleep</td>\n      <td>1.000000</td>\n    </tr>\n    <tr>\n      <th>7533</th>\n      <td>Awake, Asleep</td>\n      <td>Awake, Asleep</td>\n      <td>1.000000</td>\n    </tr>\n    <tr>\n      <th>7534</th>\n      <td>Awake, Asleep</td>\n      <td>Awake, Asleep</td>\n      <td>1.000000</td>\n    </tr>\n    <tr>\n      <th>7535</th>\n      <td>Better Than This</td>\n      <td>Better Than</td>\n      <td>0.841764</td>\n    </tr>\n    <tr>\n      <th>7536</th>\n      <td>Mess</td>\n      <td>Mess</td>\n      <td>1.000000</td>\n    </tr>\n  </tbody>\n</table>\n<p>7537 rows × 3 columns</p>\n</div>"
     },
     "metadata": {},
     "execution_count": 92
    }
   ],
   "source": [
    "matches_alt = string_grouper.match_strings(scrobble_features['track'], failed_not_features['track'])\n",
    "matches_alt = matches_alt.rename(columns={'left_side': 'features', 'right_side': 'not_features'})\n",
    "matches_alt"
   ]
  },
  {
   "cell_type": "code",
   "execution_count": 93,
   "metadata": {},
   "outputs": [],
   "source": [
    "merge1 = pd.merge(scrobble_features, matches_alt, left_on='track', right_on='features')\n",
    "merge2 = pd.merge(failed_not_features, merge1, left_on='track', right_on='not_features')"
   ]
  },
  {
   "cell_type": "code",
   "execution_count": 94,
   "metadata": {},
   "outputs": [],
   "source": [
    "merge2 = merge2.drop_duplicates()\n",
    "merge2.sort_values(by='similarity').to_csv('String Grouper Final Merge.csv', index=False)"
   ]
  },
  {
   "cell_type": "code",
   "execution_count": 95,
   "metadata": {},
   "outputs": [
    {
     "output_type": "execute_result",
     "data": {
      "text/plain": "                                    artist_x               track_x  \\\n0                             Declan Mckenna               In Blue   \n3                             Declan Mckenna               In Blue   \n6                             Declan Mckenna               In Blue   \n9                                       검정치마             Hollywood   \n29                                      검정치마             Hollywood   \n...                                      ...                   ...   \n377594                              Yoe Mase          Nothing More   \n377595  Illuminine Featuring I Will, I Swear                 Armor   \n377596                       I Will, I Swear                  Mess   \n377597                           Ozymandiias  Eden - Say Something   \n377599                           Ozymandiias  Eden - Say Something   \n\n                   datetime        track_y  \\\n0       2020-08-25 11:10:56        In Blue   \n3       2020-08-07 22:31:03        In Blue   \n6       2020-03-27 23:02:03        In Blue   \n9       2020-08-19 21:40:32      Hollywood   \n29      2020-08-11 23:49:10      Hollywood   \n...                     ...            ...   \n377594  2016-10-09 13:52:23   Nothing More   \n377595  2016-10-09 08:39:01          Armor   \n377596  2016-10-09 08:18:11           Mess   \n377597  2016-10-09 05:46:25  Say Something   \n377599  2016-10-08 20:12:38  Say Something   \n\n                                     album           artist_y release_date  \\\n0       MOOMINVALLEY (Official Soundtrack)    Various Artists   2019-04-19   \n3       MOOMINVALLEY (Official Soundtrack)    Various Artists   2019-04-19   \n6       MOOMINVALLEY (Official Soundtrack)    Various Artists   2019-04-19   \n9                                 Big Mess          Grouplove   2017-08-17   \n29                                Big Mess          Grouplove   2017-08-17   \n...                                    ...                ...          ...   \n377594                        Nothing More             Guards   2014-12-02   \n377595            Armor / Against The Gods         Illuminine   2015-04-18   \n377596                    Music For Undays    Various Artists   2014-02-24   \n377597         Is There Anybody Out There?  A Great Big World   2014-01-20   \n377599         Is There Anybody Out There?  A Great Big World   2014-01-20   \n\n                                                   genres  length  popularity  \\\n0                                                      []  294021          53   \n3                                                      []  294021          53   \n6                                                      []  294021          53   \n9       ['indie pop', 'indie rock', 'la indie', 'moder...  250666          40   \n29      ['indie pop', 'indie rock', 'la indie', 'moder...  250666          40   \n...                                                   ...     ...         ...   \n377594                                                 []  229870          31   \n377595         ['compositional ambient', 'neo-classical']  287590          26   \n377596                                                 []  188895          15   \n377597  ['indiecoustica', 'neo mellow', 'piano rock', ...  229400          77   \n377599  ['indiecoustica', 'neo mellow', 'piano rock', ...  229400          77   \n\n        ...  speechiness  acousticness  instrumentalness  liveness  valence  \\\n0       ...       0.0243        0.1680          0.003060    0.2020   0.2760   \n3       ...       0.0243        0.1680          0.003060    0.2020   0.2760   \n6       ...       0.0243        0.1680          0.003060    0.2020   0.2760   \n9       ...       0.0320        0.2890          0.000000    0.0866   0.3360   \n29      ...       0.0320        0.2890          0.000000    0.0866   0.3360   \n...     ...          ...           ...               ...       ...      ...   \n377594  ...       0.0352        0.0268          0.000341    0.0964   0.8450   \n377595  ...       0.0296        0.9640          0.107000    0.1190   0.0413   \n377596  ...       0.0356        0.7380          0.000521    0.1120   0.1410   \n377597  ...       0.0355        0.8570          0.000003    0.0913   0.0765   \n377599  ...       0.0355        0.8570          0.000003    0.0913   0.0765   \n\n          tempo  time_signature       features          not_features  \\\n0        96.979               4        In Blue               In Blue   \n3        96.979               4        In Blue               In Blue   \n6        96.979               4        In Blue               In Blue   \n9       144.697               4      Hollywood             Hollywood   \n29      144.697               4      Hollywood             Hollywood   \n...         ...             ...            ...                   ...   \n377594   90.975               4   Nothing More          Nothing More   \n377595  101.074               4          Armor                 Armor   \n377596  128.098               4           Mess                  Mess   \n377597  141.284               3  Say Something  Eden - Say Something   \n377599  141.284               3  Say Something  Eden - Say Something   \n\n        similarity  \n0         1.000000  \n3         1.000000  \n6         1.000000  \n9         1.000000  \n29        1.000000  \n...            ...  \n377594    1.000000  \n377595    1.000000  \n377596    1.000000  \n377597    0.803212  \n377599    0.803212  \n\n[9973 rows x 25 columns]",
      "text/html": "<div>\n<style scoped>\n    .dataframe tbody tr th:only-of-type {\n        vertical-align: middle;\n    }\n\n    .dataframe tbody tr th {\n        vertical-align: top;\n    }\n\n    .dataframe thead th {\n        text-align: right;\n    }\n</style>\n<table border=\"1\" class=\"dataframe\">\n  <thead>\n    <tr style=\"text-align: right;\">\n      <th></th>\n      <th>artist_x</th>\n      <th>track_x</th>\n      <th>datetime</th>\n      <th>track_y</th>\n      <th>album</th>\n      <th>artist_y</th>\n      <th>release_date</th>\n      <th>genres</th>\n      <th>length</th>\n      <th>popularity</th>\n      <th>...</th>\n      <th>speechiness</th>\n      <th>acousticness</th>\n      <th>instrumentalness</th>\n      <th>liveness</th>\n      <th>valence</th>\n      <th>tempo</th>\n      <th>time_signature</th>\n      <th>features</th>\n      <th>not_features</th>\n      <th>similarity</th>\n    </tr>\n  </thead>\n  <tbody>\n    <tr>\n      <th>0</th>\n      <td>Declan Mckenna</td>\n      <td>In Blue</td>\n      <td>2020-08-25 11:10:56</td>\n      <td>In Blue</td>\n      <td>MOOMINVALLEY (Official Soundtrack)</td>\n      <td>Various Artists</td>\n      <td>2019-04-19</td>\n      <td>[]</td>\n      <td>294021</td>\n      <td>53</td>\n      <td>...</td>\n      <td>0.0243</td>\n      <td>0.1680</td>\n      <td>0.003060</td>\n      <td>0.2020</td>\n      <td>0.2760</td>\n      <td>96.979</td>\n      <td>4</td>\n      <td>In Blue</td>\n      <td>In Blue</td>\n      <td>1.000000</td>\n    </tr>\n    <tr>\n      <th>3</th>\n      <td>Declan Mckenna</td>\n      <td>In Blue</td>\n      <td>2020-08-07 22:31:03</td>\n      <td>In Blue</td>\n      <td>MOOMINVALLEY (Official Soundtrack)</td>\n      <td>Various Artists</td>\n      <td>2019-04-19</td>\n      <td>[]</td>\n      <td>294021</td>\n      <td>53</td>\n      <td>...</td>\n      <td>0.0243</td>\n      <td>0.1680</td>\n      <td>0.003060</td>\n      <td>0.2020</td>\n      <td>0.2760</td>\n      <td>96.979</td>\n      <td>4</td>\n      <td>In Blue</td>\n      <td>In Blue</td>\n      <td>1.000000</td>\n    </tr>\n    <tr>\n      <th>6</th>\n      <td>Declan Mckenna</td>\n      <td>In Blue</td>\n      <td>2020-03-27 23:02:03</td>\n      <td>In Blue</td>\n      <td>MOOMINVALLEY (Official Soundtrack)</td>\n      <td>Various Artists</td>\n      <td>2019-04-19</td>\n      <td>[]</td>\n      <td>294021</td>\n      <td>53</td>\n      <td>...</td>\n      <td>0.0243</td>\n      <td>0.1680</td>\n      <td>0.003060</td>\n      <td>0.2020</td>\n      <td>0.2760</td>\n      <td>96.979</td>\n      <td>4</td>\n      <td>In Blue</td>\n      <td>In Blue</td>\n      <td>1.000000</td>\n    </tr>\n    <tr>\n      <th>9</th>\n      <td>검정치마</td>\n      <td>Hollywood</td>\n      <td>2020-08-19 21:40:32</td>\n      <td>Hollywood</td>\n      <td>Big Mess</td>\n      <td>Grouplove</td>\n      <td>2017-08-17</td>\n      <td>['indie pop', 'indie rock', 'la indie', 'moder...</td>\n      <td>250666</td>\n      <td>40</td>\n      <td>...</td>\n      <td>0.0320</td>\n      <td>0.2890</td>\n      <td>0.000000</td>\n      <td>0.0866</td>\n      <td>0.3360</td>\n      <td>144.697</td>\n      <td>4</td>\n      <td>Hollywood</td>\n      <td>Hollywood</td>\n      <td>1.000000</td>\n    </tr>\n    <tr>\n      <th>29</th>\n      <td>검정치마</td>\n      <td>Hollywood</td>\n      <td>2020-08-11 23:49:10</td>\n      <td>Hollywood</td>\n      <td>Big Mess</td>\n      <td>Grouplove</td>\n      <td>2017-08-17</td>\n      <td>['indie pop', 'indie rock', 'la indie', 'moder...</td>\n      <td>250666</td>\n      <td>40</td>\n      <td>...</td>\n      <td>0.0320</td>\n      <td>0.2890</td>\n      <td>0.000000</td>\n      <td>0.0866</td>\n      <td>0.3360</td>\n      <td>144.697</td>\n      <td>4</td>\n      <td>Hollywood</td>\n      <td>Hollywood</td>\n      <td>1.000000</td>\n    </tr>\n    <tr>\n      <th>...</th>\n      <td>...</td>\n      <td>...</td>\n      <td>...</td>\n      <td>...</td>\n      <td>...</td>\n      <td>...</td>\n      <td>...</td>\n      <td>...</td>\n      <td>...</td>\n      <td>...</td>\n      <td>...</td>\n      <td>...</td>\n      <td>...</td>\n      <td>...</td>\n      <td>...</td>\n      <td>...</td>\n      <td>...</td>\n      <td>...</td>\n      <td>...</td>\n      <td>...</td>\n      <td>...</td>\n    </tr>\n    <tr>\n      <th>377594</th>\n      <td>Yoe Mase</td>\n      <td>Nothing More</td>\n      <td>2016-10-09 13:52:23</td>\n      <td>Nothing More</td>\n      <td>Nothing More</td>\n      <td>Guards</td>\n      <td>2014-12-02</td>\n      <td>[]</td>\n      <td>229870</td>\n      <td>31</td>\n      <td>...</td>\n      <td>0.0352</td>\n      <td>0.0268</td>\n      <td>0.000341</td>\n      <td>0.0964</td>\n      <td>0.8450</td>\n      <td>90.975</td>\n      <td>4</td>\n      <td>Nothing More</td>\n      <td>Nothing More</td>\n      <td>1.000000</td>\n    </tr>\n    <tr>\n      <th>377595</th>\n      <td>Illuminine Featuring I Will, I Swear</td>\n      <td>Armor</td>\n      <td>2016-10-09 08:39:01</td>\n      <td>Armor</td>\n      <td>Armor / Against The Gods</td>\n      <td>Illuminine</td>\n      <td>2015-04-18</td>\n      <td>['compositional ambient', 'neo-classical']</td>\n      <td>287590</td>\n      <td>26</td>\n      <td>...</td>\n      <td>0.0296</td>\n      <td>0.9640</td>\n      <td>0.107000</td>\n      <td>0.1190</td>\n      <td>0.0413</td>\n      <td>101.074</td>\n      <td>4</td>\n      <td>Armor</td>\n      <td>Armor</td>\n      <td>1.000000</td>\n    </tr>\n    <tr>\n      <th>377596</th>\n      <td>I Will, I Swear</td>\n      <td>Mess</td>\n      <td>2016-10-09 08:18:11</td>\n      <td>Mess</td>\n      <td>Music For Undays</td>\n      <td>Various Artists</td>\n      <td>2014-02-24</td>\n      <td>[]</td>\n      <td>188895</td>\n      <td>15</td>\n      <td>...</td>\n      <td>0.0356</td>\n      <td>0.7380</td>\n      <td>0.000521</td>\n      <td>0.1120</td>\n      <td>0.1410</td>\n      <td>128.098</td>\n      <td>4</td>\n      <td>Mess</td>\n      <td>Mess</td>\n      <td>1.000000</td>\n    </tr>\n    <tr>\n      <th>377597</th>\n      <td>Ozymandiias</td>\n      <td>Eden - Say Something</td>\n      <td>2016-10-09 05:46:25</td>\n      <td>Say Something</td>\n      <td>Is There Anybody Out There?</td>\n      <td>A Great Big World</td>\n      <td>2014-01-20</td>\n      <td>['indiecoustica', 'neo mellow', 'piano rock', ...</td>\n      <td>229400</td>\n      <td>77</td>\n      <td>...</td>\n      <td>0.0355</td>\n      <td>0.8570</td>\n      <td>0.000003</td>\n      <td>0.0913</td>\n      <td>0.0765</td>\n      <td>141.284</td>\n      <td>3</td>\n      <td>Say Something</td>\n      <td>Eden - Say Something</td>\n      <td>0.803212</td>\n    </tr>\n    <tr>\n      <th>377599</th>\n      <td>Ozymandiias</td>\n      <td>Eden - Say Something</td>\n      <td>2016-10-08 20:12:38</td>\n      <td>Say Something</td>\n      <td>Is There Anybody Out There?</td>\n      <td>A Great Big World</td>\n      <td>2014-01-20</td>\n      <td>['indiecoustica', 'neo mellow', 'piano rock', ...</td>\n      <td>229400</td>\n      <td>77</td>\n      <td>...</td>\n      <td>0.0355</td>\n      <td>0.8570</td>\n      <td>0.000003</td>\n      <td>0.0913</td>\n      <td>0.0765</td>\n      <td>141.284</td>\n      <td>3</td>\n      <td>Say Something</td>\n      <td>Eden - Say Something</td>\n      <td>0.803212</td>\n    </tr>\n  </tbody>\n</table>\n<p>9973 rows × 25 columns</p>\n</div>"
     },
     "metadata": {},
     "execution_count": 95
    }
   ],
   "source": [
    "merge2"
   ]
  },
  {
   "cell_type": "markdown",
   "metadata": {},
   "source": []
  },
  {
   "cell_type": "code",
   "execution_count": 96,
   "metadata": {},
   "outputs": [],
   "source": [
    "# matches.sort_values(by='similarity', ascending=False).to_csv('Grouper.csv', index=False)"
   ]
  },
  {
   "cell_type": "code",
   "execution_count": 97,
   "metadata": {},
   "outputs": [],
   "source": [
    "# matches_alt.sort_values(by='similarity', ascending=False).to_csv('Grouper alt.csv', index=False)"
   ]
  },
  {
   "cell_type": "code",
   "execution_count": 98,
   "metadata": {},
   "outputs": [],
   "source": [
    "# df = dfSUBJECT.merge(matches, left_on=dfREFERENCE_KeyColumn, right_on='left_side') # defaults to left join - not sure if that is what you want\n",
    "# df = df.merge(matches, left_on='right_side', right_on='dfSUBJECT_KeyColumn')"
   ]
  },
  {
   "cell_type": "markdown",
   "metadata": {},
   "source": [
    "# SAME BUT WITH FAILED FEATURES"
   ]
  },
  {
   "cell_type": "code",
   "execution_count": 104,
   "metadata": {},
   "outputs": [
    {
     "output_type": "execute_result",
     "data": {
      "text/plain": "                                       not_features  \\\n0                                           In Blue   \n1                                           In Blue   \n2                                           In Blue   \n3     See You Space Cowboys Not Final Mountain Root   \n4     See You Space Cowboys Not Final Mountain Root   \n...                                             ...   \n3138                                    Überflieger   \n3139                                  Slumber Party   \n3140                                  Slumber Party   \n3141                  Ragtime Cat Feat. Lilja Bloom   \n3142                                           Mess   \n\n                                           features  similarity  \n0                                           In Blue    1.000000  \n1                                           In Blue    1.000000  \n2                                           In Blue    1.000000  \n3     See You Space Cowboys Not Final Mountain Root    1.000000  \n4     See You Space Cowboys Not Final Mountain Root    1.000000  \n...                                             ...         ...  \n3138                                    Überflieger    1.000000  \n3139                                  Slumber Party    1.000000  \n3140                                  Slumber Party    1.000000  \n3141                Ragtime Cat (feat. Lilja Bloom)    0.845492  \n3142                                           Mess    1.000000  \n\n[3143 rows x 3 columns]",
      "text/html": "<div>\n<style scoped>\n    .dataframe tbody tr th:only-of-type {\n        vertical-align: middle;\n    }\n\n    .dataframe tbody tr th {\n        vertical-align: top;\n    }\n\n    .dataframe thead th {\n        text-align: right;\n    }\n</style>\n<table border=\"1\" class=\"dataframe\">\n  <thead>\n    <tr style=\"text-align: right;\">\n      <th></th>\n      <th>not_features</th>\n      <th>features</th>\n      <th>similarity</th>\n    </tr>\n  </thead>\n  <tbody>\n    <tr>\n      <th>0</th>\n      <td>In Blue</td>\n      <td>In Blue</td>\n      <td>1.000000</td>\n    </tr>\n    <tr>\n      <th>1</th>\n      <td>In Blue</td>\n      <td>In Blue</td>\n      <td>1.000000</td>\n    </tr>\n    <tr>\n      <th>2</th>\n      <td>In Blue</td>\n      <td>In Blue</td>\n      <td>1.000000</td>\n    </tr>\n    <tr>\n      <th>3</th>\n      <td>See You Space Cowboys Not Final Mountain Root</td>\n      <td>See You Space Cowboys Not Final Mountain Root</td>\n      <td>1.000000</td>\n    </tr>\n    <tr>\n      <th>4</th>\n      <td>See You Space Cowboys Not Final Mountain Root</td>\n      <td>See You Space Cowboys Not Final Mountain Root</td>\n      <td>1.000000</td>\n    </tr>\n    <tr>\n      <th>...</th>\n      <td>...</td>\n      <td>...</td>\n      <td>...</td>\n    </tr>\n    <tr>\n      <th>3138</th>\n      <td>Überflieger</td>\n      <td>Überflieger</td>\n      <td>1.000000</td>\n    </tr>\n    <tr>\n      <th>3139</th>\n      <td>Slumber Party</td>\n      <td>Slumber Party</td>\n      <td>1.000000</td>\n    </tr>\n    <tr>\n      <th>3140</th>\n      <td>Slumber Party</td>\n      <td>Slumber Party</td>\n      <td>1.000000</td>\n    </tr>\n    <tr>\n      <th>3141</th>\n      <td>Ragtime Cat Feat. Lilja Bloom</td>\n      <td>Ragtime Cat (feat. Lilja Bloom)</td>\n      <td>0.845492</td>\n    </tr>\n    <tr>\n      <th>3142</th>\n      <td>Mess</td>\n      <td>Mess</td>\n      <td>1.000000</td>\n    </tr>\n  </tbody>\n</table>\n<p>3143 rows × 3 columns</p>\n</div>"
     },
     "metadata": {},
     "execution_count": 104
    }
   ],
   "source": [
    "matches = string_grouper.match_strings(failed_not_features['track'], failed_features['track'])\n",
    "matches = matches.rename(columns={'left_side': 'not_features', 'right_side': 'features'})\n",
    "matches"
   ]
  },
  {
   "cell_type": "code",
   "execution_count": 105,
   "metadata": {},
   "outputs": [
    {
     "output_type": "execute_result",
     "data": {
      "text/plain": "                                           features  \\\n0                                           In Blue   \n1                                           In Blue   \n2                                           In Blue   \n3     See You Space Cowboys Not Final Mountain Root   \n4     See You Space Cowboys Not Final Mountain Root   \n...                                             ...   \n2515                                    Überflieger   \n2516                                  Slumber Party   \n2517                                  Slumber Party   \n2518                Ragtime Cat (feat. Lilja Bloom)   \n2519                                           Mess   \n\n                                       not_features  similarity  \n0                                           In Blue    1.000000  \n1                                           In Blue    1.000000  \n2                                           In Blue    1.000000  \n3     See You Space Cowboys Not Final Mountain Root    1.000000  \n4     See You Space Cowboys Not Final Mountain Root    1.000000  \n...                                             ...         ...  \n2515                                    Überflieger    1.000000  \n2516                                  Slumber Party    1.000000  \n2517                                  Slumber Party    1.000000  \n2518                  Ragtime Cat Feat. Lilja Bloom    0.845492  \n2519                                           Mess    1.000000  \n\n[2520 rows x 3 columns]",
      "text/html": "<div>\n<style scoped>\n    .dataframe tbody tr th:only-of-type {\n        vertical-align: middle;\n    }\n\n    .dataframe tbody tr th {\n        vertical-align: top;\n    }\n\n    .dataframe thead th {\n        text-align: right;\n    }\n</style>\n<table border=\"1\" class=\"dataframe\">\n  <thead>\n    <tr style=\"text-align: right;\">\n      <th></th>\n      <th>features</th>\n      <th>not_features</th>\n      <th>similarity</th>\n    </tr>\n  </thead>\n  <tbody>\n    <tr>\n      <th>0</th>\n      <td>In Blue</td>\n      <td>In Blue</td>\n      <td>1.000000</td>\n    </tr>\n    <tr>\n      <th>1</th>\n      <td>In Blue</td>\n      <td>In Blue</td>\n      <td>1.000000</td>\n    </tr>\n    <tr>\n      <th>2</th>\n      <td>In Blue</td>\n      <td>In Blue</td>\n      <td>1.000000</td>\n    </tr>\n    <tr>\n      <th>3</th>\n      <td>See You Space Cowboys Not Final Mountain Root</td>\n      <td>See You Space Cowboys Not Final Mountain Root</td>\n      <td>1.000000</td>\n    </tr>\n    <tr>\n      <th>4</th>\n      <td>See You Space Cowboys Not Final Mountain Root</td>\n      <td>See You Space Cowboys Not Final Mountain Root</td>\n      <td>1.000000</td>\n    </tr>\n    <tr>\n      <th>...</th>\n      <td>...</td>\n      <td>...</td>\n      <td>...</td>\n    </tr>\n    <tr>\n      <th>2515</th>\n      <td>Überflieger</td>\n      <td>Überflieger</td>\n      <td>1.000000</td>\n    </tr>\n    <tr>\n      <th>2516</th>\n      <td>Slumber Party</td>\n      <td>Slumber Party</td>\n      <td>1.000000</td>\n    </tr>\n    <tr>\n      <th>2517</th>\n      <td>Slumber Party</td>\n      <td>Slumber Party</td>\n      <td>1.000000</td>\n    </tr>\n    <tr>\n      <th>2518</th>\n      <td>Ragtime Cat (feat. Lilja Bloom)</td>\n      <td>Ragtime Cat Feat. Lilja Bloom</td>\n      <td>0.845492</td>\n    </tr>\n    <tr>\n      <th>2519</th>\n      <td>Mess</td>\n      <td>Mess</td>\n      <td>1.000000</td>\n    </tr>\n  </tbody>\n</table>\n<p>2520 rows × 3 columns</p>\n</div>"
     },
     "metadata": {},
     "execution_count": 105
    }
   ],
   "source": [
    "matches_alt = string_grouper.match_strings(failed_features['track'], failed_not_features['track'])\n",
    "matches_alt = matches_alt.rename(columns={'left_side': 'features', 'right_side': 'not_features'})\n",
    "matches_alt"
   ]
  },
  {
   "cell_type": "code",
   "execution_count": 106,
   "metadata": {},
   "outputs": [],
   "source": [
    "merge3 = pd.merge(failed_features, matches_alt, left_on='track', right_on='features')\n",
    "merge4 = pd.merge(failed_not_features, merge1, left_on='track', right_on='not_features')"
   ]
  },
  {
   "cell_type": "code",
   "execution_count": 109,
   "metadata": {},
   "outputs": [],
   "source": [
    "merge4 = merge4.drop_duplicates()\n",
    "merge4.sort_values(by='similarity').to_csv('String Grouper Merge (Failed Features).csv', index=False)"
   ]
  },
  {
   "cell_type": "code",
   "execution_count": 108,
   "metadata": {},
   "outputs": [
    {
     "output_type": "execute_result",
     "data": {
      "text/plain": "                                    artist_x               track_x  \\\n0                             Declan Mckenna               In Blue   \n3                             Declan Mckenna               In Blue   \n6                             Declan Mckenna               In Blue   \n9                                       검정치마             Hollywood   \n29                                      검정치마             Hollywood   \n...                                      ...                   ...   \n377594                              Yoe Mase          Nothing More   \n377595  Illuminine Featuring I Will, I Swear                 Armor   \n377596                       I Will, I Swear                  Mess   \n377597                           Ozymandiias  Eden - Say Something   \n377599                           Ozymandiias  Eden - Say Something   \n\n                   datetime        track_y  \\\n0       2020-08-25 11:10:56        In Blue   \n3       2020-08-07 22:31:03        In Blue   \n6       2020-03-27 23:02:03        In Blue   \n9       2020-08-19 21:40:32      Hollywood   \n29      2020-08-11 23:49:10      Hollywood   \n...                     ...            ...   \n377594  2016-10-09 13:52:23   Nothing More   \n377595  2016-10-09 08:39:01          Armor   \n377596  2016-10-09 08:18:11           Mess   \n377597  2016-10-09 05:46:25  Say Something   \n377599  2016-10-08 20:12:38  Say Something   \n\n                                     album           artist_y release_date  \\\n0       MOOMINVALLEY (Official Soundtrack)    Various Artists   2019-04-19   \n3       MOOMINVALLEY (Official Soundtrack)    Various Artists   2019-04-19   \n6       MOOMINVALLEY (Official Soundtrack)    Various Artists   2019-04-19   \n9                                 Big Mess          Grouplove   2017-08-17   \n29                                Big Mess          Grouplove   2017-08-17   \n...                                    ...                ...          ...   \n377594                        Nothing More             Guards   2014-12-02   \n377595            Armor / Against The Gods         Illuminine   2015-04-18   \n377596                    Music For Undays    Various Artists   2014-02-24   \n377597         Is There Anybody Out There?  A Great Big World   2014-01-20   \n377599         Is There Anybody Out There?  A Great Big World   2014-01-20   \n\n                                                   genres  length  popularity  \\\n0                                                      []  294021          53   \n3                                                      []  294021          53   \n6                                                      []  294021          53   \n9       ['indie pop', 'indie rock', 'la indie', 'moder...  250666          40   \n29      ['indie pop', 'indie rock', 'la indie', 'moder...  250666          40   \n...                                                   ...     ...         ...   \n377594                                                 []  229870          31   \n377595         ['compositional ambient', 'neo-classical']  287590          26   \n377596                                                 []  188895          15   \n377597  ['indiecoustica', 'neo mellow', 'piano rock', ...  229400          77   \n377599  ['indiecoustica', 'neo mellow', 'piano rock', ...  229400          77   \n\n        ...  speechiness  acousticness  instrumentalness  liveness  valence  \\\n0       ...       0.0243        0.1680          0.003060    0.2020   0.2760   \n3       ...       0.0243        0.1680          0.003060    0.2020   0.2760   \n6       ...       0.0243        0.1680          0.003060    0.2020   0.2760   \n9       ...       0.0320        0.2890          0.000000    0.0866   0.3360   \n29      ...       0.0320        0.2890          0.000000    0.0866   0.3360   \n...     ...          ...           ...               ...       ...      ...   \n377594  ...       0.0352        0.0268          0.000341    0.0964   0.8450   \n377595  ...       0.0296        0.9640          0.107000    0.1190   0.0413   \n377596  ...       0.0356        0.7380          0.000521    0.1120   0.1410   \n377597  ...       0.0355        0.8570          0.000003    0.0913   0.0765   \n377599  ...       0.0355        0.8570          0.000003    0.0913   0.0765   \n\n          tempo  time_signature       features          not_features  \\\n0        96.979               4        In Blue               In Blue   \n3        96.979               4        In Blue               In Blue   \n6        96.979               4        In Blue               In Blue   \n9       144.697               4      Hollywood             Hollywood   \n29      144.697               4      Hollywood             Hollywood   \n...         ...             ...            ...                   ...   \n377594   90.975               4   Nothing More          Nothing More   \n377595  101.074               4          Armor                 Armor   \n377596  128.098               4           Mess                  Mess   \n377597  141.284               3  Say Something  Eden - Say Something   \n377599  141.284               3  Say Something  Eden - Say Something   \n\n        similarity  \n0         1.000000  \n3         1.000000  \n6         1.000000  \n9         1.000000  \n29        1.000000  \n...            ...  \n377594    1.000000  \n377595    1.000000  \n377596    1.000000  \n377597    0.803212  \n377599    0.803212  \n\n[9973 rows x 25 columns]",
      "text/html": "<div>\n<style scoped>\n    .dataframe tbody tr th:only-of-type {\n        vertical-align: middle;\n    }\n\n    .dataframe tbody tr th {\n        vertical-align: top;\n    }\n\n    .dataframe thead th {\n        text-align: right;\n    }\n</style>\n<table border=\"1\" class=\"dataframe\">\n  <thead>\n    <tr style=\"text-align: right;\">\n      <th></th>\n      <th>artist_x</th>\n      <th>track_x</th>\n      <th>datetime</th>\n      <th>track_y</th>\n      <th>album</th>\n      <th>artist_y</th>\n      <th>release_date</th>\n      <th>genres</th>\n      <th>length</th>\n      <th>popularity</th>\n      <th>...</th>\n      <th>speechiness</th>\n      <th>acousticness</th>\n      <th>instrumentalness</th>\n      <th>liveness</th>\n      <th>valence</th>\n      <th>tempo</th>\n      <th>time_signature</th>\n      <th>features</th>\n      <th>not_features</th>\n      <th>similarity</th>\n    </tr>\n  </thead>\n  <tbody>\n    <tr>\n      <th>0</th>\n      <td>Declan Mckenna</td>\n      <td>In Blue</td>\n      <td>2020-08-25 11:10:56</td>\n      <td>In Blue</td>\n      <td>MOOMINVALLEY (Official Soundtrack)</td>\n      <td>Various Artists</td>\n      <td>2019-04-19</td>\n      <td>[]</td>\n      <td>294021</td>\n      <td>53</td>\n      <td>...</td>\n      <td>0.0243</td>\n      <td>0.1680</td>\n      <td>0.003060</td>\n      <td>0.2020</td>\n      <td>0.2760</td>\n      <td>96.979</td>\n      <td>4</td>\n      <td>In Blue</td>\n      <td>In Blue</td>\n      <td>1.000000</td>\n    </tr>\n    <tr>\n      <th>3</th>\n      <td>Declan Mckenna</td>\n      <td>In Blue</td>\n      <td>2020-08-07 22:31:03</td>\n      <td>In Blue</td>\n      <td>MOOMINVALLEY (Official Soundtrack)</td>\n      <td>Various Artists</td>\n      <td>2019-04-19</td>\n      <td>[]</td>\n      <td>294021</td>\n      <td>53</td>\n      <td>...</td>\n      <td>0.0243</td>\n      <td>0.1680</td>\n      <td>0.003060</td>\n      <td>0.2020</td>\n      <td>0.2760</td>\n      <td>96.979</td>\n      <td>4</td>\n      <td>In Blue</td>\n      <td>In Blue</td>\n      <td>1.000000</td>\n    </tr>\n    <tr>\n      <th>6</th>\n      <td>Declan Mckenna</td>\n      <td>In Blue</td>\n      <td>2020-03-27 23:02:03</td>\n      <td>In Blue</td>\n      <td>MOOMINVALLEY (Official Soundtrack)</td>\n      <td>Various Artists</td>\n      <td>2019-04-19</td>\n      <td>[]</td>\n      <td>294021</td>\n      <td>53</td>\n      <td>...</td>\n      <td>0.0243</td>\n      <td>0.1680</td>\n      <td>0.003060</td>\n      <td>0.2020</td>\n      <td>0.2760</td>\n      <td>96.979</td>\n      <td>4</td>\n      <td>In Blue</td>\n      <td>In Blue</td>\n      <td>1.000000</td>\n    </tr>\n    <tr>\n      <th>9</th>\n      <td>검정치마</td>\n      <td>Hollywood</td>\n      <td>2020-08-19 21:40:32</td>\n      <td>Hollywood</td>\n      <td>Big Mess</td>\n      <td>Grouplove</td>\n      <td>2017-08-17</td>\n      <td>['indie pop', 'indie rock', 'la indie', 'moder...</td>\n      <td>250666</td>\n      <td>40</td>\n      <td>...</td>\n      <td>0.0320</td>\n      <td>0.2890</td>\n      <td>0.000000</td>\n      <td>0.0866</td>\n      <td>0.3360</td>\n      <td>144.697</td>\n      <td>4</td>\n      <td>Hollywood</td>\n      <td>Hollywood</td>\n      <td>1.000000</td>\n    </tr>\n    <tr>\n      <th>29</th>\n      <td>검정치마</td>\n      <td>Hollywood</td>\n      <td>2020-08-11 23:49:10</td>\n      <td>Hollywood</td>\n      <td>Big Mess</td>\n      <td>Grouplove</td>\n      <td>2017-08-17</td>\n      <td>['indie pop', 'indie rock', 'la indie', 'moder...</td>\n      <td>250666</td>\n      <td>40</td>\n      <td>...</td>\n      <td>0.0320</td>\n      <td>0.2890</td>\n      <td>0.000000</td>\n      <td>0.0866</td>\n      <td>0.3360</td>\n      <td>144.697</td>\n      <td>4</td>\n      <td>Hollywood</td>\n      <td>Hollywood</td>\n      <td>1.000000</td>\n    </tr>\n    <tr>\n      <th>...</th>\n      <td>...</td>\n      <td>...</td>\n      <td>...</td>\n      <td>...</td>\n      <td>...</td>\n      <td>...</td>\n      <td>...</td>\n      <td>...</td>\n      <td>...</td>\n      <td>...</td>\n      <td>...</td>\n      <td>...</td>\n      <td>...</td>\n      <td>...</td>\n      <td>...</td>\n      <td>...</td>\n      <td>...</td>\n      <td>...</td>\n      <td>...</td>\n      <td>...</td>\n      <td>...</td>\n    </tr>\n    <tr>\n      <th>377594</th>\n      <td>Yoe Mase</td>\n      <td>Nothing More</td>\n      <td>2016-10-09 13:52:23</td>\n      <td>Nothing More</td>\n      <td>Nothing More</td>\n      <td>Guards</td>\n      <td>2014-12-02</td>\n      <td>[]</td>\n      <td>229870</td>\n      <td>31</td>\n      <td>...</td>\n      <td>0.0352</td>\n      <td>0.0268</td>\n      <td>0.000341</td>\n      <td>0.0964</td>\n      <td>0.8450</td>\n      <td>90.975</td>\n      <td>4</td>\n      <td>Nothing More</td>\n      <td>Nothing More</td>\n      <td>1.000000</td>\n    </tr>\n    <tr>\n      <th>377595</th>\n      <td>Illuminine Featuring I Will, I Swear</td>\n      <td>Armor</td>\n      <td>2016-10-09 08:39:01</td>\n      <td>Armor</td>\n      <td>Armor / Against The Gods</td>\n      <td>Illuminine</td>\n      <td>2015-04-18</td>\n      <td>['compositional ambient', 'neo-classical']</td>\n      <td>287590</td>\n      <td>26</td>\n      <td>...</td>\n      <td>0.0296</td>\n      <td>0.9640</td>\n      <td>0.107000</td>\n      <td>0.1190</td>\n      <td>0.0413</td>\n      <td>101.074</td>\n      <td>4</td>\n      <td>Armor</td>\n      <td>Armor</td>\n      <td>1.000000</td>\n    </tr>\n    <tr>\n      <th>377596</th>\n      <td>I Will, I Swear</td>\n      <td>Mess</td>\n      <td>2016-10-09 08:18:11</td>\n      <td>Mess</td>\n      <td>Music For Undays</td>\n      <td>Various Artists</td>\n      <td>2014-02-24</td>\n      <td>[]</td>\n      <td>188895</td>\n      <td>15</td>\n      <td>...</td>\n      <td>0.0356</td>\n      <td>0.7380</td>\n      <td>0.000521</td>\n      <td>0.1120</td>\n      <td>0.1410</td>\n      <td>128.098</td>\n      <td>4</td>\n      <td>Mess</td>\n      <td>Mess</td>\n      <td>1.000000</td>\n    </tr>\n    <tr>\n      <th>377597</th>\n      <td>Ozymandiias</td>\n      <td>Eden - Say Something</td>\n      <td>2016-10-09 05:46:25</td>\n      <td>Say Something</td>\n      <td>Is There Anybody Out There?</td>\n      <td>A Great Big World</td>\n      <td>2014-01-20</td>\n      <td>['indiecoustica', 'neo mellow', 'piano rock', ...</td>\n      <td>229400</td>\n      <td>77</td>\n      <td>...</td>\n      <td>0.0355</td>\n      <td>0.8570</td>\n      <td>0.000003</td>\n      <td>0.0913</td>\n      <td>0.0765</td>\n      <td>141.284</td>\n      <td>3</td>\n      <td>Say Something</td>\n      <td>Eden - Say Something</td>\n      <td>0.803212</td>\n    </tr>\n    <tr>\n      <th>377599</th>\n      <td>Ozymandiias</td>\n      <td>Eden - Say Something</td>\n      <td>2016-10-08 20:12:38</td>\n      <td>Say Something</td>\n      <td>Is There Anybody Out There?</td>\n      <td>A Great Big World</td>\n      <td>2014-01-20</td>\n      <td>['indiecoustica', 'neo mellow', 'piano rock', ...</td>\n      <td>229400</td>\n      <td>77</td>\n      <td>...</td>\n      <td>0.0355</td>\n      <td>0.8570</td>\n      <td>0.000003</td>\n      <td>0.0913</td>\n      <td>0.0765</td>\n      <td>141.284</td>\n      <td>3</td>\n      <td>Say Something</td>\n      <td>Eden - Say Something</td>\n      <td>0.803212</td>\n    </tr>\n  </tbody>\n</table>\n<p>9973 rows × 25 columns</p>\n</div>"
     },
     "metadata": {},
     "execution_count": 108
    }
   ],
   "source": [
    "merge4"
   ]
  },
  {
   "cell_type": "code",
   "execution_count": null,
   "metadata": {},
   "outputs": [],
   "source": []
  }
 ]
}