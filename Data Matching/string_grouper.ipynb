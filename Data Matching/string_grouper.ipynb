{
 "metadata": {
  "language_info": {
   "codemirror_mode": {
    "name": "ipython",
    "version": 3
   },
   "file_extension": ".py",
   "mimetype": "text/x-python",
   "name": "python",
   "nbconvert_exporter": "python",
   "pygments_lexer": "ipython3",
   "version": "3.8.2-final"
  },
  "orig_nbformat": 2,
  "kernelspec": {
   "name": "python_defaultSpec_1598960794639",
   "display_name": "Python 3.8.2 64-bit"
  }
 },
 "nbformat": 4,
 "nbformat_minor": 2,
 "cells": [
  {
   "cell_type": "code",
   "execution_count": 42,
   "metadata": {},
   "outputs": [],
   "source": [
    "import string_grouper\n",
    "import pandas as pd"
   ]
  },
  {
   "cell_type": "code",
   "execution_count": 43,
   "metadata": {},
   "outputs": [],
   "source": [
    "failed =  pd.read_csv('/home/sid/development/python/music-analysis/Temp Sheets/Failed Results (Union minus Merged).csv')\n",
    "failed = failed.drop_duplicates()\n",
    "\n",
    "failed_features = pd.read_csv('/home/sid/development/python/music-analysis/spotify/Spreadsheets/Failed Features.csv')\n",
    "\n",
    "failed_not_features = pd.read_csv('/home/sid/development/python/music-analysis/spotify/Spreadsheets/Failed Scrobbles without Features.csv')\n",
    "\n",
    "scrobble_features = pd.read_csv('/home/sid/development/python/music-analysis/Temp Sheets/scrobbles_features.csv')"
   ]
  },
  {
   "cell_type": "code",
   "execution_count": 44,
   "metadata": {
    "tags": []
   },
   "outputs": [
    {
     "output_type": "stream",
     "name": "stdout",
     "text": "<class 'pandas.core.frame.DataFrame'>\nInt64Index: 17317 entries, 0 to 17316\nData columns (total 20 columns):\n #   Column            Non-Null Count  Dtype  \n---  ------            --------------  -----  \n 0   artist            17317 non-null  object \n 1   track             17317 non-null  object \n 2   datetime          16267 non-null  object \n 3   album             1050 non-null   object \n 4   release_date      1050 non-null   object \n 5   genres            1050 non-null   object \n 6   length            1050 non-null   float64\n 7   popularity        1050 non-null   float64\n 8   danceability      1050 non-null   float64\n 9   energy            1050 non-null   float64\n 10  key               1050 non-null   float64\n 11  loudness          1050 non-null   float64\n 12  mode              1050 non-null   float64\n 13  speechiness       1050 non-null   float64\n 14  acousticness      1050 non-null   float64\n 15  instrumentalness  1050 non-null   float64\n 16  liveness          1050 non-null   float64\n 17  valence           1050 non-null   float64\n 18  tempo             1050 non-null   float64\n 19  time_signature    1050 non-null   float64\ndtypes: float64(14), object(6)\nmemory usage: 2.8+ MB\n"
    }
   ],
   "source": [
    "failed.info()"
   ]
  },
  {
   "cell_type": "code",
   "execution_count": 45,
   "metadata": {
    "tags": []
   },
   "outputs": [
    {
     "output_type": "stream",
     "name": "stdout",
     "text": "<class 'pandas.core.frame.DataFrame'>\nRangeIndex: 1050 entries, 0 to 1049\nData columns (total 20 columns):\n #   Column            Non-Null Count  Dtype  \n---  ------            --------------  -----  \n 0   artist            1050 non-null   object \n 1   track             1050 non-null   object \n 2   datetime          0 non-null      float64\n 3   album             1050 non-null   object \n 4   release_date      1050 non-null   object \n 5   genres            1050 non-null   object \n 6   length            1050 non-null   float64\n 7   popularity        1050 non-null   float64\n 8   danceability      1050 non-null   float64\n 9   energy            1050 non-null   float64\n 10  key               1050 non-null   float64\n 11  loudness          1050 non-null   float64\n 12  mode              1050 non-null   float64\n 13  speechiness       1050 non-null   float64\n 14  acousticness      1050 non-null   float64\n 15  instrumentalness  1050 non-null   float64\n 16  liveness          1050 non-null   float64\n 17  valence           1050 non-null   float64\n 18  tempo             1050 non-null   float64\n 19  time_signature    1050 non-null   float64\ndtypes: float64(15), object(5)\nmemory usage: 164.2+ KB\n"
    }
   ],
   "source": [
    "failed_features.info()"
   ]
  },
  {
   "cell_type": "code",
   "execution_count": 46,
   "metadata": {
    "tags": []
   },
   "outputs": [
    {
     "output_type": "stream",
     "name": "stdout",
     "text": "<class 'pandas.core.frame.DataFrame'>\nRangeIndex: 16267 entries, 0 to 16266\nData columns (total 20 columns):\n #   Column            Non-Null Count  Dtype  \n---  ------            --------------  -----  \n 0   artist            16267 non-null  object \n 1   track             16267 non-null  object \n 2   datetime          16267 non-null  object \n 3   album             0 non-null      float64\n 4   release_date      0 non-null      float64\n 5   genres            0 non-null      float64\n 6   length            0 non-null      float64\n 7   popularity        0 non-null      float64\n 8   danceability      0 non-null      float64\n 9   energy            0 non-null      float64\n 10  key               0 non-null      float64\n 11  loudness          0 non-null      float64\n 12  mode              0 non-null      float64\n 13  speechiness       0 non-null      float64\n 14  acousticness      0 non-null      float64\n 15  instrumentalness  0 non-null      float64\n 16  liveness          0 non-null      float64\n 17  valence           0 non-null      float64\n 18  tempo             0 non-null      float64\n 19  time_signature    0 non-null      float64\ndtypes: float64(17), object(3)\nmemory usage: 2.5+ MB\n"
    }
   ],
   "source": [
    "failed_not_features.info()"
   ]
  },
  {
   "cell_type": "code",
   "execution_count": 47,
   "metadata": {
    "tags": []
   },
   "outputs": [
    {
     "output_type": "stream",
     "name": "stdout",
     "text": "<class 'pandas.core.frame.DataFrame'>\nRangeIndex: 12485 entries, 0 to 12484\nData columns (total 19 columns):\n #   Column            Non-Null Count  Dtype  \n---  ------            --------------  -----  \n 0   track             12485 non-null  object \n 1   album             12485 non-null  object \n 2   artist            12485 non-null  object \n 3   release_date      12485 non-null  object \n 4   genres            12485 non-null  object \n 5   length            12485 non-null  int64  \n 6   popularity        12485 non-null  int64  \n 7   danceability      12485 non-null  float64\n 8   energy            12485 non-null  float64\n 9   key               12485 non-null  int64  \n 10  loudness          12485 non-null  float64\n 11  mode              12485 non-null  int64  \n 12  speechiness       12485 non-null  float64\n 13  acousticness      12485 non-null  float64\n 14  instrumentalness  12485 non-null  float64\n 15  liveness          12485 non-null  float64\n 16  valence           12485 non-null  float64\n 17  tempo             12485 non-null  float64\n 18  time_signature    12485 non-null  int64  \ndtypes: float64(9), int64(5), object(5)\nmemory usage: 1.8+ MB\n"
    }
   ],
   "source": [
    "scrobble_features.info()"
   ]
  },
  {
   "cell_type": "code",
   "execution_count": 48,
   "metadata": {},
   "outputs": [],
   "source": [
    "grouper = string_grouper.match_strings(failed_not_features['track'], scrobble_features['track'])"
   ]
  },
  {
   "cell_type": "code",
   "execution_count": 49,
   "metadata": {},
   "outputs": [],
   "source": [
    "# matches = match_strings(dfREFERENCE[dfREFERENCE_KeyColumn], dfSUBJECT[dfSUBJECT_KeyColumn])\n",
    "# df = dfSUBJECT.merge(matches, left_on=dfREFERENCE_KeyColumn, right_on='left_side') # defaults to left join - not sure if that is what you want\n",
    "# df = df.merge(matches, left_on='right_side', right_on='dfSUBJECT_KeyColumn')"
   ]
  },
  {
   "cell_type": "code",
   "execution_count": 50,
   "metadata": {},
   "outputs": [],
   "source": [
    "grouper_alt = string_grouper.match_strings(scrobble_features['track'], failed_not_features['track'])"
   ]
  },
  {
   "cell_type": "code",
   "execution_count": 57,
   "metadata": {},
   "outputs": [],
   "source": [
    "grouper.sort_values(by='similarity', ascending=False).to_csv('Grouper.csv', index=False)"
   ]
  },
  {
   "cell_type": "code",
   "execution_count": 58,
   "metadata": {},
   "outputs": [],
   "source": [
    "grouper_alt.sort_values(by='similarity', ascending=False).to_csv('Grouper alt.csv', index=False)"
   ]
  },
  {
   "cell_type": "code",
   "execution_count": null,
   "metadata": {},
   "outputs": [],
   "source": []
  }
 ]
}