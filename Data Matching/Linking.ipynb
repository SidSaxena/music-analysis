{
 "metadata": {
  "language_info": {
   "codemirror_mode": {
    "name": "ipython",
    "version": 3
   },
   "file_extension": ".py",
   "mimetype": "text/x-python",
   "name": "python",
   "nbconvert_exporter": "python",
   "pygments_lexer": "ipython3",
   "version": "3.8.2-final"
  },
  "orig_nbformat": 2,
  "kernelspec": {
   "name": "python_defaultSpec_1599037782102",
   "display_name": "Python 3.8.2 64-bit"
  }
 },
 "nbformat": 4,
 "nbformat_minor": 2,
 "cells": [
  {
   "cell_type": "code",
   "execution_count": 90,
   "metadata": {},
   "outputs": [],
   "source": [
    "import pandas as pd"
   ]
  },
  {
   "cell_type": "code",
   "execution_count": 91,
   "metadata": {},
   "outputs": [],
   "source": [
    "failed_results = pd.read_csv('../Temp Sheets/Failed Results.csv')\n",
    "\n",
    "failed_features = pd.read_csv('../Temp Sheets/Failed Features.csv')\n",
    "\n",
    "failed_not_features = pd.read_csv('../Temp Sheets/Failed Not Features.csv')\n",
    "\n",
    "scrobble_features = pd.read_csv('../Temp Sheets/Scrobbles Features.csv')\n",
    "\n",
    "merged = pd.read_csv('../Temp Sheets/Union of Scrobbles and Features.csv')\n",
    "\n",
    "idx_pairs = pd.read_csv('Spreadsheets/RecordLinkage Final Merge Alternate.csv')"
   ]
  },
  {
   "cell_type": "code",
   "execution_count": 92,
   "metadata": {},
   "outputs": [
    {
     "output_type": "execute_result",
     "data": {
      "text/plain": "       features_idx  not_features_idx  tracks  artists  Score  \\\n0                17               848     1.0      1.0    2.0   \n1                17               849     1.0      1.0    2.0   \n2                17               850     1.0      1.0    2.0   \n3                17               851     1.0      1.0    2.0   \n4                17               852     1.0      1.0    2.0   \n...             ...               ...     ...      ...    ...   \n34540          1045              9460     0.0      1.0    1.0   \n34541          1046              9460     0.0      1.0    1.0   \n34542          1047              9460     0.0      1.0    1.0   \n34543          1048             16204     0.0      1.0    1.0   \n34544          1049              9460     0.0      1.0    1.0   \n\n                                          artist_track  \\\n0                                Pokémon_Pokémon Theme   \n1                                Pokémon_Pokémon Theme   \n2                                Pokémon_Pokémon Theme   \n3                                Pokémon_Pokémon Theme   \n4                                Pokémon_Pokémon Theme   \n...                                                ...   \n34540                      Various Artists_Überflieger   \n34541                    Various Artists_Slumber Party   \n34542  Various Artists_Ragtime Cat (feat. Lilja Bloom)   \n34543           Yoe Mase_Nothing More (deaf Kev Remix)   \n34544                             Various Artists_Mess   \n\n                   writer_song  \n0        Pokémon_Pokemon Theme  \n1        Pokémon_Pokemon Theme  \n2        Pokémon_Pokemon Theme  \n3        Pokémon_Pokemon Theme  \n4        Pokémon_Pokemon Theme  \n...                        ...  \n34540  Various Artists_Pokémon  \n34541  Various Artists_Pokémon  \n34542  Various Artists_Pokémon  \n34543    Yoe Mase_Nothing More  \n34544  Various Artists_Pokémon  \n\n[34545 rows x 7 columns]",
      "text/html": "<div>\n<style scoped>\n    .dataframe tbody tr th:only-of-type {\n        vertical-align: middle;\n    }\n\n    .dataframe tbody tr th {\n        vertical-align: top;\n    }\n\n    .dataframe thead th {\n        text-align: right;\n    }\n</style>\n<table border=\"1\" class=\"dataframe\">\n  <thead>\n    <tr style=\"text-align: right;\">\n      <th></th>\n      <th>features_idx</th>\n      <th>not_features_idx</th>\n      <th>tracks</th>\n      <th>artists</th>\n      <th>Score</th>\n      <th>artist_track</th>\n      <th>writer_song</th>\n    </tr>\n  </thead>\n  <tbody>\n    <tr>\n      <th>0</th>\n      <td>17</td>\n      <td>848</td>\n      <td>1.0</td>\n      <td>1.0</td>\n      <td>2.0</td>\n      <td>Pokémon_Pokémon Theme</td>\n      <td>Pokémon_Pokemon Theme</td>\n    </tr>\n    <tr>\n      <th>1</th>\n      <td>17</td>\n      <td>849</td>\n      <td>1.0</td>\n      <td>1.0</td>\n      <td>2.0</td>\n      <td>Pokémon_Pokémon Theme</td>\n      <td>Pokémon_Pokemon Theme</td>\n    </tr>\n    <tr>\n      <th>2</th>\n      <td>17</td>\n      <td>850</td>\n      <td>1.0</td>\n      <td>1.0</td>\n      <td>2.0</td>\n      <td>Pokémon_Pokémon Theme</td>\n      <td>Pokémon_Pokemon Theme</td>\n    </tr>\n    <tr>\n      <th>3</th>\n      <td>17</td>\n      <td>851</td>\n      <td>1.0</td>\n      <td>1.0</td>\n      <td>2.0</td>\n      <td>Pokémon_Pokémon Theme</td>\n      <td>Pokémon_Pokemon Theme</td>\n    </tr>\n    <tr>\n      <th>4</th>\n      <td>17</td>\n      <td>852</td>\n      <td>1.0</td>\n      <td>1.0</td>\n      <td>2.0</td>\n      <td>Pokémon_Pokémon Theme</td>\n      <td>Pokémon_Pokemon Theme</td>\n    </tr>\n    <tr>\n      <th>...</th>\n      <td>...</td>\n      <td>...</td>\n      <td>...</td>\n      <td>...</td>\n      <td>...</td>\n      <td>...</td>\n      <td>...</td>\n    </tr>\n    <tr>\n      <th>34540</th>\n      <td>1045</td>\n      <td>9460</td>\n      <td>0.0</td>\n      <td>1.0</td>\n      <td>1.0</td>\n      <td>Various Artists_Überflieger</td>\n      <td>Various Artists_Pokémon</td>\n    </tr>\n    <tr>\n      <th>34541</th>\n      <td>1046</td>\n      <td>9460</td>\n      <td>0.0</td>\n      <td>1.0</td>\n      <td>1.0</td>\n      <td>Various Artists_Slumber Party</td>\n      <td>Various Artists_Pokémon</td>\n    </tr>\n    <tr>\n      <th>34542</th>\n      <td>1047</td>\n      <td>9460</td>\n      <td>0.0</td>\n      <td>1.0</td>\n      <td>1.0</td>\n      <td>Various Artists_Ragtime Cat (feat. Lilja Bloom)</td>\n      <td>Various Artists_Pokémon</td>\n    </tr>\n    <tr>\n      <th>34543</th>\n      <td>1048</td>\n      <td>16204</td>\n      <td>0.0</td>\n      <td>1.0</td>\n      <td>1.0</td>\n      <td>Yoe Mase_Nothing More (deaf Kev Remix)</td>\n      <td>Yoe Mase_Nothing More</td>\n    </tr>\n    <tr>\n      <th>34544</th>\n      <td>1049</td>\n      <td>9460</td>\n      <td>0.0</td>\n      <td>1.0</td>\n      <td>1.0</td>\n      <td>Various Artists_Mess</td>\n      <td>Various Artists_Pokémon</td>\n    </tr>\n  </tbody>\n</table>\n<p>34545 rows × 7 columns</p>\n</div>"
     },
     "metadata": {},
     "execution_count": 92
    }
   ],
   "source": [
    "idx_pairs"
   ]
  },
  {
   "cell_type": "code",
   "execution_count": 93,
   "metadata": {},
   "outputs": [
    {
     "output_type": "execute_result",
     "data": {
      "text/plain": "'Pokémon Theme'"
     },
     "metadata": {},
     "execution_count": 93
    }
   ],
   "source": [
    "failed_features.iloc[idx_pairs.iloc[idx_pairs.index[0]]['features_idx']]['track']"
   ]
  },
  {
   "cell_type": "code",
   "execution_count": 95,
   "metadata": {},
   "outputs": [
    {
     "output_type": "execute_result",
     "data": {
      "text/plain": "     features_idx  not_features_idx  tracks  artists  Score  \\\n0              17               848     1.0      1.0    2.0   \n1              17               849     1.0      1.0    2.0   \n2              17               850     1.0      1.0    2.0   \n3              17               851     1.0      1.0    2.0   \n4              17               852     1.0      1.0    2.0   \n..            ...               ...     ...      ...    ...   \n316          1034             15718     1.0      1.0    2.0   \n317          1034             15719     1.0      1.0    2.0   \n318          1038             15763     1.0      1.0    2.0   \n319          1041             16003     1.0      1.0    2.0   \n320          1042             16151     1.0      1.0    2.0   \n\n                                          artist_track  \\\n0                                Pokémon_Pokémon Theme   \n1                                Pokémon_Pokémon Theme   \n2                                Pokémon_Pokémon Theme   \n3                                Pokémon_Pokémon Theme   \n4                                Pokémon_Pokémon Theme   \n..                                                 ...   \n316      Flume_Say It (feat. Tove Lo) [illenium Remix]   \n317      Flume_Say It (feat. Tove Lo) [illenium Remix]   \n318  Bright Lights_Runaway (feat. 3lau) - Xan Griff...   \n319  Benjamin Francis Leftwich_Atlas Hands - Thomas...   \n320            Muse_Assassin - Grand Omega Bosses Edit   \n\n                                           writer_song  \n0                                Pokémon_Pokemon Theme  \n1                                Pokémon_Pokemon Theme  \n2                                Pokémon_Pokemon Theme  \n3                                Pokémon_Pokemon Theme  \n4                                Pokémon_Pokemon Theme  \n..                                                 ...  \n316      Flume_Say It (feat. Tove Lo) (illenium Remix)  \n317      Flume_Say It (feat. Tove Lo) (illenium Remix)  \n318  Bright Lights_Runaway (feat. 3lau) (xan Griffi...  \n319  Benjamin Francis Leftwich_Atlas Hands (thomas ...  \n320            Muse_Assassin (grand Omega Bosses Edit)  \n\n[321 rows x 7 columns]",
      "text/html": "<div>\n<style scoped>\n    .dataframe tbody tr th:only-of-type {\n        vertical-align: middle;\n    }\n\n    .dataframe tbody tr th {\n        vertical-align: top;\n    }\n\n    .dataframe thead th {\n        text-align: right;\n    }\n</style>\n<table border=\"1\" class=\"dataframe\">\n  <thead>\n    <tr style=\"text-align: right;\">\n      <th></th>\n      <th>features_idx</th>\n      <th>not_features_idx</th>\n      <th>tracks</th>\n      <th>artists</th>\n      <th>Score</th>\n      <th>artist_track</th>\n      <th>writer_song</th>\n    </tr>\n  </thead>\n  <tbody>\n    <tr>\n      <th>0</th>\n      <td>17</td>\n      <td>848</td>\n      <td>1.0</td>\n      <td>1.0</td>\n      <td>2.0</td>\n      <td>Pokémon_Pokémon Theme</td>\n      <td>Pokémon_Pokemon Theme</td>\n    </tr>\n    <tr>\n      <th>1</th>\n      <td>17</td>\n      <td>849</td>\n      <td>1.0</td>\n      <td>1.0</td>\n      <td>2.0</td>\n      <td>Pokémon_Pokémon Theme</td>\n      <td>Pokémon_Pokemon Theme</td>\n    </tr>\n    <tr>\n      <th>2</th>\n      <td>17</td>\n      <td>850</td>\n      <td>1.0</td>\n      <td>1.0</td>\n      <td>2.0</td>\n      <td>Pokémon_Pokémon Theme</td>\n      <td>Pokémon_Pokemon Theme</td>\n    </tr>\n    <tr>\n      <th>3</th>\n      <td>17</td>\n      <td>851</td>\n      <td>1.0</td>\n      <td>1.0</td>\n      <td>2.0</td>\n      <td>Pokémon_Pokémon Theme</td>\n      <td>Pokémon_Pokemon Theme</td>\n    </tr>\n    <tr>\n      <th>4</th>\n      <td>17</td>\n      <td>852</td>\n      <td>1.0</td>\n      <td>1.0</td>\n      <td>2.0</td>\n      <td>Pokémon_Pokémon Theme</td>\n      <td>Pokémon_Pokemon Theme</td>\n    </tr>\n    <tr>\n      <th>...</th>\n      <td>...</td>\n      <td>...</td>\n      <td>...</td>\n      <td>...</td>\n      <td>...</td>\n      <td>...</td>\n      <td>...</td>\n    </tr>\n    <tr>\n      <th>316</th>\n      <td>1034</td>\n      <td>15718</td>\n      <td>1.0</td>\n      <td>1.0</td>\n      <td>2.0</td>\n      <td>Flume_Say It (feat. Tove Lo) [illenium Remix]</td>\n      <td>Flume_Say It (feat. Tove Lo) (illenium Remix)</td>\n    </tr>\n    <tr>\n      <th>317</th>\n      <td>1034</td>\n      <td>15719</td>\n      <td>1.0</td>\n      <td>1.0</td>\n      <td>2.0</td>\n      <td>Flume_Say It (feat. Tove Lo) [illenium Remix]</td>\n      <td>Flume_Say It (feat. Tove Lo) (illenium Remix)</td>\n    </tr>\n    <tr>\n      <th>318</th>\n      <td>1038</td>\n      <td>15763</td>\n      <td>1.0</td>\n      <td>1.0</td>\n      <td>2.0</td>\n      <td>Bright Lights_Runaway (feat. 3lau) - Xan Griff...</td>\n      <td>Bright Lights_Runaway (feat. 3lau) (xan Griffi...</td>\n    </tr>\n    <tr>\n      <th>319</th>\n      <td>1041</td>\n      <td>16003</td>\n      <td>1.0</td>\n      <td>1.0</td>\n      <td>2.0</td>\n      <td>Benjamin Francis Leftwich_Atlas Hands - Thomas...</td>\n      <td>Benjamin Francis Leftwich_Atlas Hands (thomas ...</td>\n    </tr>\n    <tr>\n      <th>320</th>\n      <td>1042</td>\n      <td>16151</td>\n      <td>1.0</td>\n      <td>1.0</td>\n      <td>2.0</td>\n      <td>Muse_Assassin - Grand Omega Bosses Edit</td>\n      <td>Muse_Assassin (grand Omega Bosses Edit)</td>\n    </tr>\n  </tbody>\n</table>\n<p>321 rows × 7 columns</p>\n</div>"
     },
     "metadata": {},
     "execution_count": 95
    }
   ],
   "source": [
    "exact = idx_pairs[idx_pairs['Score'] == 2]\n",
    "exact"
   ]
  },
  {
   "cell_type": "code",
   "execution_count": 103,
   "metadata": {},
   "outputs": [],
   "source": [
    "# features_idx = exact['features_idx'].to_list()\n",
    "# not_features_idx = exact['not_features_idx'].to_list()"
   ]
  },
  {
   "cell_type": "code",
   "execution_count": null,
   "metadata": {},
   "outputs": [],
   "source": [
    "# rowIndex = df.index[someRowNumber]\n",
    "# df.loc[rowIndex, 'New Column Title'] = \"some value\"\n",
    "\n",
    "# df.loc[df.index[someRowNumber], 'New Column Title'] = \"some value\""
   ]
  },
  {
   "cell_type": "code",
   "execution_count": 105,
   "metadata": {},
   "outputs": [],
   "source": [
    "for i in range(len(exact)):\n",
    "    failed_not_features.loc[failed_not_features.index[not_features_idx[i]], 'track_f'] = failed_features.iloc[idx_pairs.iloc[idx_pairs.index[i]]['features_idx']]['track']"
   ]
  },
  {
   "cell_type": "markdown",
   "metadata": {},
   "source": [
    "# Score = 1 and Tracks = 1 but Artists = 0"
   ]
  },
  {
   "cell_type": "code",
   "execution_count": 192,
   "metadata": {},
   "outputs": [
    {
     "output_type": "execute_result",
     "data": {
      "text/plain": "      features_idx  not_features_idx  tracks  artists  Score  \\\n0               17               848     1.0      1.0    2.0   \n1               17               849     1.0      1.0    2.0   \n2               17               850     1.0      1.0    2.0   \n3               17               851     1.0      1.0    2.0   \n4               17               852     1.0      1.0    2.0   \n...            ...               ...     ...      ...    ...   \n3235          1045             16159     1.0      0.0    1.0   \n3236          1046             16173     1.0      0.0    1.0   \n3237          1046             16174     1.0      0.0    1.0   \n3238          1047             16176     1.0      0.0    1.0   \n3239          1049             16207     1.0      0.0    1.0   \n\n                                         artist_track  \\\n0                               Pokémon_Pokémon Theme   \n1                               Pokémon_Pokémon Theme   \n2                               Pokémon_Pokémon Theme   \n3                               Pokémon_Pokémon Theme   \n4                               Pokémon_Pokémon Theme   \n...                                               ...   \n3235                      Various Artists_Überflieger   \n3236                    Various Artists_Slumber Party   \n3237                    Various Artists_Slumber Party   \n3238  Various Artists_Ragtime Cat (feat. Lilja Bloom)   \n3239                             Various Artists_Mess   \n\n                                     writer_song  \n0                          Pokémon_Pokemon Theme  \n1                          Pokémon_Pokemon Theme  \n2                          Pokémon_Pokemon Theme  \n3                          Pokémon_Pokemon Theme  \n4                          Pokémon_Pokemon Theme  \n...                                          ...  \n3235                           Dinka_Überflieger  \n3236                      Hellberg_Slumber Party  \n3237                      Hellberg_Slumber Party  \n3238  Parov Stelar_Ragtime Cat Feat. Lilja Bloom  \n3239                        I Will, I Swear_Mess  \n\n[3240 rows x 7 columns]",
      "text/html": "<div>\n<style scoped>\n    .dataframe tbody tr th:only-of-type {\n        vertical-align: middle;\n    }\n\n    .dataframe tbody tr th {\n        vertical-align: top;\n    }\n\n    .dataframe thead th {\n        text-align: right;\n    }\n</style>\n<table border=\"1\" class=\"dataframe\">\n  <thead>\n    <tr style=\"text-align: right;\">\n      <th></th>\n      <th>features_idx</th>\n      <th>not_features_idx</th>\n      <th>tracks</th>\n      <th>artists</th>\n      <th>Score</th>\n      <th>artist_track</th>\n      <th>writer_song</th>\n    </tr>\n  </thead>\n  <tbody>\n    <tr>\n      <th>0</th>\n      <td>17</td>\n      <td>848</td>\n      <td>1.0</td>\n      <td>1.0</td>\n      <td>2.0</td>\n      <td>Pokémon_Pokémon Theme</td>\n      <td>Pokémon_Pokemon Theme</td>\n    </tr>\n    <tr>\n      <th>1</th>\n      <td>17</td>\n      <td>849</td>\n      <td>1.0</td>\n      <td>1.0</td>\n      <td>2.0</td>\n      <td>Pokémon_Pokémon Theme</td>\n      <td>Pokémon_Pokemon Theme</td>\n    </tr>\n    <tr>\n      <th>2</th>\n      <td>17</td>\n      <td>850</td>\n      <td>1.0</td>\n      <td>1.0</td>\n      <td>2.0</td>\n      <td>Pokémon_Pokémon Theme</td>\n      <td>Pokémon_Pokemon Theme</td>\n    </tr>\n    <tr>\n      <th>3</th>\n      <td>17</td>\n      <td>851</td>\n      <td>1.0</td>\n      <td>1.0</td>\n      <td>2.0</td>\n      <td>Pokémon_Pokémon Theme</td>\n      <td>Pokémon_Pokemon Theme</td>\n    </tr>\n    <tr>\n      <th>4</th>\n      <td>17</td>\n      <td>852</td>\n      <td>1.0</td>\n      <td>1.0</td>\n      <td>2.0</td>\n      <td>Pokémon_Pokémon Theme</td>\n      <td>Pokémon_Pokemon Theme</td>\n    </tr>\n    <tr>\n      <th>...</th>\n      <td>...</td>\n      <td>...</td>\n      <td>...</td>\n      <td>...</td>\n      <td>...</td>\n      <td>...</td>\n      <td>...</td>\n    </tr>\n    <tr>\n      <th>3235</th>\n      <td>1045</td>\n      <td>16159</td>\n      <td>1.0</td>\n      <td>0.0</td>\n      <td>1.0</td>\n      <td>Various Artists_Überflieger</td>\n      <td>Dinka_Überflieger</td>\n    </tr>\n    <tr>\n      <th>3236</th>\n      <td>1046</td>\n      <td>16173</td>\n      <td>1.0</td>\n      <td>0.0</td>\n      <td>1.0</td>\n      <td>Various Artists_Slumber Party</td>\n      <td>Hellberg_Slumber Party</td>\n    </tr>\n    <tr>\n      <th>3237</th>\n      <td>1046</td>\n      <td>16174</td>\n      <td>1.0</td>\n      <td>0.0</td>\n      <td>1.0</td>\n      <td>Various Artists_Slumber Party</td>\n      <td>Hellberg_Slumber Party</td>\n    </tr>\n    <tr>\n      <th>3238</th>\n      <td>1047</td>\n      <td>16176</td>\n      <td>1.0</td>\n      <td>0.0</td>\n      <td>1.0</td>\n      <td>Various Artists_Ragtime Cat (feat. Lilja Bloom)</td>\n      <td>Parov Stelar_Ragtime Cat Feat. Lilja Bloom</td>\n    </tr>\n    <tr>\n      <th>3239</th>\n      <td>1049</td>\n      <td>16207</td>\n      <td>1.0</td>\n      <td>0.0</td>\n      <td>1.0</td>\n      <td>Various Artists_Mess</td>\n      <td>I Will, I Swear_Mess</td>\n    </tr>\n  </tbody>\n</table>\n<p>3240 rows × 7 columns</p>\n</div>"
     },
     "metadata": {},
     "execution_count": 192
    }
   ],
   "source": [
    "idx_tracks = idx_pairs[(idx_pairs['Score'] >= 1) & (idx_pairs['tracks'] == 1)]\n",
    "idx_tracks"
   ]
  },
  {
   "cell_type": "code",
   "execution_count": 193,
   "metadata": {},
   "outputs": [],
   "source": [
    "features_idx = idx_tracks['features_idx'].to_list()\n",
    "not_features_idx = idx_tracks['not_features_idx'].to_list()"
   ]
  },
  {
   "cell_type": "code",
   "execution_count": 43,
   "metadata": {},
   "outputs": [],
   "source": [
    "# rowIndex = df.index[someRowNumber]\n",
    "# df.loc[rowIndex, 'New Column Title'] = \"some value\"\n",
    "\n",
    "# df.loc[df.index[someRowNumber], 'New Column Title'] = \"some value\""
   ]
  },
  {
   "cell_type": "code",
   "execution_count": 196,
   "metadata": {},
   "outputs": [],
   "source": [
    "for i in range(len(features_idx)):\n",
    "    failed_not_features.loc[failed_not_features.index[not_features_idx[i]], 'track_f'] = failed_features.iloc[features_idx[i]]['track']"
   ]
  },
  {
   "cell_type": "code",
   "execution_count": 197,
   "metadata": {},
   "outputs": [
    {
     "output_type": "execute_result",
     "data": {
      "text/plain": "                artist                                          track  \\\n0       Declan Mckenna                                        In Blue   \n1       Declan Mckenna                                        In Blue   \n2       Declan Mckenna                                        In Blue   \n176         Mai Yamane  See You Space Cowboys Not Final Mountain Root   \n177         Mai Yamane  See You Space Cowboys Not Final Mountain Root   \n...                ...                                            ...   \n16159            Dinka                                    Überflieger   \n16173         Hellberg                                  Slumber Party   \n16174         Hellberg                                  Slumber Party   \n16176     Parov Stelar                  Ragtime Cat Feat. Lilja Bloom   \n16207  I Will, I Swear                                           Mess   \n\n                  datetime                                        track_f  \n0      2020-08-25 11:10:56                                        In Blue  \n1      2020-08-07 22:31:03                                        In Blue  \n2      2020-03-27 23:02:03                                        In Blue  \n176    2020-08-18 22:42:46  See You Space Cowboys Not Final Mountain Root  \n177    2020-07-26 18:09:31  See You Space Cowboys Not Final Mountain Root  \n...                    ...                                            ...  \n16159  2016-10-11 21:03:01                                    Überflieger  \n16173  2016-10-10 16:40:23                                  Slumber Party  \n16174  2016-10-10 16:33:17                                  Slumber Party  \n16176  2016-10-10 11:01:43                Ragtime Cat (feat. Lilja Bloom)  \n16207  2016-10-09 08:18:11                                           Mess  \n\n[2889 rows x 4 columns]",
      "text/html": "<div>\n<style scoped>\n    .dataframe tbody tr th:only-of-type {\n        vertical-align: middle;\n    }\n\n    .dataframe tbody tr th {\n        vertical-align: top;\n    }\n\n    .dataframe thead th {\n        text-align: right;\n    }\n</style>\n<table border=\"1\" class=\"dataframe\">\n  <thead>\n    <tr style=\"text-align: right;\">\n      <th></th>\n      <th>artist</th>\n      <th>track</th>\n      <th>datetime</th>\n      <th>track_f</th>\n    </tr>\n  </thead>\n  <tbody>\n    <tr>\n      <th>0</th>\n      <td>Declan Mckenna</td>\n      <td>In Blue</td>\n      <td>2020-08-25 11:10:56</td>\n      <td>In Blue</td>\n    </tr>\n    <tr>\n      <th>1</th>\n      <td>Declan Mckenna</td>\n      <td>In Blue</td>\n      <td>2020-08-07 22:31:03</td>\n      <td>In Blue</td>\n    </tr>\n    <tr>\n      <th>2</th>\n      <td>Declan Mckenna</td>\n      <td>In Blue</td>\n      <td>2020-03-27 23:02:03</td>\n      <td>In Blue</td>\n    </tr>\n    <tr>\n      <th>176</th>\n      <td>Mai Yamane</td>\n      <td>See You Space Cowboys Not Final Mountain Root</td>\n      <td>2020-08-18 22:42:46</td>\n      <td>See You Space Cowboys Not Final Mountain Root</td>\n    </tr>\n    <tr>\n      <th>177</th>\n      <td>Mai Yamane</td>\n      <td>See You Space Cowboys Not Final Mountain Root</td>\n      <td>2020-07-26 18:09:31</td>\n      <td>See You Space Cowboys Not Final Mountain Root</td>\n    </tr>\n    <tr>\n      <th>...</th>\n      <td>...</td>\n      <td>...</td>\n      <td>...</td>\n      <td>...</td>\n    </tr>\n    <tr>\n      <th>16159</th>\n      <td>Dinka</td>\n      <td>Überflieger</td>\n      <td>2016-10-11 21:03:01</td>\n      <td>Überflieger</td>\n    </tr>\n    <tr>\n      <th>16173</th>\n      <td>Hellberg</td>\n      <td>Slumber Party</td>\n      <td>2016-10-10 16:40:23</td>\n      <td>Slumber Party</td>\n    </tr>\n    <tr>\n      <th>16174</th>\n      <td>Hellberg</td>\n      <td>Slumber Party</td>\n      <td>2016-10-10 16:33:17</td>\n      <td>Slumber Party</td>\n    </tr>\n    <tr>\n      <th>16176</th>\n      <td>Parov Stelar</td>\n      <td>Ragtime Cat Feat. Lilja Bloom</td>\n      <td>2016-10-10 11:01:43</td>\n      <td>Ragtime Cat (feat. Lilja Bloom)</td>\n    </tr>\n    <tr>\n      <th>16207</th>\n      <td>I Will, I Swear</td>\n      <td>Mess</td>\n      <td>2016-10-09 08:18:11</td>\n      <td>Mess</td>\n    </tr>\n  </tbody>\n</table>\n<p>2889 rows × 4 columns</p>\n</div>"
     },
     "metadata": {},
     "execution_count": 197
    }
   ],
   "source": [
    "failed_not_features[failed_not_features['track_f'].notnull()]"
   ]
  },
  {
   "cell_type": "code",
   "execution_count": 198,
   "metadata": {},
   "outputs": [],
   "source": [
    "exactplustracks = failed_not_features[failed_not_features['track_f'].notnull()]\n",
    "exactplustracks.to_csv('exactplustracks.csv', index=False)"
   ]
  },
  {
   "cell_type": "code",
   "execution_count": 199,
   "metadata": {},
   "outputs": [],
   "source": [
    "merged_features = pd.merge(exactplustracks, failed_features, left_on='track_f', right_on='track')\n",
    "merged_features = merged_features.drop(['track_y', 'datetime'], axis=1)"
   ]
  },
  {
   "cell_type": "code",
   "execution_count": 200,
   "metadata": {},
   "outputs": [],
   "source": [
    "failed_test = pd.merge(failed_not_features, merged_features, left_on='track', right_on='track_x')\n",
    "failed_test = failed_test.drop_duplicates()"
   ]
  },
  {
   "cell_type": "code",
   "execution_count": 204,
   "metadata": {},
   "outputs": [],
   "source": [
    "def getDuplicateColumns(df):\n",
    "    '''\n",
    "    Get a list of duplicate columns.\n",
    "    It will iterate over all the columns in dataframe and find the columns whose contents are duplicate.\n",
    "    :param df: Dataframe object\n",
    "    :return: List of columns whose contents are duplicates.\n",
    "    '''\n",
    "    duplicateColumnNames = set()\n",
    "    # Iterate over all the columns in dataframe\n",
    "    for x in range(df.shape[1]):\n",
    "        # Select column at xth index.\n",
    "        col = df.iloc[:, x]\n",
    "        # Iterate over all the columns in DataFrame from (x+1)th index till end\n",
    "        for y in range(x + 1, df.shape[1]):\n",
    "            # Select column at yth index.\n",
    "            otherCol = df.iloc[:, y]\n",
    "            # Check if two columns at x 7 y index are equal\n",
    "            if col.equals(otherCol):\n",
    "                duplicateColumnNames.add(df.columns.values[y])\n",
    "    return list(duplicateColumnNames)"
   ]
  },
  {
   "cell_type": "code",
   "execution_count": 205,
   "metadata": {
    "tags": []
   },
   "outputs": [
    {
     "output_type": "stream",
     "name": "stdout",
     "text": "Duplicate Columns are as follows\nColumn name :  track_x\nColumn name :  track_f_y\n"
    }
   ],
   "source": [
    "duplicateColumnNames = getDuplicateColumns(failed_test)\n",
    "print('Duplicate Columns are as follows')\n",
    "for col in duplicateColumnNames:\n",
    "    print('Column name : ', col)"
   ]
  },
  {
   "cell_type": "code",
   "execution_count": 206,
   "metadata": {},
   "outputs": [],
   "source": [
    "failed_test = failed_test.drop(columns=getDuplicateColumns(failed_test))"
   ]
  },
  {
   "cell_type": "code",
   "execution_count": 228,
   "metadata": {},
   "outputs": [],
   "source": [
    "failed_test.to_csv('Final Merge (Needs Cleaning).csv', index=False)"
   ]
  },
  {
   "cell_type": "code",
   "execution_count": null,
   "metadata": {},
   "outputs": [],
   "source": []
  }
 ]
}