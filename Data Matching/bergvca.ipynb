{
 "metadata": {
  "language_info": {
   "codemirror_mode": {
    "name": "ipython",
    "version": 3
   },
   "file_extension": ".py",
   "mimetype": "text/x-python",
   "name": "python",
   "nbconvert_exporter": "python",
   "pygments_lexer": "ipython3",
   "version": "3.8.2-final"
  },
  "orig_nbformat": 2,
  "kernelspec": {
   "name": "python_defaultSpec_1598962140298",
   "display_name": "Python 3.8.2 64-bit"
  }
 },
 "nbformat": 4,
 "nbformat_minor": 2,
 "cells": [
  {
   "cell_type": "code",
   "execution_count": 1,
   "metadata": {},
   "outputs": [],
   "source": [
    "import pandas as pd\n",
    "import re\n",
    "from sklearn.feature_extraction.text import TfidfVectorizer\n",
    "import numpy as np\n",
    "from scipy.sparse import csr_matrix\n",
    "import sparse_dot_topn.sparse_dot_topn as ct\n"
   ]
  },
  {
   "cell_type": "code",
   "execution_count": 2,
   "metadata": {},
   "outputs": [],
   "source": [
    "\n",
    "failed =  pd.read_csv('/home/sid/development/python/music-analysis/Temp Sheets/Failed Results (Union minus Merged).csv')\n",
    "\n",
    "failed = failed.drop_duplicates()"
   ]
  },
  {
   "cell_type": "code",
   "execution_count": 3,
   "metadata": {},
   "outputs": [
    {
     "output_type": "execute_result",
     "data": {
      "text/plain": "                      artist  \\\n0             Declan Mckenna   \n1             Declan Mckenna   \n2             Declan Mckenna   \n3      Everything Everything   \n4             Gotham Knights   \n...                      ...   \n17312        Various Artists   \n17313        Various Artists   \n17314        Various Artists   \n17315               Yoe Mase   \n17316        Various Artists   \n\n                                                   track             datetime  \\\n0                                                In Blue  2020-08-25 11:10:56   \n1                                                In Blue  2020-08-07 22:31:03   \n2                                                In Blue  2020-03-27 23:02:03   \n3      Don't Let It Bring You Down - Live At Bbc Maid...  2020-08-24 13:17:44   \n4                                 World Premiere Trailer  2020-08-24 10:37:20   \n...                                                  ...                  ...   \n17312                                        Überflieger                  NaN   \n17313                                      Slumber Party                  NaN   \n17314                    Ragtime Cat (feat. Lilja Bloom)                  NaN   \n17315                      Nothing More (deaf Kev Remix)                  NaN   \n17316                                               Mess                  NaN   \n\n                                             album release_date  \\\n0                                              NaN          NaN   \n1                                              NaN          NaN   \n2                                              NaN          NaN   \n3                                              NaN          NaN   \n4                                              NaN          NaN   \n...                                            ...          ...   \n17312  MrSuicideSheep Presents - Taking You Higher   2015-10-09   \n17313  MrSuicideSheep Presents - Taking You Higher   2015-10-09   \n17314                  Electro Swing Fever, Vol. 3   2014-02-17   \n17315                Nothing More (Deaf Kev Remix)   2015-11-06   \n17316                             Music For Undays   2014-02-24   \n\n                         genres    length  popularity  danceability  energy  \\\n0                           NaN       NaN         NaN           NaN     NaN   \n1                           NaN       NaN         NaN           NaN     NaN   \n2                           NaN       NaN         NaN           NaN     NaN   \n3                           NaN       NaN         NaN           NaN     NaN   \n4                           NaN       NaN         NaN           NaN     NaN   \n...                         ...       ...         ...           ...     ...   \n17312                        []  530750.0        25.0         0.649   0.864   \n17313                        []  233587.0        37.0         0.533   0.936   \n17314                        []  181000.0        22.0         0.736   0.715   \n17315  ['chillstep', 'pop edm']  376200.0        37.0         0.383   0.831   \n17316                        []  188895.0        15.0         0.679   0.296   \n\n        key  loudness  mode  speechiness  acousticness  instrumentalness  \\\n0       NaN       NaN   NaN          NaN           NaN               NaN   \n1       NaN       NaN   NaN          NaN           NaN               NaN   \n2       NaN       NaN   NaN          NaN           NaN               NaN   \n3       NaN       NaN   NaN          NaN           NaN               NaN   \n4       NaN       NaN   NaN          NaN           NaN               NaN   \n...     ...       ...   ...          ...           ...               ...   \n17312  10.0    -6.659   0.0       0.0497        0.0172          0.864000   \n17313   1.0    -4.626   1.0       0.0447        0.0143          0.721000   \n17314   5.0    -4.114   0.0       0.0412        0.0120          0.000796   \n17315   1.0    -5.063   1.0       0.0511        0.0123          0.066100   \n17316   8.0    -9.768   1.0       0.0356        0.7380          0.000521   \n\n       liveness  valence    tempo  time_signature  \n0           NaN      NaN      NaN             NaN  \n1           NaN      NaN      NaN             NaN  \n2           NaN      NaN      NaN             NaN  \n3           NaN      NaN      NaN             NaN  \n4           NaN      NaN      NaN             NaN  \n...         ...      ...      ...             ...  \n17312    0.0308   0.5380  127.987             4.0  \n17313    0.0622   0.4210  128.018             4.0  \n17314    0.2180   0.8510  119.976             4.0  \n17315    0.1020   0.0912  199.850             4.0  \n17316    0.1120   0.1410  128.098             4.0  \n\n[17317 rows x 20 columns]",
      "text/html": "<div>\n<style scoped>\n    .dataframe tbody tr th:only-of-type {\n        vertical-align: middle;\n    }\n\n    .dataframe tbody tr th {\n        vertical-align: top;\n    }\n\n    .dataframe thead th {\n        text-align: right;\n    }\n</style>\n<table border=\"1\" class=\"dataframe\">\n  <thead>\n    <tr style=\"text-align: right;\">\n      <th></th>\n      <th>artist</th>\n      <th>track</th>\n      <th>datetime</th>\n      <th>album</th>\n      <th>release_date</th>\n      <th>genres</th>\n      <th>length</th>\n      <th>popularity</th>\n      <th>danceability</th>\n      <th>energy</th>\n      <th>key</th>\n      <th>loudness</th>\n      <th>mode</th>\n      <th>speechiness</th>\n      <th>acousticness</th>\n      <th>instrumentalness</th>\n      <th>liveness</th>\n      <th>valence</th>\n      <th>tempo</th>\n      <th>time_signature</th>\n    </tr>\n  </thead>\n  <tbody>\n    <tr>\n      <th>0</th>\n      <td>Declan Mckenna</td>\n      <td>In Blue</td>\n      <td>2020-08-25 11:10:56</td>\n      <td>NaN</td>\n      <td>NaN</td>\n      <td>NaN</td>\n      <td>NaN</td>\n      <td>NaN</td>\n      <td>NaN</td>\n      <td>NaN</td>\n      <td>NaN</td>\n      <td>NaN</td>\n      <td>NaN</td>\n      <td>NaN</td>\n      <td>NaN</td>\n      <td>NaN</td>\n      <td>NaN</td>\n      <td>NaN</td>\n      <td>NaN</td>\n      <td>NaN</td>\n    </tr>\n    <tr>\n      <th>1</th>\n      <td>Declan Mckenna</td>\n      <td>In Blue</td>\n      <td>2020-08-07 22:31:03</td>\n      <td>NaN</td>\n      <td>NaN</td>\n      <td>NaN</td>\n      <td>NaN</td>\n      <td>NaN</td>\n      <td>NaN</td>\n      <td>NaN</td>\n      <td>NaN</td>\n      <td>NaN</td>\n      <td>NaN</td>\n      <td>NaN</td>\n      <td>NaN</td>\n      <td>NaN</td>\n      <td>NaN</td>\n      <td>NaN</td>\n      <td>NaN</td>\n      <td>NaN</td>\n    </tr>\n    <tr>\n      <th>2</th>\n      <td>Declan Mckenna</td>\n      <td>In Blue</td>\n      <td>2020-03-27 23:02:03</td>\n      <td>NaN</td>\n      <td>NaN</td>\n      <td>NaN</td>\n      <td>NaN</td>\n      <td>NaN</td>\n      <td>NaN</td>\n      <td>NaN</td>\n      <td>NaN</td>\n      <td>NaN</td>\n      <td>NaN</td>\n      <td>NaN</td>\n      <td>NaN</td>\n      <td>NaN</td>\n      <td>NaN</td>\n      <td>NaN</td>\n      <td>NaN</td>\n      <td>NaN</td>\n    </tr>\n    <tr>\n      <th>3</th>\n      <td>Everything Everything</td>\n      <td>Don't Let It Bring You Down - Live At Bbc Maid...</td>\n      <td>2020-08-24 13:17:44</td>\n      <td>NaN</td>\n      <td>NaN</td>\n      <td>NaN</td>\n      <td>NaN</td>\n      <td>NaN</td>\n      <td>NaN</td>\n      <td>NaN</td>\n      <td>NaN</td>\n      <td>NaN</td>\n      <td>NaN</td>\n      <td>NaN</td>\n      <td>NaN</td>\n      <td>NaN</td>\n      <td>NaN</td>\n      <td>NaN</td>\n      <td>NaN</td>\n      <td>NaN</td>\n    </tr>\n    <tr>\n      <th>4</th>\n      <td>Gotham Knights</td>\n      <td>World Premiere Trailer</td>\n      <td>2020-08-24 10:37:20</td>\n      <td>NaN</td>\n      <td>NaN</td>\n      <td>NaN</td>\n      <td>NaN</td>\n      <td>NaN</td>\n      <td>NaN</td>\n      <td>NaN</td>\n      <td>NaN</td>\n      <td>NaN</td>\n      <td>NaN</td>\n      <td>NaN</td>\n      <td>NaN</td>\n      <td>NaN</td>\n      <td>NaN</td>\n      <td>NaN</td>\n      <td>NaN</td>\n      <td>NaN</td>\n    </tr>\n    <tr>\n      <th>...</th>\n      <td>...</td>\n      <td>...</td>\n      <td>...</td>\n      <td>...</td>\n      <td>...</td>\n      <td>...</td>\n      <td>...</td>\n      <td>...</td>\n      <td>...</td>\n      <td>...</td>\n      <td>...</td>\n      <td>...</td>\n      <td>...</td>\n      <td>...</td>\n      <td>...</td>\n      <td>...</td>\n      <td>...</td>\n      <td>...</td>\n      <td>...</td>\n      <td>...</td>\n    </tr>\n    <tr>\n      <th>17312</th>\n      <td>Various Artists</td>\n      <td>Überflieger</td>\n      <td>NaN</td>\n      <td>MrSuicideSheep Presents - Taking You Higher</td>\n      <td>2015-10-09</td>\n      <td>[]</td>\n      <td>530750.0</td>\n      <td>25.0</td>\n      <td>0.649</td>\n      <td>0.864</td>\n      <td>10.0</td>\n      <td>-6.659</td>\n      <td>0.0</td>\n      <td>0.0497</td>\n      <td>0.0172</td>\n      <td>0.864000</td>\n      <td>0.0308</td>\n      <td>0.5380</td>\n      <td>127.987</td>\n      <td>4.0</td>\n    </tr>\n    <tr>\n      <th>17313</th>\n      <td>Various Artists</td>\n      <td>Slumber Party</td>\n      <td>NaN</td>\n      <td>MrSuicideSheep Presents - Taking You Higher</td>\n      <td>2015-10-09</td>\n      <td>[]</td>\n      <td>233587.0</td>\n      <td>37.0</td>\n      <td>0.533</td>\n      <td>0.936</td>\n      <td>1.0</td>\n      <td>-4.626</td>\n      <td>1.0</td>\n      <td>0.0447</td>\n      <td>0.0143</td>\n      <td>0.721000</td>\n      <td>0.0622</td>\n      <td>0.4210</td>\n      <td>128.018</td>\n      <td>4.0</td>\n    </tr>\n    <tr>\n      <th>17314</th>\n      <td>Various Artists</td>\n      <td>Ragtime Cat (feat. Lilja Bloom)</td>\n      <td>NaN</td>\n      <td>Electro Swing Fever, Vol. 3</td>\n      <td>2014-02-17</td>\n      <td>[]</td>\n      <td>181000.0</td>\n      <td>22.0</td>\n      <td>0.736</td>\n      <td>0.715</td>\n      <td>5.0</td>\n      <td>-4.114</td>\n      <td>0.0</td>\n      <td>0.0412</td>\n      <td>0.0120</td>\n      <td>0.000796</td>\n      <td>0.2180</td>\n      <td>0.8510</td>\n      <td>119.976</td>\n      <td>4.0</td>\n    </tr>\n    <tr>\n      <th>17315</th>\n      <td>Yoe Mase</td>\n      <td>Nothing More (deaf Kev Remix)</td>\n      <td>NaN</td>\n      <td>Nothing More (Deaf Kev Remix)</td>\n      <td>2015-11-06</td>\n      <td>['chillstep', 'pop edm']</td>\n      <td>376200.0</td>\n      <td>37.0</td>\n      <td>0.383</td>\n      <td>0.831</td>\n      <td>1.0</td>\n      <td>-5.063</td>\n      <td>1.0</td>\n      <td>0.0511</td>\n      <td>0.0123</td>\n      <td>0.066100</td>\n      <td>0.1020</td>\n      <td>0.0912</td>\n      <td>199.850</td>\n      <td>4.0</td>\n    </tr>\n    <tr>\n      <th>17316</th>\n      <td>Various Artists</td>\n      <td>Mess</td>\n      <td>NaN</td>\n      <td>Music For Undays</td>\n      <td>2014-02-24</td>\n      <td>[]</td>\n      <td>188895.0</td>\n      <td>15.0</td>\n      <td>0.679</td>\n      <td>0.296</td>\n      <td>8.0</td>\n      <td>-9.768</td>\n      <td>1.0</td>\n      <td>0.0356</td>\n      <td>0.7380</td>\n      <td>0.000521</td>\n      <td>0.1120</td>\n      <td>0.1410</td>\n      <td>128.098</td>\n      <td>4.0</td>\n    </tr>\n  </tbody>\n</table>\n<p>17317 rows × 20 columns</p>\n</div>"
     },
     "metadata": {},
     "execution_count": 3
    }
   ],
   "source": [
    "failed"
   ]
  },
  {
   "cell_type": "code",
   "execution_count": 4,
   "metadata": {},
   "outputs": [],
   "source": [
    "def ngrams(string, n=3):\n",
    "    string = re.sub(r'[,-./]|\\sBD',r'', string)\n",
    "    ngrams = zip(*[string[i:] for i in range(n)])\n",
    "    return [''.join(ngram) for ngram in ngrams]\n"
   ]
  },
  {
   "cell_type": "code",
   "execution_count": 5,
   "metadata": {},
   "outputs": [],
   "source": [
    "tracks = failed['track']\n",
    "vectorizer = TfidfVectorizer(min_df=1, analyzer=ngrams)\n",
    "tf_idf_matrix = vectorizer.fit_transform(tracks)"
   ]
  },
  {
   "cell_type": "code",
   "execution_count": 6,
   "metadata": {},
   "outputs": [],
   "source": [
    "def awesome_cossim_top(A, B, ntop, lower_bound=0):\n",
    "    # force A and B as a CSR matrix.\n",
    "    # If they have already been CSR, there is no overhead\n",
    "    A = A.tocsr()\n",
    "    B = B.tocsr()\n",
    "    M, _ = A.shape\n",
    "    _, N = B.shape\n",
    " \n",
    "    idx_dtype = np.int32\n",
    " \n",
    "    nnz_max = M*ntop\n",
    " \n",
    "    indptr = np.zeros(M+1, dtype=idx_dtype)\n",
    "    indices = np.zeros(nnz_max, dtype=idx_dtype)\n",
    "    data = np.zeros(nnz_max, dtype=A.dtype)\n",
    "\n",
    "    ct.sparse_dot_topn(\n",
    "        M, N, np.asarray(A.indptr, dtype=idx_dtype),\n",
    "        np.asarray(A.indices, dtype=idx_dtype),\n",
    "        A.data,\n",
    "        np.asarray(B.indptr, dtype=idx_dtype),\n",
    "        np.asarray(B.indices, dtype=idx_dtype),\n",
    "        B.data,\n",
    "        ntop,\n",
    "        lower_bound,\n",
    "        indptr, indices, data)\n",
    "\n",
    "    return csr_matrix((data,indices,indptr),shape=(M,N))\n"
   ]
  },
  {
   "cell_type": "code",
   "execution_count": 7,
   "metadata": {
    "tags": []
   },
   "outputs": [
    {
     "output_type": "stream",
     "name": "stdout",
     "text": "SELFTIMED: 0.5143001079559326\n"
    }
   ],
   "source": [
    "import time\n",
    "t1 = time.time()\n",
    "matches = awesome_cossim_top(tf_idf_matrix, tf_idf_matrix.transpose(), 10, 0.8)\n",
    "t = time.time()-t1\n",
    "print(\"SELFTIMED:\", t)"
   ]
  },
  {
   "cell_type": "code",
   "execution_count": 8,
   "metadata": {},
   "outputs": [],
   "source": [
    "def get_matches_df(sparse_matrix, name_vector, top=100):\n",
    "    non_zeros = sparse_matrix.nonzero()\n",
    "    \n",
    "    sparserows = non_zeros[0]\n",
    "    sparsecols = non_zeros[1]\n",
    "    \n",
    "    if top:\n",
    "        nr_matches = top\n",
    "    else:\n",
    "        nr_matches = sparsecols.size\n",
    "    \n",
    "    left_side = np.empty([nr_matches], dtype=object)\n",
    "    right_side = np.empty([nr_matches], dtype=object)\n",
    "    similairity = np.zeros(nr_matches)\n",
    "    \n",
    "    for index in range(0, nr_matches):\n",
    "        left_side[index] = name_vector[sparserows[index]]\n",
    "        right_side[index] = name_vector[sparsecols[index]]\n",
    "        similairity[index] = sparse_matrix.data[index]\n",
    "    \n",
    "    return pd.DataFrame({'left_side': left_side,\n",
    "                          'right_side': right_side,\n",
    "                           'similarity': similairity})\n",
    "        "
   ]
  },
  {
   "cell_type": "code",
   "execution_count": 9,
   "metadata": {},
   "outputs": [],
   "source": [
    "matches_df = get_matches_df(matches, tracks, top=100000)\n",
    "# matches_df = matches_df[matches_df['similarity'] < 0.99999] # Remove all exact matches"
   ]
  },
  {
   "cell_type": "code",
   "execution_count": 10,
   "metadata": {},
   "outputs": [],
   "source": [
    "matches_df.sort_values(by='similarity', ascending=False).to_csv('bergvca Matches.csv', index=False)"
   ]
  },
  {
   "cell_type": "code",
   "execution_count": null,
   "metadata": {},
   "outputs": [],
   "source": []
  }
 ]
}