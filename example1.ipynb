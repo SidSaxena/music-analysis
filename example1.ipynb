{
 "metadata": {
  "language_info": {
   "codemirror_mode": {
    "name": "ipython",
    "version": 3
   },
   "file_extension": ".py",
   "mimetype": "text/x-python",
   "name": "python",
   "nbconvert_exporter": "python",
   "pygments_lexer": "ipython3",
   "version": 3
  },
  "orig_nbformat": 2,
  "kernelspec": {
   "name": "python_defaultSpec_1596277474396",
   "display_name": "Python 3.8.2 64-bit"
  }
 },
 "nbformat": 4,
 "nbformat_minor": 2,
 "cells": [
  {
   "cell_type": "markdown",
   "metadata": {},
   "source": [
    "Example 1: Login via Client Credentials (ID and Secret) and fetching albums and top songs of an artist."
   ]
  },
  {
   "cell_type": "code",
   "execution_count": 2,
   "metadata": {},
   "outputs": [],
   "source": [
    "import spotipy"
   ]
  },
  {
   "cell_type": "code",
   "execution_count": 3,
   "metadata": {},
   "outputs": [],
   "source": [
    "class style:\n",
    "   BOLD = '\\033[1m'\n",
    "   END = '\\033[0m'"
   ]
  },
  {
   "cell_type": "code",
   "execution_count": 5,
   "metadata": {},
   "outputs": [],
   "source": [
    "import os"
   ]
  },
  {
   "cell_type": "code",
   "execution_count": 6,
   "metadata": {},
   "outputs": [],
   "source": [
    "from decouple import config"
   ]
  },
  {
   "cell_type": "code",
   "execution_count": 7,
   "metadata": {},
   "outputs": [],
   "source": [
    "from spotipy.oauth2 import SpotifyClientCredentials"
   ]
  },
  {
   "cell_type": "code",
   "execution_count": 8,
   "metadata": {},
   "outputs": [],
   "source": [
    "mayeruri = '0hEurMDQu99nJRq8pTxO14'"
   ]
  },
  {
   "cell_type": "code",
   "execution_count": 9,
   "metadata": {},
   "outputs": [],
   "source": [
    "spotify = spotipy.Spotify(client_credentials_manager=SpotifyClientCredentials(client_id = config('SPOTIPY_CLIENT_ID'), client_secret = config('SPOTIPY_CLIENT_SECRET')))"
   ]
  },
  {
   "cell_type": "code",
   "execution_count": 10,
   "metadata": {},
   "outputs": [],
   "source": [
    "results = spotify.artist_albums(mayeruri, album_type='album')"
   ]
  },
  {
   "cell_type": "code",
   "execution_count": 11,
   "metadata": {},
   "outputs": [],
   "source": [
    "albums = results['items']"
   ]
  },
  {
   "cell_type": "code",
   "execution_count": 12,
   "metadata": {},
   "outputs": [],
   "source": [
    "results1 = spotify.artist_albums(mayeruri, album_type='single')"
   ]
  },
  {
   "cell_type": "code",
   "execution_count": 13,
   "metadata": {},
   "outputs": [],
   "source": [
    "singles = results1['items']"
   ]
  },
  {
   "cell_type": "code",
   "execution_count": 14,
   "metadata": {},
   "outputs": [],
   "source": [
    "while results['next']:\n",
    "    results = spotify.next(results)\n",
    "    albums.extend(results['items'])"
   ]
  },
  {
   "cell_type": "code",
   "execution_count": 15,
   "metadata": {},
   "outputs": [],
   "source": [
    "while results1['next']:\n",
    "    results1 = spotify.next(results1)\n",
    "    singles.extend(results1['items'])"
   ]
  },
  {
   "cell_type": "code",
   "execution_count": 16,
   "metadata": {
    "tags": []
   },
   "outputs": [
    {
     "output_type": "stream",
     "name": "stdout",
     "text": "\u001b[1mJohn Mayer Albums according to Release Date: \u001b[0m\nThe Search for Everything: \n2017\nParadise Valley: \n2013\nBorn and Raised: \n2012\nBattle Studies: \n2009\nWhere the Light Is: John Mayer Live In Los Angeles: \n2008\nContinuum: \n2006\nAs/Is: \n2004\nAs/Is: Cleveland/Cincinnati, OH - 8/03-8/04/04: \n2004\nAs/Is: Houston, TX - 7/24/04: \n2004\nAs/Is: Philadelphia, PA/Hartford, CT - 8/14-8/15/04: \n2004\nAs/Is: Houston, TX - 7/24/04: \n2004\nAs/Is: Mountain View, CA - 7/16/04: \n2004\nHeavier Things: \n2003\nAny Given Thursday: \n2003\nAny Given Thursday: \n2003\nRoom For Squares: \n2001\nInside Wants Out: \n1999\n\u001b[1mJohn Mayer Singles according to Release Date: \u001b[0m\nInside Friend (feat. John Mayer): \n2020\nCarry Me Away: \n2019\nI Guess I Just Feel Like: \n2019\nNew Light (Zookëper Remix): \n2018\nNew Light: \n2018\nNew Light: \n2018\nThe Search for Everything - Wave Two: \n2017\nThe Search for Everything - Wave One: \n2017\nLove on the Weekend: \n2016\nXO: \n2014\nShadow Days: \n2012\nThe Village Sessions: \n2006\nSay: \n2006\nDaughters: \n2004\nNo Such Thing: \n2002\nBigger Than My Body: \n2001\n"
    }
   ],
   "source": [
    "print (style.BOLD + 'John Mayer Albums according to Release Date: '+ style.END )\n",
    "for album in albums:\n",
    "    print(album['name'] + ': ')\n",
    "    print(album['release_date'].split('-')[0])\n",
    "\n",
    "print (style.BOLD + 'John Mayer Singles according to Release Date: '+ style.END )\n",
    "for single in singles:\n",
    "    print(single['name'] + ': ')\n",
    "    print(single['release_date'].split('-')[0])"
   ]
  },
  {
   "cell_type": "code",
   "execution_count": 17,
   "metadata": {},
   "outputs": [],
   "source": [
    "results = spotify.artist_top_tracks(mayeruri)\n",
    "tracks = results['tracks']"
   ]
  },
  {
   "cell_type": "code",
   "execution_count": 18,
   "metadata": {
    "tags": []
   },
   "outputs": [
    {
     "output_type": "stream",
     "name": "stdout",
     "text": "New Light\nYour Body Is a Wonderland\nSlow Dancing in a Burning Room\nFree Fallin' - Live at the Nokia Theatre, Los Angeles, CA - December 2007\nWaiting On the World to Change\nGravity\nXO\nI Guess I Just Feel Like\nCarry Me Away\nInside Friend (feat. John Mayer)\n"
    }
   ],
   "source": [
    "for track in results['tracks']:\n",
    "    print(track['name'])"
   ]
  },
  {
   "cell_type": "code",
   "execution_count": 21,
   "metadata": {},
   "outputs": [],
   "source": [
    "name = input('Enter name:')"
   ]
  },
  {
   "cell_type": "code",
   "execution_count": 23,
   "metadata": {},
   "outputs": [],
   "source": [
    "results = spotify.search(q='artist:' + name, type='artist')"
   ]
  },
  {
   "cell_type": "code",
   "execution_count": 28,
   "metadata": {},
   "outputs": [],
   "source": [
    "items = results['artists']['items']"
   ]
  },
  {
   "cell_type": "code",
   "execution_count": 29,
   "metadata": {
    "tags": []
   },
   "outputs": [
    {
     "output_type": "stream",
     "name": "stdout",
     "text": "Alvvays:3kzwYV3OCB010YfXMF0Avt\n"
    }
   ],
   "source": [
    "if len(items) > 0:\n",
    "    artist = items[0]\n",
    "    print(artist['name'] + ':' + artist['id'])"
   ]
  }
 ]
}