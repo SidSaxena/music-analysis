{
 "metadata": {
  "language_info": {
   "codemirror_mode": {
    "name": "ipython",
    "version": 3
   },
   "file_extension": ".py",
   "mimetype": "text/x-python",
   "name": "python",
   "nbconvert_exporter": "python",
   "pygments_lexer": "ipython3",
   "version": "3.8.2-final"
  },
  "orig_nbformat": 2,
  "kernelspec": {
   "name": "python_defaultSpec_1596811784514",
   "display_name": "Python 3.8.2 64-bit"
  }
 },
 "nbformat": 4,
 "nbformat_minor": 2,
 "cells": [
  {
   "cell_type": "code",
   "execution_count": 46,
   "metadata": {},
   "outputs": [],
   "source": [
    "# spotipy modules\n",
    "import spotipy\n",
    "import spotipy.util as util\n",
    "from spotipy.oauth2 import SpotifyClientCredentials"
   ]
  },
  {
   "cell_type": "code",
   "execution_count": 47,
   "metadata": {},
   "outputs": [],
   "source": [
    "# other libraries\n",
    "from decouple import config \n",
    "import time"
   ]
  },
  {
   "cell_type": "code",
   "execution_count": 48,
   "metadata": {},
   "outputs": [],
   "source": [
    "# visualisation libraries\n",
    "import pandas as pd\n",
    "import numpy as np \n",
    "import seaborn as sns\n",
    "import matplotlib.pyplot as plt\n",
    "%matplotlib inline"
   ]
  },
  {
   "cell_type": "code",
   "execution_count": 49,
   "metadata": {},
   "outputs": [],
   "source": [
    "# environment variables\n",
    "client_id = config('SPOTIPY_CLIENT_ID')\n",
    "client_secret = config('SPOTIPY_CLIENT_SECRET')\n",
    "redirect_uri = 'http://google.com/'"
   ]
  },
  {
   "cell_type": "code",
   "execution_count": 50,
   "metadata": {},
   "outputs": [],
   "source": [
    "# authorization\n",
    "client_credentials_manager = SpotifyClientCredentials(client_id=client_id, client_secret=client_secret)"
   ]
  },
  {
   "cell_type": "code",
   "execution_count": 51,
   "metadata": {},
   "outputs": [],
   "source": [
    "username = 'sidsaxena'"
   ]
  },
  {
   "cell_type": "code",
   "execution_count": 52,
   "metadata": {},
   "outputs": [],
   "source": [
    "scope = 'playlist-read-private user-library-read user-top-read user-read-recently-played user-follow-read user-read-currently-playing'"
   ]
  },
  {
   "cell_type": "code",
   "execution_count": 65,
   "metadata": {},
   "outputs": [],
   "source": [
    "try:\n",
    "    \n",
    "    token = util.prompt_for_user_token(username=username, scope=scope, client_id=client_id, client_secret= client_secret, redirect_uri=redirect_uri)\n",
    "    sp = spotipy.Spotify(auth=token)\n",
    "\n",
    "except:\n",
    "\n",
    "    print('Token not accessible for user: ', username)\n"
   ]
  },
  {
   "cell_type": "code",
   "execution_count": 54,
   "metadata": {},
   "outputs": [],
   "source": [
    "def getUserPlaylists(user):\n",
    "\n",
    "    name_list = []\n",
    "    id_list = []\n",
    "    creator_list = []\n",
    "\n",
    "    results = sp.user_playlists(user=username)\n",
    "    playlists = results['items']\n",
    "    while results['next']:\n",
    "        results = sp.next(results)\n",
    "        playlists.extend(results['items'])\n",
    "        for playlist, _ in enumerate(playlists):\n",
    "            name_list.append(playlists[playlist]['name'])\n",
    "            id_list.append(playlists[playlist]['id'])\n",
    "            creator_list.append(playlists[playlist]['owner']['id'])\n",
    "    \n",
    "    creator_id_tuple = tuple(zip(creator_list, id_list))\n",
    "\n",
    "    playlist_dict = dict(name = name_list, id = id_list, creator = creator_list)\n",
    "        \n",
    "    playlist_df = pd.DataFrame(playlist_dict)\n",
    "    multiple_playlist_dict = list(creator_id_tuple)\n",
    "    return playlist_df, multiple_playlist_dict"
   ]
  },
  {
   "cell_type": "code",
   "execution_count": 63,
   "metadata": {},
   "outputs": [],
   "source": [
    "def analysePlaylist(creator, playlist_id):\n",
    "\n",
    "    \"\"\"function to analyse all tracks in a playlist by its ID and create a dataframe with audio features\"\"\"\n",
    "    offset = 0\n",
    "\n",
    "    while True:\n",
    "        results = sp.user_playlist_tracks(creator, playlist_id, offset = offset)\n",
    "        \n",
    "        playlist = results['items']\n",
    "        playlist += playlist\n",
    "\n",
    "        playlist_features_list = [\"artist\",\"album\",\"track_name\",  \"track_id\",\"danceability\",\"energy\",\"key\",\"loudness\",\"mode\", \"speechiness\",\"instrumentalness\",\"liveness\",\"valence\",\"tempo\", \"duration_ms\",\"time_signature\"]\n",
    "\n",
    "        playlist_df = pd.DataFrame(columns = playlist_features_list)\n",
    "\n",
    "    for track in playlist:        \n",
    "        playlist_features = {}        \n",
    "        playlist_features[\"artist\"] = track[\"track\"][\"album\"][\"artists\"][0][\"name\"]\n",
    "        playlist_features[\"album\"] = track[\"track\"][\"album\"][\"name\"]\n",
    "        playlist_features[\"track_name\"] = track[\"track\"][\"name\"]\n",
    "        playlist_features[\"track_id\"] = track[\"track\"][\"id\"]\n",
    "\n",
    "        \n",
    "        audio_features = sp.audio_features(playlist_features[\"track_id\"])[0]\n",
    "        for feature in playlist_features_list[4:]:\n",
    "            playlist_features[feature] = audio_features[feature]\n",
    "        \n",
    "        track_df = pd.DataFrame(playlist_features, index = [0])\n",
    "        playlist_df = pd.concat([playlist_df, track_df], ignore_index=True)\n",
    "\n",
    "        if results['next'] is not None:\n",
    "            offset += 100\n",
    "        else:\n",
    "            break \n",
    "    return playlist_df"
   ]
  },
  {
   "cell_type": "code",
   "execution_count": 56,
   "metadata": {},
   "outputs": [],
   "source": [
    "def analysePlaylistsList(playlist_tuple_list):\n",
    "    \"\"\"function to analyse multiple playlists\"\"\"\n",
    "\n",
    "    for id, _ in enumerate(playlist_tuple_list):\n",
    "        playlist_df = analysePlaylist(playlist_tuple_list[id][0], playlist_tuple_list[id][1])\n",
    "\n",
    "        # playlist_df['playlist'] = PLAYLIST NAME\n",
    "\n",
    "        if id == 0:\n",
    "            playlist_tuple_df = playlist_df\n",
    "        else:\n",
    "            playlist_tuple_df = pd.concat([playlist_tuple_df, playlist_df], ignore_index=True)\n",
    "\n",
    "        return playlist_tuple_df"
   ]
  },
  {
   "cell_type": "code",
   "execution_count": 57,
   "metadata": {
    "tags": []
   },
   "outputs": [],
   "source": [
    "my_playlists_df, my_playlists_list = getUserPlaylists(username)"
   ]
  },
  {
   "cell_type": "code",
   "execution_count": 58,
   "metadata": {},
   "outputs": [],
   "source": [
    "three_playlists = my_playlists_list[0:3]"
   ]
  },
  {
   "cell_type": "code",
   "execution_count": 61,
   "metadata": {},
   "outputs": [
    {
     "output_type": "execute_result",
     "data": {
      "text/plain": "[('spotify', '37i9dQZF1E384xMRAb5F4k'),\n ('spotify', '37i9dQZF1E35mQrigIJBb9'),\n ('spotify', '37i9dQZF1E3a2onRCeigm3')]"
     },
     "metadata": {},
     "execution_count": 61
    }
   ],
   "source": [
    "three_playlists"
   ]
  },
  {
   "cell_type": "code",
   "execution_count": 59,
   "metadata": {},
   "outputs": [
    {
     "output_type": "execute_result",
     "data": {
      "text/plain": "          name                      id  creator\n0  Daily Mix 1  37i9dQZF1E384xMRAb5F4k  spotify\n1  Daily Mix 2  37i9dQZF1E35mQrigIJBb9  spotify\n2  Daily Mix 3  37i9dQZF1E3a2onRCeigm3  spotify\n3  Daily Mix 4  37i9dQZF1E37kKpoA0xZT0  spotify\n4  Daily Mix 5  37i9dQZF1E368h8CDEm5lY  spotify",
      "text/html": "<div>\n<style scoped>\n    .dataframe tbody tr th:only-of-type {\n        vertical-align: middle;\n    }\n\n    .dataframe tbody tr th {\n        vertical-align: top;\n    }\n\n    .dataframe thead th {\n        text-align: right;\n    }\n</style>\n<table border=\"1\" class=\"dataframe\">\n  <thead>\n    <tr style=\"text-align: right;\">\n      <th></th>\n      <th>name</th>\n      <th>id</th>\n      <th>creator</th>\n    </tr>\n  </thead>\n  <tbody>\n    <tr>\n      <th>0</th>\n      <td>Daily Mix 1</td>\n      <td>37i9dQZF1E384xMRAb5F4k</td>\n      <td>spotify</td>\n    </tr>\n    <tr>\n      <th>1</th>\n      <td>Daily Mix 2</td>\n      <td>37i9dQZF1E35mQrigIJBb9</td>\n      <td>spotify</td>\n    </tr>\n    <tr>\n      <th>2</th>\n      <td>Daily Mix 3</td>\n      <td>37i9dQZF1E3a2onRCeigm3</td>\n      <td>spotify</td>\n    </tr>\n    <tr>\n      <th>3</th>\n      <td>Daily Mix 4</td>\n      <td>37i9dQZF1E37kKpoA0xZT0</td>\n      <td>spotify</td>\n    </tr>\n    <tr>\n      <th>4</th>\n      <td>Daily Mix 5</td>\n      <td>37i9dQZF1E368h8CDEm5lY</td>\n      <td>spotify</td>\n    </tr>\n  </tbody>\n</table>\n</div>"
     },
     "metadata": {},
     "execution_count": 59
    }
   ],
   "source": [
    "my_playlists_df.head()"
   ]
  },
  {
   "cell_type": "code",
   "execution_count": 60,
   "metadata": {},
   "outputs": [
    {
     "output_type": "execute_result",
     "data": {
      "text/plain": "                                                  name  \\\n196  Replay Recommendations based on Top Tracks • A...   \n197  Replay Recommendations based on Top Artists • ...   \n198                               90s IndiePop (Hindi)   \n199                                          (Alvvays)   \n200                  Mallsoft & Shopping Mall Ambience   \n\n                         id                    creator  \n196  1Xg90sP3wjKQ6Han8V1t2i                  sidsaxena  \n197  0gtsnzYKQ1kU93irm6Lepm                  sidsaxena  \n198  1UsDxFhRXuy3pfRMAoqi1S  21dyhqmkurdn6longfv62uvbi  \n199  5NsCCKSRz97bP8OuQskPTg  auuwpwtrrnb9u4xz0sbca61i8  \n200  4im2nSUjjCdReLLDNwDQoC                      aofd3  ",
      "text/html": "<div>\n<style scoped>\n    .dataframe tbody tr th:only-of-type {\n        vertical-align: middle;\n    }\n\n    .dataframe tbody tr th {\n        vertical-align: top;\n    }\n\n    .dataframe thead th {\n        text-align: right;\n    }\n</style>\n<table border=\"1\" class=\"dataframe\">\n  <thead>\n    <tr style=\"text-align: right;\">\n      <th></th>\n      <th>name</th>\n      <th>id</th>\n      <th>creator</th>\n    </tr>\n  </thead>\n  <tbody>\n    <tr>\n      <th>196</th>\n      <td>Replay Recommendations based on Top Tracks • A...</td>\n      <td>1Xg90sP3wjKQ6Han8V1t2i</td>\n      <td>sidsaxena</td>\n    </tr>\n    <tr>\n      <th>197</th>\n      <td>Replay Recommendations based on Top Artists • ...</td>\n      <td>0gtsnzYKQ1kU93irm6Lepm</td>\n      <td>sidsaxena</td>\n    </tr>\n    <tr>\n      <th>198</th>\n      <td>90s IndiePop (Hindi)</td>\n      <td>1UsDxFhRXuy3pfRMAoqi1S</td>\n      <td>21dyhqmkurdn6longfv62uvbi</td>\n    </tr>\n    <tr>\n      <th>199</th>\n      <td>(Alvvays)</td>\n      <td>5NsCCKSRz97bP8OuQskPTg</td>\n      <td>auuwpwtrrnb9u4xz0sbca61i8</td>\n    </tr>\n    <tr>\n      <th>200</th>\n      <td>Mallsoft &amp; Shopping Mall Ambience</td>\n      <td>4im2nSUjjCdReLLDNwDQoC</td>\n      <td>aofd3</td>\n    </tr>\n  </tbody>\n</table>\n</div>"
     },
     "metadata": {},
     "execution_count": 60
    }
   ],
   "source": [
    "my_playlists_df.tail()"
   ]
  },
  {
   "cell_type": "code",
   "execution_count": 62,
   "metadata": {
    "tags": []
   },
   "outputs": [
    {
     "output_type": "error",
     "ename": "UnboundLocalError",
     "evalue": "local variable 'results' referenced before assignment",
     "traceback": [
      "\u001b[0;31m---------------------------------------------------------------------------\u001b[0m",
      "\u001b[0;31mUnboundLocalError\u001b[0m                         Traceback (most recent call last)",
      "\u001b[0;32m<ipython-input-62-f0a047aa0df6>\u001b[0m in \u001b[0;36m<module>\u001b[0;34m\u001b[0m\n\u001b[0;32m----> 1\u001b[0;31m \u001b[0mmultiple_playlists_df\u001b[0m \u001b[0;34m=\u001b[0m \u001b[0manalysePlaylistsList\u001b[0m\u001b[0;34m(\u001b[0m\u001b[0mthree_playlists\u001b[0m\u001b[0;34m)\u001b[0m\u001b[0;34m\u001b[0m\u001b[0;34m\u001b[0m\u001b[0m\n\u001b[0m",
      "\u001b[0;32m<ipython-input-56-af770b015b1d>\u001b[0m in \u001b[0;36manalysePlaylistsList\u001b[0;34m(playlist_tuple_list)\u001b[0m\n\u001b[1;32m      3\u001b[0m \u001b[0;34m\u001b[0m\u001b[0m\n\u001b[1;32m      4\u001b[0m     \u001b[0;32mfor\u001b[0m \u001b[0mid\u001b[0m\u001b[0;34m,\u001b[0m \u001b[0m_\u001b[0m \u001b[0;32min\u001b[0m \u001b[0menumerate\u001b[0m\u001b[0;34m(\u001b[0m\u001b[0mplaylist_tuple_list\u001b[0m\u001b[0;34m)\u001b[0m\u001b[0;34m:\u001b[0m\u001b[0;34m\u001b[0m\u001b[0;34m\u001b[0m\u001b[0m\n\u001b[0;32m----> 5\u001b[0;31m         \u001b[0mplaylist_df\u001b[0m \u001b[0;34m=\u001b[0m \u001b[0manalysePlaylist\u001b[0m\u001b[0;34m(\u001b[0m\u001b[0mplaylist_tuple_list\u001b[0m\u001b[0;34m[\u001b[0m\u001b[0mid\u001b[0m\u001b[0;34m]\u001b[0m\u001b[0;34m[\u001b[0m\u001b[0;36m0\u001b[0m\u001b[0;34m]\u001b[0m\u001b[0;34m,\u001b[0m \u001b[0mplaylist_tuple_list\u001b[0m\u001b[0;34m[\u001b[0m\u001b[0mid\u001b[0m\u001b[0;34m]\u001b[0m\u001b[0;34m[\u001b[0m\u001b[0;36m1\u001b[0m\u001b[0;34m]\u001b[0m\u001b[0;34m)\u001b[0m\u001b[0;34m\u001b[0m\u001b[0;34m\u001b[0m\u001b[0m\n\u001b[0m\u001b[1;32m      6\u001b[0m \u001b[0;34m\u001b[0m\u001b[0m\n\u001b[1;32m      7\u001b[0m         \u001b[0;31m# playlist_df['playlist'] = PLAYLIST NAME\u001b[0m\u001b[0;34m\u001b[0m\u001b[0;34m\u001b[0m\u001b[0;34m\u001b[0m\u001b[0m\n",
      "\u001b[0;32m<ipython-input-55-003585d28f8a>\u001b[0m in \u001b[0;36manalysePlaylist\u001b[0;34m(creator, playlist_id)\u001b[0m\n\u001b[1;32m      3\u001b[0m     \u001b[0;34m\"\"\"function to analyse all tracks in a playlist by its ID and create a dataframe with audio features\"\"\"\u001b[0m\u001b[0;34m\u001b[0m\u001b[0;34m\u001b[0m\u001b[0m\n\u001b[1;32m      4\u001b[0m \u001b[0;34m\u001b[0m\u001b[0m\n\u001b[0;32m----> 5\u001b[0;31m     \u001b[0mplaylist\u001b[0m \u001b[0;34m=\u001b[0m \u001b[0mresults\u001b[0m\u001b[0;34m[\u001b[0m\u001b[0;34m'items'\u001b[0m\u001b[0;34m]\u001b[0m\u001b[0;34m\u001b[0m\u001b[0;34m\u001b[0m\u001b[0m\n\u001b[0m\u001b[1;32m      6\u001b[0m \u001b[0;34m\u001b[0m\u001b[0m\n\u001b[1;32m      7\u001b[0m     \u001b[0moffset\u001b[0m \u001b[0;34m=\u001b[0m \u001b[0;36m0\u001b[0m\u001b[0;34m\u001b[0m\u001b[0;34m\u001b[0m\u001b[0m\n",
      "\u001b[0;31mUnboundLocalError\u001b[0m: local variable 'results' referenced before assignment"
     ]
    }
   ],
   "source": [
    "multiple_playlists_df = analysePlaylistsList(three_playlists)"
   ]
  },
  {
   "cell_type": "code",
   "execution_count": 66,
   "metadata": {
    "tags": []
   },
   "outputs": [],
   "source": [
    "test_df = analysePlaylist('sidsaxena', '6Tz22UKQCnp4rqu6dNzVm0')"
   ]
  },
  {
   "cell_type": "code",
   "execution_count": 67,
   "metadata": {},
   "outputs": [
    {
     "output_type": "execute_result",
     "data": {
      "text/plain": "             artist                         album  \\\n0   Benjamin Monday      The Secretary's Daughter   \n1     Steven Wilson            Grace for Drowning   \n2      Calum Graham                   Tabula Rasa   \n3     Steven Wilson   Insurgentes (2016 Remaster)   \n4            Aeuria                    Collection   \n..              ...                           ...   \n95            Shook                  Bicycle Ride   \n96  The Paper Kites  On the Corner Where You Live   \n97        Wave Mage            Breaking the Dream   \n98      The Lock-In                   The Lock-In   \n99              JBM                Suite Gasolera   \n\n                               track_name                track_id  \\\n0                       Smoke And Mirrors  2kEd3nFuHAbSLnwfwyi5fW   \n1                           Belle De Jour  3gZLvp9VKl0S96S2Rv81xk   \n2        Farewell (feat. Michael Manring)  2wxkIxCjB5047xUG5njMQ2   \n3                           Twilight Coda  5wADBzuyR8NCzmxJWSS7pL   \n4                         Norah's Lullaby  07QIkvSRo4ddFlmxniaZsi   \n..                                    ...                     ...   \n95                           Bicycle Ride  4GkYqdnsWmNPPetlxbhnZ0   \n96                    A Gathering on 57th  1cnpE2o3QZSpg6Ma0Sr0cJ   \n97  Breaking the Dream (Lucid Dream Edit)  5Z25dBtcA49xWuaXrfaYnH   \n98                              Locked In  30ps6ex21uHnrsnWxXPChA   \n99                      Opus 15 'Escolar'  49qgmADQt9dHvMmgSo76du   \n\n    danceability  energy key  loudness mode  speechiness  instrumentalness  \\\n0          0.613  0.0197   9   -12.190    0       0.1330             0.968   \n1          0.362  0.0911   7   -21.017    1       0.0373             0.817   \n2          0.266  0.2330   2   -18.995    1       0.0310             0.957   \n3          0.375  0.1760   5   -20.460    0       0.0321             0.899   \n4          0.274  0.1850  11   -19.736    0       0.0362             0.928   \n..           ...     ...  ..       ...  ...          ...               ...   \n95         0.750  0.3940   9   -12.712    0       0.0348             0.912   \n96         0.520  0.1290   0   -15.577    1       0.0356             0.919   \n97         0.454  0.1780   7   -18.003    1       0.0274             0.324   \n98         0.569  0.6110   7   -10.910    0       0.0611             0.881   \n99         0.684  0.0309   9   -19.815    1       0.0661             0.869   \n\n    liveness  valence    tempo duration_ms time_signature  \n0     0.1180   0.4030   71.491      144627              5  \n1     0.1210   0.0353  183.392      179427              4  \n2     0.1100   0.0819   88.433      272648              4  \n3     0.0773   0.0320   89.965      204917              4  \n4     0.1050   0.0720  113.893      191634              3  \n..       ...      ...      ...         ...            ...  \n95    0.1860   0.5930   89.965      243120              4  \n96    0.3710   0.5100   74.227       90973              3  \n97    0.1320   0.1260   90.018      256792              4  \n98    0.1270   0.6970  193.997      920102              4  \n99    0.3260   0.2240  101.493      170893              4  \n\n[100 rows x 16 columns]",
      "text/html": "<div>\n<style scoped>\n    .dataframe tbody tr th:only-of-type {\n        vertical-align: middle;\n    }\n\n    .dataframe tbody tr th {\n        vertical-align: top;\n    }\n\n    .dataframe thead th {\n        text-align: right;\n    }\n</style>\n<table border=\"1\" class=\"dataframe\">\n  <thead>\n    <tr style=\"text-align: right;\">\n      <th></th>\n      <th>artist</th>\n      <th>album</th>\n      <th>track_name</th>\n      <th>track_id</th>\n      <th>danceability</th>\n      <th>energy</th>\n      <th>key</th>\n      <th>loudness</th>\n      <th>mode</th>\n      <th>speechiness</th>\n      <th>instrumentalness</th>\n      <th>liveness</th>\n      <th>valence</th>\n      <th>tempo</th>\n      <th>duration_ms</th>\n      <th>time_signature</th>\n    </tr>\n  </thead>\n  <tbody>\n    <tr>\n      <th>0</th>\n      <td>Benjamin Monday</td>\n      <td>The Secretary's Daughter</td>\n      <td>Smoke And Mirrors</td>\n      <td>2kEd3nFuHAbSLnwfwyi5fW</td>\n      <td>0.613</td>\n      <td>0.0197</td>\n      <td>9</td>\n      <td>-12.190</td>\n      <td>0</td>\n      <td>0.1330</td>\n      <td>0.968</td>\n      <td>0.1180</td>\n      <td>0.4030</td>\n      <td>71.491</td>\n      <td>144627</td>\n      <td>5</td>\n    </tr>\n    <tr>\n      <th>1</th>\n      <td>Steven Wilson</td>\n      <td>Grace for Drowning</td>\n      <td>Belle De Jour</td>\n      <td>3gZLvp9VKl0S96S2Rv81xk</td>\n      <td>0.362</td>\n      <td>0.0911</td>\n      <td>7</td>\n      <td>-21.017</td>\n      <td>1</td>\n      <td>0.0373</td>\n      <td>0.817</td>\n      <td>0.1210</td>\n      <td>0.0353</td>\n      <td>183.392</td>\n      <td>179427</td>\n      <td>4</td>\n    </tr>\n    <tr>\n      <th>2</th>\n      <td>Calum Graham</td>\n      <td>Tabula Rasa</td>\n      <td>Farewell (feat. Michael Manring)</td>\n      <td>2wxkIxCjB5047xUG5njMQ2</td>\n      <td>0.266</td>\n      <td>0.2330</td>\n      <td>2</td>\n      <td>-18.995</td>\n      <td>1</td>\n      <td>0.0310</td>\n      <td>0.957</td>\n      <td>0.1100</td>\n      <td>0.0819</td>\n      <td>88.433</td>\n      <td>272648</td>\n      <td>4</td>\n    </tr>\n    <tr>\n      <th>3</th>\n      <td>Steven Wilson</td>\n      <td>Insurgentes (2016 Remaster)</td>\n      <td>Twilight Coda</td>\n      <td>5wADBzuyR8NCzmxJWSS7pL</td>\n      <td>0.375</td>\n      <td>0.1760</td>\n      <td>5</td>\n      <td>-20.460</td>\n      <td>0</td>\n      <td>0.0321</td>\n      <td>0.899</td>\n      <td>0.0773</td>\n      <td>0.0320</td>\n      <td>89.965</td>\n      <td>204917</td>\n      <td>4</td>\n    </tr>\n    <tr>\n      <th>4</th>\n      <td>Aeuria</td>\n      <td>Collection</td>\n      <td>Norah's Lullaby</td>\n      <td>07QIkvSRo4ddFlmxniaZsi</td>\n      <td>0.274</td>\n      <td>0.1850</td>\n      <td>11</td>\n      <td>-19.736</td>\n      <td>0</td>\n      <td>0.0362</td>\n      <td>0.928</td>\n      <td>0.1050</td>\n      <td>0.0720</td>\n      <td>113.893</td>\n      <td>191634</td>\n      <td>3</td>\n    </tr>\n    <tr>\n      <th>...</th>\n      <td>...</td>\n      <td>...</td>\n      <td>...</td>\n      <td>...</td>\n      <td>...</td>\n      <td>...</td>\n      <td>...</td>\n      <td>...</td>\n      <td>...</td>\n      <td>...</td>\n      <td>...</td>\n      <td>...</td>\n      <td>...</td>\n      <td>...</td>\n      <td>...</td>\n      <td>...</td>\n    </tr>\n    <tr>\n      <th>95</th>\n      <td>Shook</td>\n      <td>Bicycle Ride</td>\n      <td>Bicycle Ride</td>\n      <td>4GkYqdnsWmNPPetlxbhnZ0</td>\n      <td>0.750</td>\n      <td>0.3940</td>\n      <td>9</td>\n      <td>-12.712</td>\n      <td>0</td>\n      <td>0.0348</td>\n      <td>0.912</td>\n      <td>0.1860</td>\n      <td>0.5930</td>\n      <td>89.965</td>\n      <td>243120</td>\n      <td>4</td>\n    </tr>\n    <tr>\n      <th>96</th>\n      <td>The Paper Kites</td>\n      <td>On the Corner Where You Live</td>\n      <td>A Gathering on 57th</td>\n      <td>1cnpE2o3QZSpg6Ma0Sr0cJ</td>\n      <td>0.520</td>\n      <td>0.1290</td>\n      <td>0</td>\n      <td>-15.577</td>\n      <td>1</td>\n      <td>0.0356</td>\n      <td>0.919</td>\n      <td>0.3710</td>\n      <td>0.5100</td>\n      <td>74.227</td>\n      <td>90973</td>\n      <td>3</td>\n    </tr>\n    <tr>\n      <th>97</th>\n      <td>Wave Mage</td>\n      <td>Breaking the Dream</td>\n      <td>Breaking the Dream (Lucid Dream Edit)</td>\n      <td>5Z25dBtcA49xWuaXrfaYnH</td>\n      <td>0.454</td>\n      <td>0.1780</td>\n      <td>7</td>\n      <td>-18.003</td>\n      <td>1</td>\n      <td>0.0274</td>\n      <td>0.324</td>\n      <td>0.1320</td>\n      <td>0.1260</td>\n      <td>90.018</td>\n      <td>256792</td>\n      <td>4</td>\n    </tr>\n    <tr>\n      <th>98</th>\n      <td>The Lock-In</td>\n      <td>The Lock-In</td>\n      <td>Locked In</td>\n      <td>30ps6ex21uHnrsnWxXPChA</td>\n      <td>0.569</td>\n      <td>0.6110</td>\n      <td>7</td>\n      <td>-10.910</td>\n      <td>0</td>\n      <td>0.0611</td>\n      <td>0.881</td>\n      <td>0.1270</td>\n      <td>0.6970</td>\n      <td>193.997</td>\n      <td>920102</td>\n      <td>4</td>\n    </tr>\n    <tr>\n      <th>99</th>\n      <td>JBM</td>\n      <td>Suite Gasolera</td>\n      <td>Opus 15 'Escolar'</td>\n      <td>49qgmADQt9dHvMmgSo76du</td>\n      <td>0.684</td>\n      <td>0.0309</td>\n      <td>9</td>\n      <td>-19.815</td>\n      <td>1</td>\n      <td>0.0661</td>\n      <td>0.869</td>\n      <td>0.3260</td>\n      <td>0.2240</td>\n      <td>101.493</td>\n      <td>170893</td>\n      <td>4</td>\n    </tr>\n  </tbody>\n</table>\n<p>100 rows × 16 columns</p>\n</div>"
     },
     "metadata": {},
     "execution_count": 67
    }
   ],
   "source": [
    "test_df"
   ]
  },
  {
   "cell_type": "code",
   "execution_count": null,
   "metadata": {},
   "outputs": [],
   "source": []
  }
 ]
}