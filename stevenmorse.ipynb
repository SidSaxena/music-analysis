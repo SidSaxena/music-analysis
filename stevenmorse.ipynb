{
 "metadata": {
  "language_info": {
   "codemirror_mode": {
    "name": "ipython",
    "version": 3
   },
   "file_extension": ".py",
   "mimetype": "text/x-python",
   "name": "python",
   "nbconvert_exporter": "python",
   "pygments_lexer": "ipython3",
   "version": "3.8.2-final"
  },
  "orig_nbformat": 2,
  "kernelspec": {
   "name": "python38264bitbf0b7ef9fc924619ab877e804e46f0ca",
   "display_name": "Python 3.8.2 64-bit"
  }
 },
 "nbformat": 4,
 "nbformat_minor": 2,
 "cells": [
  {
   "cell_type": "code",
   "execution_count": 84,
   "metadata": {},
   "outputs": [],
   "source": [
    "import requests"
   ]
  },
  {
   "cell_type": "code",
   "execution_count": 85,
   "metadata": {},
   "outputs": [],
   "source": [
    "from decouple import config"
   ]
  },
  {
   "cell_type": "code",
   "execution_count": 86,
   "metadata": {},
   "outputs": [],
   "source": [
    "client_id = config('SPOTIPY_CLIENT_ID')\n",
    "client_secret = config('SPOTIPY_CLIENT_SECRET')"
   ]
  },
  {
   "cell_type": "code",
   "execution_count": 87,
   "metadata": {},
   "outputs": [],
   "source": [
    "AUTH_URL = 'https://accounts.spotify.com/api/token'"
   ]
  },
  {
   "cell_type": "code",
   "execution_count": 88,
   "metadata": {},
   "outputs": [],
   "source": [
    "#POST\n",
    "auth_response = requests.post(AUTH_URL, {\n",
    "    'grant_type': 'client_credentials',\n",
    "    'client_id': client_id,\n",
    "    'client_secret': client_secret\n",
    "})"
   ]
  },
  {
   "cell_type": "code",
   "execution_count": 89,
   "metadata": {},
   "outputs": [],
   "source": [
    "auth_response_data = auth_response.json()"
   ]
  },
  {
   "cell_type": "code",
   "execution_count": 90,
   "metadata": {},
   "outputs": [],
   "source": [
    "access_token = auth_response_data['access_token']"
   ]
  },
  {
   "cell_type": "code",
   "execution_count": 91,
   "metadata": {},
   "outputs": [],
   "source": [
    "headers = {\n",
    "    'Authorization': f'Bearer {access_token}'\n",
    "}"
   ]
  },
  {
   "cell_type": "code",
   "execution_count": 92,
   "metadata": {},
   "outputs": [],
   "source": [
    "BASE_URL = 'https://api.spotify.com/v1/'"
   ]
  },
  {
   "cell_type": "code",
   "execution_count": 93,
   "metadata": {},
   "outputs": [],
   "source": [
    "track_id = '4qCfbDTCrFnfG5fYngu2wE'"
   ]
  },
  {
   "cell_type": "code",
   "execution_count": 94,
   "metadata": {},
   "outputs": [],
   "source": [
    "r = requests.get(BASE_URL + 'audio-features/' + track_id, headers=headers)"
   ]
  },
  {
   "cell_type": "code",
   "execution_count": 95,
   "metadata": {},
   "outputs": [],
   "source": [
    "r = r.json()"
   ]
  },
  {
   "cell_type": "code",
   "execution_count": 96,
   "metadata": {},
   "outputs": [
    {
     "output_type": "execute_result",
     "data": {
      "text/plain": "{'danceability': 0.69,\n 'energy': 0.721,\n 'key': 4,\n 'loudness': -8.437,\n 'mode': 1,\n 'speechiness': 0.0323,\n 'acousticness': 0.32,\n 'instrumentalness': 0.649,\n 'liveness': 0.125,\n 'valence': 0.357,\n 'tempo': 104.027,\n 'type': 'audio_features',\n 'id': '4qCfbDTCrFnfG5fYngu2wE',\n 'uri': 'spotify:track:4qCfbDTCrFnfG5fYngu2wE',\n 'track_href': 'https://api.spotify.com/v1/tracks/4qCfbDTCrFnfG5fYngu2wE',\n 'analysis_url': 'https://api.spotify.com/v1/audio-analysis/4qCfbDTCrFnfG5fYngu2wE',\n 'duration_ms': 268120,\n 'time_signature': 4}"
     },
     "metadata": {},
     "execution_count": 96
    }
   ],
   "source": [
    "r"
   ]
  },
  {
   "cell_type": "code",
   "execution_count": 97,
   "metadata": {},
   "outputs": [],
   "source": [
    "radiohead_uri = '4Z8W4fKeB5YxbusRsdQVPb'"
   ]
  },
  {
   "cell_type": "code",
   "execution_count": 98,
   "metadata": {},
   "outputs": [],
   "source": [
    "r = requests.get(BASE_URL + 'artists/' + radiohead_uri + '/albums', headers=headers, params={'include_groups': 'album', 'limit': 50})\n",
    "d = r.json()"
   ]
  },
  {
   "cell_type": "code",
   "execution_count": 99,
   "metadata": {
    "tags": []
   },
   "outputs": [
    {
     "output_type": "stream",
     "name": "stdout",
     "text": "OK Computer OKNOTOK 1997 2017 --- 2017-06-23\nA Moon Shaped Pool --- 2016-05-08\nTKOL RMX 1234567 --- 2011-10-10\nThe King Of Limbs --- 2011-02-18\nIn Rainbows --- 2007-12-28\nIn Rainbows (Disk 2) --- 2007-12-03\nHail To the Thief --- 2003\nAmnesiac --- 2001-03-12\nI Might Be Wrong --- 2001\nKid A --- 2000-10-01\nOK Computer --- 1997-05-28\nThe Bends --- 1995-03-28\nPablo Honey --- 1993-02-22\n"
    }
   ],
   "source": [
    "for album in d['items']:\n",
    "    print(album['name'], '---', album['release_date'])"
   ]
  },
  {
   "cell_type": "code",
   "execution_count": 100,
   "metadata": {
    "tags": []
   },
   "outputs": [],
   "source": [
    "data = [] # will hold track info\n",
    "albums = [] # to keep track of duplicates\n",
    "\n",
    "#loop over albums and get all tracks\n",
    "for album in d['items']:\n",
    "    album_name = album['name']\n",
    "\n",
    "    trim_name = album_name.split('(')[0].strip()\n",
    "    if trim_name.upper() in albums or int(album['release_date'][:4]) > 1983:\n",
    "        continue\n",
    "    albums.append(trim_name.upper()) # use upper() to standardize\n",
    "\n",
    "    print(album_name)\n",
    "\n",
    "    #pull tracks from this album\n",
    "\n",
    "    r = requests.get(BASE_URL + 'albums/' + album['id'] + '/tracks', headers=headers)\n",
    "    tracks = r.json()['items']\n",
    "\n",
    "    for track in tracks:\n",
    "        #get features\n",
    "        f = requests.get(BASE_URL + 'audio-features/' + track['id'], headers=headers)\n",
    "        f = f.json()\n",
    "\n",
    "        #combine with album info\n",
    "        f.update({\n",
    "            'track_name': track['name'],\n",
    "            'album_name': album_name,\n",
    "            'short_album_name': trim_name,\n",
    "            'release_date': album['release_date'],\n",
    "            'album_id': album['id']\n",
    "        })\n",
    "\n",
    "        data.append(f)"
   ]
  },
  {
   "cell_type": "code",
   "execution_count": 101,
   "metadata": {},
   "outputs": [],
   "source": [
    "import pandas as pd"
   ]
  },
  {
   "cell_type": "code",
   "execution_count": 102,
   "metadata": {},
   "outputs": [],
   "source": [
    "df = pd.DataFrame(data)"
   ]
  },
  {
   "cell_type": "code",
   "execution_count": 103,
   "metadata": {},
   "outputs": [],
   "source": [
    "%matplotlib inline\n",
    "import matplotlib.pyplot as plt \n",
    "import seaborn as sns"
   ]
  }
 ]
}