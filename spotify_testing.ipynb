{
 "metadata": {
  "language_info": {
   "codemirror_mode": {
    "name": "ipython",
    "version": 3
   },
   "file_extension": ".py",
   "mimetype": "text/x-python",
   "name": "python",
   "nbconvert_exporter": "python",
   "pygments_lexer": "ipython3",
   "version": "3.8.2-final"
  },
  "orig_nbformat": 2,
  "kernelspec": {
   "name": "python_defaultSpec_1596748495202",
   "display_name": "Python 3.8.2 64-bit"
  }
 },
 "nbformat": 4,
 "nbformat_minor": 2,
 "cells": [
  {
   "cell_type": "markdown",
   "metadata": {},
   "source": [
    "<h1>Compilation of Medium articles and other websites.<h1>\n",
    "\n",
    "https://medium.com/@maxtingle/getting-started-with-spotifys-api-spotipy-197c3dc6353b\n",
    "\n",
    "https://towardsdatascience.com/how-to-create-large-music-datasets-using-spotipy-40e7242cc6a6 : https://github.com/MaxHilsdorf/introduction_to_spotipy\n",
    "\n",
    "https://morioh.com/p/31b8a607b2b0\n"
   ]
  },
  {
   "cell_type": "code",
   "execution_count": 2,
   "metadata": {},
   "outputs": [],
   "source": [
    "# sleep_min = 2\n",
    "# sleep_max = 5\n",
    "# start_time = time.time()\n",
    "# request_count = 0\n",
    "# for i in spotify_albums:\n",
    "#     audio_features(i)\n",
    "#     request_count+=1\n",
    "#     if request_count % 5 == 0:\n",
    "#         print(str(request_count) + \" playlists completed\")\n",
    "#         time.sleep(np.random.uniform(sleep_min, sleep_max))\n",
    "#         print('Loop #: {}'.format(request_count))\n",
    "#         print('Elapsed Time: {} seconds'.format(time.time() - start_time))"
   ]
  },
  {
   "cell_type": "code",
   "execution_count": 3,
   "metadata": {},
   "outputs": [],
   "source": [
    "# spotipy libraries\n",
    "import spotipy\n",
    "import spotipy.util as util\n",
    "from spotipy.oauth2 import SpotifyClientCredentials"
   ]
  },
  {
   "cell_type": "code",
   "execution_count": 4,
   "metadata": {},
   "outputs": [],
   "source": [
    "# other libraries\n",
    "import time\n",
    "from decouple import config"
   ]
  },
  {
   "cell_type": "code",
   "execution_count": 5,
   "metadata": {},
   "outputs": [],
   "source": [
    "# data visualisation libraries\n",
    "import pandas as pd\n",
    "import numpy as np\n",
    "import seaborn as sns\n",
    "%matplotlib inline"
   ]
  },
  {
   "cell_type": "code",
   "execution_count": 6,
   "metadata": {},
   "outputs": [],
   "source": [
    "# env variables\n",
    "client_id = config('SPOTIPY_CLIENT_ID')\n",
    "client_secret = config('SPOTIPY_CLIENT_SECRET')"
   ]
  },
  {
   "cell_type": "code",
   "execution_count": 7,
   "metadata": {},
   "outputs": [],
   "source": [
    "# spotipy object\n",
    "client_credentials_manager = SpotifyClientCredentials(client_id=client_id, client_secret=client_secret)\n",
    "sp = spotipy.Spotify(client_credentials_manager= client_credentials_manager)"
   ]
  },
  {
   "cell_type": "code",
   "execution_count": 8,
   "metadata": {},
   "outputs": [],
   "source": [
    "# my user id\n",
    "my_user = 'sidsaxena'"
   ]
  },
  {
   "cell_type": "code",
   "execution_count": 9,
   "metadata": {},
   "outputs": [],
   "source": [
    "# function to analyse all tracks in a playlist by its ID and create a dataframe with audio features \n",
    "\n",
    "def analysePlaylist(creator, playlist_id):\n",
    "    \n",
    "    # Create empty dataframe\n",
    "    playlist_features_list = [\"artist\",\"album\",\"track_name\",  \"track_id\",\"danceability\",\"energy\",\"key\",\"loudness\",\"mode\", \"speechiness\",\"instrumentalness\",\"liveness\",\"valence\",\"tempo\", \"duration_ms\",\"time_signature\"]\n",
    "    \n",
    "    playlist_df = pd.DataFrame(columns = playlist_features_list)\n",
    "    \n",
    "    # Loop through every track in the playlist, extract features and append the features to the playlist df\n",
    "    \n",
    "    playlist = sp.user_playlist_tracks(creator, playlist_id)[\"items\"]\n",
    "    for track in playlist:        # Create empty dict\n",
    "        playlist_features = {}        # Get metadata\n",
    "        playlist_features[\"artist\"] = track[\"track\"][\"album\"][\"artists\"][0][\"name\"]\n",
    "        playlist_features[\"album\"] = track[\"track\"][\"album\"][\"name\"]\n",
    "        playlist_features[\"track_name\"] = track[\"track\"][\"name\"]\n",
    "        playlist_features[\"track_id\"] = track[\"track\"][\"id\"]\n",
    "        \n",
    "        # Get audio features\n",
    "        audio_features = sp.audio_features(playlist_features[\"track_id\"])[0]\n",
    "        for feature in playlist_features_list[4:]:\n",
    "            playlist_features[feature] = audio_features[feature]\n",
    "        \n",
    "        # Concat the dfs\n",
    "        track_df = pd.DataFrame(playlist_features, index = [0])\n",
    "        playlist_df = pd.concat([playlist_df, track_df], ignore_index = True)\n",
    "        \n",
    "    return playlist_df"
   ]
  },
  {
   "cell_type": "code",
   "execution_count": 10,
   "metadata": {},
   "outputs": [],
   "source": [
    "# get list of a user's playlists\n",
    "my_playlists = sp.user_playlists(my_user)\n",
    "my_playlists_items = my_playlists['items']"
   ]
  },
  {
   "cell_type": "code",
   "execution_count": 11,
   "metadata": {},
   "outputs": [],
   "source": [
    "# playlist names, ids and their owners\n",
    "name_list = [item['name'] for item in my_playlists_items]\n",
    "id_list = [item['id'] for item in my_playlists_items]\n",
    "creator_list = [my_playlists_items[item]['owner']['id'] for item in range(0, len(my_playlists_items))]"
   ]
  },
  {
   "cell_type": "code",
   "execution_count": 12,
   "metadata": {},
   "outputs": [],
   "source": [
    "# a tuple of the playlist owners and the playlist ids\n",
    "creator_id_tuple = tuple(zip(creator_list, id_list))"
   ]
  },
  {
   "cell_type": "code",
   "execution_count": 13,
   "metadata": {},
   "outputs": [],
   "source": [
    "# dictionary of playlist name as key and ids and owners as tuple\n",
    "pd_dict = dict(name = name_list, id = id_list, creator = creator_list)\n",
    "pd_df = pd.DataFrame(pd_dict)"
   ]
  },
  {
   "cell_type": "code",
   "execution_count": 14,
   "metadata": {},
   "outputs": [],
   "source": [
    "#dictionary with playlist names as key and creator id tuples as values\n",
    "multiple_playlist_dict = dict(zip(name_list, creator_id_tuple))"
   ]
  },
  {
   "cell_type": "code",
   "execution_count": 1,
   "metadata": {},
   "outputs": [],
   "source": [
    "#function to analyse multiple playlists (dicts) and return a dataframe.\n",
    "\n",
    "def analysePlaylistDict(playlist_dict):\n",
    "    \n",
    "    # Loop through every playlist in the dict and analyze it\n",
    "    for i, (key, val) in enumerate(playlist_dict.items()):\n",
    "        time.sleep(.5)\n",
    "        playlist_df = analysePlaylist(*val)\n",
    "        # Add a playlist column so that we can see which playlist a track belongs too\n",
    "        playlist_df[\"playlist\"] = key\n",
    "        # Create or concat df\n",
    "        if i == 0:\n",
    "            playlist_dict_df = playlist_df\n",
    "        else:\n",
    "            playlist_dict_df = pd.concat([playlist_dict_df, playlist_df], ignore_index = True)\n",
    "            \n",
    "    return playlist_dict_df"
   ]
  },
  {
   "cell_type": "code",
   "execution_count": 16,
   "metadata": {
    "tags": []
   },
   "outputs": [],
   "source": [
    "#multiple_playlist_df = analyze_playlist_dict(multiple_playlist_dict)"
   ]
  },
  {
   "cell_type": "code",
   "execution_count": 17,
   "metadata": {},
   "outputs": [],
   "source": [
    "# function to get track ids from a playlist and return id list.\n",
    "\n",
    "def getTrackIds(user, playlist_id):\n",
    "    ids = []\n",
    "    playlist = sp.user_playlist(user, playlist_id)\n",
    "    for item in playlist['tracks']['items']:\n",
    "        track = item['track']\n",
    "        ids.append(track['id'])\n",
    "    return ids\n",
    "\n",
    "# ids = getTrackIds(my_user, vfar_id)"
   ]
  },
  {
   "cell_type": "code",
   "execution_count": 18,
   "metadata": {},
   "outputs": [],
   "source": [
    "# function to get features of a track by its ID.\n",
    "\n",
    "def getTrackFeatures(id):\n",
    "    meta = sp.track(id)\n",
    "    features = sp.audio_features(id)\n",
    "\n",
    "    #meta\n",
    "    name = meta['name']\n",
    "    album = meta['album']['name']\n",
    "    artist = meta['album']['artists'][0]['name']\n",
    "    release_date = meta['album']['release_date']\n",
    "    length = meta['duration_ms']\n",
    "    popularity = meta['popularity']\n",
    "\n",
    "    #features\n",
    "    danceability = features[0]['danceability']\n",
    "    energy = features[0]['energy']\n",
    "    key = features[0]['key']\n",
    "    loudness = features[0]['loudness']\n",
    "    mode = features[0]['mode']\n",
    "    speechiness = features[0]['speechiness']\n",
    "    acousticness = features[0]['acousticness']\n",
    "    instrumentalness = features[0]['instrumentalness']\n",
    "    liveness = features[0]['liveness']\n",
    "    valence = features[0]['valence']\n",
    "    tempo = features[0]['tempo']\n",
    "    time_signature = features[0]['time_signature']\n",
    "\n",
    "    track = [name, album, artist, release_date, length, popularity,danceability, energy, key, loudness, mode, speechiness, acousticness, instrumentalness, liveness, valence, tempo, time_signature]\n",
    "    return track"
   ]
  },
  {
   "cell_type": "code",
   "execution_count": 19,
   "metadata": {},
   "outputs": [],
   "source": [
    "# function to get features of multiple tracks from a list of IDs and return a dataframe\n",
    "\n",
    "def getTracklistFeatures(tracklist):\n",
    "  # loop over track ids \n",
    "  tracks = []\n",
    "  for id in range(len(ids)):\n",
    "    time.sleep(.5)\n",
    "    track = getTrackFeatures(tracklist[id])\n",
    "    tracks.append(track)\n",
    "\n",
    "  # create dataset\n",
    "  df = pd.DataFrame(tracks, columns = ['name', 'album', 'artist', 'release_date', 'length', 'popularity', 'danceability', 'energy', 'key', 'loudness', 'mode', 'speech', 'acousticness', 'instrumentalness', 'liveness', 'valence', 'tempo', 'time_signature'])\n",
    "  # df.to_csv(\"spotify.csv\", sep = ',')\n",
    "  return df"
   ]
  },
  {
   "cell_type": "markdown",
   "metadata": {},
   "source": [
    "<h1> GET ARTIST'S ALBUMS <h1>"
   ]
  },
  {
   "cell_type": "code",
   "execution_count": 20,
   "metadata": {},
   "outputs": [],
   "source": [
    "#function to get discography of an artist by searching its name\n",
    "\n",
    "def getDiscography(name):\n",
    "    search = sp.search(q=name, type='artist')\n",
    "    search = search['artists']['items'][0]\n",
    "\n",
    "    search_id = search['id']\n",
    "    search_albums = sp.artist_albums(search_id, album_type='album')\n",
    "\n",
    "    album_names = []\n",
    "    album_id = []\n",
    "    for i, _ in enumerate(search_albums['items']):\n",
    "        album_names.append(search_albums['items'][i]['name'])\n",
    "        album_id.append(search_albums['items'][i]['id'])\n",
    "    \n",
    "    tracklist = []\n",
    "    album_list = []\n",
    "    track_album_dict = {}\n",
    "    track_id = []\n",
    "\n",
    "    for album, _ in enumerate(album_id):\n",
    "        tracks = sp.album_tracks(album_id[album])\n",
    "        tracks = tracks['items']\n",
    "        album_name = sp.album(album_id[album])['name'] \n",
    "        for track, _ in enumerate(tracks):\n",
    "            track_name = tracks[track]['name']\n",
    "            track_id.append(tracks[track]['id']) \n",
    "            tracklist.append(track_name)\n",
    "            album_list.append(album_name)       \n",
    "    \n",
    "    track_album_dict = {'track': tracklist, 'album': album_list, 'id': track_id}     \n",
    "    df = pd.DataFrame(track_album_dict)\n",
    "\n",
    "    return df"
   ]
  },
  {
   "cell_type": "code",
   "execution_count": null,
   "metadata": {},
   "outputs": [],
   "source": [
    "playlist = results['items']\n",
    "\n",
    "offset = 0\n",
    "\n",
    "while True:\n",
    "    results = sp.user_playlist_tracks(username, '4h4ViGj9auvptyhtzxNzq5', offset = offset)\n",
    "    playlist += playlist\n",
    "\n",
    "    playlist_features_list = [\"artist\",\"album\",\"track_name\",  \"track_id\",\"danceability\",\"energy\",\"key\",\"loudness\",\"mode\", \"speechiness\",\"instrumentalness\",\"liveness\",\"valence\",\"tempo\", \"duration_ms\",\"time_signature\"]\n",
    "\n",
    "    playlist_df = pd.DataFrame(columns = playlist_features_list)\n",
    "\n",
    "    for track in playlist:        \n",
    "        playlist_features = {}        \n",
    "        playlist_features[\"artist\"] = track[\"track\"][\"album\"][\"artists\"][0][\"name\"]\n",
    "        playlist_features[\"album\"] = track[\"track\"][\"album\"][\"name\"]\n",
    "        playlist_features[\"track_name\"] = track[\"track\"][\"name\"]\n",
    "        playlist_features[\"track_id\"] = track[\"track\"][\"id\"]\n",
    "\n",
    "        \n",
    "        audio_features = sp.audio_features(playlist_features[\"track_id\"])[0]\n",
    "        for feature in playlist_features_list[4:]:\n",
    "            playlist_features[feature] = audio_features[feature]\n",
    "        \n",
    "        track_df = pd.DataFrame(playlist_features, index = [0])\n",
    "        playlist_df = pd.concat([playlist_df, track_df], ignore_index=True)\n",
    "\n",
    "    if results['next'] is not None:\n",
    "        offset += 100\n",
    "    else:\n",
    "        break "
   ]
  }
 ]
}