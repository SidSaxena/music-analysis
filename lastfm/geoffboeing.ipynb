{
 "metadata": {
  "language_info": {
   "codemirror_mode": {
    "name": "ipython",
    "version": 3
   },
   "file_extension": ".py",
   "mimetype": "text/x-python",
   "name": "python",
   "nbconvert_exporter": "python",
   "pygments_lexer": "ipython3",
   "version": "3.8.2-final"
  },
  "orig_nbformat": 2,
  "kernelspec": {
   "name": "python38264bitbf0b7ef9fc924619ab877e804e46f0ca",
   "display_name": "Python 3.8.2 64-bit"
  }
 },
 "nbformat": 4,
 "nbformat_minor": 2,
 "cells": [
  {
   "cell_type": "code",
   "execution_count": 7,
   "metadata": {},
   "outputs": [],
   "source": [
    "import requests, json, requests_cache, time, pandas as pd \n",
    "from decouple import config"
   ]
  },
  {
   "cell_type": "code",
   "execution_count": 12,
   "metadata": {},
   "outputs": [],
   "source": [
    "API_KEY = config('API_KEY')\n",
    "SHARED_SECRET = config('SHARED_SECRET')\n",
    "CALLBACK = config('CALLBACK')\n",
    "USER_AGENT = 'SidSaxena'\n",
    "\n",
    "username = 'SidSaxena'"
   ]
  },
  {
   "cell_type": "code",
   "execution_count": 9,
   "metadata": {},
   "outputs": [],
   "source": [
    "requests_cache.install_cache(cache_name='listening_history')"
   ]
  },
  {
   "cell_type": "code",
   "execution_count": 10,
   "metadata": {},
   "outputs": [],
   "source": [
    "# rate limiting\n",
    "pause_duration = 0.2"
   ]
  },
  {
   "cell_type": "code",
   "execution_count": null,
   "metadata": {
    "tags": []
   },
   "outputs": [],
   "source": [
    "from dataquest.py import lastfm_get"
   ]
  },
  {
   "cell_type": "code",
   "execution_count": 54,
   "metadata": {},
   "outputs": [],
   "source": [
    "url = 'https://ws.audioscrobbler.com/2.0/?method={}&user={}&api_key={}&limit={}&extended={}&page={}&format=json'\n",
    "limit = 200\n",
    "extended = 0\n",
    "page = 1"
   ]
  },
  {
   "cell_type": "code",
   "execution_count": 44,
   "metadata": {},
   "outputs": [],
   "source": [
    "headers = {'user-agent': USER_AGENT}"
   ]
  },
  {
   "cell_type": "code",
   "execution_count": 56,
   "metadata": {},
   "outputs": [
    {
     "output_type": "execute_result",
     "data": {
      "text/plain": "            artist            track play_count\n0  The Paper Kites   Revelator Eyes        327\n1   Porcupine Tree           Trains        221\n2  The Paper Kites  Electric Indigo        187\n3  The Paper Kites  Bleed Confusion        172\n4        Radiohead     No Surprises        164",
      "text/html": "<div>\n<style scoped>\n    .dataframe tbody tr th:only-of-type {\n        vertical-align: middle;\n    }\n\n    .dataframe tbody tr th {\n        vertical-align: top;\n    }\n\n    .dataframe thead th {\n        text-align: right;\n    }\n</style>\n<table border=\"1\" class=\"dataframe\">\n  <thead>\n    <tr style=\"text-align: right;\">\n      <th></th>\n      <th>artist</th>\n      <th>track</th>\n      <th>play_count</th>\n    </tr>\n  </thead>\n  <tbody>\n    <tr>\n      <th>0</th>\n      <td>The Paper Kites</td>\n      <td>Revelator Eyes</td>\n      <td>327</td>\n    </tr>\n    <tr>\n      <th>1</th>\n      <td>Porcupine Tree</td>\n      <td>Trains</td>\n      <td>221</td>\n    </tr>\n    <tr>\n      <th>2</th>\n      <td>The Paper Kites</td>\n      <td>Electric Indigo</td>\n      <td>187</td>\n    </tr>\n    <tr>\n      <th>3</th>\n      <td>The Paper Kites</td>\n      <td>Bleed Confusion</td>\n      <td>172</td>\n    </tr>\n    <tr>\n      <th>4</th>\n      <td>Radiohead</td>\n      <td>No Surprises</td>\n      <td>164</td>\n    </tr>\n  </tbody>\n</table>\n</div>"
     },
     "metadata": {},
     "execution_count": 56
    }
   ],
   "source": [
    "artist_names = []\n",
    "track_names = []\n",
    "play_counts = []\n",
    "\n",
    "method = 'user.getTopTracks'\n",
    "request_url = url.format(method, username, API_KEY, limit, extended, page)\n",
    "\n",
    "response = requests.get(request_url).json()\n",
    "\n",
    "for item in response['toptracks']['track']:\n",
    "    artist_names.append(item['artist']['name'])\n",
    "    track_names.append(item['name'])\n",
    "    play_counts.append(item['playcount'])\n",
    "\n",
    "top_tracks = pd.DataFrame()\n",
    "top_tracks['artist'] = artist_names\n",
    "top_tracks['track'] = track_names\n",
    "top_tracks['play_count'] = play_counts\n",
    "top_tracks.to_csv('lastfm_top_tracks.csv')\n",
    "top_tracks.head()"
   ]
  },
  {
   "cell_type": "code",
   "execution_count": 55,
   "metadata": {},
   "outputs": [
    {
     "output_type": "execute_result",
     "data": {
      "text/plain": "            artist play_count\n0       John Mayer       6920\n1        Radiohead       6010\n2   Porcupine Tree       2146\n3  The Paper Kites       1876\n4    Steven Wilson       1702",
      "text/html": "<div>\n<style scoped>\n    .dataframe tbody tr th:only-of-type {\n        vertical-align: middle;\n    }\n\n    .dataframe tbody tr th {\n        vertical-align: top;\n    }\n\n    .dataframe thead th {\n        text-align: right;\n    }\n</style>\n<table border=\"1\" class=\"dataframe\">\n  <thead>\n    <tr style=\"text-align: right;\">\n      <th></th>\n      <th>artist</th>\n      <th>play_count</th>\n    </tr>\n  </thead>\n  <tbody>\n    <tr>\n      <th>0</th>\n      <td>John Mayer</td>\n      <td>6920</td>\n    </tr>\n    <tr>\n      <th>1</th>\n      <td>Radiohead</td>\n      <td>6010</td>\n    </tr>\n    <tr>\n      <th>2</th>\n      <td>Porcupine Tree</td>\n      <td>2146</td>\n    </tr>\n    <tr>\n      <th>3</th>\n      <td>The Paper Kites</td>\n      <td>1876</td>\n    </tr>\n    <tr>\n      <th>4</th>\n      <td>Steven Wilson</td>\n      <td>1702</td>\n    </tr>\n  </tbody>\n</table>\n</div>"
     },
     "metadata": {},
     "execution_count": 55
    }
   ],
   "source": [
    "method = 'user.gettopartists'\n",
    "request_url = url.format(method, username, API_KEY, limit, extended, page)\n",
    "artist_names = []\n",
    "play_counts = []\n",
    "response = requests.get(request_url).json()\n",
    "for item in response['topartists']['artist']:\n",
    "    artist_names.append(item['name'])\n",
    "    play_counts.append(item['playcount'])\n",
    "\n",
    "top_artists = pd.DataFrame()\n",
    "top_artists['artist'] = artist_names\n",
    "top_artists['play_count'] = play_counts\n",
    "top_artists.to_csv('lastfm_top_artists.csv')\n",
    "top_artists.head()\n",
    "\n"
   ]
  },
  {
   "cell_type": "code",
   "execution_count": 57,
   "metadata": {},
   "outputs": [
    {
     "output_type": "execute_result",
     "data": {
      "text/plain": "            artist                                              album  \\\n0  The Paper Kites                                         Twelvefour   \n1        Radiohead                                        OK Computer   \n2       John Mayer                                    Born and Raised   \n3       John Mayer  Where The Light Is: John Mayer Live In Los Ang...   \n4       John Mayer                                          Continuum   \n\n  play_count  \n0       1193  \n1        875  \n2        782  \n3        727  \n4        719  ",
      "text/html": "<div>\n<style scoped>\n    .dataframe tbody tr th:only-of-type {\n        vertical-align: middle;\n    }\n\n    .dataframe tbody tr th {\n        vertical-align: top;\n    }\n\n    .dataframe thead th {\n        text-align: right;\n    }\n</style>\n<table border=\"1\" class=\"dataframe\">\n  <thead>\n    <tr style=\"text-align: right;\">\n      <th></th>\n      <th>artist</th>\n      <th>album</th>\n      <th>play_count</th>\n    </tr>\n  </thead>\n  <tbody>\n    <tr>\n      <th>0</th>\n      <td>The Paper Kites</td>\n      <td>Twelvefour</td>\n      <td>1193</td>\n    </tr>\n    <tr>\n      <th>1</th>\n      <td>Radiohead</td>\n      <td>OK Computer</td>\n      <td>875</td>\n    </tr>\n    <tr>\n      <th>2</th>\n      <td>John Mayer</td>\n      <td>Born and Raised</td>\n      <td>782</td>\n    </tr>\n    <tr>\n      <th>3</th>\n      <td>John Mayer</td>\n      <td>Where The Light Is: John Mayer Live In Los Ang...</td>\n      <td>727</td>\n    </tr>\n    <tr>\n      <th>4</th>\n      <td>John Mayer</td>\n      <td>Continuum</td>\n      <td>719</td>\n    </tr>\n  </tbody>\n</table>\n</div>"
     },
     "metadata": {},
     "execution_count": 57
    }
   ],
   "source": [
    "method = 'user.getTopAlbums'\n",
    "request_url = url.format(method, username, API_KEY, limit, extended, page)\n",
    "artist_names = []\n",
    "album_names = []\n",
    "play_counts = []\n",
    "response = requests.get(request_url).json()\n",
    "for item in response['topalbums']['album']:\n",
    "    artist_names.append(item['artist']['name'])\n",
    "    album_names.append(item['name'])\n",
    "    play_counts.append(item['playcount'])\n",
    "\n",
    "top_albums = pd.DataFrame()\n",
    "top_albums['artist'] = artist_names\n",
    "top_albums['album'] = album_names\n",
    "top_albums['play_count'] = play_counts\n",
    "top_albums.to_csv('lastfm_top_albums.csv')\n",
    "top_albums.head()\n",
    "\n"
   ]
  },
  {
   "cell_type": "code",
   "execution_count": 63,
   "metadata": {},
   "outputs": [],
   "source": [
    "def get_scrobbles(method='recenttracks', username=username, key=API_KEY, limit=200, extended=0, page=1, pages=0):\n",
    "\n",
    "    #initialise lists and url for response\n",
    "    url = 'https://ws.audioscrobbler.com/2.0/?method=user.get{}&user={}&api_key={}&limit={}&extended={}&page={}&format=json'\n",
    "\n",
    "    responses = []\n",
    "    artist_names = []\n",
    "    artist_mbids = []\n",
    "    album_names = []\n",
    "    album_mbids = []\n",
    "    track_names = []\n",
    "    track_mbids = []\n",
    "    timestamps = []\n",
    "\n",
    "    # make first request, just to get total number of pages\n",
    "    request_url = url.format(method, username, API_KEY, limit, extended, page)\n",
    "    response = requests.get(request_url).json()\n",
    "    total_pages = int(response[method]['@attr']['totalPages'])\n",
    "    if pages > 0:\n",
    "        total_pages = min([total_pages, pages])\n",
    "\n",
    "    print('{} total pages to retrieve'.format(total_pages))\n",
    "\n",
    "    # request each range of data one at a time\n",
    "\n",
    "    for page in range(1, int(total_pages) + 1, 1):\n",
    "        if page % 10 == 0:\n",
    "            print(page, end=' ')\n",
    "        request_url = url.format(method, username, key, limit, extended, page)\n",
    "        responses.append(requests.get(request_url))\n",
    "        \n",
    "        if not getattr(response, 'from_cache', False):\n",
    "            time.sleep(pause_duration)\n",
    "    \n",
    "    # parse the fields\n",
    "    for response in responses:\n",
    "        scrobbles = response.json()\n",
    "        for scrobble in scrobbles[method]['track']:\n",
    "            if 'date' in scrobble.keys():\n",
    "                artist_names.append(scrobble['artist']['#text'])\n",
    "                artist_mbids.append(scrobble['artist']['mbid'])\n",
    "                album_names.append(scrobble['album']['#text'])\n",
    "                album_mbids.append(scrobble['album']['mbid'])\n",
    "                track_names.append(scrobble['name'])\n",
    "                track_mbids.append(scrobble['mbid'])\n",
    "                timestamps.append(scrobble['date']['uts'])\n",
    "    \n",
    "    df = pd.DataFrame()\n",
    "    df['artist'] = artist_names\n",
    "    df['artist_mbid'] = artist_mbids\n",
    "    df['album'] = album_names\n",
    "    df['album_mbid'] = album_mbids\n",
    "    df['track'] = track_names\n",
    "    df['track_mbid'] = track_mbids\n",
    "    df['timestamp'] = timestamps\n",
    "    df['datetime'] = pd.to_datetime(df['timestamp'].astype(int), unit='s')                \n",
    "    return df"
   ]
  },
  {
   "cell_type": "code",
   "execution_count": 64,
   "metadata": {
    "tags": []
   },
   "outputs": [
    {
     "output_type": "stream",
     "name": "stdout",
     "text": "414 total pages to retrieve\n102030405060708090100110120130140150160170180190200210220230240250260270280290300310320330340350360370380390400410"
    }
   ],
   "source": [
    "scrobbles = get_scrobbles(pages=0)"
   ]
  },
  {
   "cell_type": "code",
   "execution_count": 66,
   "metadata": {},
   "outputs": [],
   "source": [
    "scrobbles.to_csv('lastfm_scrobbles.csv')"
   ]
  },
  {
   "cell_type": "code",
   "execution_count": 67,
   "metadata": {
    "tags": []
   },
   "outputs": [
    {
     "output_type": "stream",
     "name": "stdout",
     "text": "82,711 total rows\n"
    }
   ],
   "source": [
    "print('{:,} total rows'.format(len(scrobbles)))"
   ]
  }
 ]
}