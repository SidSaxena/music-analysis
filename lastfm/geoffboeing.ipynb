{
 "metadata": {
  "language_info": {
   "codemirror_mode": {
    "name": "ipython",
    "version": 3
   },
   "file_extension": ".py",
   "mimetype": "text/x-python",
   "name": "python",
   "nbconvert_exporter": "python",
   "pygments_lexer": "ipython3",
   "version": "3.8.2-final"
  },
  "orig_nbformat": 2,
  "kernelspec": {
   "name": "python38264bitbf0b7ef9fc924619ab877e804e46f0ca",
   "display_name": "Python 3.8.2 64-bit"
  }
 },
 "nbformat": 4,
 "nbformat_minor": 2,
 "cells": [
  {
   "cell_type": "code",
   "execution_count": null,
   "metadata": {},
   "outputs": [],
   "source": [
    "import requests, json, requests_cache, time, datetime, pandas as pd \n",
    "from decouple import config"
   ]
  },
  {
   "cell_type": "code",
   "execution_count": null,
   "metadata": {},
   "outputs": [],
   "source": [
    "API_KEY = config('API_KEY')\n",
    "SHARED_SECRET = config('SHARED_SECRET')\n",
    "CALLBACK = config('CALLBACK')\n",
    "USER_AGENT = 'SidSaxena'\n",
    "\n",
    "username = 'SidSaxena'"
   ]
  },
  {
   "cell_type": "code",
   "execution_count": null,
   "metadata": {},
   "outputs": [],
   "source": [
    "requests_cache.install_cache(cache_name='listening_history', expire_after=43200)"
   ]
  },
  {
   "cell_type": "code",
   "execution_count": null,
   "metadata": {},
   "outputs": [],
   "source": [
    "# rate limiting\n",
    "pause_duration = 0.2"
   ]
  },
  {
   "cell_type": "code",
   "execution_count": null,
   "metadata": {
    "tags": []
   },
   "outputs": [],
   "source": [
    "# from dataquest.py import lastfm_get"
   ]
  },
  {
   "cell_type": "code",
   "execution_count": null,
   "metadata": {},
   "outputs": [],
   "source": [
    "url = 'https://ws.audioscrobbler.com/2.0/?method={}&user={}&api_key={}&limit={}&extended={}&page={}&format=json'\n",
    "limit = 200\n",
    "extended = 0\n",
    "page = 1"
   ]
  },
  {
   "cell_type": "code",
   "execution_count": null,
   "metadata": {},
   "outputs": [],
   "source": [
    "headers = {'user-agent': USER_AGENT}"
   ]
  },
  {
   "cell_type": "code",
   "execution_count": null,
   "metadata": {},
   "outputs": [],
   "source": [
    "def getTopTracks():\n",
    "    artist_names = []\n",
    "    track_names = []\n",
    "    play_counts = []\n",
    "\n",
    "    method = 'user.getTopTracks'\n",
    "    request_url = url.format(method, username, API_KEY, limit, extended, page)\n",
    "\n",
    "    response = requests.get(request_url).json()\n",
    "\n",
    "    for item in response['toptracks']['track']:\n",
    "        artist_names.append(item['artist']['name'])\n",
    "        track_names.append(item['name'])\n",
    "        play_counts.append(item['playcount'])\n",
    "\n",
    "    top_tracks = pd.DataFrame()\n",
    "    top_tracks['artist'] = artist_names\n",
    "    top_tracks['track'] = track_names\n",
    "    top_tracks['play_count'] = play_counts\n",
    "    top_tracks.to_csv('lastfm_top_tracks.csv', index=None)\n",
    "    return top_tracks"
   ]
  },
  {
   "cell_type": "code",
   "execution_count": null,
   "metadata": {},
   "outputs": [],
   "source": [
    "def getTopArtists():\n",
    "    method = 'user.gettopartists'\n",
    "    request_url = url.format(method, username, API_KEY, limit, extended, page)\n",
    "    artist_names = []\n",
    "    play_counts = []\n",
    "    response = requests.get(request_url).json()\n",
    "    for item in response['topartists']['artist']:\n",
    "        artist_names.append(item['name'])\n",
    "        play_counts.append(item['playcount'])\n",
    "\n",
    "    top_artists = pd.DataFrame()\n",
    "    top_artists['artist'] = artist_names\n",
    "    top_artists['play_count'] = play_counts\n",
    "    top_artists.to_csv('lastfm_top_artists.csv', index=None)\n",
    "    return top_artists"
   ]
  },
  {
   "cell_type": "code",
   "execution_count": null,
   "metadata": {},
   "outputs": [],
   "source": [
    "def getTopAlbums():\n",
    "    method = 'user.getTopAlbums'\n",
    "    request_url = url.format(method, username, API_KEY, limit, extended, page)\n",
    "    artist_names = []\n",
    "    album_names = []\n",
    "    play_counts = []\n",
    "    response = requests.get(request_url).json()\n",
    "    for item in response['topalbums']['album']:\n",
    "        artist_names.append(item['artist']['name'])\n",
    "        album_names.append(item['name'])\n",
    "        play_counts.append(item['playcount'])\n",
    "\n",
    "    top_albums = pd.DataFrame()\n",
    "    top_albums['artist'] = artist_names\n",
    "    top_albums['album'] = album_names\n",
    "    top_albums['play_count'] = play_counts\n",
    "    top_albums.to_csv('lastfm_top_albums.csv', index=None)\n",
    "    return top_albums"
   ]
  },
  {
   "cell_type": "code",
   "execution_count": null,
   "metadata": {},
   "outputs": [],
   "source": [
    "def get_scrobbles(method='recenttracks', username=username, key=API_KEY, limit=200, extended=0, page=1, pages=0):\n",
    "\n",
    "    #initialise lists and url for response\n",
    "    url = 'https://ws.audioscrobbler.com/2.0/?method=user.get{}&user={}&api_key={}&limit={}&extended={}&page={}&format=json'\n",
    "\n",
    "    responses = []\n",
    "    artist_names = []\n",
    "    artist_mbids = []\n",
    "    album_names = []\n",
    "    album_mbids = []\n",
    "    track_names = []\n",
    "    track_mbids = []\n",
    "    timestamps = []\n",
    "\n",
    "    # make first request, just to get total number of pages\n",
    "    request_url = url.format(method, username, API_KEY, limit, extended, page)\n",
    "    response = requests.get(request_url).json()\n",
    "    total_pages = int(response[method]['@attr']['totalPages'])\n",
    "    if pages > 0:\n",
    "        total_pages = min([total_pages, pages])\n",
    "\n",
    "    print('{} total pages to retrieve'.format(total_pages))\n",
    "\n",
    "    # request each range of data one at a time\n",
    "\n",
    "    for page in range(1, int(total_pages) + 1, 1):\n",
    "        if page % 10 == 0:\n",
    "            print(page, end=' ')\n",
    "        request_url = url.format(method, username, key, limit, extended, page)\n",
    "        responses.append(requests.get(request_url))\n",
    "        \n",
    "        if not getattr(response, 'from_cache', False):\n",
    "            time.sleep(pause_duration)\n",
    "    \n",
    "    # parse the fields\n",
    "    for response in responses:\n",
    "        scrobbles = response.json()\n",
    "        for scrobble in scrobbles[method]['track']:\n",
    "            if 'date' in scrobble.keys():\n",
    "                artist_names.append(scrobble['artist']['#text'])\n",
    "                artist_mbids.append(scrobble['artist']['mbid'])\n",
    "                album_names.append(scrobble['album']['#text'])\n",
    "                album_mbids.append(scrobble['album']['mbid'])\n",
    "                track_names.append(scrobble['name'])\n",
    "                track_mbids.append(scrobble['mbid'])\n",
    "                timestamps.append(scrobble['date']['uts'])\n",
    "    \n",
    "    df = pd.DataFrame()\n",
    "    df['artist'] = artist_names\n",
    "    df['artist_mbid'] = artist_mbids\n",
    "    df['album'] = album_names\n",
    "    df['album_mbid'] = album_mbids\n",
    "    df['track'] = track_names\n",
    "    df['track_mbid'] = track_mbids\n",
    "    df['timestamp'] = timestamps\n",
    "    df['datetime'] = pd.to_datetime(df['timestamp'].astype(int), unit='s')   \n",
    "    scrobbles.to_csv('{name}_scrobbles_{date}.csv'.format(name=username, date=datetime.date.today()), index=None)             \n",
    "    return df"
   ]
  },
  {
   "cell_type": "code",
   "execution_count": null,
   "metadata": {
    "tags": []
   },
   "outputs": [],
   "source": [
    "scrobbles = get_scrobbles(pages=0)"
   ]
  },
  {
   "cell_type": "code",
   "execution_count": null,
   "metadata": {},
   "outputs": [],
   "source": [
    "scrobbles.to_csv('{name}_scrobbles_{date}.csv'.format(name=username, date=datetime.date.today()), index=None)"
   ]
  },
  {
   "cell_type": "code",
   "execution_count": null,
   "metadata": {},
   "outputs": [],
   "source": [
    "scrobbles = pd.read_csv('/home/sid/development/python/music-analysis/lastfm/Spreadsheets/SidSaxena_scrobbles_2020-08-25.csv', index_col = 0)"
   ]
  },
  {
   "cell_type": "code",
   "execution_count": null,
   "metadata": {},
   "outputs": [],
   "source": [
    "def getUniqueScrobbles(df):\n",
    "    df = df.drop(['artist_mbid', 'album', 'album_mbid', 'track_mbid', 'timestamp', 'datetime'], axis=1)\n",
    "    df_unique = df.drop_duplicates()\n",
    "    df_unique.to_csv('{name}_unique_scrobbles_{date}.csv'.format(name=username, date=datetime.date.today()), index=None)\n",
    "    return df_unique"
   ]
  },
  {
   "cell_type": "code",
   "execution_count": null,
   "metadata": {},
   "outputs": [],
   "source": [
    "scrobbles_unique = getUniqueScrobbles(scrobbles)"
   ]
  },
  {
   "cell_type": "code",
   "execution_count": null,
   "metadata": {},
   "outputs": [],
   "source": [
    "scrobbles_unique"
   ]
  },
  {
   "cell_type": "code",
   "execution_count": null,
   "metadata": {},
   "outputs": [],
   "source": []
  }
 ]
}