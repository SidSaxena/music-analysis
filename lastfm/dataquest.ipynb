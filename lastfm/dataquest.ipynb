{
 "metadata": {
  "language_info": {
   "codemirror_mode": {
    "name": "ipython",
    "version": 3
   },
   "file_extension": ".py",
   "mimetype": "text/x-python",
   "name": "python",
   "nbconvert_exporter": "python",
   "pygments_lexer": "ipython3",
   "version": "3.8.2-final"
  },
  "orig_nbformat": 2,
  "kernelspec": {
   "name": "python38264bitbf0b7ef9fc924619ab877e804e46f0ca",
   "display_name": "Python 3.8.2 64-bit"
  }
 },
 "nbformat": 4,
 "nbformat_minor": 2,
 "cells": [
  {
   "cell_type": "code",
   "execution_count": 142,
   "metadata": {},
   "outputs": [],
   "source": [
    "import requests\n",
    "import requests_cache\n",
    "from decouple import config\n",
    "import json\n",
    "import time"
   ]
  },
  {
   "cell_type": "code",
   "execution_count": 143,
   "metadata": {},
   "outputs": [],
   "source": [
    "from IPython.core.display import clear_output"
   ]
  },
  {
   "cell_type": "code",
   "execution_count": 144,
   "metadata": {},
   "outputs": [],
   "source": [
    "requests_cache.install_cache()"
   ]
  },
  {
   "cell_type": "code",
   "execution_count": 145,
   "metadata": {},
   "outputs": [],
   "source": [
    "API_KEY = config('API_KEY')\n",
    "SHARED_SECRET = config('SHARED_SECRET')\n",
    "CALLBACK = config('CALLBACK')"
   ]
  },
  {
   "cell_type": "code",
   "execution_count": 146,
   "metadata": {},
   "outputs": [],
   "source": [
    "USER_AGENT = 'SidSaxena'"
   ]
  },
  {
   "cell_type": "code",
   "execution_count": 147,
   "metadata": {},
   "outputs": [],
   "source": [
    "def lastfm_get(payload):\n",
    "    #define headers and URL\n",
    "    headers = {'user-agent': USER_AGENT}\n",
    "    url = 'http://ws.audioscrobbler.com/2.0/'\n",
    "\n",
    "    #api key and format to the payload\n",
    "    payload['api_key'] = API_KEY\n",
    "    payload['format'] = 'json'\n",
    "\n",
    "    response = requests.get(url=url, headers=headers, params=payload)\n",
    "    return response"
   ]
  },
  {
   "cell_type": "code",
   "execution_count": 148,
   "metadata": {},
   "outputs": [],
   "source": [
    "def jprint(obj):\n",
    "    # create a formatted string from the json object\n",
    "    text = json.dumps(obj, sort_keys=True, indent=4)\n",
    "    print(text)"
   ]
  },
  {
   "cell_type": "code",
   "execution_count": 149,
   "metadata": {
    "tags": []
   },
   "outputs": [],
   "source": [
    "def getTopArtists():\n",
    "        \n",
    "    # empty list\n",
    "    responses = []\n",
    "\n",
    "    # inital page and high number of pages (wouldn't it result in an uneccesarily long loop?)\n",
    "    page = 1\n",
    "    total_pages = 99999\n",
    "\n",
    "    while page < total_pages:\n",
    "        payload = {\n",
    "            'method': 'chart.gettopartists',\n",
    "            'limit': 500,\n",
    "            'page': page\n",
    "        }\n",
    "\n",
    "        #see status\n",
    "        print('Requesting Page {}/{}'.format(page, total_pages))\n",
    "        #clear output\n",
    "        clear_output(wait=True)\n",
    "\n",
    "        # make api call\n",
    "        response = lastfm_get(payload)\n",
    "\n",
    "        # if we get an error, print and halt\n",
    "        if response.status_code != 200:\n",
    "            print(response.text)\n",
    "            break\n",
    "\n",
    "        # extract pagination info\n",
    "        page = int(response.json()['artists']['@attr']['page'])\n",
    "        total_pages = int(response.json()['artists']['@attr']['totalPages'])\n",
    "\n",
    "        # append response\n",
    "        responses.append(response)\n",
    "\n",
    "        # if not cached, sleep\n",
    "        if not getattr(response, 'from_cache', False):\n",
    "            time.sleep(0.25)\n",
    "\n",
    "        page += 1\n",
    "\n",
    "    return responses"
   ]
  },
  {
   "cell_type": "code",
   "execution_count": 150,
   "metadata": {
    "tags": []
   },
   "outputs": [
    {
     "output_type": "stream",
     "name": "stdout",
     "text": "Requesting Page 7002/7003\n"
    }
   ],
   "source": [
    "responses = getTopArtists()"
   ]
  },
  {
   "cell_type": "code",
   "execution_count": 151,
   "metadata": {},
   "outputs": [],
   "source": [
    "import pandas as pd"
   ]
  },
  {
   "cell_type": "code",
   "execution_count": 152,
   "metadata": {},
   "outputs": [
    {
     "output_type": "execute_result",
     "data": {
      "text/plain": "            name  playcount listeners                                  mbid  \\\n0   Taylor Swift  268125255   2494732  20244d07-534f-4eff-b4d4-930878889970   \n1     The Weeknd  125834230   1616048  c8b03190-306c-4120-bb0b-6f2ebfc06ea9   \n2  Billie Eilish   68348860    866564                                         \n3      Lady Gaga  341894974   4086444  650e7db6-b795-4eb5-a702-5ea2fc46c848   \n4     Kanye West  302868003   4648531  164f0d73-1234-4e2c-8743-d77bf2191051   \n\n                                       url streamable  \\\n0   https://www.last.fm/music/Taylor+Swift          0   \n1     https://www.last.fm/music/The+Weeknd          0   \n2  https://www.last.fm/music/Billie+Eilish          0   \n3      https://www.last.fm/music/Lady+Gaga          0   \n4     https://www.last.fm/music/Kanye+West          0   \n\n                                               image  \n0  [{'#text': 'https://lastfm.freetls.fastly.net/...  \n1  [{'#text': 'https://lastfm.freetls.fastly.net/...  \n2  [{'#text': 'https://lastfm.freetls.fastly.net/...  \n3  [{'#text': 'https://lastfm.freetls.fastly.net/...  \n4  [{'#text': 'https://lastfm.freetls.fastly.net/...  ",
      "text/html": "<div>\n<style scoped>\n    .dataframe tbody tr th:only-of-type {\n        vertical-align: middle;\n    }\n\n    .dataframe tbody tr th {\n        vertical-align: top;\n    }\n\n    .dataframe thead th {\n        text-align: right;\n    }\n</style>\n<table border=\"1\" class=\"dataframe\">\n  <thead>\n    <tr style=\"text-align: right;\">\n      <th></th>\n      <th>name</th>\n      <th>playcount</th>\n      <th>listeners</th>\n      <th>mbid</th>\n      <th>url</th>\n      <th>streamable</th>\n      <th>image</th>\n    </tr>\n  </thead>\n  <tbody>\n    <tr>\n      <th>0</th>\n      <td>Taylor Swift</td>\n      <td>268125255</td>\n      <td>2494732</td>\n      <td>20244d07-534f-4eff-b4d4-930878889970</td>\n      <td>https://www.last.fm/music/Taylor+Swift</td>\n      <td>0</td>\n      <td>[{'#text': 'https://lastfm.freetls.fastly.net/...</td>\n    </tr>\n    <tr>\n      <th>1</th>\n      <td>The Weeknd</td>\n      <td>125834230</td>\n      <td>1616048</td>\n      <td>c8b03190-306c-4120-bb0b-6f2ebfc06ea9</td>\n      <td>https://www.last.fm/music/The+Weeknd</td>\n      <td>0</td>\n      <td>[{'#text': 'https://lastfm.freetls.fastly.net/...</td>\n    </tr>\n    <tr>\n      <th>2</th>\n      <td>Billie Eilish</td>\n      <td>68348860</td>\n      <td>866564</td>\n      <td></td>\n      <td>https://www.last.fm/music/Billie+Eilish</td>\n      <td>0</td>\n      <td>[{'#text': 'https://lastfm.freetls.fastly.net/...</td>\n    </tr>\n    <tr>\n      <th>3</th>\n      <td>Lady Gaga</td>\n      <td>341894974</td>\n      <td>4086444</td>\n      <td>650e7db6-b795-4eb5-a702-5ea2fc46c848</td>\n      <td>https://www.last.fm/music/Lady+Gaga</td>\n      <td>0</td>\n      <td>[{'#text': 'https://lastfm.freetls.fastly.net/...</td>\n    </tr>\n    <tr>\n      <th>4</th>\n      <td>Kanye West</td>\n      <td>302868003</td>\n      <td>4648531</td>\n      <td>164f0d73-1234-4e2c-8743-d77bf2191051</td>\n      <td>https://www.last.fm/music/Kanye+West</td>\n      <td>0</td>\n      <td>[{'#text': 'https://lastfm.freetls.fastly.net/...</td>\n    </tr>\n  </tbody>\n</table>\n</div>"
     },
     "metadata": {},
     "execution_count": 152
    }
   ],
   "source": [
    "r0 = responses[0]\n",
    "r0_json = responses[0].json()\n",
    "r0_artists = r0_json['artists']['artist']\n",
    "r0_df = pd.DataFrame(r0_artists)\n",
    "r0_df.head() "
   ]
  },
  {
   "cell_type": "code",
   "execution_count": 153,
   "metadata": {
    "tags": []
   },
   "outputs": [
    {
     "output_type": "stream",
     "name": "stdout",
     "text": "<class 'pandas.core.frame.DataFrame'>\nInt64Index: 10100 entries, 0 to 999\nData columns (total 7 columns):\n #   Column      Non-Null Count  Dtype \n---  ------      --------------  ----- \n 0   name        10100 non-null  object\n 1   playcount   10100 non-null  object\n 2   listeners   10100 non-null  object\n 3   mbid        10100 non-null  object\n 4   url         10100 non-null  object\n 5   streamable  10100 non-null  object\n 6   image       10100 non-null  object\ndtypes: object(7)\nmemory usage: 631.2+ KB\n"
    }
   ],
   "source": [
    "frames = [pd.DataFrame(r.json()['artists']['artist']) for r in responses]\n",
    "artists = pd.concat(frames)\n",
    "artists.info()"
   ]
  },
  {
   "cell_type": "code",
   "execution_count": 154,
   "metadata": {},
   "outputs": [
    {
     "output_type": "execute_result",
     "data": {
      "text/plain": "            name  playcount listeners                                  mbid  \\\n0   Taylor Swift  268125255   2494732  20244d07-534f-4eff-b4d4-930878889970   \n1     The Weeknd  125834230   1616048  c8b03190-306c-4120-bb0b-6f2ebfc06ea9   \n2  Billie Eilish   68348860    866564                                         \n3      Lady Gaga  341894974   4086444  650e7db6-b795-4eb5-a702-5ea2fc46c848   \n4     Kanye West  302868003   4648531  164f0d73-1234-4e2c-8743-d77bf2191051   \n\n                                       url streamable  \n0   https://www.last.fm/music/Taylor+Swift          0  \n1     https://www.last.fm/music/The+Weeknd          0  \n2  https://www.last.fm/music/Billie+Eilish          0  \n3      https://www.last.fm/music/Lady+Gaga          0  \n4     https://www.last.fm/music/Kanye+West          0  ",
      "text/html": "<div>\n<style scoped>\n    .dataframe tbody tr th:only-of-type {\n        vertical-align: middle;\n    }\n\n    .dataframe tbody tr th {\n        vertical-align: top;\n    }\n\n    .dataframe thead th {\n        text-align: right;\n    }\n</style>\n<table border=\"1\" class=\"dataframe\">\n  <thead>\n    <tr style=\"text-align: right;\">\n      <th></th>\n      <th>name</th>\n      <th>playcount</th>\n      <th>listeners</th>\n      <th>mbid</th>\n      <th>url</th>\n      <th>streamable</th>\n    </tr>\n  </thead>\n  <tbody>\n    <tr>\n      <th>0</th>\n      <td>Taylor Swift</td>\n      <td>268125255</td>\n      <td>2494732</td>\n      <td>20244d07-534f-4eff-b4d4-930878889970</td>\n      <td>https://www.last.fm/music/Taylor+Swift</td>\n      <td>0</td>\n    </tr>\n    <tr>\n      <th>1</th>\n      <td>The Weeknd</td>\n      <td>125834230</td>\n      <td>1616048</td>\n      <td>c8b03190-306c-4120-bb0b-6f2ebfc06ea9</td>\n      <td>https://www.last.fm/music/The+Weeknd</td>\n      <td>0</td>\n    </tr>\n    <tr>\n      <th>2</th>\n      <td>Billie Eilish</td>\n      <td>68348860</td>\n      <td>866564</td>\n      <td></td>\n      <td>https://www.last.fm/music/Billie+Eilish</td>\n      <td>0</td>\n    </tr>\n    <tr>\n      <th>3</th>\n      <td>Lady Gaga</td>\n      <td>341894974</td>\n      <td>4086444</td>\n      <td>650e7db6-b795-4eb5-a702-5ea2fc46c848</td>\n      <td>https://www.last.fm/music/Lady+Gaga</td>\n      <td>0</td>\n    </tr>\n    <tr>\n      <th>4</th>\n      <td>Kanye West</td>\n      <td>302868003</td>\n      <td>4648531</td>\n      <td>164f0d73-1234-4e2c-8743-d77bf2191051</td>\n      <td>https://www.last.fm/music/Kanye+West</td>\n      <td>0</td>\n    </tr>\n  </tbody>\n</table>\n</div>"
     },
     "metadata": {},
     "execution_count": 154
    }
   ],
   "source": [
    "artists = artists.drop('image', axis=1)\n",
    "artists.head()"
   ]
  },
  {
   "cell_type": "code",
   "execution_count": 155,
   "metadata": {
    "tags": []
   },
   "outputs": [
    {
     "output_type": "stream",
     "name": "stdout",
     "text": "<class 'pandas.core.frame.DataFrame'>\nInt64Index: 10100 entries, 0 to 999\nData columns (total 6 columns):\n #   Column      Non-Null Count  Dtype \n---  ------      --------------  ----- \n 0   name        10100 non-null  object\n 1   playcount   10100 non-null  object\n 2   listeners   10100 non-null  object\n 3   mbid        10100 non-null  object\n 4   url         10100 non-null  object\n 5   streamable  10100 non-null  object\ndtypes: object(6)\nmemory usage: 552.3+ KB\n"
    }
   ],
   "source": [
    "artists.info()"
   ]
  },
  {
   "cell_type": "code",
   "execution_count": 156,
   "metadata": {},
   "outputs": [
    {
     "output_type": "execute_result",
     "data": {
      "text/plain": "          name playcount listeners   mbid                              url  \\\ncount    10100     10100     10100  10100                            10100   \nunique    9600      9587      9485   6603                             9600   \ntop     K.Will    178189     32781         https://www.last.fm/music/Scrim   \nfreq         2         3         3   3161                                2   \n\n       streamable  \ncount       10100  \nunique          1  \ntop             0  \nfreq        10100  ",
      "text/html": "<div>\n<style scoped>\n    .dataframe tbody tr th:only-of-type {\n        vertical-align: middle;\n    }\n\n    .dataframe tbody tr th {\n        vertical-align: top;\n    }\n\n    .dataframe thead th {\n        text-align: right;\n    }\n</style>\n<table border=\"1\" class=\"dataframe\">\n  <thead>\n    <tr style=\"text-align: right;\">\n      <th></th>\n      <th>name</th>\n      <th>playcount</th>\n      <th>listeners</th>\n      <th>mbid</th>\n      <th>url</th>\n      <th>streamable</th>\n    </tr>\n  </thead>\n  <tbody>\n    <tr>\n      <th>count</th>\n      <td>10100</td>\n      <td>10100</td>\n      <td>10100</td>\n      <td>10100</td>\n      <td>10100</td>\n      <td>10100</td>\n    </tr>\n    <tr>\n      <th>unique</th>\n      <td>9600</td>\n      <td>9587</td>\n      <td>9485</td>\n      <td>6603</td>\n      <td>9600</td>\n      <td>1</td>\n    </tr>\n    <tr>\n      <th>top</th>\n      <td>K.Will</td>\n      <td>178189</td>\n      <td>32781</td>\n      <td></td>\n      <td>https://www.last.fm/music/Scrim</td>\n      <td>0</td>\n    </tr>\n    <tr>\n      <th>freq</th>\n      <td>2</td>\n      <td>3</td>\n      <td>3</td>\n      <td>3161</td>\n      <td>2</td>\n      <td>10100</td>\n    </tr>\n  </tbody>\n</table>\n</div>"
     },
     "metadata": {},
     "execution_count": 156
    }
   ],
   "source": [
    "artists.describe()"
   ]
  },
  {
   "cell_type": "code",
   "execution_count": 157,
   "metadata": {},
   "outputs": [],
   "source": [
    "artist_counts = [len(r.json()['artists']['artist']) for r in responses]\n"
   ]
  },
  {
   "cell_type": "code",
   "execution_count": 158,
   "metadata": {},
   "outputs": [
    {
     "output_type": "execute_result",
     "data": {
      "text/plain": "0       6982\n500       18\n1000       1\n100        1\ndtype: int64"
     },
     "metadata": {},
     "execution_count": 158
    }
   ],
   "source": [
    "pd.Series(artist_counts).value_counts()"
   ]
  },
  {
   "cell_type": "code",
   "execution_count": 159,
   "metadata": {
    "tags": []
   },
   "outputs": [
    {
     "output_type": "stream",
     "name": "stdout",
     "text": "[500, 100, 500, 500, 500, 500, 500, 500, 500, 500, 500, 500, 500, 500, 500, 500, 500, 500, 500, 1000, 0, 0, 0, 0, 0, 0, 0, 0, 0, 0, 0, 0, 0, 0, 0, 0, 0, 0, 0, 0, 0, 0, 0, 0, 0, 0, 0, 0, 0, 0]\n"
    }
   ],
   "source": [
    "print(artist_counts[:50])"
   ]
  },
  {
   "cell_type": "code",
   "execution_count": 160,
   "metadata": {},
   "outputs": [
    {
     "output_type": "execute_result",
     "data": {
      "text/plain": "               name playcount listeners  mbid  \\\ncount          9600      9600      9600  9600   \nunique         9600      9587      9485  6603   \ntop     Syd Barrett    286429     85737         \nfreq              1         2         3  2975   \n\n                                           url streamable  \ncount                                     9600       9600  \nunique                                    9600          1  \ntop     https://www.last.fm/music/The+Bad+Plus          0  \nfreq                                         1       9600  ",
      "text/html": "<div>\n<style scoped>\n    .dataframe tbody tr th:only-of-type {\n        vertical-align: middle;\n    }\n\n    .dataframe tbody tr th {\n        vertical-align: top;\n    }\n\n    .dataframe thead th {\n        text-align: right;\n    }\n</style>\n<table border=\"1\" class=\"dataframe\">\n  <thead>\n    <tr style=\"text-align: right;\">\n      <th></th>\n      <th>name</th>\n      <th>playcount</th>\n      <th>listeners</th>\n      <th>mbid</th>\n      <th>url</th>\n      <th>streamable</th>\n    </tr>\n  </thead>\n  <tbody>\n    <tr>\n      <th>count</th>\n      <td>9600</td>\n      <td>9600</td>\n      <td>9600</td>\n      <td>9600</td>\n      <td>9600</td>\n      <td>9600</td>\n    </tr>\n    <tr>\n      <th>unique</th>\n      <td>9600</td>\n      <td>9587</td>\n      <td>9485</td>\n      <td>6603</td>\n      <td>9600</td>\n      <td>1</td>\n    </tr>\n    <tr>\n      <th>top</th>\n      <td>Syd Barrett</td>\n      <td>286429</td>\n      <td>85737</td>\n      <td></td>\n      <td>https://www.last.fm/music/The+Bad+Plus</td>\n      <td>0</td>\n    </tr>\n    <tr>\n      <th>freq</th>\n      <td>1</td>\n      <td>2</td>\n      <td>3</td>\n      <td>2975</td>\n      <td>1</td>\n      <td>9600</td>\n    </tr>\n  </tbody>\n</table>\n</div>"
     },
     "metadata": {},
     "execution_count": 160
    }
   ],
   "source": [
    "artists = artists.drop_duplicates().reset_index(drop=True)\n",
    "artists.describe()"
   ]
  },
  {
   "cell_type": "code",
   "execution_count": 161,
   "metadata": {},
   "outputs": [],
   "source": [
    "def lookup_tags(artist):\n",
    "    \n",
    "    response = lastfm_get({\n",
    "        'method': 'artist.getTopTags',\n",
    "        'artist': artist\n",
    "    })\n",
    "\n",
    "    # if there's an error, return nothing\n",
    "    if response.status_code != 200:\n",
    "        return None\n",
    "    \n",
    "    # extract the top three tags and turn them into a string\n",
    "    tags =[t['name'] for t in response.json()['toptags']['tag'][:3]]\n",
    "    tags_str = ', '.join(tags)\n",
    "\n",
    "    # rate limiting\n",
    "    if not getattr(response, 'from_cache', False):\n",
    "        time.sleep(0.25)\n",
    "    \n",
    "    return tags_str"
   ]
  },
  {
   "cell_type": "code",
   "execution_count": 162,
   "metadata": {},
   "outputs": [],
   "source": [
    "from tqdm import tqdm"
   ]
  },
  {
   "cell_type": "code",
   "execution_count": 163,
   "metadata": {},
   "outputs": [],
   "source": [
    "tqdm.pandas()"
   ]
  },
  {
   "cell_type": "code",
   "execution_count": 164,
   "metadata": {
    "tags": []
   },
   "outputs": [
    {
     "output_type": "stream",
     "name": "stderr",
     "text": "100%|██████████| 9600/9600 [01:36<00:00, 99.13it/s]\n"
    }
   ],
   "source": [
    "artists['tags'] = artists['name'].progress_apply(lookup_tags)"
   ]
  },
  {
   "cell_type": "code",
   "execution_count": 169,
   "metadata": {},
   "outputs": [],
   "source": [
    "# converting listeners and playcounts to int type\n",
    "\n",
    "artists[[\"playcount\", \"listeners\"]] = artists[[\"playcount\", \"listeners\"]].astype(int)"
   ]
  },
  {
   "cell_type": "code",
   "execution_count": 170,
   "metadata": {},
   "outputs": [
    {
     "output_type": "execute_result",
     "data": {
      "text/plain": "                     name  playcount  listeners  \\\n24               Coldplay  378637547    5586348   \n17              Radiohead  531866332    4915128   \n10                Rihanna  218380083    4798610   \n34  Red Hot Chili Peppers  310038207    4787749   \n31                 Eminem  222715169    4741473   \n\n                                    mbid  \\\n24  cc197bad-dc9c-440d-a5b5-d52ba2e14234   \n17  a74b1b7f-71a5-4011-9441-d0b5e4122711   \n10  db36a76f-4cdf-43ac-8cd0-5e48092d2bae   \n34  8bfac288-ccc5-448d-9573-c33ea2aa5c30   \n31  b95ce3ff-3d05-4e87-9e01-c97b66af13d4   \n\n                                                url streamable  \\\n24               https://www.last.fm/music/Coldplay          0   \n17              https://www.last.fm/music/Radiohead          0   \n10                https://www.last.fm/music/Rihanna          0   \n34  https://www.last.fm/music/Red+Hot+Chili+Peppers          0   \n31                 https://www.last.fm/music/Eminem          0   \n\n                                   tags  \n24           rock, alternative, britpop  \n17  alternative, alternative rock, rock  \n10           pop, rnb, female vocalists  \n34  rock, alternative rock, alternative  \n31                 rap, Hip-Hop, Eminem  ",
      "text/html": "<div>\n<style scoped>\n    .dataframe tbody tr th:only-of-type {\n        vertical-align: middle;\n    }\n\n    .dataframe tbody tr th {\n        vertical-align: top;\n    }\n\n    .dataframe thead th {\n        text-align: right;\n    }\n</style>\n<table border=\"1\" class=\"dataframe\">\n  <thead>\n    <tr style=\"text-align: right;\">\n      <th></th>\n      <th>name</th>\n      <th>playcount</th>\n      <th>listeners</th>\n      <th>mbid</th>\n      <th>url</th>\n      <th>streamable</th>\n      <th>tags</th>\n    </tr>\n  </thead>\n  <tbody>\n    <tr>\n      <th>24</th>\n      <td>Coldplay</td>\n      <td>378637547</td>\n      <td>5586348</td>\n      <td>cc197bad-dc9c-440d-a5b5-d52ba2e14234</td>\n      <td>https://www.last.fm/music/Coldplay</td>\n      <td>0</td>\n      <td>rock, alternative, britpop</td>\n    </tr>\n    <tr>\n      <th>17</th>\n      <td>Radiohead</td>\n      <td>531866332</td>\n      <td>4915128</td>\n      <td>a74b1b7f-71a5-4011-9441-d0b5e4122711</td>\n      <td>https://www.last.fm/music/Radiohead</td>\n      <td>0</td>\n      <td>alternative, alternative rock, rock</td>\n    </tr>\n    <tr>\n      <th>10</th>\n      <td>Rihanna</td>\n      <td>218380083</td>\n      <td>4798610</td>\n      <td>db36a76f-4cdf-43ac-8cd0-5e48092d2bae</td>\n      <td>https://www.last.fm/music/Rihanna</td>\n      <td>0</td>\n      <td>pop, rnb, female vocalists</td>\n    </tr>\n    <tr>\n      <th>34</th>\n      <td>Red Hot Chili Peppers</td>\n      <td>310038207</td>\n      <td>4787749</td>\n      <td>8bfac288-ccc5-448d-9573-c33ea2aa5c30</td>\n      <td>https://www.last.fm/music/Red+Hot+Chili+Peppers</td>\n      <td>0</td>\n      <td>rock, alternative rock, alternative</td>\n    </tr>\n    <tr>\n      <th>31</th>\n      <td>Eminem</td>\n      <td>222715169</td>\n      <td>4741473</td>\n      <td>b95ce3ff-3d05-4e87-9e01-c97b66af13d4</td>\n      <td>https://www.last.fm/music/Eminem</td>\n      <td>0</td>\n      <td>rap, Hip-Hop, Eminem</td>\n    </tr>\n  </tbody>\n</table>\n</div>"
     },
     "metadata": {},
     "execution_count": 170
    }
   ],
   "source": [
    "# sorting by number of listeners\n",
    "\n",
    "artists = artists.sort_values('listeners', ascending= False)\n",
    "artists.head()"
   ]
  },
  {
   "cell_type": "code",
   "execution_count": 171,
   "metadata": {},
   "outputs": [],
   "source": [
    "artists.to_csv('artists.csv', index=False)"
   ]
  },
  {
   "cell_type": "code",
   "execution_count": 172,
   "metadata": {},
   "outputs": [
    {
     "output_type": "execute_result",
     "data": {
      "text/plain": "                       name  playcount  listeners  \\\n24                 Coldplay  378637547    5586348   \n17                Radiohead  531866332    4915128   \n10                  Rihanna  218380083    4798610   \n34    Red Hot Chili Peppers  310038207    4787749   \n31                   Eminem  222715169    4741473   \n...                     ...        ...        ...   \n7859          Jesse Draxler       7616       4478   \n8401                   HVME      18678       4214   \n8104                 I-Land      70309       4075   \n8967               Universo      13222       4020   \n8015                Skandra       8806       3840   \n\n                                      mbid  \\\n24    cc197bad-dc9c-440d-a5b5-d52ba2e14234   \n17    a74b1b7f-71a5-4011-9441-d0b5e4122711   \n10    db36a76f-4cdf-43ac-8cd0-5e48092d2bae   \n34    8bfac288-ccc5-448d-9573-c33ea2aa5c30   \n31    b95ce3ff-3d05-4e87-9e01-c97b66af13d4   \n...                                    ...   \n7859                                         \n8401                                         \n8104  1ef11458-7f5b-4c58-a650-89e2ef6110bb   \n8967                                         \n8015                                         \n\n                                                  url streamable  \\\n24                 https://www.last.fm/music/Coldplay          0   \n17                https://www.last.fm/music/Radiohead          0   \n10                  https://www.last.fm/music/Rihanna          0   \n34    https://www.last.fm/music/Red+Hot+Chili+Peppers          0   \n31                   https://www.last.fm/music/Eminem          0   \n...                                               ...        ...   \n7859          https://www.last.fm/music/Jesse+Draxler          0   \n8401                   https://www.last.fm/music/HVME          0   \n8104                 https://www.last.fm/music/I-Land          0   \n8967               https://www.last.fm/music/Universo          0   \n8015                https://www.last.fm/music/Skandra          0   \n\n                                     tags  \n24             rock, alternative, britpop  \n17    alternative, alternative rock, rock  \n10             pop, rnb, female vocalists  \n34    rock, alternative rock, alternative  \n31                   rap, Hip-Hop, Eminem  \n...                                   ...  \n7859                                  USA  \n8401                                       \n8104                                       \n8967                           deep house  \n8015                                       \n\n[9600 rows x 7 columns]",
      "text/html": "<div>\n<style scoped>\n    .dataframe tbody tr th:only-of-type {\n        vertical-align: middle;\n    }\n\n    .dataframe tbody tr th {\n        vertical-align: top;\n    }\n\n    .dataframe thead th {\n        text-align: right;\n    }\n</style>\n<table border=\"1\" class=\"dataframe\">\n  <thead>\n    <tr style=\"text-align: right;\">\n      <th></th>\n      <th>name</th>\n      <th>playcount</th>\n      <th>listeners</th>\n      <th>mbid</th>\n      <th>url</th>\n      <th>streamable</th>\n      <th>tags</th>\n    </tr>\n  </thead>\n  <tbody>\n    <tr>\n      <th>24</th>\n      <td>Coldplay</td>\n      <td>378637547</td>\n      <td>5586348</td>\n      <td>cc197bad-dc9c-440d-a5b5-d52ba2e14234</td>\n      <td>https://www.last.fm/music/Coldplay</td>\n      <td>0</td>\n      <td>rock, alternative, britpop</td>\n    </tr>\n    <tr>\n      <th>17</th>\n      <td>Radiohead</td>\n      <td>531866332</td>\n      <td>4915128</td>\n      <td>a74b1b7f-71a5-4011-9441-d0b5e4122711</td>\n      <td>https://www.last.fm/music/Radiohead</td>\n      <td>0</td>\n      <td>alternative, alternative rock, rock</td>\n    </tr>\n    <tr>\n      <th>10</th>\n      <td>Rihanna</td>\n      <td>218380083</td>\n      <td>4798610</td>\n      <td>db36a76f-4cdf-43ac-8cd0-5e48092d2bae</td>\n      <td>https://www.last.fm/music/Rihanna</td>\n      <td>0</td>\n      <td>pop, rnb, female vocalists</td>\n    </tr>\n    <tr>\n      <th>34</th>\n      <td>Red Hot Chili Peppers</td>\n      <td>310038207</td>\n      <td>4787749</td>\n      <td>8bfac288-ccc5-448d-9573-c33ea2aa5c30</td>\n      <td>https://www.last.fm/music/Red+Hot+Chili+Peppers</td>\n      <td>0</td>\n      <td>rock, alternative rock, alternative</td>\n    </tr>\n    <tr>\n      <th>31</th>\n      <td>Eminem</td>\n      <td>222715169</td>\n      <td>4741473</td>\n      <td>b95ce3ff-3d05-4e87-9e01-c97b66af13d4</td>\n      <td>https://www.last.fm/music/Eminem</td>\n      <td>0</td>\n      <td>rap, Hip-Hop, Eminem</td>\n    </tr>\n    <tr>\n      <th>...</th>\n      <td>...</td>\n      <td>...</td>\n      <td>...</td>\n      <td>...</td>\n      <td>...</td>\n      <td>...</td>\n      <td>...</td>\n    </tr>\n    <tr>\n      <th>7859</th>\n      <td>Jesse Draxler</td>\n      <td>7616</td>\n      <td>4478</td>\n      <td></td>\n      <td>https://www.last.fm/music/Jesse+Draxler</td>\n      <td>0</td>\n      <td>USA</td>\n    </tr>\n    <tr>\n      <th>8401</th>\n      <td>HVME</td>\n      <td>18678</td>\n      <td>4214</td>\n      <td></td>\n      <td>https://www.last.fm/music/HVME</td>\n      <td>0</td>\n      <td></td>\n    </tr>\n    <tr>\n      <th>8104</th>\n      <td>I-Land</td>\n      <td>70309</td>\n      <td>4075</td>\n      <td>1ef11458-7f5b-4c58-a650-89e2ef6110bb</td>\n      <td>https://www.last.fm/music/I-Land</td>\n      <td>0</td>\n      <td></td>\n    </tr>\n    <tr>\n      <th>8967</th>\n      <td>Universo</td>\n      <td>13222</td>\n      <td>4020</td>\n      <td></td>\n      <td>https://www.last.fm/music/Universo</td>\n      <td>0</td>\n      <td>deep house</td>\n    </tr>\n    <tr>\n      <th>8015</th>\n      <td>Skandra</td>\n      <td>8806</td>\n      <td>3840</td>\n      <td></td>\n      <td>https://www.last.fm/music/Skandra</td>\n      <td>0</td>\n      <td></td>\n    </tr>\n  </tbody>\n</table>\n<p>9600 rows × 7 columns</p>\n</div>"
     },
     "metadata": {},
     "execution_count": 172
    }
   ],
   "source": [
    "artists"
   ]
  }
 ]
}