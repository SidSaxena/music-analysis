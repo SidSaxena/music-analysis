{
 "metadata": {
  "language_info": {
   "codemirror_mode": {
    "name": "ipython",
    "version": 3
   },
   "file_extension": ".py",
   "mimetype": "text/x-python",
   "name": "python",
   "nbconvert_exporter": "python",
   "pygments_lexer": "ipython3",
   "version": "3.8.2-final"
  },
  "orig_nbformat": 2,
  "kernelspec": {
   "name": "python38264bitbf0b7ef9fc924619ab877e804e46f0ca",
   "display_name": "Python 3.8.2 64-bit"
  }
 },
 "nbformat": 4,
 "nbformat_minor": 2,
 "cells": [
  {
   "cell_type": "code",
   "execution_count": null,
   "metadata": {},
   "outputs": [],
   "source": [
    "import requests\n",
    "import requests_cache\n",
    "from decouple import config\n",
    "import json\n",
    "import time"
   ]
  },
  {
   "cell_type": "code",
   "execution_count": null,
   "metadata": {},
   "outputs": [],
   "source": [
    "from IPython.core.display import clear_output"
   ]
  },
  {
   "cell_type": "code",
   "execution_count": null,
   "metadata": {},
   "outputs": [],
   "source": [
    "requests_cache.install_cache()"
   ]
  },
  {
   "cell_type": "code",
   "execution_count": null,
   "metadata": {},
   "outputs": [],
   "source": [
    "API_KEY = config('API_KEY')\n",
    "SHARED_SECRET = config('SHARED_SECRET')\n",
    "CALLBACK = config('CALLBACK')"
   ]
  },
  {
   "cell_type": "code",
   "execution_count": null,
   "metadata": {},
   "outputs": [],
   "source": [
    "USER_AGENT = 'SidSaxena'"
   ]
  },
  {
   "cell_type": "code",
   "execution_count": null,
   "metadata": {},
   "outputs": [],
   "source": [
    "def lastfm_get(payload):\n",
    "    #define headers and URL\n",
    "    headers = {'user-agent': USER_AGENT}\n",
    "    url = 'http://ws.audioscrobbler.com/2.0/'\n",
    "\n",
    "    #api key and format to the payload\n",
    "    payload['api_key'] = API_KEY\n",
    "    payload['format'] = 'json'\n",
    "\n",
    "    response = requests.get(url=url, headers=headers, params=payload)\n",
    "    return response"
   ]
  },
  {
   "cell_type": "code",
   "execution_count": null,
   "metadata": {},
   "outputs": [],
   "source": [
    "def jprint(obj):\n",
    "    # create a formatted string from the json object\n",
    "    text = json.dumps(obj, sort_keys=True, indent=4)\n",
    "    print(text)"
   ]
  },
  {
   "cell_type": "code",
   "execution_count": null,
   "metadata": {
    "tags": []
   },
   "outputs": [],
   "source": [
    "def getTopArtists():\n",
    "        \n",
    "    # empty list\n",
    "    responses = []\n",
    "\n",
    "    # inital page and high number of pages (wouldn't it result in an uneccesarily long loop?)\n",
    "    page = 1\n",
    "    total_pages = 3\n",
    "\n",
    "    while page < total_pages:\n",
    "        payload = {\n",
    "            'method': 'chart.gettopartists',\n",
    "            'limit': 500,\n",
    "            'page': page\n",
    "        }\n",
    "\n",
    "        #see status\n",
    "        print('Requesting Page {}/{}'.format(page, total_pages))\n",
    "        #clear output\n",
    "        clear_output(wait=True)\n",
    "\n",
    "        # make api call\n",
    "        response = lastfm_get(payload)\n",
    "\n",
    "        # if we get an error, print and halt\n",
    "        if response.status_code != 200:\n",
    "            print(response.text)\n",
    "            break\n",
    "\n",
    "        # extract pagination info\n",
    "        page = int(response.json()['artists']['@attr']['page'])\n",
    "        total_pages = int(response.json()['artists']['@attr']['totalPages'])\n",
    "\n",
    "        # append response\n",
    "        responses.append(response)\n",
    "\n",
    "        # if not cached, sleep\n",
    "        if not getattr(response, 'from_cache', False):\n",
    "            time.sleep(0.25)\n",
    "\n",
    "        page += 1\n",
    "\n",
    "    return responses"
   ]
  },
  {
   "cell_type": "code",
   "execution_count": null,
   "metadata": {
    "tags": []
   },
   "outputs": [],
   "source": [
    "responses = getTopArtists()"
   ]
  },
  {
   "cell_type": "code",
   "execution_count": null,
   "metadata": {},
   "outputs": [],
   "source": [
    "import pandas as pd"
   ]
  },
  {
   "cell_type": "code",
   "execution_count": null,
   "metadata": {},
   "outputs": [],
   "source": [
    "r0 = responses[0]\n",
    "r0_json = responses[0].json()\n",
    "r0_artists = r0_json['artists']['artist']\n",
    "r0_df = pd.DataFrame(r0_artists)\n",
    "r0_df.head() "
   ]
  },
  {
   "cell_type": "code",
   "execution_count": null,
   "metadata": {
    "tags": []
   },
   "outputs": [],
   "source": [
    "frames = [pd.DataFrame(r.json()['artists']['artist']) for r in responses]\n",
    "artists = pd.concat(frames)\n",
    "artists.info()"
   ]
  },
  {
   "cell_type": "code",
   "execution_count": null,
   "metadata": {},
   "outputs": [],
   "source": [
    "artists = artists.drop('image', axis=1)\n",
    "artists.head()"
   ]
  },
  {
   "cell_type": "code",
   "execution_count": null,
   "metadata": {
    "tags": []
   },
   "outputs": [],
   "source": [
    "artists.info()"
   ]
  },
  {
   "cell_type": "code",
   "execution_count": null,
   "metadata": {},
   "outputs": [],
   "source": [
    "artists.describe()"
   ]
  },
  {
   "cell_type": "code",
   "execution_count": null,
   "metadata": {},
   "outputs": [],
   "source": [
    "artist_counts = [len(r.json()['artists']['artist']) for r in responses]\n"
   ]
  },
  {
   "cell_type": "code",
   "execution_count": null,
   "metadata": {},
   "outputs": [],
   "source": [
    "pd.Series(artist_counts).value_counts()"
   ]
  },
  {
   "cell_type": "code",
   "execution_count": null,
   "metadata": {
    "tags": []
   },
   "outputs": [],
   "source": [
    "print(artist_counts[:50])"
   ]
  },
  {
   "cell_type": "code",
   "execution_count": null,
   "metadata": {},
   "outputs": [],
   "source": [
    "artists = artists.drop_duplicates().reset_index(drop=True)\n",
    "artists.describe()"
   ]
  },
  {
   "cell_type": "code",
   "execution_count": null,
   "metadata": {},
   "outputs": [],
   "source": [
    "def lookup_tags(artist):\n",
    "    \n",
    "    response = lastfm_get({\n",
    "        'method': 'artist.getTopTags',\n",
    "        'artist': artist\n",
    "    })\n",
    "\n",
    "    # if there's an error, return nothing\n",
    "    if response.status_code != 200:\n",
    "        return None\n",
    "    \n",
    "    # extract the top three tags and turn them into a string\n",
    "    tags =[t['name'] for t in response.json()['toptags']['tag'][:3]]\n",
    "    tags_str = ', '.join(tags)\n",
    "\n",
    "    # rate limiting\n",
    "    if not getattr(response, 'from_cache', False):\n",
    "        time.sleep(0.25)\n",
    "    \n",
    "    return tags_str"
   ]
  },
  {
   "cell_type": "code",
   "execution_count": null,
   "metadata": {},
   "outputs": [],
   "source": [
    "from tqdm import tqdm"
   ]
  },
  {
   "cell_type": "code",
   "execution_count": null,
   "metadata": {},
   "outputs": [],
   "source": [
    "tqdm.pandas()"
   ]
  },
  {
   "cell_type": "code",
   "execution_count": null,
   "metadata": {
    "tags": []
   },
   "outputs": [],
   "source": [
    "artists['tags'] = artists['name'].progress_apply(lookup_tags)"
   ]
  },
  {
   "cell_type": "code",
   "execution_count": null,
   "metadata": {},
   "outputs": [],
   "source": [
    "# converting listeners and playcounts to numeric\n",
    "\n",
    "artists[['playcount', 'listeners']] = artists[['playcount, listeners']].astype(int)"
   ]
  },
  {
   "cell_type": "code",
   "execution_count": null,
   "metadata": {},
   "outputs": [],
   "source": [
    "# sorting by number of listeners\n",
    "\n",
    "artists = artists.sort_values('listeners', ascending= False)\n",
    "artists.head()"
   ]
  },
  {
   "cell_type": "code",
   "execution_count": null,
   "metadata": {},
   "outputs": [],
   "source": [
    "artists.to_csv('artists.csv', index=False)"
   ]
  },
  {
   "cell_type": "code",
   "execution_count": null,
   "metadata": {},
   "outputs": [],
   "source": []
  }
 ]
}