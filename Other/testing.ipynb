{
 "metadata": {
  "language_info": {
   "codemirror_mode": {
    "name": "ipython",
    "version": 3
   },
   "file_extension": ".py",
   "mimetype": "text/x-python",
   "name": "python",
   "nbconvert_exporter": "python",
   "pygments_lexer": "ipython3",
   "version": "3.8.6-final"
  },
  "orig_nbformat": 2,
  "kernelspec": {
   "name": "python3",
   "display_name": "Python 3",
   "language": "python"
  }
 },
 "nbformat": 4,
 "nbformat_minor": 2,
 "cells": [
  {
   "cell_type": "code",
   "execution_count": 120,
   "metadata": {},
   "outputs": [],
   "source": [
    "pd.reset_option('display.max_rows')"
   ]
  },
  {
   "cell_type": "code",
   "execution_count": 121,
   "metadata": {},
   "outputs": [],
   "source": [
    "import numpy as np\n",
    "import matplotlib.pyplot as plt\n",
    "import pandas as pd"
   ]
  },
  {
   "cell_type": "code",
   "execution_count": 122,
   "metadata": {},
   "outputs": [
    {
     "output_type": "execute_result",
     "data": {
      "text/plain": [
       "             artist                             album  \\\n",
       "33      Iron & Wine                  Call It Dreaming   \n",
       "13   Tyler Burkhart                       Sweet spell   \n",
       "38        The Kooks                 Junk Of The Heart   \n",
       "27   The Chieftains                     Voice of Ages   \n",
       "29  The Band CAMINO  I Spend Too Much Time in My Room   \n",
       "\n",
       "                          track_name                track_id  popularity  \\\n",
       "33                  Call It Dreaming  0iWUW8UNkmyUa8Aa6anow6          27   \n",
       "13       In the bathtub of the world  5oE2tnxS2GUe1oxDbVjvls          35   \n",
       "38         Junk Of The Heart (Happy)  5p50gxcAYYeWPrBVEPHgUt          28   \n",
       "27         Down In The Willow Garden  1lryIQgUxmnNNh37oLCN6G          41   \n",
       "29  I Spend Too Much Time in My Room  6XHikJpK06NoXaFwkH4tPL          50   \n",
       "\n",
       "                                               genres  danceability  energy  \\\n",
       "33  ['acoustic pop', 'indie folk', 'indie pop', 'n...         0.509   0.515   \n",
       "13                             ['lancaster pa indie']         0.560   0.443   \n",
       "38          ['brighton indie', 'modern rock', 'rock']         0.604   0.894   \n",
       "27                           ['celtic', 'irish folk']         0.264   0.155   \n",
       "29  ['electropop', 'hopebeat', 'indie cafe pop', '...         0.480   0.439   \n",
       "\n",
       "    key  loudness  mode  speechiness  instrumentalness  liveness  valence  \\\n",
       "33    5    -9.442     1       0.0316          0.000058    0.0966    0.717   \n",
       "13    0    -8.395     0       0.0277          0.844000    0.0964    0.150   \n",
       "38    2    -5.000     1       0.0370          0.000000    0.0299    0.901   \n",
       "27    9   -15.250     1       0.0329          0.130000    0.1070    0.181   \n",
       "29    9    -7.221     1       0.0250          0.003850    0.5140    0.152   \n",
       "\n",
       "      tempo  duration_ms  time_signature  reverb  \n",
       "33   80.089       231760               4       0  \n",
       "13  119.869       442848               3       1  \n",
       "38  145.017       187253               4       0  \n",
       "27   98.414       256067               3       0  \n",
       "29   97.055       272378               4       0  "
      ],
      "text/html": "<div>\n<style scoped>\n    .dataframe tbody tr th:only-of-type {\n        vertical-align: middle;\n    }\n\n    .dataframe tbody tr th {\n        vertical-align: top;\n    }\n\n    .dataframe thead th {\n        text-align: right;\n    }\n</style>\n<table border=\"1\" class=\"dataframe\">\n  <thead>\n    <tr style=\"text-align: right;\">\n      <th></th>\n      <th>artist</th>\n      <th>album</th>\n      <th>track_name</th>\n      <th>track_id</th>\n      <th>popularity</th>\n      <th>genres</th>\n      <th>danceability</th>\n      <th>energy</th>\n      <th>key</th>\n      <th>loudness</th>\n      <th>mode</th>\n      <th>speechiness</th>\n      <th>instrumentalness</th>\n      <th>liveness</th>\n      <th>valence</th>\n      <th>tempo</th>\n      <th>duration_ms</th>\n      <th>time_signature</th>\n      <th>reverb</th>\n    </tr>\n  </thead>\n  <tbody>\n    <tr>\n      <th>33</th>\n      <td>Iron &amp; Wine</td>\n      <td>Call It Dreaming</td>\n      <td>Call It Dreaming</td>\n      <td>0iWUW8UNkmyUa8Aa6anow6</td>\n      <td>27</td>\n      <td>['acoustic pop', 'indie folk', 'indie pop', 'n...</td>\n      <td>0.509</td>\n      <td>0.515</td>\n      <td>5</td>\n      <td>-9.442</td>\n      <td>1</td>\n      <td>0.0316</td>\n      <td>0.000058</td>\n      <td>0.0966</td>\n      <td>0.717</td>\n      <td>80.089</td>\n      <td>231760</td>\n      <td>4</td>\n      <td>0</td>\n    </tr>\n    <tr>\n      <th>13</th>\n      <td>Tyler Burkhart</td>\n      <td>Sweet spell</td>\n      <td>In the bathtub of the world</td>\n      <td>5oE2tnxS2GUe1oxDbVjvls</td>\n      <td>35</td>\n      <td>['lancaster pa indie']</td>\n      <td>0.560</td>\n      <td>0.443</td>\n      <td>0</td>\n      <td>-8.395</td>\n      <td>0</td>\n      <td>0.0277</td>\n      <td>0.844000</td>\n      <td>0.0964</td>\n      <td>0.150</td>\n      <td>119.869</td>\n      <td>442848</td>\n      <td>3</td>\n      <td>1</td>\n    </tr>\n    <tr>\n      <th>38</th>\n      <td>The Kooks</td>\n      <td>Junk Of The Heart</td>\n      <td>Junk Of The Heart (Happy)</td>\n      <td>5p50gxcAYYeWPrBVEPHgUt</td>\n      <td>28</td>\n      <td>['brighton indie', 'modern rock', 'rock']</td>\n      <td>0.604</td>\n      <td>0.894</td>\n      <td>2</td>\n      <td>-5.000</td>\n      <td>1</td>\n      <td>0.0370</td>\n      <td>0.000000</td>\n      <td>0.0299</td>\n      <td>0.901</td>\n      <td>145.017</td>\n      <td>187253</td>\n      <td>4</td>\n      <td>0</td>\n    </tr>\n    <tr>\n      <th>27</th>\n      <td>The Chieftains</td>\n      <td>Voice of Ages</td>\n      <td>Down In The Willow Garden</td>\n      <td>1lryIQgUxmnNNh37oLCN6G</td>\n      <td>41</td>\n      <td>['celtic', 'irish folk']</td>\n      <td>0.264</td>\n      <td>0.155</td>\n      <td>9</td>\n      <td>-15.250</td>\n      <td>1</td>\n      <td>0.0329</td>\n      <td>0.130000</td>\n      <td>0.1070</td>\n      <td>0.181</td>\n      <td>98.414</td>\n      <td>256067</td>\n      <td>3</td>\n      <td>0</td>\n    </tr>\n    <tr>\n      <th>29</th>\n      <td>The Band CAMINO</td>\n      <td>I Spend Too Much Time in My Room</td>\n      <td>I Spend Too Much Time in My Room</td>\n      <td>6XHikJpK06NoXaFwkH4tPL</td>\n      <td>50</td>\n      <td>['electropop', 'hopebeat', 'indie cafe pop', '...</td>\n      <td>0.480</td>\n      <td>0.439</td>\n      <td>9</td>\n      <td>-7.221</td>\n      <td>1</td>\n      <td>0.0250</td>\n      <td>0.003850</td>\n      <td>0.5140</td>\n      <td>0.152</td>\n      <td>97.055</td>\n      <td>272378</td>\n      <td>4</td>\n      <td>0</td>\n    </tr>\n  </tbody>\n</table>\n</div>"
     },
     "metadata": {},
     "execution_count": 122
    }
   ],
   "source": [
    "test = pd.read_csv('Sample.csv')\n",
    "test.sample(5)"
   ]
  },
  {
   "cell_type": "code",
   "execution_count": 123,
   "metadata": {},
   "outputs": [],
   "source": [
    "test = test.drop('genres', axis=1)"
   ]
  },
  {
   "cell_type": "code",
   "execution_count": 124,
   "metadata": {},
   "outputs": [],
   "source": [
    "X = test.iloc[:, 4:-3].values\n",
    "y = test.iloc[:, -1].values"
   ]
  },
  {
   "cell_type": "code",
   "execution_count": 125,
   "metadata": {},
   "outputs": [],
   "source": [
    "from sklearn.model_selection import train_test_split\n",
    "X_train, X_test, y_train, y_test = train_test_split(X, y, test_size = 0.3, random_state = 0)"
   ]
  },
  {
   "cell_type": "code",
   "execution_count": 126,
   "metadata": {},
   "outputs": [],
   "source": [
    "from sklearn.preprocessing import StandardScaler\n",
    "sc = StandardScaler()\n",
    "X_train = sc.fit_transform(X_train)\n",
    "X_test = sc.transform(X_test)"
   ]
  },
  {
   "cell_type": "code",
   "execution_count": 127,
   "metadata": {},
   "outputs": [
    {
     "output_type": "execute_result",
     "data": {
      "text/plain": [
       "KNeighborsClassifier()"
      ]
     },
     "metadata": {},
     "execution_count": 127
    }
   ],
   "source": [
    "from sklearn.neighbors import KNeighborsClassifier\n",
    "knn = KNeighborsClassifier(n_neighbors = 5, metric = 'minkowski', p = 2)\n",
    "knn.fit(X_train, y_train)"
   ]
  },
  {
   "cell_type": "code",
   "execution_count": 128,
   "metadata": {},
   "outputs": [
    {
     "output_type": "stream",
     "name": "stdout",
     "text": [
      "[[0 0]\n [0 0]\n [0 0]\n [1 1]\n [1 1]\n [0 0]\n [0 0]\n [1 1]\n [1 0]\n [0 0]\n [0 0]\n [0 0]\n [0 0]]\n"
     ]
    }
   ],
   "source": [
    "predictions = knn.predict(X_test)\n",
    "print(np.concatenate((predictions.reshape(len(predictions),1), y_test.reshape(len(y_test),1)),1))"
   ]
  },
  {
   "cell_type": "code",
   "execution_count": 129,
   "metadata": {},
   "outputs": [
    {
     "output_type": "stream",
     "name": "stdout",
     "text": [
      "[[9 1]\n [0 3]]\n"
     ]
    },
    {
     "output_type": "execute_result",
     "data": {
      "text/plain": [
       "0.9230769230769231"
      ]
     },
     "metadata": {},
     "execution_count": 129
    }
   ],
   "source": [
    "from sklearn.metrics import confusion_matrix, accuracy_score\n",
    "print(confusion_matrix(y_test, predictions))\n",
    "accuracy_score(y_test, predictions)"
   ]
  },
  {
   "cell_type": "code",
   "execution_count": 130,
   "metadata": {},
   "outputs": [
    {
     "output_type": "execute_result",
     "data": {
      "text/plain": [
       "Index(['artist', 'album', 'track_name', 'track_id', 'popularity',\n",
       "       'danceability', 'energy', 'key', 'loudness', 'mode', 'speechiness',\n",
       "       'instrumentalness', 'liveness', 'valence', 'tempo', 'duration_ms',\n",
       "       'time_signature', 'reverb'],\n",
       "      dtype='object')"
      ]
     },
     "metadata": {},
     "execution_count": 130
    }
   ],
   "source": [
    "test.columns"
   ]
  },
  {
   "cell_type": "code",
   "execution_count": 182,
   "metadata": {},
   "outputs": [
    {
     "output_type": "execute_result",
     "data": {
      "text/plain": [
       "   popularity  danceability  energy  key  loudness  mode  speechiness  \\\n",
       "0          73         0.369   0.467    5    -9.018     1       0.0274   \n",
       "\n",
       "   instrumentalness  liveness  valence   tempo  \n",
       "0              0.46     0.109    0.174  94.473  "
      ],
      "text/html": "<div>\n<style scoped>\n    .dataframe tbody tr th:only-of-type {\n        vertical-align: middle;\n    }\n\n    .dataframe tbody tr th {\n        vertical-align: top;\n    }\n\n    .dataframe thead th {\n        text-align: right;\n    }\n</style>\n<table border=\"1\" class=\"dataframe\">\n  <thead>\n    <tr style=\"text-align: right;\">\n      <th></th>\n      <th>popularity</th>\n      <th>danceability</th>\n      <th>energy</th>\n      <th>key</th>\n      <th>loudness</th>\n      <th>mode</th>\n      <th>speechiness</th>\n      <th>instrumentalness</th>\n      <th>liveness</th>\n      <th>valence</th>\n      <th>tempo</th>\n    </tr>\n  </thead>\n  <tbody>\n    <tr>\n      <th>0</th>\n      <td>73</td>\n      <td>0.369</td>\n      <td>0.467</td>\n      <td>5</td>\n      <td>-9.018</td>\n      <td>1</td>\n      <td>0.0274</td>\n      <td>0.46</td>\n      <td>0.109</td>\n      <td>0.174</td>\n      <td>94.473</td>\n    </tr>\n  </tbody>\n</table>\n</div>"
     },
     "metadata": {},
     "execution_count": 182
    }
   ],
   "source": [
    "test = pd.read_csv('test.csv')\n",
    "test = test[['popularity',\n",
    "       'danceability', 'energy', 'key', 'loudness', 'mode', 'speechiness',\n",
    "       'instrumentalness', 'liveness', 'valence', 'tempo']]\n",
    "test"
   ]
  },
  {
   "cell_type": "code",
   "execution_count": 183,
   "metadata": {},
   "outputs": [
    {
     "output_type": "execute_result",
     "data": {
      "text/plain": [
       "array([[ 7.3000e+01,  3.6900e-01,  4.6700e-01,  5.0000e+00, -9.0180e+00,\n",
       "         1.0000e+00,  2.7400e-02,  4.6000e-01,  1.0900e-01,  1.7400e-01,\n",
       "         9.4473e+01]])"
      ]
     },
     "metadata": {},
     "execution_count": 183
    }
   ],
   "source": [
    "test_X = test.values\n",
    "test_X"
   ]
  },
  {
   "cell_type": "code",
   "execution_count": 184,
   "metadata": {},
   "outputs": [
    {
     "output_type": "stream",
     "name": "stdout",
     "text": [
      "[0]\n"
     ]
    }
   ],
   "source": [
    "print(knn.predict(sc.transform(test_X)))"
   ]
  },
  {
   "cell_type": "code",
   "execution_count": null,
   "metadata": {},
   "outputs": [],
   "source": []
  }
 ]
}