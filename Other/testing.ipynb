{
 "metadata": {
  "language_info": {
   "codemirror_mode": {
    "name": "ipython",
    "version": 3
   },
   "file_extension": ".py",
   "mimetype": "text/x-python",
   "name": "python",
   "nbconvert_exporter": "python",
   "pygments_lexer": "ipython3",
   "version": "3.8.10"
  },
  "orig_nbformat": 2,
  "kernelspec": {
   "name": "python3",
   "display_name": "Python 3.8.10 64-bit ('music-analysis': conda)"
  },
  "interpreter": {
   "hash": "b81d7b16516e0b169a349b3b530154ad8574da31a44994525d1233200daef334"
  }
 },
 "nbformat": 4,
 "nbformat_minor": 2,
 "cells": [
  {
   "cell_type": "code",
   "execution_count": 1,
   "metadata": {},
   "outputs": [],
   "source": [
    "import numpy as np\n",
    "import matplotlib.pyplot as plt\n",
    "import pandas as pd"
   ]
  },
  {
   "cell_type": "code",
   "execution_count": 16,
   "metadata": {},
   "outputs": [
    {
     "output_type": "execute_result",
     "data": {
      "text/plain": [
       "                        artist                        album  \\\n",
       "31             The Paper Kites         twelvefour: outtakes   \n",
       "33                 Iron & Wine             Call It Dreaming   \n",
       "37       Red Hot Chili Peppers  By the Way (Deluxe Edition)   \n",
       "2                   CASTLEBEAT                   CASTLEBEAT   \n",
       "3   You'll Never Get to Heaven                       Images   \n",
       "\n",
       "           track_name                track_id  popularity  \\\n",
       "31              Holes  4fpAxDV1fhSHMotzyKkFhz          40   \n",
       "33   Call It Dreaming  0iWUW8UNkmyUa8Aa6anow6          27   \n",
       "37         Can't Stop  3ZOEytgrvLwQaqXreDs2Jx          82   \n",
       "2    Change Your Mind  4omurqpm7aWH9VVz2Ii4yO          54   \n",
       "3   Beyond the Clouds  6vMaCzTnismT6N45MDCMfa          41   \n",
       "\n",
       "                                               genres  danceability  energy  \\\n",
       "31  ['australian indie folk', 'indie folk', 'stomp...         0.526   0.318   \n",
       "33  ['acoustic pop', 'indie folk', 'indie pop', 'n...         0.509   0.515   \n",
       "37  ['alternative rock', 'funk metal', 'funk rock'...         0.618   0.938   \n",
       "2   ['bedroom pop', 'indie garage rock', 'indie po...         0.384   0.578   \n",
       "3       ['ambient pop', 'london on indie', 'nu gaze']         0.633   0.575   \n",
       "\n",
       "    key  loudness  mode  speechiness  instrumentalness  liveness  valence  \\\n",
       "31    1   -13.514     1       0.0280          0.347000    0.1030   0.1620   \n",
       "33    5    -9.442     1       0.0316          0.000058    0.0966   0.7170   \n",
       "37    9    -3.442     1       0.0456          0.000000    0.1670   0.8750   \n",
       "2    11    -9.624     1       0.0312          0.886000    0.1250   0.0984   \n",
       "3     7    -9.667     0       0.0298          0.924000    0.1050   0.2390   \n",
       "\n",
       "      tempo  duration_ms  time_signature  reverb  \n",
       "31   79.981       268933               3       0  \n",
       "33   80.089       231760               4       0  \n",
       "37   91.455       269000               4       0  \n",
       "2   150.013       297273               4       1  \n",
       "3   117.520       248681               4       1  "
      ],
      "text/html": "<div>\n<style scoped>\n    .dataframe tbody tr th:only-of-type {\n        vertical-align: middle;\n    }\n\n    .dataframe tbody tr th {\n        vertical-align: top;\n    }\n\n    .dataframe thead th {\n        text-align: right;\n    }\n</style>\n<table border=\"1\" class=\"dataframe\">\n  <thead>\n    <tr style=\"text-align: right;\">\n      <th></th>\n      <th>artist</th>\n      <th>album</th>\n      <th>track_name</th>\n      <th>track_id</th>\n      <th>popularity</th>\n      <th>genres</th>\n      <th>danceability</th>\n      <th>energy</th>\n      <th>key</th>\n      <th>loudness</th>\n      <th>mode</th>\n      <th>speechiness</th>\n      <th>instrumentalness</th>\n      <th>liveness</th>\n      <th>valence</th>\n      <th>tempo</th>\n      <th>duration_ms</th>\n      <th>time_signature</th>\n      <th>reverb</th>\n    </tr>\n  </thead>\n  <tbody>\n    <tr>\n      <th>31</th>\n      <td>The Paper Kites</td>\n      <td>twelvefour: outtakes</td>\n      <td>Holes</td>\n      <td>4fpAxDV1fhSHMotzyKkFhz</td>\n      <td>40</td>\n      <td>['australian indie folk', 'indie folk', 'stomp...</td>\n      <td>0.526</td>\n      <td>0.318</td>\n      <td>1</td>\n      <td>-13.514</td>\n      <td>1</td>\n      <td>0.0280</td>\n      <td>0.347000</td>\n      <td>0.1030</td>\n      <td>0.1620</td>\n      <td>79.981</td>\n      <td>268933</td>\n      <td>3</td>\n      <td>0</td>\n    </tr>\n    <tr>\n      <th>33</th>\n      <td>Iron &amp; Wine</td>\n      <td>Call It Dreaming</td>\n      <td>Call It Dreaming</td>\n      <td>0iWUW8UNkmyUa8Aa6anow6</td>\n      <td>27</td>\n      <td>['acoustic pop', 'indie folk', 'indie pop', 'n...</td>\n      <td>0.509</td>\n      <td>0.515</td>\n      <td>5</td>\n      <td>-9.442</td>\n      <td>1</td>\n      <td>0.0316</td>\n      <td>0.000058</td>\n      <td>0.0966</td>\n      <td>0.7170</td>\n      <td>80.089</td>\n      <td>231760</td>\n      <td>4</td>\n      <td>0</td>\n    </tr>\n    <tr>\n      <th>37</th>\n      <td>Red Hot Chili Peppers</td>\n      <td>By the Way (Deluxe Edition)</td>\n      <td>Can't Stop</td>\n      <td>3ZOEytgrvLwQaqXreDs2Jx</td>\n      <td>82</td>\n      <td>['alternative rock', 'funk metal', 'funk rock'...</td>\n      <td>0.618</td>\n      <td>0.938</td>\n      <td>9</td>\n      <td>-3.442</td>\n      <td>1</td>\n      <td>0.0456</td>\n      <td>0.000000</td>\n      <td>0.1670</td>\n      <td>0.8750</td>\n      <td>91.455</td>\n      <td>269000</td>\n      <td>4</td>\n      <td>0</td>\n    </tr>\n    <tr>\n      <th>2</th>\n      <td>CASTLEBEAT</td>\n      <td>CASTLEBEAT</td>\n      <td>Change Your Mind</td>\n      <td>4omurqpm7aWH9VVz2Ii4yO</td>\n      <td>54</td>\n      <td>['bedroom pop', 'indie garage rock', 'indie po...</td>\n      <td>0.384</td>\n      <td>0.578</td>\n      <td>11</td>\n      <td>-9.624</td>\n      <td>1</td>\n      <td>0.0312</td>\n      <td>0.886000</td>\n      <td>0.1250</td>\n      <td>0.0984</td>\n      <td>150.013</td>\n      <td>297273</td>\n      <td>4</td>\n      <td>1</td>\n    </tr>\n    <tr>\n      <th>3</th>\n      <td>You'll Never Get to Heaven</td>\n      <td>Images</td>\n      <td>Beyond the Clouds</td>\n      <td>6vMaCzTnismT6N45MDCMfa</td>\n      <td>41</td>\n      <td>['ambient pop', 'london on indie', 'nu gaze']</td>\n      <td>0.633</td>\n      <td>0.575</td>\n      <td>7</td>\n      <td>-9.667</td>\n      <td>0</td>\n      <td>0.0298</td>\n      <td>0.924000</td>\n      <td>0.1050</td>\n      <td>0.2390</td>\n      <td>117.520</td>\n      <td>248681</td>\n      <td>4</td>\n      <td>1</td>\n    </tr>\n  </tbody>\n</table>\n</div>"
     },
     "metadata": {},
     "execution_count": 16
    }
   ],
   "source": [
    "test = pd.read_csv('Sample.csv')\n",
    "test.sample(5)"
   ]
  },
  {
   "cell_type": "code",
   "execution_count": 17,
   "metadata": {},
   "outputs": [],
   "source": [
    "test = test.drop('genres', axis=1)"
   ]
  },
  {
   "cell_type": "code",
   "execution_count": 18,
   "metadata": {},
   "outputs": [],
   "source": [
    "X = test.iloc[:, 4:-3].values\n",
    "y = test.iloc[:, -1].values"
   ]
  },
  {
   "cell_type": "code",
   "execution_count": 19,
   "metadata": {},
   "outputs": [],
   "source": [
    "from sklearn.model_selection import train_test_split\n",
    "X_train, X_test, y_train, y_test = train_test_split(X, y, test_size = 0.3, random_state = 0)"
   ]
  },
  {
   "cell_type": "code",
   "execution_count": 20,
   "metadata": {},
   "outputs": [],
   "source": [
    "from sklearn.preprocessing import StandardScaler\n",
    "sc = StandardScaler()\n",
    "X_train = sc.fit_transform(X_train)\n",
    "X_test = sc.transform(X_test)"
   ]
  },
  {
   "cell_type": "code",
   "execution_count": 21,
   "metadata": {},
   "outputs": [
    {
     "output_type": "execute_result",
     "data": {
      "text/plain": [
       "KNeighborsClassifier()"
      ]
     },
     "metadata": {},
     "execution_count": 21
    }
   ],
   "source": [
    "from sklearn.neighbors import KNeighborsClassifier\n",
    "knn = KNeighborsClassifier(n_neighbors = 5, metric = 'minkowski', p = 2)\n",
    "knn.fit(X_train, y_train)"
   ]
  },
  {
   "cell_type": "code",
   "execution_count": 22,
   "metadata": {},
   "outputs": [
    {
     "output_type": "stream",
     "name": "stdout",
     "text": [
      "[[0 0]\n [0 0]\n [0 0]\n [1 1]\n [1 1]\n [0 0]\n [0 0]\n [1 1]\n [1 0]\n [0 0]\n [0 0]\n [0 0]\n [0 0]]\n"
     ]
    }
   ],
   "source": [
    "predictions = knn.predict(X_test)\n",
    "print(np.concatenate((predictions.reshape(len(predictions),1), y_test.reshape(len(y_test),1)),1))"
   ]
  },
  {
   "cell_type": "code",
   "execution_count": 23,
   "metadata": {},
   "outputs": [
    {
     "output_type": "stream",
     "name": "stdout",
     "text": [
      "[[9 1]\n [0 3]]\n"
     ]
    },
    {
     "output_type": "execute_result",
     "data": {
      "text/plain": [
       "0.9230769230769231"
      ]
     },
     "metadata": {},
     "execution_count": 23
    }
   ],
   "source": [
    "from sklearn.metrics import confusion_matrix, accuracy_score\n",
    "print(confusion_matrix(y_test, predictions))\n",
    "accuracy_score(y_test, predictions)"
   ]
  },
  {
   "cell_type": "code",
   "execution_count": 24,
   "metadata": {},
   "outputs": [
    {
     "output_type": "execute_result",
     "data": {
      "text/plain": [
       "Index(['artist', 'album', 'track_name', 'track_id', 'popularity',\n",
       "       'danceability', 'energy', 'key', 'loudness', 'mode', 'speechiness',\n",
       "       'instrumentalness', 'liveness', 'valence', 'tempo', 'duration_ms',\n",
       "       'time_signature', 'reverb'],\n",
       "      dtype='object')"
      ]
     },
     "metadata": {},
     "execution_count": 24
    }
   ],
   "source": [
    "test.columns"
   ]
  },
  {
   "cell_type": "code",
   "execution_count": 28,
   "metadata": {},
   "outputs": [
    {
     "output_type": "execute_result",
     "data": {
      "text/plain": [
       "   popularity  danceability  energy  key  loudness  mode  speechiness  \\\n",
       "0           0         0.508   0.785    0    -7.286     0       0.0295   \n",
       "\n",
       "   instrumentalness  liveness  valence    tempo  \n",
       "0             0.125     0.142     0.61  147.073  "
      ],
      "text/html": "<div>\n<style scoped>\n    .dataframe tbody tr th:only-of-type {\n        vertical-align: middle;\n    }\n\n    .dataframe tbody tr th {\n        vertical-align: top;\n    }\n\n    .dataframe thead th {\n        text-align: right;\n    }\n</style>\n<table border=\"1\" class=\"dataframe\">\n  <thead>\n    <tr style=\"text-align: right;\">\n      <th></th>\n      <th>popularity</th>\n      <th>danceability</th>\n      <th>energy</th>\n      <th>key</th>\n      <th>loudness</th>\n      <th>mode</th>\n      <th>speechiness</th>\n      <th>instrumentalness</th>\n      <th>liveness</th>\n      <th>valence</th>\n      <th>tempo</th>\n    </tr>\n  </thead>\n  <tbody>\n    <tr>\n      <th>0</th>\n      <td>0</td>\n      <td>0.508</td>\n      <td>0.785</td>\n      <td>0</td>\n      <td>-7.286</td>\n      <td>0</td>\n      <td>0.0295</td>\n      <td>0.125</td>\n      <td>0.142</td>\n      <td>0.61</td>\n      <td>147.073</td>\n    </tr>\n  </tbody>\n</table>\n</div>"
     },
     "metadata": {},
     "execution_count": 28
    }
   ],
   "source": [
    "test = pd.read_csv('test.csv')\n",
    "test = test[['popularity',\n",
    "       'danceability', 'energy', 'key', 'loudness', 'mode', 'speechiness',\n",
    "       'instrumentalness', 'liveness', 'valence', 'tempo']]\n",
    "test"
   ]
  },
  {
   "cell_type": "code",
   "execution_count": 29,
   "metadata": {},
   "outputs": [
    {
     "output_type": "execute_result",
     "data": {
      "text/plain": [
       "array([[ 0.00000e+00,  5.08000e-01,  7.85000e-01,  0.00000e+00,\n",
       "        -7.28600e+00,  0.00000e+00,  2.95000e-02,  1.25000e-01,\n",
       "         1.42000e-01,  6.10000e-01,  1.47073e+02]])"
      ]
     },
     "metadata": {},
     "execution_count": 29
    }
   ],
   "source": [
    "test_X = test.values\n",
    "test_X"
   ]
  },
  {
   "cell_type": "code",
   "execution_count": 30,
   "metadata": {},
   "outputs": [
    {
     "output_type": "stream",
     "name": "stdout",
     "text": [
      "[1]\n"
     ]
    }
   ],
   "source": [
    "print(knn.predict(sc.transform(test_X)))"
   ]
  },
  {
   "cell_type": "code",
   "execution_count": null,
   "metadata": {},
   "outputs": [],
   "source": []
  }
 ]
}