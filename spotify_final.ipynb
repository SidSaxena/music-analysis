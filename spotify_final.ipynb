{
 "metadata": {
  "language_info": {
   "codemirror_mode": {
    "name": "ipython",
    "version": 3
   },
   "file_extension": ".py",
   "mimetype": "text/x-python",
   "name": "python",
   "nbconvert_exporter": "python",
   "pygments_lexer": "ipython3",
   "version": "3.8.2-final"
  },
  "orig_nbformat": 2,
  "kernelspec": {
   "name": "python38264bitbf0b7ef9fc924619ab877e804e46f0ca",
   "display_name": "Python 3.8.2 64-bit"
  }
 },
 "nbformat": 4,
 "nbformat_minor": 2,
 "cells": [
  {
   "cell_type": "code",
   "execution_count": 1,
   "metadata": {},
   "outputs": [],
   "source": [
    "# spotipy modules\n",
    "import spotipy\n",
    "import spotipy.util as util\n",
    "from spotipy.oauth2 import SpotifyClientCredentials"
   ]
  },
  {
   "cell_type": "code",
   "execution_count": 2,
   "metadata": {},
   "outputs": [],
   "source": [
    "# other libraries\n",
    "from decouple import config \n",
    "import time"
   ]
  },
  {
   "cell_type": "code",
   "execution_count": 3,
   "metadata": {},
   "outputs": [],
   "source": [
    "# visualisation libraries\n",
    "import pandas as pd\n",
    "import numpy as np \n",
    "import seaborn as sns\n",
    "import matplotlib.pyplot as plt\n",
    "%matplotlib inline"
   ]
  },
  {
   "cell_type": "code",
   "execution_count": 4,
   "metadata": {},
   "outputs": [],
   "source": [
    "# environment variables\n",
    "client_id = config('SPOTIPY_CLIENT_ID')\n",
    "client_secret = config('SPOTIPY_CLIENT_SECRET')\n",
    "redirect_uri = 'http://google.com/'"
   ]
  },
  {
   "cell_type": "code",
   "execution_count": 5,
   "metadata": {},
   "outputs": [],
   "source": [
    "# authorization\n",
    "client_credentials_manager = SpotifyClientCredentials(client_id=client_id, client_secret=client_secret)"
   ]
  },
  {
   "cell_type": "code",
   "execution_count": 6,
   "metadata": {},
   "outputs": [],
   "source": [
    "username = 'sidsaxena'"
   ]
  },
  {
   "cell_type": "code",
   "execution_count": 7,
   "metadata": {},
   "outputs": [],
   "source": [
    "scope = 'playlist-read-private user-library-read user-top-read user-read-recently-played user-follow-read user-read-currently-playing'"
   ]
  },
  {
   "cell_type": "code",
   "execution_count": 74,
   "metadata": {},
   "outputs": [],
   "source": [
    "try:\n",
    "    \n",
    "    token = util.prompt_for_user_token(username=username, scope=scope, client_id=client_id, client_secret= client_secret, redirect_uri=redirect_uri)\n",
    "    sp = spotipy.Spotify(auth=token)\n",
    "\n",
    "except:\n",
    "\n",
    "    print('Token not accessible for user: ', username)\n"
   ]
  },
  {
   "cell_type": "code",
   "execution_count": 9,
   "metadata": {},
   "outputs": [],
   "source": [
    "def getUserPlaylists(user):\n",
    "\n",
    "    name_list = []\n",
    "    id_list = []\n",
    "    creator_list = []\n",
    "    offset=0\n",
    "    playlists = []\n",
    "\n",
    "    while True:\n",
    "        results = sp.user_playlists(user, offset=offset)\n",
    "        playlists += results['items']\n",
    "\n",
    "        if results['next'] is not None:\n",
    "            offset += 50\n",
    "        else:\n",
    "            break\n",
    "\n",
    "    for playlist, _ in enumerate(playlists):\n",
    "        name_list.append(playlists[playlist]['name'])\n",
    "        id_list.append(playlists[playlist]['id'])\n",
    "        creator_list.append(playlists[playlist]['owner']['id'])\n",
    "    \n",
    "    creator_id_tuple = tuple(zip(creator_list, id_list))\n",
    "\n",
    "    playlist_dict = dict(name = name_list, id = id_list, creator = creator_list)\n",
    "        \n",
    "    playlist_df = pd.DataFrame(playlist_dict)\n",
    "    multiple_playlist_dict = list(creator_id_tuple)\n",
    "    playlist_df.to_csv('{}-playlists.csv'.format(user))\n",
    "    return playlist_df, multiple_playlist_dict"
   ]
  },
  {
   "cell_type": "code",
   "execution_count": 10,
   "metadata": {},
   "outputs": [],
   "source": [
    "def getTrackIds(user, playlist_id):\n",
    "    \"\"\"get track ids from a playlist and return id list.\"\"\"\n",
    "    \n",
    "    ids = []\n",
    "    playlist = sp.user_playlist(user, playlist_id)\n",
    "    for item in playlist['tracks']['items']:\n",
    "        track = item['track']\n",
    "        ids.append(track['id'])\n",
    "    return ids\n",
    "\n",
    "# ids = getTrackIds(my_user, vfar_id)"
   ]
  },
  {
   "cell_type": "code",
   "execution_count": 65,
   "metadata": {},
   "outputs": [],
   "source": [
    "def analysePlaylist(creator, playlist_id):\n",
    "    \n",
    "    tracks = []\n",
    "    offset = 0\n",
    "    # Create empty dataframe\n",
    "    playlist_features_list = [\"artist\",\"album\",\"track_name\",  \"track_id\",\"danceability\",\"energy\",\"key\",\"loudness\",\"mode\", \"speechiness\",\"instrumentalness\",\"liveness\",\"valence\",\"tempo\", \"duration_ms\",\"time_signature\"]\n",
    "    \n",
    "    playlist_df = pd.DataFrame(columns = playlist_features_list)\n",
    "    \n",
    "    # Loop through every track in the playlist, extract features and append the features to the playlist df\n",
    "        \n",
    "    while True:\n",
    "        results = sp.user_playlist_tracks(creator, playlist_id, offset=offset)\n",
    "        tracks += results['items']\n",
    "\n",
    "        if results['next'] is not None:\n",
    "            offset += 100\n",
    "        else:\n",
    "            break\n",
    "\n",
    "    for track in tracks:        # Create empty dict\n",
    "        playlist_features = {}        # Get metadata\n",
    "        playlist_features[\"artist\"] = track[\"track\"][\"album\"][\"artists\"][0][\"name\"]\n",
    "        playlist_features[\"album\"] = track[\"track\"][\"album\"][\"name\"]\n",
    "        playlist_features[\"track_name\"] = track[\"track\"][\"name\"]\n",
    "        playlist_features[\"track_id\"] = track[\"track\"][\"id\"]\n",
    "        \n",
    "        # Get audio features\n",
    "        time.sleep(0.5)\n",
    "        audio_features = sp.audio_features(playlist_features[\"track_id\"])[0]\n",
    "        for feature in playlist_features_list[4:]:\n",
    "            playlist_features[feature] = audio_features[feature]\n",
    "        \n",
    "        # Concat the dfs\n",
    "        track_df = pd.DataFrame(playlist_features, index = [0])\n",
    "        playlist_df = pd.concat([playlist_df, track_df], ignore_index = True)\n",
    "    \n",
    "    playlist_df.to_csv('{}-{}.csv'.format(creator, playlist_id))\n",
    "    return playlist_df"
   ]
  },
  {
   "cell_type": "code",
   "execution_count": 79,
   "metadata": {},
   "outputs": [],
   "source": [
    "def analysePlaylistsList(playlist_tuple_list):\n",
    "    \"\"\"function to analyse multiple playlists\"\"\"\n",
    "\n",
    "    for id, _ in enumerate(playlist_tuple_list):\n",
    "        playlist_df = analysePlaylist(playlist_tuple_list[id][0], playlist_tuple_list[id][1])\n",
    "        # playlist_df['playlist'] = PLAYLIST NAME\n",
    "\n",
    "        if id == 0:\n",
    "            playlist_tuple_df = playlist_df\n",
    "        else:\n",
    "            playlist_tuple_df = pd.concat([playlist_tuple_df, playlist_df], ignore_index=True)\n",
    "\n",
    "    playlist_tuple_df.to_csv('multiple playlists.csv')\n",
    "    return playlist_tuple_df"
   ]
  },
  {
   "cell_type": "code",
   "execution_count": 13,
   "metadata": {},
   "outputs": [],
   "source": [
    "def getDiscography(name):\n",
    "    \"\"\"get discography of an artist by searching its name and return a dataframe\"\"\"\n",
    "\n",
    "    release_date_list = []\n",
    "    track_id_list = []   \n",
    "    tracklist = []\n",
    "    album_list = []    \n",
    "    track_album_dict = {}\n",
    "\n",
    "    results = sp.search(q=name, type='artist')\n",
    "    artist = results['artists']['items'][0]\n",
    "\n",
    "    artist_name = artist['name']\n",
    "    artist_id = artist['id']\n",
    "    artist_albums = sp.artist_albums(artist_id, album_type='album')\n",
    "    album_items = artist_albums['items']\n",
    "    artist_genres = artist['genres']\n",
    "\n",
    "    artist_singles = sp.artist_albums(artist_id, album_type='single')\n",
    "    single_items = artist_singles['items']\n",
    "\n",
    "    album_names = []\n",
    "    album_id = []\n",
    "    album_release_date = []\n",
    "\n",
    "    single_names = []\n",
    "    single_id = []\n",
    "    single_release_date = []\n",
    "\n",
    "    for i, _ in enumerate(artist_albums['items']):\n",
    "        album_names.append(artist_albums['items'][i]['name'])\n",
    "        album_id.append(artist_albums['items'][i]['id'])\n",
    "        album_release_date.append(artist_albums['items'][i]['release_date'])\n",
    "    \n",
    "\n",
    "    for i, _ in enumerate(single_items):\n",
    "        single_names.append(single_items[i]['name'])\n",
    "        single_id.append(single_items[i]['id'])\n",
    "        single_release_date.append(single_items[i]['release_date'])\n",
    "        \n",
    "\n",
    "    for album, _ in enumerate(album_id):\n",
    "        tracks = sp.album_tracks(album_id[album])\n",
    "        tracks = tracks['items']\n",
    "        album_name = sp.album(album_id[album])['name'] \n",
    "        for track, _ in enumerate(tracks):\n",
    "            track_name = tracks[track]['name']\n",
    "            track_id_list.append(tracks[track]['id']) \n",
    "            tracklist.append(track_name)\n",
    "            album_list.append(album_name)\n",
    "            release_date_list.append(album_release_date[album])\n",
    "    \n",
    "    for single, _ in enumerate(single_id):\n",
    "        tracks = sp.album_tracks(single_id[single])\n",
    "        tracks = tracks['items']\n",
    "        single_name = sp.album(single_id[single])['name'] \n",
    "        for track, _ in enumerate(tracks):\n",
    "            single_name = tracks[track]['name']\n",
    "            track_id_list.append(tracks[track]['id']) \n",
    "            tracklist.append(single_name)\n",
    "            album_list.append(single_name)\n",
    "            release_date_list.append(single_release_date[single])\n",
    "\n",
    "    \n",
    "\n",
    "\n",
    "    track_album_dict = {'track': tracklist, 'album': album_list, 'release_date': release_date_list, 'id': track_id_list}  \n",
    "    df = pd.DataFrame(track_album_dict)\n",
    "    df.to_csv('{}-discog.csv'.format(artist['name']))\n",
    "    return df, artist_genres"
   ]
  },
  {
   "cell_type": "code",
   "execution_count": 14,
   "metadata": {},
   "outputs": [],
   "source": [
    "def getTrackFeatures(id):\n",
    "    \"\"\"get features of a track by its ID.\"\"\"\n",
    "    \n",
    "    meta = sp.track(id)\n",
    "    features = sp.audio_features(id)\n",
    "\n",
    "    #meta\n",
    "    name = meta['name']\n",
    "    album = meta['album']['name']\n",
    "    artist = meta['album']['artists'][0]['name']\n",
    "    release_date = meta['album']['release_date']\n",
    "    length = meta['duration_ms']\n",
    "    popularity = meta['popularity']\n",
    "\n",
    "    #features\n",
    "    danceability = features[0]['danceability']\n",
    "    energy = features[0]['energy']\n",
    "    key = features[0]['key']\n",
    "    loudness = features[0]['loudness']\n",
    "    mode = features[0]['mode']\n",
    "    speechiness = features[0]['speechiness']\n",
    "    acousticness = features[0]['acousticness']\n",
    "    instrumentalness = features[0]['instrumentalness']\n",
    "    liveness = features[0]['liveness']\n",
    "    valence = features[0]['valence']\n",
    "    tempo = features[0]['tempo']\n",
    "    time_signature = features[0]['time_signature']\n",
    "\n",
    "    track = [name, album, artist, release_date, length, popularity,danceability, energy, key, loudness, mode, speechiness, acousticness, instrumentalness, liveness, valence, tempo, time_signature]\n",
    "    return track"
   ]
  },
  {
   "cell_type": "code",
   "execution_count": 15,
   "metadata": {},
   "outputs": [],
   "source": [
    "def getTracklistFeatures(tracklist):\n",
    "    \"\"\"get features of multiple tracks from a list of IDs and return a dataframe\"\"\"\n",
    "\n",
    "  # loop over track ids \n",
    "    tracks = []\n",
    "    for id in range(len(tracklist)):\n",
    "        track = getTrackFeatures(tracklist[id])\n",
    "        tracks.append(track)\n",
    "\n",
    "  # create dataset\n",
    "    df = pd.DataFrame(tracks, columns = ['name', 'album', 'artist', 'release_date', 'length', 'popularity', 'danceability', 'energy', 'key', 'loudness', 'mode', 'speech', 'acousticness', 'instrumentalness', 'liveness', 'valence', 'tempo', 'time_signature'])\n",
    "    df.to_csv(\"tracklist-features.csv\", sep = ',')\n",
    "    return df"
   ]
  },
  {
   "cell_type": "code",
   "execution_count": 16,
   "metadata": {
    "tags": []
   },
   "outputs": [],
   "source": [
    "my_playlists_df, my_playlists_list = getUserPlaylists(username)"
   ]
  },
  {
   "cell_type": "code",
   "execution_count": 17,
   "metadata": {},
   "outputs": [],
   "source": [
    "name = input('Enter Username: ')\n",
    "playlistid = input('Enter Playlist ID: ')"
   ]
  },
  {
   "cell_type": "code",
   "execution_count": 18,
   "metadata": {
    "tags": []
   },
   "outputs": [],
   "source": [
    "# playlist_df = analysePlaylist(name, playlistid)"
   ]
  },
  {
   "cell_type": "code",
   "execution_count": 82,
   "metadata": {},
   "outputs": [],
   "source": [
    "three_playlists = []"
   ]
  },
  {
   "cell_type": "code",
   "execution_count": 83,
   "metadata": {},
   "outputs": [],
   "source": [
    "three_playlists.append(my_playlists_list[9])\n",
    "three_playlists.append(my_playlists_list[10])\n",
    "three_playlists.append(my_playlists_list[11])"
   ]
  },
  {
   "cell_type": "code",
   "execution_count": 84,
   "metadata": {},
   "outputs": [
    {
     "output_type": "execute_result",
     "data": {
      "text/plain": "[('sidsaxena', '5U5vVOuIEppEbt3GzwDAz9'),\n ('sidsaxena', '6Tz22UKQCnp4rqu6dNzVm0'),\n ('sidsaxena', '2p9y6Nqb6HV76z1xPUmFrN')]"
     },
     "metadata": {},
     "execution_count": 84
    }
   ],
   "source": [
    "three_playlists"
   ]
  },
  {
   "cell_type": "code",
   "execution_count": 85,
   "metadata": {
    "tags": []
   },
   "outputs": [],
   "source": [
    "three_df = analysePlaylistsList(three_playlists)"
   ]
  },
  {
   "cell_type": "code",
   "execution_count": 86,
   "metadata": {},
   "outputs": [
    {
     "output_type": "execute_result",
     "data": {
      "text/plain": "                               artist                             album  \\\n0                          half•alive                       still feel.   \n1    Better Oblivion Community Center  Better Oblivion Community Center   \n2                             Beeches                    Famous Friends   \n3                     The Paper Kites                        twelvefour   \n4                       Elliott Smith       Either/Or: Expanded Edition   \n..                                ...                               ...   \n414        You'll Never Get to Heaven                            Images   \n415                       Sunday Moon                       City Lights   \n416                      The Midnight                              Kids   \n417                             Matty                            Déjàvu   \n418                       Alex Siegel                 Daydreaming Pilot   \n\n                             track_name                track_id  danceability  \\\n0                           still feel.  4EcYqXGZ1MOl7gBLcRO9Ya         0.779   \n1                          Service Road  0AODUbeAlQFw4jsyoWtB6U         0.540   \n2                             Blackbird  0JkSXJb0s0UG8sazEhUSxF         0.512   \n3                       Bleed Confusion  5cEmrGyQcCjzC994LocIjs         0.560   \n4                 Pictures of Me - Live  2wMFRRLOnHwPJIszMVkUhi         0.471   \n..                                  ...                     ...           ...   \n414                   Beyond the Clouds  6vMaCzTnismT6N45MDCMfa         0.633   \n415                         City Lights  36xcAYhiCUnzBoydVmxkO3         0.602   \n416                               Youth  2iEWuzGZX9VJVCANbGw25z         0.248   \n417  I'll Gladly Place Myself Below You  7fpEayIv2yPcLnbiRLDMWn         0.518   \n418                   Daydreaming Pilot  57yvSpTYfbERraGRd81zHU         0.780   \n\n     energy key  loudness mode  speechiness instrumentalness  liveness  \\\n0     0.525  10    -5.756    0       0.0487                0    0.0675   \n1     0.548   0   -10.303    1       0.0405         3.84e-05    0.1350   \n2     0.418   8   -12.131    1       0.0271           0.0234    0.1120   \n3     0.406   2   -11.134    1       0.0310            0.612    0.1080   \n4     0.299   3   -10.007    0       0.0635                0    0.1270   \n..      ...  ..       ...  ...          ...              ...       ...   \n414   0.575   7    -9.667    0       0.0298            0.924    0.1050   \n415   0.303   6    -7.978    1       0.0451            0.091    0.1450   \n416   0.264   2   -17.347    1       0.0650            0.069    0.3130   \n417   0.439   5    -9.367    1       0.0295            0.891    0.1100   \n418   0.488   0    -9.438    1       0.0359            0.702    0.0741   \n\n     valence    tempo duration_ms time_signature  \n0     0.6980  120.018      247438              4  \n1     0.5250   83.876      224333              4  \n2     0.5920   85.031      229059              4  \n3     0.0644   74.994      261027              4  \n4     0.2850  139.664      238211              4  \n..       ...      ...         ...            ...  \n414   0.2390  117.520      248681              4  \n415   0.3270  135.990      241699              4  \n416   0.1610   76.742      189648              3  \n417   0.2830   93.003      312360              4  \n418   0.7210  120.967      164125              4  \n\n[419 rows x 16 columns]",
      "text/html": "<div>\n<style scoped>\n    .dataframe tbody tr th:only-of-type {\n        vertical-align: middle;\n    }\n\n    .dataframe tbody tr th {\n        vertical-align: top;\n    }\n\n    .dataframe thead th {\n        text-align: right;\n    }\n</style>\n<table border=\"1\" class=\"dataframe\">\n  <thead>\n    <tr style=\"text-align: right;\">\n      <th></th>\n      <th>artist</th>\n      <th>album</th>\n      <th>track_name</th>\n      <th>track_id</th>\n      <th>danceability</th>\n      <th>energy</th>\n      <th>key</th>\n      <th>loudness</th>\n      <th>mode</th>\n      <th>speechiness</th>\n      <th>instrumentalness</th>\n      <th>liveness</th>\n      <th>valence</th>\n      <th>tempo</th>\n      <th>duration_ms</th>\n      <th>time_signature</th>\n    </tr>\n  </thead>\n  <tbody>\n    <tr>\n      <th>0</th>\n      <td>half•alive</td>\n      <td>still feel.</td>\n      <td>still feel.</td>\n      <td>4EcYqXGZ1MOl7gBLcRO9Ya</td>\n      <td>0.779</td>\n      <td>0.525</td>\n      <td>10</td>\n      <td>-5.756</td>\n      <td>0</td>\n      <td>0.0487</td>\n      <td>0</td>\n      <td>0.0675</td>\n      <td>0.6980</td>\n      <td>120.018</td>\n      <td>247438</td>\n      <td>4</td>\n    </tr>\n    <tr>\n      <th>1</th>\n      <td>Better Oblivion Community Center</td>\n      <td>Better Oblivion Community Center</td>\n      <td>Service Road</td>\n      <td>0AODUbeAlQFw4jsyoWtB6U</td>\n      <td>0.540</td>\n      <td>0.548</td>\n      <td>0</td>\n      <td>-10.303</td>\n      <td>1</td>\n      <td>0.0405</td>\n      <td>3.84e-05</td>\n      <td>0.1350</td>\n      <td>0.5250</td>\n      <td>83.876</td>\n      <td>224333</td>\n      <td>4</td>\n    </tr>\n    <tr>\n      <th>2</th>\n      <td>Beeches</td>\n      <td>Famous Friends</td>\n      <td>Blackbird</td>\n      <td>0JkSXJb0s0UG8sazEhUSxF</td>\n      <td>0.512</td>\n      <td>0.418</td>\n      <td>8</td>\n      <td>-12.131</td>\n      <td>1</td>\n      <td>0.0271</td>\n      <td>0.0234</td>\n      <td>0.1120</td>\n      <td>0.5920</td>\n      <td>85.031</td>\n      <td>229059</td>\n      <td>4</td>\n    </tr>\n    <tr>\n      <th>3</th>\n      <td>The Paper Kites</td>\n      <td>twelvefour</td>\n      <td>Bleed Confusion</td>\n      <td>5cEmrGyQcCjzC994LocIjs</td>\n      <td>0.560</td>\n      <td>0.406</td>\n      <td>2</td>\n      <td>-11.134</td>\n      <td>1</td>\n      <td>0.0310</td>\n      <td>0.612</td>\n      <td>0.1080</td>\n      <td>0.0644</td>\n      <td>74.994</td>\n      <td>261027</td>\n      <td>4</td>\n    </tr>\n    <tr>\n      <th>4</th>\n      <td>Elliott Smith</td>\n      <td>Either/Or: Expanded Edition</td>\n      <td>Pictures of Me - Live</td>\n      <td>2wMFRRLOnHwPJIszMVkUhi</td>\n      <td>0.471</td>\n      <td>0.299</td>\n      <td>3</td>\n      <td>-10.007</td>\n      <td>0</td>\n      <td>0.0635</td>\n      <td>0</td>\n      <td>0.1270</td>\n      <td>0.2850</td>\n      <td>139.664</td>\n      <td>238211</td>\n      <td>4</td>\n    </tr>\n    <tr>\n      <th>...</th>\n      <td>...</td>\n      <td>...</td>\n      <td>...</td>\n      <td>...</td>\n      <td>...</td>\n      <td>...</td>\n      <td>...</td>\n      <td>...</td>\n      <td>...</td>\n      <td>...</td>\n      <td>...</td>\n      <td>...</td>\n      <td>...</td>\n      <td>...</td>\n      <td>...</td>\n      <td>...</td>\n    </tr>\n    <tr>\n      <th>414</th>\n      <td>You'll Never Get to Heaven</td>\n      <td>Images</td>\n      <td>Beyond the Clouds</td>\n      <td>6vMaCzTnismT6N45MDCMfa</td>\n      <td>0.633</td>\n      <td>0.575</td>\n      <td>7</td>\n      <td>-9.667</td>\n      <td>0</td>\n      <td>0.0298</td>\n      <td>0.924</td>\n      <td>0.1050</td>\n      <td>0.2390</td>\n      <td>117.520</td>\n      <td>248681</td>\n      <td>4</td>\n    </tr>\n    <tr>\n      <th>415</th>\n      <td>Sunday Moon</td>\n      <td>City Lights</td>\n      <td>City Lights</td>\n      <td>36xcAYhiCUnzBoydVmxkO3</td>\n      <td>0.602</td>\n      <td>0.303</td>\n      <td>6</td>\n      <td>-7.978</td>\n      <td>1</td>\n      <td>0.0451</td>\n      <td>0.091</td>\n      <td>0.1450</td>\n      <td>0.3270</td>\n      <td>135.990</td>\n      <td>241699</td>\n      <td>4</td>\n    </tr>\n    <tr>\n      <th>416</th>\n      <td>The Midnight</td>\n      <td>Kids</td>\n      <td>Youth</td>\n      <td>2iEWuzGZX9VJVCANbGw25z</td>\n      <td>0.248</td>\n      <td>0.264</td>\n      <td>2</td>\n      <td>-17.347</td>\n      <td>1</td>\n      <td>0.0650</td>\n      <td>0.069</td>\n      <td>0.3130</td>\n      <td>0.1610</td>\n      <td>76.742</td>\n      <td>189648</td>\n      <td>3</td>\n    </tr>\n    <tr>\n      <th>417</th>\n      <td>Matty</td>\n      <td>Déjàvu</td>\n      <td>I'll Gladly Place Myself Below You</td>\n      <td>7fpEayIv2yPcLnbiRLDMWn</td>\n      <td>0.518</td>\n      <td>0.439</td>\n      <td>5</td>\n      <td>-9.367</td>\n      <td>1</td>\n      <td>0.0295</td>\n      <td>0.891</td>\n      <td>0.1100</td>\n      <td>0.2830</td>\n      <td>93.003</td>\n      <td>312360</td>\n      <td>4</td>\n    </tr>\n    <tr>\n      <th>418</th>\n      <td>Alex Siegel</td>\n      <td>Daydreaming Pilot</td>\n      <td>Daydreaming Pilot</td>\n      <td>57yvSpTYfbERraGRd81zHU</td>\n      <td>0.780</td>\n      <td>0.488</td>\n      <td>0</td>\n      <td>-9.438</td>\n      <td>1</td>\n      <td>0.0359</td>\n      <td>0.702</td>\n      <td>0.0741</td>\n      <td>0.7210</td>\n      <td>120.967</td>\n      <td>164125</td>\n      <td>4</td>\n    </tr>\n  </tbody>\n</table>\n<p>419 rows × 16 columns</p>\n</div>"
     },
     "metadata": {},
     "execution_count": 86
    }
   ],
   "source": [
    "three_df"
   ]
  },
  {
   "cell_type": "code",
   "execution_count": null,
   "metadata": {},
   "outputs": [],
   "source": []
  }
 ]
}