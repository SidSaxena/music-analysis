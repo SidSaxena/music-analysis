{
 "metadata": {
  "language_info": {
   "codemirror_mode": {
    "name": "ipython",
    "version": 3
   },
   "file_extension": ".py",
   "mimetype": "text/x-python",
   "name": "python",
   "nbconvert_exporter": "python",
   "pygments_lexer": "ipython3",
   "version": "3.8.2-final"
  },
  "orig_nbformat": 2,
  "kernelspec": {
   "name": "python38264bitbf0b7ef9fc924619ab877e804e46f0ca",
   "display_name": "Python 3.8.2 64-bit"
  }
 },
 "nbformat": 4,
 "nbformat_minor": 2,
 "cells": [
  {
   "cell_type": "code",
   "execution_count": null,
   "metadata": {},
   "outputs": [],
   "source": [
    "# spotipy modules\n",
    "import spotipy\n",
    "import spotipy.util as util\n",
    "from spotipy.oauth2 import SpotifyClientCredentials"
   ]
  },
  {
   "cell_type": "code",
   "execution_count": null,
   "metadata": {},
   "outputs": [],
   "source": [
    "# other libraries\n",
    "from decouple import config \n",
    "import time"
   ]
  },
  {
   "cell_type": "code",
   "execution_count": null,
   "metadata": {},
   "outputs": [],
   "source": [
    "# visualisation libraries\n",
    "import pandas as pd\n",
    "import numpy as np \n",
    "import seaborn as sns\n",
    "import matplotlib.pyplot as plt\n",
    "%matplotlib inline"
   ]
  },
  {
   "cell_type": "code",
   "execution_count": null,
   "metadata": {},
   "outputs": [],
   "source": [
    "# environment variables\n",
    "client_id = config('SPOTIPY_CLIENT_ID')\n",
    "client_secret = config('SPOTIPY_CLIENT_SECRET')\n",
    "redirect_uri = 'http://google.com/'"
   ]
  },
  {
   "cell_type": "code",
   "execution_count": null,
   "metadata": {},
   "outputs": [],
   "source": [
    "# authorization\n",
    "client_credentials_manager = SpotifyClientCredentials(client_id=client_id, client_secret=client_secret)"
   ]
  },
  {
   "cell_type": "code",
   "execution_count": null,
   "metadata": {},
   "outputs": [],
   "source": [
    "username = 'sidsaxena'"
   ]
  },
  {
   "cell_type": "code",
   "execution_count": null,
   "metadata": {},
   "outputs": [],
   "source": [
    "scope = 'playlist-read-private user-library-read user-top-read user-read-recently-played user-follow-read user-read-currently-playing'"
   ]
  },
  {
   "cell_type": "code",
   "execution_count": null,
   "metadata": {},
   "outputs": [],
   "source": [
    "try:\n",
    "    \n",
    "    token = util.prompt_for_user_token(username=username, scope=scope, client_id=client_id, client_secret= client_secret, redirect_uri=redirect_uri)\n",
    "    sp = spotipy.Spotify(auth=token)\n",
    "\n",
    "except:\n",
    "\n",
    "    print('Token not accessible for user: ', username)\n"
   ]
  },
  {
   "cell_type": "code",
   "execution_count": null,
   "metadata": {},
   "outputs": [],
   "source": [
    "def getUserPlaylists(user):\n",
    "\n",
    "    name_list = []\n",
    "    id_list = []\n",
    "    creator_list = []\n",
    "    offset=0\n",
    "    playlists = []\n",
    "\n",
    "    while True:\n",
    "        results = sp.user_playlists(user, offset=offset)\n",
    "        playlists += results['items']\n",
    "\n",
    "        if results['next'] is not None:\n",
    "            offset += 50\n",
    "        else:\n",
    "            break\n",
    "\n",
    "    for playlist, _ in enumerate(playlists):\n",
    "        name_list.append(playlists[playlist]['name'])\n",
    "        id_list.append(playlists[playlist]['id'])\n",
    "        creator_list.append(playlists[playlist]['owner']['id'])\n",
    "    \n",
    "    creator_id_tuple = tuple(zip(creator_list, id_list))\n",
    "\n",
    "    playlist_dict = dict(name = name_list, id = id_list, creator = creator_list)\n",
    "        \n",
    "    playlist_df = pd.DataFrame(playlist_dict)\n",
    "    multiple_playlist_dict = list(creator_id_tuple)\n",
    "    playlist_df.to_csv('{}-playlists.csv'.format(user))\n",
    "    return playlist_df, multiple_playlist_dict"
   ]
  },
  {
   "cell_type": "code",
   "execution_count": null,
   "metadata": {},
   "outputs": [],
   "source": [
    "def analysePlaylist(creator, playlist_id):\n",
    "    \n",
    "    tracks = []\n",
    "    offset = 0\n",
    "    # Create empty dataframe\n",
    "    playlist_features_list = [\"artist\",\"album\",\"track_name\",  \"track_id\",\"danceability\",\"energy\",\"key\",\"loudness\",\"mode\", \"speechiness\",\"instrumentalness\",\"liveness\",\"valence\",\"tempo\", \"duration_ms\",\"time_signature\"]\n",
    "    \n",
    "    playlist_df = pd.DataFrame(columns = playlist_features_list)\n",
    "    \n",
    "    # Loop through every track in the playlist, extract features and append the features to the playlist df\n",
    "        \n",
    "    while True:\n",
    "        results = sp.user_playlist_tracks(creator, playlist_id, offset=offset)\n",
    "        tracks += results['items']\n",
    "\n",
    "        if results['next'] is not None:\n",
    "            offset += 50\n",
    "        else:\n",
    "            break\n",
    "\n",
    "    for track in tracks:        # Create empty dict\n",
    "        playlist_features = {}        # Get metadata\n",
    "        playlist_features[\"artist\"] = track[\"track\"][\"album\"][\"artists\"][0][\"name\"]\n",
    "        playlist_features[\"album\"] = track[\"track\"][\"album\"][\"name\"]\n",
    "        playlist_features[\"track_name\"] = track[\"track\"][\"name\"]\n",
    "        playlist_features[\"track_id\"] = track[\"track\"][\"id\"]\n",
    "        \n",
    "        # Get audio features\n",
    "        audio_features = sp.audio_features(playlist_features[\"track_id\"])[0]\n",
    "        for feature in playlist_features_list[4:]:\n",
    "            playlist_features[feature] = audio_features[feature]\n",
    "        \n",
    "        # Concat the dfs\n",
    "        track_df = pd.DataFrame(playlist_features, index = [0])\n",
    "        playlist_df = pd.concat([playlist_df, track_df], ignore_index = True)\n",
    "    \n",
    "    playlist_df.to_csv('{}-{}.csv'.format(creator, playlist_id))\n",
    "    return playlist_df"
   ]
  },
  {
   "cell_type": "code",
   "execution_count": null,
   "metadata": {},
   "outputs": [],
   "source": [
    "def analysePlaylistsList(playlist_tuple_list):\n",
    "    \"\"\"function to analyse multiple playlists\"\"\"\n",
    "\n",
    "    for id, _ in enumerate(playlist_tuple_list):\n",
    "        playlist_df = analysePlaylist(playlist_tuple_list[id][0], playlist_tuple_list[id][1])\n",
    "\n",
    "        # playlist_df['playlist'] = PLAYLIST NAME\n",
    "\n",
    "        if id == 0:\n",
    "            playlist_tuple_df = playlist_df\n",
    "        else:\n",
    "            playlist_tuple_df = pd.concat([playlist_tuple_df, playlist_df], ignore_index=True)\n",
    "\n",
    "        playlist_tuple_df.to_csv('multiple playlists.csv')\n",
    "        return playlist_tuple_df"
   ]
  },
  {
   "cell_type": "code",
   "execution_count": null,
   "metadata": {
    "tags": []
   },
   "outputs": [],
   "source": [
    "my_playlists_df, my_playlists_list = getUserPlaylists(username)"
   ]
  },
  {
   "cell_type": "code",
   "execution_count": null,
   "metadata": {},
   "outputs": [],
   "source": [
    "my_playlists_df"
   ]
  },
  {
   "cell_type": "code",
   "execution_count": null,
   "metadata": {},
   "outputs": [],
   "source": [
    "three_playlists = my_playlists_list[9:12]"
   ]
  },
  {
   "cell_type": "code",
   "execution_count": null,
   "metadata": {},
   "outputs": [],
   "source": [
    "three_playlists"
   ]
  },
  {
   "cell_type": "code",
   "execution_count": null,
   "metadata": {},
   "outputs": [],
   "source": [
    "test_df = analysePlaylist(username, 'spotify:playlist:6Tz22UKQCnp4rqu6dNzVm0')"
   ]
  },
  {
   "cell_type": "code",
   "execution_count": null,
   "metadata": {
    "tags": []
   },
   "outputs": [],
   "source": [
    "multiple_playlists_df = analysePlaylistsList(three_playlists)"
   ]
  }
 ]
}