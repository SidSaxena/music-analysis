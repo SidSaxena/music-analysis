{
 "metadata": {
  "language_info": {
   "codemirror_mode": {
    "name": "ipython",
    "version": 3
   },
   "file_extension": ".py",
   "mimetype": "text/x-python",
   "name": "python",
   "nbconvert_exporter": "python",
   "pygments_lexer": "ipython3",
   "version": "3.8.2-final"
  },
  "orig_nbformat": 2,
  "kernelspec": {
   "name": "python38264bitbf0b7ef9fc924619ab877e804e46f0ca",
   "display_name": "Python 3.8.2 64-bit"
  }
 },
 "nbformat": 4,
 "nbformat_minor": 2,
 "cells": [
  {
   "cell_type": "code",
   "execution_count": 1,
   "metadata": {},
   "outputs": [],
   "source": [
    "# spotipy modules\n",
    "import spotipy\n",
    "import spotipy.util as util\n",
    "from spotipy.oauth2 import SpotifyClientCredentials"
   ]
  },
  {
   "cell_type": "code",
   "execution_count": 2,
   "metadata": {},
   "outputs": [],
   "source": [
    "# other libraries\n",
    "from decouple import config \n",
    "import time"
   ]
  },
  {
   "cell_type": "code",
   "execution_count": 3,
   "metadata": {},
   "outputs": [],
   "source": [
    "# visualisation libraries\n",
    "import pandas as pd\n",
    "import numpy as np \n",
    "import seaborn as sns\n",
    "import matplotlib.pyplot as plt\n",
    "%matplotlib inline"
   ]
  },
  {
   "cell_type": "code",
   "execution_count": 4,
   "metadata": {},
   "outputs": [],
   "source": [
    "# environment variables\n",
    "client_id = config('SPOTIPY_CLIENT_ID')\n",
    "client_secret = config('SPOTIPY_CLIENT_SECRET')\n",
    "redirect_uri = 'http://google.com/'"
   ]
  },
  {
   "cell_type": "code",
   "execution_count": 5,
   "metadata": {},
   "outputs": [],
   "source": [
    "# authorization\n",
    "client_credentials_manager = SpotifyClientCredentials(client_id=client_id, client_secret=client_secret)"
   ]
  },
  {
   "cell_type": "code",
   "execution_count": 6,
   "metadata": {},
   "outputs": [],
   "source": [
    "username = 'sidsaxena'"
   ]
  },
  {
   "cell_type": "code",
   "execution_count": 7,
   "metadata": {},
   "outputs": [],
   "source": [
    "scope = 'playlist-read-private user-library-read user-top-read user-read-recently-played user-follow-read user-read-currently-playing'"
   ]
  },
  {
   "cell_type": "code",
   "execution_count": 8,
   "metadata": {},
   "outputs": [],
   "source": [
    "try:\n",
    "    \n",
    "    token = util.prompt_for_user_token(username=username, scope=scope, client_id=client_id, client_secret= client_secret, redirect_uri=redirect_uri)\n",
    "    sp = spotipy.Spotify(auth=token)\n",
    "\n",
    "except:\n",
    "\n",
    "    print('Token not accessible for user: ', username)\n"
   ]
  },
  {
   "cell_type": "code",
   "execution_count": 9,
   "metadata": {},
   "outputs": [],
   "source": [
    "def getUserPlaylists(user):\n",
    "\n",
    "    name_list = []\n",
    "    id_list = []\n",
    "    creator_list = []\n",
    "    offset=0\n",
    "    playlists = []\n",
    "\n",
    "    while True:\n",
    "        results = sp.user_playlists(user, offset=offset)\n",
    "        playlists += results['items']\n",
    "\n",
    "        if results['next'] is not None:\n",
    "            offset += 50\n",
    "        else:\n",
    "            break\n",
    "\n",
    "    for playlist, _ in enumerate(playlists):\n",
    "        name_list.append(playlists[playlist]['name'])\n",
    "        id_list.append(playlists[playlist]['id'])\n",
    "        creator_list.append(playlists[playlist]['owner']['id'])\n",
    "    \n",
    "    creator_id_tuple = tuple(zip(creator_list, id_list))\n",
    "\n",
    "    playlist_dict = dict(name = name_list, id = id_list, creator = creator_list)\n",
    "        \n",
    "    playlist_df = pd.DataFrame(playlist_dict)\n",
    "    multiple_playlist_dict = list(creator_id_tuple)\n",
    "    playlist_df.to_csv('{}-playlists.csv'.format(user))\n",
    "    return playlist_df, multiple_playlist_dict"
   ]
  },
  {
   "cell_type": "code",
   "execution_count": 38,
   "metadata": {},
   "outputs": [],
   "source": [
    "def analysePlaylist(creator, playlist_id):\n",
    "    \n",
    "    tracks = []\n",
    "    offset = 0\n",
    "    # Create empty dataframe\n",
    "    playlist_features_list = [\"artist\",\"album\",\"track_name\",  \"track_id\",\"danceability\",\"energy\",\"key\",\"loudness\",\"mode\", \"speechiness\",\"instrumentalness\",\"liveness\",\"valence\",\"tempo\", \"duration_ms\",\"time_signature\"]\n",
    "    \n",
    "    playlist_df = pd.DataFrame(columns = playlist_features_list)\n",
    "    \n",
    "    # Loop through every track in the playlist, extract features and append the features to the playlist df\n",
    "        \n",
    "    while True:\n",
    "        results = sp.user_playlist_tracks(creator, playlist_id, offset=offset)\n",
    "        tracks += results['items']\n",
    "\n",
    "        if results['next'] is not None:\n",
    "            offset += 50\n",
    "        else:\n",
    "            break\n",
    "\n",
    "    for track in tracks:        # Create empty dict\n",
    "        playlist_features = {}        # Get metadata\n",
    "        playlist_features[\"artist\"] = track[\"track\"][\"album\"][\"artists\"][0][\"name\"]\n",
    "        playlist_features[\"album\"] = track[\"track\"][\"album\"][\"name\"]\n",
    "        playlist_features[\"track_name\"] = track[\"track\"][\"name\"]\n",
    "        playlist_features[\"track_id\"] = track[\"track\"][\"id\"]\n",
    "        \n",
    "        # Get audio features\n",
    "        audio_features = sp.audio_features(playlist_features[\"track_id\"])[0]\n",
    "        for feature in playlist_features_list[4:]:\n",
    "            playlist_features[feature] = audio_features[feature]\n",
    "        \n",
    "        # Concat the dfs\n",
    "        track_df = pd.DataFrame(playlist_features, index = [0])\n",
    "        playlist_df = pd.concat([playlist_df, track_df], ignore_index = True)\n",
    "    \n",
    "    playlist_df.to_csv('{}-{}.csv'.format(creator, playlist_id))\n",
    "    return playlist_df"
   ]
  },
  {
   "cell_type": "code",
   "execution_count": 11,
   "metadata": {},
   "outputs": [],
   "source": [
    "def analysePlaylistsList(playlist_tuple_list):\n",
    "    \"\"\"function to analyse multiple playlists\"\"\"\n",
    "\n",
    "    for id, _ in enumerate(playlist_tuple_list):\n",
    "        playlist_df = analysePlaylist(playlist_tuple_list[id][0], playlist_tuple_list[id][1])\n",
    "\n",
    "        # playlist_df['playlist'] = PLAYLIST NAME\n",
    "\n",
    "        if id == 0:\n",
    "            playlist_tuple_df = playlist_df\n",
    "        else:\n",
    "            playlist_tuple_df = pd.concat([playlist_tuple_df, playlist_df], ignore_index=True)\n",
    "\n",
    "        playlist_tuple_df.to_csv('multiple playlists.csv')\n",
    "        return playlist_tuple_df"
   ]
  },
  {
   "cell_type": "code",
   "execution_count": 12,
   "metadata": {
    "tags": []
   },
   "outputs": [],
   "source": [
    "my_playlists_df, my_playlists_list = getUserPlaylists(username)"
   ]
  },
  {
   "cell_type": "code",
   "execution_count": 40,
   "metadata": {},
   "outputs": [],
   "source": [
    "name = input('Enter Username: ')\n",
    "playlistid = input('Enter Playlist ID: ')"
   ]
  },
  {
   "cell_type": "code",
   "execution_count": 41,
   "metadata": {},
   "outputs": [],
   "source": [
    "playlist_df = analysePlaylist(name, playlistid)"
   ]
  },
  {
   "cell_type": "code",
   "execution_count": 43,
   "metadata": {},
   "outputs": [
    {
     "output_type": "execute_result",
     "data": {
      "text/plain": "           artist                   album  \\\n0  Black Mountain                      IV   \n1       Daft Punk  Random Access Memories   \n2  Ray LaMontagne               Ouroboros   \n3  Ray LaMontagne               Ouroboros   \n4  Ray LaMontagne               Ouroboros   \n5  Ray LaMontagne               Ouroboros   \n6  Ray LaMontagne               Ouroboros   \n7  Ray LaMontagne               Ouroboros   \n8  Ray LaMontagne               Ouroboros   \n9  Ray LaMontagne               Ouroboros   \n\n                                        track_name                track_id  \\\n0                             Space to Bakersfield  1iqd4ySTUyrSPCJDvRu4AR   \n1                                      Motherboard  79koEJRtKOOGJ0VSAF3FMk   \n2                            Part One - Homecoming  4sEsqJFKJrp260Y2qXV1EK   \n3                      Part One - Hey, No Pressure  5kuFCKfGMFsBenmPfMB3cw   \n4                      Part One - The Changing Man  1G0tirZrwvflyRIg9CQU5q   \n5                  Part One - While It Still Beats  6ED5IYNdnt3ygDCHcbbhDh   \n6                         Part Two - In My Own Way  3S3siqFECq9XTgLHSGF1no   \n7                           Part Two - Another Day  2kakU4Q10eNd0LsLqrv9hF   \n8            Part Two - A Murmuration of Starlings  7J8Y6y4JTE3TjDdvK1MW6L   \n9  Part Two - Wouldn't It Make A Lovely Photograph  6OnN5AfKogPnQpEIbItvyX   \n\n   danceability  energy key  loudness mode  speechiness  instrumentalness  \\\n0         0.276   0.652  11    -9.918    0       0.0373          0.943000   \n1         0.548   0.707   4   -14.902    0       0.0352          0.922000   \n2         0.280   0.322   6   -14.574    1       0.0364          0.790000   \n3         0.434   0.748   1    -7.707    1       0.0522          0.000273   \n4         0.274   0.573   3    -6.895    0       0.0347          0.665000   \n5         0.321   0.550  10    -6.976    1       0.0331          0.323000   \n6         0.547   0.278   6   -10.676    1       0.0296          0.174000   \n7         0.456   0.250   6   -15.872    1       0.0328          0.073000   \n8         0.674   0.213   8   -12.243    0       0.0420          0.920000   \n9         0.643   0.459  11    -8.532    1       0.0298          0.000556   \n\n   liveness  valence    tempo duration_ms time_signature  \n0    0.0993   0.1190   74.448      544070              4  \n1    0.1050   0.2840  103.009      341653              4  \n2    0.0995   0.1150  190.473      509787              3  \n3    0.1020   0.7030  151.265      394200              4  \n4    0.2390   0.2580  126.081      253160              3  \n5    0.2380   0.0450  125.896      250333              3  \n6    0.1320   0.0615  125.755      396307              4  \n7    0.1110   0.0629  127.450      185627              4  \n8    0.1030   0.2000  126.023      153267              4  \n9    0.1050   0.1260  125.682      240067              4  ",
      "text/html": "<div>\n<style scoped>\n    .dataframe tbody tr th:only-of-type {\n        vertical-align: middle;\n    }\n\n    .dataframe tbody tr th {\n        vertical-align: top;\n    }\n\n    .dataframe thead th {\n        text-align: right;\n    }\n</style>\n<table border=\"1\" class=\"dataframe\">\n  <thead>\n    <tr style=\"text-align: right;\">\n      <th></th>\n      <th>artist</th>\n      <th>album</th>\n      <th>track_name</th>\n      <th>track_id</th>\n      <th>danceability</th>\n      <th>energy</th>\n      <th>key</th>\n      <th>loudness</th>\n      <th>mode</th>\n      <th>speechiness</th>\n      <th>instrumentalness</th>\n      <th>liveness</th>\n      <th>valence</th>\n      <th>tempo</th>\n      <th>duration_ms</th>\n      <th>time_signature</th>\n    </tr>\n  </thead>\n  <tbody>\n    <tr>\n      <th>0</th>\n      <td>Black Mountain</td>\n      <td>IV</td>\n      <td>Space to Bakersfield</td>\n      <td>1iqd4ySTUyrSPCJDvRu4AR</td>\n      <td>0.276</td>\n      <td>0.652</td>\n      <td>11</td>\n      <td>-9.918</td>\n      <td>0</td>\n      <td>0.0373</td>\n      <td>0.943000</td>\n      <td>0.0993</td>\n      <td>0.1190</td>\n      <td>74.448</td>\n      <td>544070</td>\n      <td>4</td>\n    </tr>\n    <tr>\n      <th>1</th>\n      <td>Daft Punk</td>\n      <td>Random Access Memories</td>\n      <td>Motherboard</td>\n      <td>79koEJRtKOOGJ0VSAF3FMk</td>\n      <td>0.548</td>\n      <td>0.707</td>\n      <td>4</td>\n      <td>-14.902</td>\n      <td>0</td>\n      <td>0.0352</td>\n      <td>0.922000</td>\n      <td>0.1050</td>\n      <td>0.2840</td>\n      <td>103.009</td>\n      <td>341653</td>\n      <td>4</td>\n    </tr>\n    <tr>\n      <th>2</th>\n      <td>Ray LaMontagne</td>\n      <td>Ouroboros</td>\n      <td>Part One - Homecoming</td>\n      <td>4sEsqJFKJrp260Y2qXV1EK</td>\n      <td>0.280</td>\n      <td>0.322</td>\n      <td>6</td>\n      <td>-14.574</td>\n      <td>1</td>\n      <td>0.0364</td>\n      <td>0.790000</td>\n      <td>0.0995</td>\n      <td>0.1150</td>\n      <td>190.473</td>\n      <td>509787</td>\n      <td>3</td>\n    </tr>\n    <tr>\n      <th>3</th>\n      <td>Ray LaMontagne</td>\n      <td>Ouroboros</td>\n      <td>Part One - Hey, No Pressure</td>\n      <td>5kuFCKfGMFsBenmPfMB3cw</td>\n      <td>0.434</td>\n      <td>0.748</td>\n      <td>1</td>\n      <td>-7.707</td>\n      <td>1</td>\n      <td>0.0522</td>\n      <td>0.000273</td>\n      <td>0.1020</td>\n      <td>0.7030</td>\n      <td>151.265</td>\n      <td>394200</td>\n      <td>4</td>\n    </tr>\n    <tr>\n      <th>4</th>\n      <td>Ray LaMontagne</td>\n      <td>Ouroboros</td>\n      <td>Part One - The Changing Man</td>\n      <td>1G0tirZrwvflyRIg9CQU5q</td>\n      <td>0.274</td>\n      <td>0.573</td>\n      <td>3</td>\n      <td>-6.895</td>\n      <td>0</td>\n      <td>0.0347</td>\n      <td>0.665000</td>\n      <td>0.2390</td>\n      <td>0.2580</td>\n      <td>126.081</td>\n      <td>253160</td>\n      <td>3</td>\n    </tr>\n    <tr>\n      <th>5</th>\n      <td>Ray LaMontagne</td>\n      <td>Ouroboros</td>\n      <td>Part One - While It Still Beats</td>\n      <td>6ED5IYNdnt3ygDCHcbbhDh</td>\n      <td>0.321</td>\n      <td>0.550</td>\n      <td>10</td>\n      <td>-6.976</td>\n      <td>1</td>\n      <td>0.0331</td>\n      <td>0.323000</td>\n      <td>0.2380</td>\n      <td>0.0450</td>\n      <td>125.896</td>\n      <td>250333</td>\n      <td>3</td>\n    </tr>\n    <tr>\n      <th>6</th>\n      <td>Ray LaMontagne</td>\n      <td>Ouroboros</td>\n      <td>Part Two - In My Own Way</td>\n      <td>3S3siqFECq9XTgLHSGF1no</td>\n      <td>0.547</td>\n      <td>0.278</td>\n      <td>6</td>\n      <td>-10.676</td>\n      <td>1</td>\n      <td>0.0296</td>\n      <td>0.174000</td>\n      <td>0.1320</td>\n      <td>0.0615</td>\n      <td>125.755</td>\n      <td>396307</td>\n      <td>4</td>\n    </tr>\n    <tr>\n      <th>7</th>\n      <td>Ray LaMontagne</td>\n      <td>Ouroboros</td>\n      <td>Part Two - Another Day</td>\n      <td>2kakU4Q10eNd0LsLqrv9hF</td>\n      <td>0.456</td>\n      <td>0.250</td>\n      <td>6</td>\n      <td>-15.872</td>\n      <td>1</td>\n      <td>0.0328</td>\n      <td>0.073000</td>\n      <td>0.1110</td>\n      <td>0.0629</td>\n      <td>127.450</td>\n      <td>185627</td>\n      <td>4</td>\n    </tr>\n    <tr>\n      <th>8</th>\n      <td>Ray LaMontagne</td>\n      <td>Ouroboros</td>\n      <td>Part Two - A Murmuration of Starlings</td>\n      <td>7J8Y6y4JTE3TjDdvK1MW6L</td>\n      <td>0.674</td>\n      <td>0.213</td>\n      <td>8</td>\n      <td>-12.243</td>\n      <td>0</td>\n      <td>0.0420</td>\n      <td>0.920000</td>\n      <td>0.1030</td>\n      <td>0.2000</td>\n      <td>126.023</td>\n      <td>153267</td>\n      <td>4</td>\n    </tr>\n    <tr>\n      <th>9</th>\n      <td>Ray LaMontagne</td>\n      <td>Ouroboros</td>\n      <td>Part Two - Wouldn't It Make A Lovely Photograph</td>\n      <td>6OnN5AfKogPnQpEIbItvyX</td>\n      <td>0.643</td>\n      <td>0.459</td>\n      <td>11</td>\n      <td>-8.532</td>\n      <td>1</td>\n      <td>0.0298</td>\n      <td>0.000556</td>\n      <td>0.1050</td>\n      <td>0.1260</td>\n      <td>125.682</td>\n      <td>240067</td>\n      <td>4</td>\n    </tr>\n  </tbody>\n</table>\n</div>"
     },
     "metadata": {},
     "execution_count": 43
    }
   ],
   "source": [
    "playlist_df"
   ]
  }
 ]
}