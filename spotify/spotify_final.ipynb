{
 "metadata": {
  "language_info": {
   "codemirror_mode": {
    "name": "ipython",
    "version": 3
   },
   "file_extension": ".py",
   "mimetype": "text/x-python",
   "name": "python",
   "nbconvert_exporter": "python",
   "pygments_lexer": "ipython3",
   "version": "3.9.1"
  },
  "orig_nbformat": 2,
  "kernelspec": {
   "name": "python3",
   "display_name": "Python 3.9.1 64-bit"
  },
  "interpreter": {
   "hash": "3d27c49734e9b9660c46f914f3cfacddc7f32cb7d8d7808c821286615313ea24"
  }
 },
 "nbformat": 4,
 "nbformat_minor": 2,
 "cells": [
  {
   "source": [
    "<h1>Setting up everything"
   ],
   "cell_type": "markdown",
   "metadata": {}
  },
  {
   "source": [
    "<h2>Imports\n"
   ],
   "cell_type": "markdown",
   "metadata": {}
  },
  {
   "cell_type": "code",
   "execution_count": null,
   "metadata": {},
   "outputs": [],
   "source": [
    "# spotipy modules\n",
    "import spotipy\n",
    "import spotipy.util as util\n",
    "from spotipy.oauth2 import SpotifyClientCredentials"
   ]
  },
  {
   "cell_type": "code",
   "execution_count": null,
   "metadata": {},
   "outputs": [],
   "source": [
    "# other libraries\n",
    "from decouple import config \n",
    "import time\n",
    "from IPython.core.display import clear_output\n",
    "import csv\n",
    "from itertools import chain\n",
    "import string\n",
    "from random import sample"
   ]
  },
  {
   "cell_type": "code",
   "execution_count": null,
   "metadata": {},
   "outputs": [],
   "source": [
    "# visualisation libraries\n",
    "import pandas as pd\n",
    "import numpy as np \n",
    "import seaborn as sns\n",
    "import matplotlib.pyplot as plt\n",
    "%matplotlib inline"
   ]
  },
  {
   "cell_type": "code",
   "execution_count": null,
   "metadata": {},
   "outputs": [],
   "source": [
    "# increase number of visible rows and columns\n",
    "pd.set_option('display.max_rows', 100)\n",
    "pd.set_option('display.min_rows', 20)\n",
    "\n",
    "pd.set_option('display.max_columns', None)"
   ]
  },
  {
   "source": [
    "## Setting up oauth object"
   ],
   "cell_type": "markdown",
   "metadata": {}
  },
  {
   "cell_type": "code",
   "execution_count": null,
   "metadata": {},
   "outputs": [],
   "source": [
    "# environment variables\n",
    "import os\n",
    "\n",
    "os.environ['CLIENT_ID'] = '0e1a2088928f483c8a86bfff72efb84e'\n",
    "os.environ['CLIENT_SECRET'] = 'a37836eb01954efcab1a9c1dbf7beb84'\n",
    "os.environ['REDIRECT_URI'] = 'http://google.com/'\n",
    "\n",
    "client_id = config('CLIENT_ID')\n",
    "client_secret = config('CLIENT_SECRET')\n",
    "redirect_uri = config('REDIRECT_URI')"
   ]
  },
  {
   "cell_type": "code",
   "execution_count": null,
   "metadata": {},
   "outputs": [],
   "source": [
    "# authorization\n",
    "client_credentials_manager = SpotifyClientCredentials(client_id=client_id, client_secret=client_secret)"
   ]
  },
  {
   "cell_type": "code",
   "execution_count": null,
   "metadata": {},
   "outputs": [],
   "source": [
    "username = 'sidsaxena'"
   ]
  },
  {
   "cell_type": "code",
   "execution_count": null,
   "metadata": {},
   "outputs": [],
   "source": [
    "scope = 'ugc-image-upload user-read-playback-state user-modify-playback-state user-read-currently-playing streaming app-remote-control user-read-email user-read-private playlist-read-collaborative playlist-modify-public playlist-read-private playlist-modify-private user-library-modify user-library-read user-top-read user-read-playback-position user-read-recently-played user-follow-read user-follow-modify'"
   ]
  },
  {
   "cell_type": "code",
   "execution_count": null,
   "metadata": {},
   "outputs": [],
   "source": [
    "def getToken():\n",
    "    try:\n",
    "\n",
    "        token = util.prompt_for_user_token(username=username, scope=scope, client_id=client_id, client_secret= client_secret, redirect_uri=redirect_uri, cache_path='.cache-sidsaxena')\n",
    "        sp = spotipy.Spotify(auth=token)\n",
    "\n",
    "    except:\n",
    "        print('Token not accessible for user: ', username)\n",
    "    return sp"
   ]
  },
  {
   "cell_type": "code",
   "execution_count": null,
   "metadata": {},
   "outputs": [],
   "source": [
    "sp = getToken()"
   ]
  },
  {
   "source": [
    "## Define Functions to parse info"
   ],
   "cell_type": "markdown",
   "metadata": {}
  },
  {
   "cell_type": "code",
   "execution_count": null,
   "metadata": {},
   "outputs": [],
   "source": [
    "def getUserPlaylists(user):\n",
    "\n",
    "    name_list = []\n",
    "    id_list = []\n",
    "    creator_list = []\n",
    "    offset=0\n",
    "    playlists = []\n",
    "\n",
    "    while True:\n",
    "        results = sp.user_playlists(user, offset=offset)\n",
    "        playlists += results['items']\n",
    "\n",
    "        if results['next'] is not None:\n",
    "            offset += 50\n",
    "        else:\n",
    "            break\n",
    "\n",
    "    for playlist, _ in enumerate(playlists):\n",
    "        name_list.append(playlists[playlist]['name'])\n",
    "        id_list.append(playlists[playlist]['id'])\n",
    "        creator_list.append(playlists[playlist]['owner']['id'])\n",
    "    \n",
    "    creator_id_tuple = tuple(zip(creator_list, id_list))\n",
    "\n",
    "    playlist_dict = dict(name = name_list, id = id_list, creator = creator_list)\n",
    "        \n",
    "    playlist_df = pd.DataFrame(playlist_dict)\n",
    "    multiple_playlist_dict = list(creator_id_tuple)\n",
    "    playlist_df.to_csv('{}-playlists.csv'.format(user))\n",
    "    return playlist_df, multiple_playlist_dict"
   ]
  },
  {
   "cell_type": "code",
   "execution_count": null,
   "metadata": {},
   "outputs": [],
   "source": [
    "def getTrackIds(user, playlist_id):\n",
    "    \"\"\"get track ids from a playlist and return id list.\"\"\"\n",
    "    \n",
    "    ids = []\n",
    "    playlist = sp.user_playlist(user, playlist_id)\n",
    "    for item in playlist['tracks']['items']:\n",
    "        track = item['track']\n",
    "        ids.append(track['id'])\n",
    "    return ids\n",
    "\n",
    "# ids = getTrackIds(my_user, vfar_id)"
   ]
  },
  {
   "cell_type": "code",
   "execution_count": null,
   "metadata": {},
   "outputs": [],
   "source": [
    "def getTrackIdsFromAlbum(album_id):\n",
    "\n",
    "    tracklist = []\n",
    "    track_id_list = []\n",
    "\n",
    "    results = sp.album_tracks(album_id)\n",
    "    tracks = results['items']\n",
    "    album_results = sp.album(album_id)\n",
    "    album_name = album_results['name'] \n",
    "    album_tracks = album_results['tracks']\n",
    "    for track, _ in enumerate(tracks):\n",
    "        tracklist.append(tracks[track]['name'])\n",
    "        track_id_list.append(tracks[track]['id']) \n",
    "\n",
    "    return track_id_list"
   ]
  },
  {
   "cell_type": "code",
   "execution_count": null,
   "metadata": {},
   "outputs": [],
   "source": [
    "def analysePlaylist(creator, playlist_id):\n",
    "    \n",
    "    tracks = []\n",
    "    offset = 0\n",
    "    # Create empty dataframe\n",
    "    playlist_features_list = ['artist','album','track_name', 'track_id', 'popularity', 'genres', 'danceability','energy','key','loudness','mode', 'speechiness','instrumentalness','liveness','valence','tempo', 'duration_ms','time_signature']\n",
    "    \n",
    "    playlist_df = pd.DataFrame(columns = playlist_features_list)\n",
    "    \n",
    "    # Loop through every track in the playlist, extract features and append the features to the playlist df\n",
    "        \n",
    "    while True:\n",
    "        results = sp.user_playlist_tracks(creator, playlist_id, offset=offset)\n",
    "        tracks += results['items']\n",
    "\n",
    "        if results['next'] is not None:\n",
    "            offset += 100\n",
    "        else:\n",
    "            break\n",
    "\n",
    "    for track in tracks:       \n",
    "        \n",
    "        artist = track['track']['album']['artists'][0]\n",
    "        artist_id = artist['id']\n",
    "        genre = sp.artist(artist_id)\n",
    "        genres = genre['genres']\n",
    "\n",
    "        playlist_features = {}        \n",
    "        playlist_features['artist'] = artist['name']\n",
    "        playlist_features['album'] = track['track']['album']['name']\n",
    "        playlist_features['track_name'] = track['track']['name']\n",
    "        playlist_features['track_id'] = track['track']['id']\n",
    "        playlist_features['popularity'] = track['track']['popularity']\n",
    "        playlist_features['genres'] = [genres]\n",
    "    \n",
    "        # Get audio features\n",
    "        time.sleep(0.5)\n",
    "        audio_features = sp.audio_features(playlist_features['track_id'])[0]\n",
    "        for feature in playlist_features_list[6:]:\n",
    "            playlist_features[feature] = audio_features[feature]\n",
    "        \n",
    "        # Concat the dfs\n",
    "        track_df = pd.DataFrame(playlist_features, index = [0])\n",
    "        playlist_df = pd.concat([playlist_df, track_df], ignore_index = True)\n",
    "    \n",
    "    playlist_df.to_csv('{}-{}.csv'.format(creator, playlist_id))\n",
    "    return playlist_df"
   ]
  },
  {
   "cell_type": "code",
   "execution_count": null,
   "metadata": {},
   "outputs": [],
   "source": [
    "def analysePlaylistsList(playlist_tuple_list):\n",
    "    \"\"\"function to analyse multiple playlists\"\"\"\n",
    "\n",
    "    for id, _ in enumerate(playlist_tuple_list):\n",
    "        playlist_df = analysePlaylist(playlist_tuple_list[id][0], playlist_tuple_list[id][1])\n",
    "        # playlist_df['playlist'] = PLAYLIST NAME\n",
    "\n",
    "        if id == 0:\n",
    "            playlist_tuple_df = playlist_df\n",
    "        else:\n",
    "            playlist_tuple_df = pd.concat([playlist_tuple_df, playlist_df], ignore_index=True)\n",
    "\n",
    "    playlist_tuple_df.to_csv('multiple playlists.csv')\n",
    "    return playlist_tuple_df"
   ]
  },
  {
   "cell_type": "code",
   "execution_count": null,
   "metadata": {},
   "outputs": [],
   "source": [
    "def getDiscography(name):\n",
    "    \"\"\"get discography of an artist by searching its name and return a dataframe and genres in a seperate variable\"\"\"\n",
    "\n",
    "    release_date_list = []\n",
    "    track_id_list = []   \n",
    "    tracklist = []\n",
    "    album_list = []    \n",
    "    track_album_dict = {}\n",
    "\n",
    "    album_names = []\n",
    "    album_id = []\n",
    "    album_release_date = []\n",
    "\n",
    "    single_names = []\n",
    "    single_id = []\n",
    "    single_release_date = []\n",
    "\n",
    "    results = sp.search(q=name, type='artist')\n",
    "    artist = results['artists']['items'][0]\n",
    "\n",
    "    artist_name = artist['name']\n",
    "    artist_id = artist['id']\n",
    "    artist_genres = artist['genres']\n",
    "\n",
    "    artist_albums = sp.artist_albums(artist_id, album_type='album')\n",
    "    albums = artist_albums['items']\n",
    "    \n",
    "    while artist_albums['next']:\n",
    "        artist_albums = sp.next(artist_albums)\n",
    "        albums.extend(artist_albums['items'])\n",
    "\n",
    "    for album in albums:\n",
    "        album_names.append(album['name'])\n",
    "        album_id.append(album['id'])\n",
    "        album_release_date.append(album['release_date'])\n",
    "\n",
    "    \n",
    "    artist_singles = sp.artist_albums(artist_id, album_type='single')\n",
    "    singles = artist_singles['items']\n",
    "    \n",
    "    while artist_singles['next']:\n",
    "        artist_singles = sp.next(artist_singles)\n",
    "        singles.extend(artist_singles['items'])\n",
    "\n",
    "    for single in singles:\n",
    "        single_names.append(single['name'])\n",
    "        single_id.append(single['id'])\n",
    "        single_release_date.append(single['release_date'])\n",
    "\n",
    "\n",
    "    # MUCH BETTER CODE but need to figure out a way to append release date.\n",
    "    # for album in album_id:\n",
    "    #     tracks = sp.album_tracks(album)\n",
    "    #     tracks = tracks['items']\n",
    "    #     album_name = sp.album(album)['name']\n",
    "    #     for track in tracks:\n",
    "    #         track_name = track['name']\n",
    "    #         track_id_list.append(track['id'])\n",
    "    #         tracklist.append(track_name)\n",
    "    #         album_list.append(album_name)\n",
    "    #         release_date_list.append(album_release_date[])\n",
    "\n",
    "\n",
    "    for album, _ in enumerate(album_id):\n",
    "        tracks = sp.album_tracks(album_id[album])\n",
    "        tracks = tracks['items']\n",
    "        album_name = sp.album(album_id[album])['name'] \n",
    "        for track, _ in enumerate(tracks):\n",
    "            track_name = tracks[track]['name']\n",
    "            track_id_list.append(tracks[track]['id']) \n",
    "            tracklist.append(track_name)\n",
    "            album_list.append(album_name)\n",
    "            release_date_list.append(album_release_date[album])\n",
    "    \n",
    "    for single, _ in enumerate(single_id):\n",
    "        tracks = sp.album_tracks(single_id[single])\n",
    "        tracks = tracks['items']\n",
    "        album_name = sp.album(single_id[single])['name'] \n",
    "        for track, _ in enumerate(tracks):\n",
    "            single_name = tracks[track]['name']\n",
    "            track_id_list.append(tracks[track]['id']) \n",
    "            tracklist.append(single_name)\n",
    "            album_list.append(album_name)\n",
    "            release_date_list.append(single_release_date[single])\n",
    "\n",
    "    \n",
    "\n",
    "\n",
    "    track_album_dict = {'track': tracklist, 'album': album_list, 'release_date': release_date_list, 'id': track_id_list}  \n",
    "    df = pd.DataFrame(track_album_dict)\n",
    "    df.to_csv('{}-discog.csv'.format(artist['name']))\n",
    "    return df"
   ]
  },
  {
   "cell_type": "code",
   "execution_count": null,
   "metadata": {},
   "outputs": [],
   "source": [
    "def getTrackFeatures(id):\n",
    "    \"\"\"get features of a track by its ID.\"\"\"\n",
    "    \n",
    "    meta = sp.track(id)\n",
    "    features = sp.audio_features(id)\n",
    "\n",
    "    #meta\n",
    "    name = meta['name']\n",
    "    album = meta['album']['name']\n",
    "    artist = meta['album']['artists'][0]['name']\n",
    "    artist_id = meta['album']['artists'][0]['id']\n",
    "    genre = sp.artist(artist_id)['genres']\n",
    "    release_date = meta['album']['release_date']\n",
    "    length = meta['duration_ms']\n",
    "    popularity = meta['popularity']\n",
    "\n",
    "    #features\n",
    "    danceability = features[0]['danceability']\n",
    "    energy = features[0]['energy']\n",
    "    key = features[0]['key']\n",
    "    loudness = features[0]['loudness']\n",
    "    mode = features[0]['mode']\n",
    "    speechiness = features[0]['speechiness']\n",
    "    acousticness = features[0]['acousticness']\n",
    "    instrumentalness = features[0]['instrumentalness']\n",
    "    liveness = features[0]['liveness']\n",
    "    valence = features[0]['valence']\n",
    "    tempo = features[0]['tempo']\n",
    "    time_signature = features[0]['time_signature']\n",
    "\n",
    "    track = [name, album, artist, release_date, genre, length, popularity,danceability, energy, key, loudness, mode, speechiness, acousticness, instrumentalness, liveness, valence, tempo, time_signature]\n",
    "\n",
    "    return track"
   ]
  },
  {
   "cell_type": "code",
   "execution_count": null,
   "metadata": {},
   "outputs": [],
   "source": [
    "def getTracklistFeatures(tracklist):\n",
    "    \"\"\"get features of multiple tracks from a list of IDs and return a dataframe\"\"\"\n",
    "\n",
    "  # loop over track ids \n",
    "    tracks = []\n",
    "    for id in range(len(tracklist)):\n",
    "        track = getTrackFeatures(tracklist[id])\n",
    "        tracks.append(track)\n",
    "        \n",
    "        # see status\n",
    "        print('Requesting track {}/{}'.format(id, len(tracklist)))\n",
    "        # clear output\n",
    "        clear_output(wait=True)\n",
    "\n",
    "  # create dataset\n",
    "    df = pd.DataFrame(tracks, columns = ['track', 'album', 'artist', 'release_date', 'genres', 'length', 'popularity', 'danceability', 'energy', 'key', 'loudness', 'mode', 'speechiness', 'acousticness', 'instrumentalness', 'liveness', 'valence', 'tempo', 'time_signature'])\n",
    "    df.to_csv(\"tracklist-features.csv\", sep = ',')\n",
    "    return df"
   ]
  },
  {
   "cell_type": "code",
   "execution_count": null,
   "metadata": {},
   "outputs": [],
   "source": [
    "def getUriFromDf(df):\n",
    "    saved_uris = []\n",
    "    failed_tracks = []\n",
    "    artist_names = df['artist'].values\n",
    "    track_names = df['track'].values\n",
    "\n",
    "    for i in range(len(artist_names)):\n",
    "        artist = artist_names[i]\n",
    "        track = track_names[i]\n",
    "        print(f'{i} - {artist}: {track}')\n",
    "        q = 'artist:{} track: {}'.format(artist, track)\n",
    "        results = sp.search(q=q, limit=1, type='track')\n",
    "        if len(results['tracks']['items']) > 0:\n",
    "            uri = results['tracks']['items'][0]['uri']\n",
    "            saved_uris.append(uri)\n",
    "        else: \n",
    "            failed_tracks.append(f'{i} - {artist}: {track}')\n",
    "            i += 1        \n",
    "    return saved_uris"
   ]
  },
  {
   "source": [
    "## Get playlists and their features"
   ],
   "cell_type": "markdown",
   "metadata": {}
  },
  {
   "source": [
    "### Get all playlists"
   ],
   "cell_type": "markdown",
   "metadata": {}
  },
  {
   "cell_type": "code",
   "execution_count": null,
   "metadata": {
    "tags": []
   },
   "outputs": [],
   "source": [
    "my_playlists_df, my_playlists_list = getUserPlaylists(username)"
   ]
  },
  {
   "cell_type": "code",
   "execution_count": null,
   "metadata": {},
   "outputs": [],
   "source": [
    "my_playlists_df"
   ]
  },
  {
   "cell_type": "code",
   "execution_count": null,
   "metadata": {},
   "outputs": [],
   "source": [
    "# first 10 playlists\n",
    "my_playlists_list[:10]"
   ]
  },
  {
   "source": [
    "## Get uris of scrobbles spreadsheet "
   ],
   "cell_type": "markdown",
   "metadata": {}
  },
  {
   "cell_type": "code",
   "execution_count": null,
   "metadata": {
    "tags": []
   },
   "outputs": [],
   "source": [
    "# scrobbles_uri = getUriFromDf(scrobbles_unique)"
   ]
  },
  {
   "cell_type": "code",
   "execution_count": null,
   "metadata": {},
   "outputs": [],
   "source": [
    "# l = list(csv.reader(open('../spotify/Spreadsheets/scrobbles_unique_uris.csv', 'r')))\n",
    "# mylist = map(list, zip(*l[0:])) # transpose list\n",
    "# scrobble_uris = list(chain.from_iterable(mylist))"
   ]
  },
  {
   "cell_type": "code",
   "execution_count": null,
   "metadata": {},
   "outputs": [],
   "source": [
    "# np.savetxt(\"scrobbles_uri_unique.csv\", saved_uris, delimiter=\",\", fmt='%s')"
   ]
  },
  {
   "cell_type": "code",
   "execution_count": null,
   "metadata": {
    "tags": []
   },
   "outputs": [],
   "source": [
    "# scrobble_features = getTracklistFeatures(scrobble_uris)\n",
    "# scrobbles_features.to_csv('scrobbles_features.csv', index=False)"
   ]
  },
  {
   "cell_type": "code",
   "execution_count": null,
   "metadata": {},
   "outputs": [],
   "source": [
    "# refresh token\n",
    "sp = getToken()"
   ]
  },
  {
   "cell_type": "code",
   "execution_count": null,
   "metadata": {
    "tags": []
   },
   "outputs": [],
   "source": [
    "scrobbles = pd.read_csv('Spreadsheets/SidSaxena_scrobbles_2020-08-25.csv')\n",
    "scrobbles = scrobbles.drop(['album', 'artist_mbid', 'album_mbid', 'track_mbid', 'timestamp'], axis=1)"
   ]
  },
  {
   "cell_type": "code",
   "execution_count": null,
   "metadata": {},
   "outputs": [],
   "source": [
    "scrobbles['artist'] = scrobbles['artist'].apply(lambda x: string.capwords(x))\n",
    "scrobbles['track'] = scrobbles['track'].apply(lambda x: string.capwords(x))"
   ]
  },
  {
   "cell_type": "code",
   "execution_count": null,
   "metadata": {},
   "outputs": [],
   "source": [
    "scrobbles"
   ]
  },
  {
   "cell_type": "code",
   "execution_count": null,
   "metadata": {},
   "outputs": [],
   "source": [
    "scrobbles_unique = pd.read_csv('Spreadsheets/SidSaxena_unique_scrobbles_2020-08-25.csv')\n",
    "scrobbles_unique"
   ]
  },
  {
   "cell_type": "code",
   "execution_count": null,
   "metadata": {
    "tags": []
   },
   "outputs": [],
   "source": [
    "scrobbles_features = pd.read_csv('Spreadsheets/Scrobbles Features.csv')\n",
    "scrobbles_features = scrobbles_features.drop_duplicates()\n",
    "scrobbles_features.rename(columns={'name':'track'}, inplace=True)\n",
    "scrobbles_features"
   ]
  },
  {
   "cell_type": "code",
   "execution_count": null,
   "metadata": {},
   "outputs": [],
   "source": [
    "# # add seatbelts features to scrobbles features\n",
    "# seatbelts = scrobbles_unique[scrobbles_unique['artist'] == 'The Seatbelts']\n",
    "\n",
    "# seatbelts_uri = []\n",
    "# artist = seatbelts['artist'].to_list()\n",
    "# tracks = seatbelts['track'].to_list()\n",
    "\n",
    "# l = [i.split('The ', 1)[1] for i in artist]\n",
    "\n",
    "# for i in range(len(l)):\n",
    "#     artist = l[i]\n",
    "#     track = tracks[i]\n",
    "#     q = 'artist:{} track: {}'.format(artist, track)\n",
    "#     print(f'{i} - {artist}: {track}')\n",
    "#     results = sp.search(q=q, limit=1, type='track')\n",
    "#     if len(results['tracks']['items']) > 0:\n",
    "#         uri = results['tracks']['items'][0]['uri']\n",
    "#         seatbelts_uri.append(uri)\n",
    "#     else: \n",
    "#         i += 1\n",
    "\n",
    "# seatbelts_features = getTracklistFeatures(seatbelts_uri)\n",
    "# scrobbles_features.append(seatbelts_features)"
   ]
  },
  {
   "cell_type": "code",
   "execution_count": null,
   "metadata": {},
   "outputs": [],
   "source": [
    "scrobbles_features['artist'] = scrobbles_features['artist'].apply(lambda x: string.capwords(x)) \n",
    "scrobbles_features['track'] = scrobbles_features['track'].apply(lambda x: string.capwords(x))"
   ]
  },
  {
   "source": [
    "## Merge scrobbles and features"
   ],
   "cell_type": "markdown",
   "metadata": {}
  },
  {
   "cell_type": "code",
   "execution_count": null,
   "metadata": {},
   "outputs": [],
   "source": [
    "merged = pd.merge(scrobbles, scrobbles_features)\n",
    "merged = merged.sort_values('datetime', ascending=False)"
   ]
  },
  {
   "cell_type": "code",
   "execution_count": null,
   "metadata": {},
   "outputs": [],
   "source": [
    "merged"
   ]
  },
  {
   "cell_type": "code",
   "execution_count": null,
   "metadata": {},
   "outputs": [],
   "source": [
    "# merged.to_csv('Scrobbles with Features (66K).csv', index=False)"
   ]
  },
  {
   "cell_type": "code",
   "execution_count": null,
   "metadata": {},
   "outputs": [],
   "source": [
    "mergeunion = pd.merge(scrobbles, scrobbles_features, how='outer')"
   ]
  },
  {
   "cell_type": "code",
   "execution_count": null,
   "metadata": {},
   "outputs": [],
   "source": [
    "# mergeunion.to_csv('Union of Scrobbles and Features.csv', index=False)"
   ]
  },
  {
   "cell_type": "code",
   "execution_count": null,
   "metadata": {},
   "outputs": [],
   "source": [
    "mergeunion"
   ]
  },
  {
   "source": [
    "### Deal with failed merge"
   ],
   "cell_type": "markdown",
   "metadata": {}
  },
  {
   "cell_type": "code",
   "execution_count": null,
   "metadata": {},
   "outputs": [],
   "source": [
    "failed = pd.concat([mergeunion, merged, merged]).drop_duplicates(keep=False)"
   ]
  },
  {
   "cell_type": "code",
   "execution_count": null,
   "metadata": {},
   "outputs": [],
   "source": [
    "# failed.to_csv(\"Failed Results (Union minus Merged).csv\", index=False)"
   ]
  },
  {
   "cell_type": "code",
   "execution_count": null,
   "metadata": {},
   "outputs": [],
   "source": [
    "failed"
   ]
  },
  {
   "cell_type": "code",
   "execution_count": null,
   "metadata": {},
   "outputs": [],
   "source": [
    "failed_not_features = failed[failed['length'].isnull()]\n",
    "\n",
    "failed_not_features = failed_not_features[['artist', 'track', 'datetime']]"
   ]
  },
  {
   "cell_type": "code",
   "execution_count": null,
   "metadata": {},
   "outputs": [],
   "source": [
    "# failed_not_features.to_csv('Failed Not Features.csv', index=False)"
   ]
  },
  {
   "cell_type": "code",
   "execution_count": null,
   "metadata": {},
   "outputs": [],
   "source": [
    "failed_features = failed[failed['length'].notnull()]\n",
    "\n",
    "failed_features = failed_features.drop('datetime', axis=1)"
   ]
  },
  {
   "cell_type": "code",
   "execution_count": null,
   "metadata": {},
   "outputs": [],
   "source": [
    "# failed_features.to_csv('Failed Features.csv', index=False)"
   ]
  },
  {
   "cell_type": "code",
   "execution_count": null,
   "metadata": {},
   "outputs": [],
   "source": [
    "failed_features"
   ]
  },
  {
   "cell_type": "code",
   "execution_count": null,
   "metadata": {},
   "outputs": [],
   "source": [
    "same_track = pd.merge(failed_features, failed_not_features, on='track')"
   ]
  },
  {
   "cell_type": "code",
   "execution_count": null,
   "metadata": {},
   "outputs": [],
   "source": [
    "same_track['artist_x'] = same_track['artist_y']"
   ]
  },
  {
   "cell_type": "code",
   "execution_count": null,
   "metadata": {},
   "outputs": [],
   "source": [
    "same_track.drop(['artist_y'], axis=1, inplace=True)"
   ]
  },
  {
   "cell_type": "code",
   "execution_count": null,
   "metadata": {},
   "outputs": [],
   "source": [
    "same_track.rename(columns={'artist_x': 'artist'}, inplace=True)"
   ]
  },
  {
   "cell_type": "code",
   "execution_count": null,
   "metadata": {},
   "outputs": [],
   "source": [
    "same_track"
   ]
  },
  {
   "cell_type": "code",
   "execution_count": null,
   "metadata": {},
   "outputs": [],
   "source": [
    "failed_merge = pd.merge(failed_not_features, same_track)\n",
    "# failed_merge.drop('artist_x', axis=1, inplace=True)"
   ]
  },
  {
   "cell_type": "code",
   "execution_count": null,
   "metadata": {},
   "outputs": [],
   "source": [
    "failed_merge"
   ]
  },
  {
   "cell_type": "code",
   "execution_count": null,
   "metadata": {},
   "outputs": [],
   "source": [
    "# failed_merge.to_csv('Failed Merge.csv', index=False)"
   ]
  },
  {
   "cell_type": "code",
   "execution_count": null,
   "metadata": {},
   "outputs": [],
   "source": [
    "new_merged = pd.concat([merged, failed_merge])\n",
    "new_merged.drop_duplicates(inplace=True)"
   ]
  },
  {
   "cell_type": "code",
   "execution_count": null,
   "metadata": {},
   "outputs": [],
   "source": [
    "new_merged"
   ]
  },
  {
   "cell_type": "code",
   "execution_count": null,
   "metadata": {},
   "outputs": [],
   "source": [
    "# new_merged.to_csv('Scrobbles with Features (69K).csv', index=False)"
   ]
  },
  {
   "cell_type": "code",
   "execution_count": null,
   "metadata": {},
   "outputs": [],
   "source": [
    "# scrobbles_features['artist'] = scrobbles_features['length'].map(test_dict).fillna(scrobbles_features['artist'])\n",
    "\n",
    "# scrobbles_features['artist'] = scrobbles_features['artist'].apply(lambda x: artists_dict[x])\n",
    "\n",
    "# df['Group'] = df['Group'].map(df1.set_index('Group')['Hotel'])\n",
    "\n",
    "# hotel_dict = df2.set_index('Group').to_dict()\n",
    "# df1['Group'] = df1['Group'].apply(lambda x: hotel_dict[x])"
   ]
  },
  {
   "cell_type": "markdown",
   "metadata": {},
   "source": [
    "## Merge Exact_Merges from Record Linkage (Linking.ipynb)"
   ]
  },
  {
   "cell_type": "code",
   "execution_count": null,
   "metadata": {},
   "outputs": [],
   "source": [
    "exact_merge = pd.read_csv('Spreadsheets/Exact Merge.csv')"
   ]
  },
  {
   "cell_type": "code",
   "execution_count": null,
   "metadata": {},
   "outputs": [],
   "source": [
    "new_merged = pd.concat([new_merged, exact_merge]).drop_duplicates()"
   ]
  },
  {
   "cell_type": "code",
   "execution_count": null,
   "metadata": {},
   "outputs": [],
   "source": [
    "new_merged = new_merged.drop_duplicates(subset='datetime', keep=\"first\")"
   ]
  },
  {
   "cell_type": "code",
   "execution_count": null,
   "metadata": {},
   "outputs": [],
   "source": [
    "new_merged"
   ]
  },
  {
   "cell_type": "code",
   "execution_count": null,
   "metadata": {},
   "outputs": [],
   "source": [
    "new_merged = new_merged.sort_values(by='datetime', ascending=False)"
   ]
  },
  {
   "cell_type": "code",
   "execution_count": null,
   "metadata": {},
   "outputs": [],
   "source": [
    "# new_merged.to_csv('Scrobbles with Features (69126).csv', index=False)"
   ]
  },
  {
   "source": [
    "# Get certain playlists and their attributes"
   ],
   "cell_type": "markdown",
   "metadata": {}
  },
  {
   "cell_type": "code",
   "execution_count": 75,
   "metadata": {},
   "outputs": [
    {
     "output_type": "execute_result",
     "data": {
      "text/plain": [
       "                                                  name  \\\n",
       "0              Ear training: Intervals - Perfect Prime   \n",
       "1               Ear training: Intervals - Major Second   \n",
       "2                              Discover Weekly Archive   \n",
       "3                            Byronheart Blended Daily    \n",
       "4                                   Byronheart + Gadha   \n",
       "5                                        Dhruv + Gadha   \n",
       "6                                      Samarth + Gadha   \n",
       "7                                 Twoheadedboy + Gadha   \n",
       "8                                 woosteresque + Gadha   \n",
       "9                                        Nanda + Gadha   \n",
       "..                                                 ...   \n",
       "146                                 Dark Souls Trilogy   \n",
       "147                                      90s-00s party   \n",
       "148                               90s 00s gormlessness   \n",
       "149                                             REEEEE   \n",
       "150                                    JQBX :: Starred   \n",
       "151                                      JQBX :: Queue   \n",
       "152  Replay Recommendations based on Top Tracks • A...   \n",
       "153  Replay Recommendations based on Top Artists • ...   \n",
       "154                                          (Alvvays)   \n",
       "155                  Mallsoft & Shopping Mall Ambience   \n",
       "\n",
       "                         id                    creator  \n",
       "0    4TCFTC76ZJ5MoirLeicr3g  0zxrr00u8c7ronq8dmkkgzsfr  \n",
       "1    03dSOaehYRlETqEeHUvaur  0zxrr00u8c7ronq8dmkkgzsfr  \n",
       "2    2HMHUoxUgMcyBIhc2AigWN                  sidsaxena  \n",
       "3    7JYmWD4GmCA72LM1rMENjZ                  sidsaxena  \n",
       "4    37i9dQZF1EJwk8bMFJ86Hp                    spotify  \n",
       "5    37i9dQZF1EJDAofyoIEVRO                    spotify  \n",
       "6    37i9dQZF1EJzLXmaJSWoa8                    spotify  \n",
       "7    37i9dQZF1EJA9FtsyReGLU                    spotify  \n",
       "8    37i9dQZF1EJMC6i7vRuhmV                    spotify  \n",
       "9    37i9dQZF1EJu04AyFmTvOk                    spotify  \n",
       "..                      ...                        ...  \n",
       "146  2vq3uehSKVrsPah7llbc1C                  sidsaxena  \n",
       "147  093JggVROVAr7VHvTSQnJR               rockrenegade  \n",
       "148  1Gs0Rs1EJx4RhUMOHKwrDz               rockrenegade  \n",
       "149  1Ap7X8RIuVNH5A4tkPkPv5                versessence  \n",
       "150  17lxq4sPnnen5NvDTy7puG                  sidsaxena  \n",
       "151  79bCIuDZ5C9QCcIg2Ft8Bf                  sidsaxena  \n",
       "152  1Xg90sP3wjKQ6Han8V1t2i                  sidsaxena  \n",
       "153  0gtsnzYKQ1kU93irm6Lepm                  sidsaxena  \n",
       "154  5NsCCKSRz97bP8OuQskPTg  auuwpwtrrnb9u4xz0sbca61i8  \n",
       "155  4im2nSUjjCdReLLDNwDQoC                      aofd3  \n",
       "\n",
       "[156 rows x 3 columns]"
      ],
      "text/html": "<div>\n<style scoped>\n    .dataframe tbody tr th:only-of-type {\n        vertical-align: middle;\n    }\n\n    .dataframe tbody tr th {\n        vertical-align: top;\n    }\n\n    .dataframe thead th {\n        text-align: right;\n    }\n</style>\n<table border=\"1\" class=\"dataframe\">\n  <thead>\n    <tr style=\"text-align: right;\">\n      <th></th>\n      <th>name</th>\n      <th>id</th>\n      <th>creator</th>\n    </tr>\n  </thead>\n  <tbody>\n    <tr>\n      <th>0</th>\n      <td>Ear training: Intervals - Perfect Prime</td>\n      <td>4TCFTC76ZJ5MoirLeicr3g</td>\n      <td>0zxrr00u8c7ronq8dmkkgzsfr</td>\n    </tr>\n    <tr>\n      <th>1</th>\n      <td>Ear training: Intervals - Major Second</td>\n      <td>03dSOaehYRlETqEeHUvaur</td>\n      <td>0zxrr00u8c7ronq8dmkkgzsfr</td>\n    </tr>\n    <tr>\n      <th>2</th>\n      <td>Discover Weekly Archive</td>\n      <td>2HMHUoxUgMcyBIhc2AigWN</td>\n      <td>sidsaxena</td>\n    </tr>\n    <tr>\n      <th>3</th>\n      <td>Byronheart Blended Daily</td>\n      <td>7JYmWD4GmCA72LM1rMENjZ</td>\n      <td>sidsaxena</td>\n    </tr>\n    <tr>\n      <th>4</th>\n      <td>Byronheart + Gadha</td>\n      <td>37i9dQZF1EJwk8bMFJ86Hp</td>\n      <td>spotify</td>\n    </tr>\n    <tr>\n      <th>5</th>\n      <td>Dhruv + Gadha</td>\n      <td>37i9dQZF1EJDAofyoIEVRO</td>\n      <td>spotify</td>\n    </tr>\n    <tr>\n      <th>6</th>\n      <td>Samarth + Gadha</td>\n      <td>37i9dQZF1EJzLXmaJSWoa8</td>\n      <td>spotify</td>\n    </tr>\n    <tr>\n      <th>7</th>\n      <td>Twoheadedboy + Gadha</td>\n      <td>37i9dQZF1EJA9FtsyReGLU</td>\n      <td>spotify</td>\n    </tr>\n    <tr>\n      <th>8</th>\n      <td>woosteresque + Gadha</td>\n      <td>37i9dQZF1EJMC6i7vRuhmV</td>\n      <td>spotify</td>\n    </tr>\n    <tr>\n      <th>9</th>\n      <td>Nanda + Gadha</td>\n      <td>37i9dQZF1EJu04AyFmTvOk</td>\n      <td>spotify</td>\n    </tr>\n    <tr>\n      <th>...</th>\n      <td>...</td>\n      <td>...</td>\n      <td>...</td>\n    </tr>\n    <tr>\n      <th>146</th>\n      <td>Dark Souls Trilogy</td>\n      <td>2vq3uehSKVrsPah7llbc1C</td>\n      <td>sidsaxena</td>\n    </tr>\n    <tr>\n      <th>147</th>\n      <td>90s-00s party</td>\n      <td>093JggVROVAr7VHvTSQnJR</td>\n      <td>rockrenegade</td>\n    </tr>\n    <tr>\n      <th>148</th>\n      <td>90s 00s gormlessness</td>\n      <td>1Gs0Rs1EJx4RhUMOHKwrDz</td>\n      <td>rockrenegade</td>\n    </tr>\n    <tr>\n      <th>149</th>\n      <td>REEEEE</td>\n      <td>1Ap7X8RIuVNH5A4tkPkPv5</td>\n      <td>versessence</td>\n    </tr>\n    <tr>\n      <th>150</th>\n      <td>JQBX :: Starred</td>\n      <td>17lxq4sPnnen5NvDTy7puG</td>\n      <td>sidsaxena</td>\n    </tr>\n    <tr>\n      <th>151</th>\n      <td>JQBX :: Queue</td>\n      <td>79bCIuDZ5C9QCcIg2Ft8Bf</td>\n      <td>sidsaxena</td>\n    </tr>\n    <tr>\n      <th>152</th>\n      <td>Replay Recommendations based on Top Tracks • A...</td>\n      <td>1Xg90sP3wjKQ6Han8V1t2i</td>\n      <td>sidsaxena</td>\n    </tr>\n    <tr>\n      <th>153</th>\n      <td>Replay Recommendations based on Top Artists • ...</td>\n      <td>0gtsnzYKQ1kU93irm6Lepm</td>\n      <td>sidsaxena</td>\n    </tr>\n    <tr>\n      <th>154</th>\n      <td>(Alvvays)</td>\n      <td>5NsCCKSRz97bP8OuQskPTg</td>\n      <td>auuwpwtrrnb9u4xz0sbca61i8</td>\n    </tr>\n    <tr>\n      <th>155</th>\n      <td>Mallsoft &amp; Shopping Mall Ambience</td>\n      <td>4im2nSUjjCdReLLDNwDQoC</td>\n      <td>aofd3</td>\n    </tr>\n  </tbody>\n</table>\n<p>156 rows × 3 columns</p>\n</div>"
     },
     "metadata": {},
     "execution_count": 75
    }
   ],
   "source": [
    "my_playlists_df"
   ]
  },
  {
   "source": [
    "### k not so pop (manually)"
   ],
   "cell_type": "markdown",
   "metadata": {}
  },
  {
   "cell_type": "code",
   "execution_count": 77,
   "metadata": {},
   "outputs": [
    {
     "output_type": "execute_result",
     "data": {
      "text/plain": [
       "                                              name                      id  \\\n",
       "28                                    k not so pop  6IEGMTxfOIFo7osyuHCdsm   \n",
       "30                        Voices from Another Room  2CTJSu2bawrJlyeWJtOKYC   \n",
       "55  Hindi music that's not great but also not shit  0QIWliqImR4r7h8HHkXhj6   \n",
       "\n",
       "                      creator  \n",
       "28                  sidsaxena  \n",
       "30                  sidsaxena  \n",
       "55  ahf4gi6ob4f0i80fkool0shl4  "
      ],
      "text/html": "<div>\n<style scoped>\n    .dataframe tbody tr th:only-of-type {\n        vertical-align: middle;\n    }\n\n    .dataframe tbody tr th {\n        vertical-align: top;\n    }\n\n    .dataframe thead th {\n        text-align: right;\n    }\n</style>\n<table border=\"1\" class=\"dataframe\">\n  <thead>\n    <tr style=\"text-align: right;\">\n      <th></th>\n      <th>name</th>\n      <th>id</th>\n      <th>creator</th>\n    </tr>\n  </thead>\n  <tbody>\n    <tr>\n      <th>28</th>\n      <td>k not so pop</td>\n      <td>6IEGMTxfOIFo7osyuHCdsm</td>\n      <td>sidsaxena</td>\n    </tr>\n    <tr>\n      <th>30</th>\n      <td>Voices from Another Room</td>\n      <td>2CTJSu2bawrJlyeWJtOKYC</td>\n      <td>sidsaxena</td>\n    </tr>\n    <tr>\n      <th>55</th>\n      <td>Hindi music that's not great but also not shit</td>\n      <td>0QIWliqImR4r7h8HHkXhj6</td>\n      <td>ahf4gi6ob4f0i80fkool0shl4</td>\n    </tr>\n  </tbody>\n</table>\n</div>"
     },
     "metadata": {},
     "execution_count": 77
    }
   ],
   "source": [
    "my_playlists_df[my_playlists_df['name'].str.contains('not')]"
   ]
  },
  {
   "cell_type": "code",
   "execution_count": 78,
   "metadata": {},
   "outputs": [
    {
     "output_type": "execute_result",
     "data": {
      "text/plain": [
       "              artist                                     album  \\\n",
       "0         Fuyumi Abe                                     沈黙の恋人   \n",
       "1   The Black Skirts                                 Hollywood   \n",
       "2             HYUKOH  24 : How to find true love and happiness   \n",
       "3         The Chairs                             LOVELY SUNDAY   \n",
       "4               ADOY                                      LOVE   \n",
       "5               ADOY                                    CATNIP   \n",
       "6         The Chairs              The Chairs on Audiotree Live   \n",
       "7    Various Artists                      CINEMA SESSIONS 2019   \n",
       "8        Sunday Moon                               City Lights   \n",
       "9               SURL                               Aren't You?   \n",
       "10              ADOY                                     Young   \n",
       "11   Plastic Plastic                              Stay At Home   \n",
       "12             Aseul                           Sandcastles 모래성   \n",
       "\n",
       "                             track_name                track_id popularity  \\\n",
       "0                                 希望のうた  24dq1uvUoVVQ6WMwFTqUPl         37   \n",
       "1                             Hollywood  4kqN6K6J1nM18zivvFLx8v         17   \n",
       "2                              LOVE YA!  7rDdN55Ma9gZlbexHiDSud         23   \n",
       "3                            Rollin' On  63oSPrP54in4X41vq6cNlL         43   \n",
       "4                                Wonder  0v89jw9S9NPzOPCoZnLZxE          2   \n",
       "5                                 Grace  6hpWk3kV9phxtzxbzzXmIF         47   \n",
       "6   Rollin' On - Audiotree Live Version  2oPgiaiXfijOeDAeA7eL4C         13   \n",
       "7                            Rollin' On  12HcAJuzuH2Rr9xBNJ98t2          5   \n",
       "8                           City Lights  36xcAYhiCUnzBoydVmxkO3         45   \n",
       "9                 The Lights Behind You  6O1OrHXMWpJbhmWSJnncw1          1   \n",
       "10                                Young  2dThtMR3f2cE3Fr9lBRK7h          1   \n",
       "11                              With Me  40Pj8OVErS21yxpnH2HP2k         41   \n",
       "12                      Sandcastles 모래성  5FDDW4rGxYCUQ5opR4lhZU         28   \n",
       "\n",
       "                                               genres  danceability  energy  \\\n",
       "0                                        [j-acoustic]         0.384  0.0751   \n",
       "1   [k-indie, k-rock, korean dream pop, korean ind...         0.552  0.7820   \n",
       "2            [k-indie, korean indie folk, korean r&b]         0.375  0.5660   \n",
       "3                                     [chinese indie]         0.687  0.5560   \n",
       "4   [k-indie, korean city pop, korean dream pop, k...         0.661  0.7370   \n",
       "5   [k-indie, korean city pop, korean dream pop, k...         0.622  0.7010   \n",
       "6                                     [chinese indie]         0.686  0.4660   \n",
       "7                                                  []         0.705  0.5760   \n",
       "8                                           [k-indie]         0.602  0.3030   \n",
       "9                        [k-indie, korean indie rock]         0.492  0.5500   \n",
       "10  [k-indie, korean city pop, korean dream pop, k...         0.630  0.5110   \n",
       "11                         [thai indie pop, thai pop]         0.698  0.5130   \n",
       "12     [k-indie, korean dream pop, korean electropop]         0.558  0.6740   \n",
       "\n",
       "   key  loudness mode  speechiness  instrumentalness  liveness  valence  \\\n",
       "0    2   -16.534    1       0.0436          0.000001    0.1320    0.254   \n",
       "1    1    -8.082    0       0.0302          0.900000    0.1000    0.509   \n",
       "2   11    -6.527    1       0.0448          0.000016    0.1460    0.330   \n",
       "3    5    -9.366    1       0.0286          0.018900    0.1820    0.517   \n",
       "4    6    -6.317    1       0.0287          0.544000    0.1150    0.532   \n",
       "5    1    -6.273    0       0.0312          0.000028    0.0965    0.638   \n",
       "6    5   -10.798    1       0.0257          0.000182    0.1710    0.626   \n",
       "7    5    -8.043    1       0.0289          0.000009    0.3500    0.558   \n",
       "8    6    -7.978    1       0.0451          0.091000    0.1450    0.327   \n",
       "9    9    -3.421    1       0.0320          0.001840    0.1500    0.382   \n",
       "10   7    -7.232    1       0.0264          0.000000    0.2700    0.464   \n",
       "11   0    -7.357    1       0.0304          0.018400    0.1350    0.409   \n",
       "12   3    -6.055    0       0.0268          0.042300    0.3700    0.262   \n",
       "\n",
       "      tempo duration_ms time_signature  \n",
       "0   162.503      245747              3  \n",
       "1   147.956      331000              4  \n",
       "2   143.770      251965              4  \n",
       "3   103.907      234600              4  \n",
       "4    99.989      235747              4  \n",
       "5   100.007      245280              4  \n",
       "6   103.982      232233              4  \n",
       "7   104.056      244629              4  \n",
       "8   135.990      241699              4  \n",
       "9    80.987      312640              4  \n",
       "10  112.009      219360              4  \n",
       "11  120.025      236096              4  \n",
       "12  140.052      298997              4  "
      ],
      "text/html": "<div>\n<style scoped>\n    .dataframe tbody tr th:only-of-type {\n        vertical-align: middle;\n    }\n\n    .dataframe tbody tr th {\n        vertical-align: top;\n    }\n\n    .dataframe thead th {\n        text-align: right;\n    }\n</style>\n<table border=\"1\" class=\"dataframe\">\n  <thead>\n    <tr style=\"text-align: right;\">\n      <th></th>\n      <th>artist</th>\n      <th>album</th>\n      <th>track_name</th>\n      <th>track_id</th>\n      <th>popularity</th>\n      <th>genres</th>\n      <th>danceability</th>\n      <th>energy</th>\n      <th>key</th>\n      <th>loudness</th>\n      <th>mode</th>\n      <th>speechiness</th>\n      <th>instrumentalness</th>\n      <th>liveness</th>\n      <th>valence</th>\n      <th>tempo</th>\n      <th>duration_ms</th>\n      <th>time_signature</th>\n    </tr>\n  </thead>\n  <tbody>\n    <tr>\n      <th>0</th>\n      <td>Fuyumi Abe</td>\n      <td>沈黙の恋人</td>\n      <td>希望のうた</td>\n      <td>24dq1uvUoVVQ6WMwFTqUPl</td>\n      <td>37</td>\n      <td>[j-acoustic]</td>\n      <td>0.384</td>\n      <td>0.0751</td>\n      <td>2</td>\n      <td>-16.534</td>\n      <td>1</td>\n      <td>0.0436</td>\n      <td>0.000001</td>\n      <td>0.1320</td>\n      <td>0.254</td>\n      <td>162.503</td>\n      <td>245747</td>\n      <td>3</td>\n    </tr>\n    <tr>\n      <th>1</th>\n      <td>The Black Skirts</td>\n      <td>Hollywood</td>\n      <td>Hollywood</td>\n      <td>4kqN6K6J1nM18zivvFLx8v</td>\n      <td>17</td>\n      <td>[k-indie, k-rock, korean dream pop, korean ind...</td>\n      <td>0.552</td>\n      <td>0.7820</td>\n      <td>1</td>\n      <td>-8.082</td>\n      <td>0</td>\n      <td>0.0302</td>\n      <td>0.900000</td>\n      <td>0.1000</td>\n      <td>0.509</td>\n      <td>147.956</td>\n      <td>331000</td>\n      <td>4</td>\n    </tr>\n    <tr>\n      <th>2</th>\n      <td>HYUKOH</td>\n      <td>24 : How to find true love and happiness</td>\n      <td>LOVE YA!</td>\n      <td>7rDdN55Ma9gZlbexHiDSud</td>\n      <td>23</td>\n      <td>[k-indie, korean indie folk, korean r&amp;b]</td>\n      <td>0.375</td>\n      <td>0.5660</td>\n      <td>11</td>\n      <td>-6.527</td>\n      <td>1</td>\n      <td>0.0448</td>\n      <td>0.000016</td>\n      <td>0.1460</td>\n      <td>0.330</td>\n      <td>143.770</td>\n      <td>251965</td>\n      <td>4</td>\n    </tr>\n    <tr>\n      <th>3</th>\n      <td>The Chairs</td>\n      <td>LOVELY SUNDAY</td>\n      <td>Rollin' On</td>\n      <td>63oSPrP54in4X41vq6cNlL</td>\n      <td>43</td>\n      <td>[chinese indie]</td>\n      <td>0.687</td>\n      <td>0.5560</td>\n      <td>5</td>\n      <td>-9.366</td>\n      <td>1</td>\n      <td>0.0286</td>\n      <td>0.018900</td>\n      <td>0.1820</td>\n      <td>0.517</td>\n      <td>103.907</td>\n      <td>234600</td>\n      <td>4</td>\n    </tr>\n    <tr>\n      <th>4</th>\n      <td>ADOY</td>\n      <td>LOVE</td>\n      <td>Wonder</td>\n      <td>0v89jw9S9NPzOPCoZnLZxE</td>\n      <td>2</td>\n      <td>[k-indie, korean city pop, korean dream pop, k...</td>\n      <td>0.661</td>\n      <td>0.7370</td>\n      <td>6</td>\n      <td>-6.317</td>\n      <td>1</td>\n      <td>0.0287</td>\n      <td>0.544000</td>\n      <td>0.1150</td>\n      <td>0.532</td>\n      <td>99.989</td>\n      <td>235747</td>\n      <td>4</td>\n    </tr>\n    <tr>\n      <th>5</th>\n      <td>ADOY</td>\n      <td>CATNIP</td>\n      <td>Grace</td>\n      <td>6hpWk3kV9phxtzxbzzXmIF</td>\n      <td>47</td>\n      <td>[k-indie, korean city pop, korean dream pop, k...</td>\n      <td>0.622</td>\n      <td>0.7010</td>\n      <td>1</td>\n      <td>-6.273</td>\n      <td>0</td>\n      <td>0.0312</td>\n      <td>0.000028</td>\n      <td>0.0965</td>\n      <td>0.638</td>\n      <td>100.007</td>\n      <td>245280</td>\n      <td>4</td>\n    </tr>\n    <tr>\n      <th>6</th>\n      <td>The Chairs</td>\n      <td>The Chairs on Audiotree Live</td>\n      <td>Rollin' On - Audiotree Live Version</td>\n      <td>2oPgiaiXfijOeDAeA7eL4C</td>\n      <td>13</td>\n      <td>[chinese indie]</td>\n      <td>0.686</td>\n      <td>0.4660</td>\n      <td>5</td>\n      <td>-10.798</td>\n      <td>1</td>\n      <td>0.0257</td>\n      <td>0.000182</td>\n      <td>0.1710</td>\n      <td>0.626</td>\n      <td>103.982</td>\n      <td>232233</td>\n      <td>4</td>\n    </tr>\n    <tr>\n      <th>7</th>\n      <td>Various Artists</td>\n      <td>CINEMA SESSIONS 2019</td>\n      <td>Rollin' On</td>\n      <td>12HcAJuzuH2Rr9xBNJ98t2</td>\n      <td>5</td>\n      <td>[]</td>\n      <td>0.705</td>\n      <td>0.5760</td>\n      <td>5</td>\n      <td>-8.043</td>\n      <td>1</td>\n      <td>0.0289</td>\n      <td>0.000009</td>\n      <td>0.3500</td>\n      <td>0.558</td>\n      <td>104.056</td>\n      <td>244629</td>\n      <td>4</td>\n    </tr>\n    <tr>\n      <th>8</th>\n      <td>Sunday Moon</td>\n      <td>City Lights</td>\n      <td>City Lights</td>\n      <td>36xcAYhiCUnzBoydVmxkO3</td>\n      <td>45</td>\n      <td>[k-indie]</td>\n      <td>0.602</td>\n      <td>0.3030</td>\n      <td>6</td>\n      <td>-7.978</td>\n      <td>1</td>\n      <td>0.0451</td>\n      <td>0.091000</td>\n      <td>0.1450</td>\n      <td>0.327</td>\n      <td>135.990</td>\n      <td>241699</td>\n      <td>4</td>\n    </tr>\n    <tr>\n      <th>9</th>\n      <td>SURL</td>\n      <td>Aren't You?</td>\n      <td>The Lights Behind You</td>\n      <td>6O1OrHXMWpJbhmWSJnncw1</td>\n      <td>1</td>\n      <td>[k-indie, korean indie rock]</td>\n      <td>0.492</td>\n      <td>0.5500</td>\n      <td>9</td>\n      <td>-3.421</td>\n      <td>1</td>\n      <td>0.0320</td>\n      <td>0.001840</td>\n      <td>0.1500</td>\n      <td>0.382</td>\n      <td>80.987</td>\n      <td>312640</td>\n      <td>4</td>\n    </tr>\n    <tr>\n      <th>10</th>\n      <td>ADOY</td>\n      <td>Young</td>\n      <td>Young</td>\n      <td>2dThtMR3f2cE3Fr9lBRK7h</td>\n      <td>1</td>\n      <td>[k-indie, korean city pop, korean dream pop, k...</td>\n      <td>0.630</td>\n      <td>0.5110</td>\n      <td>7</td>\n      <td>-7.232</td>\n      <td>1</td>\n      <td>0.0264</td>\n      <td>0.000000</td>\n      <td>0.2700</td>\n      <td>0.464</td>\n      <td>112.009</td>\n      <td>219360</td>\n      <td>4</td>\n    </tr>\n    <tr>\n      <th>11</th>\n      <td>Plastic Plastic</td>\n      <td>Stay At Home</td>\n      <td>With Me</td>\n      <td>40Pj8OVErS21yxpnH2HP2k</td>\n      <td>41</td>\n      <td>[thai indie pop, thai pop]</td>\n      <td>0.698</td>\n      <td>0.5130</td>\n      <td>0</td>\n      <td>-7.357</td>\n      <td>1</td>\n      <td>0.0304</td>\n      <td>0.018400</td>\n      <td>0.1350</td>\n      <td>0.409</td>\n      <td>120.025</td>\n      <td>236096</td>\n      <td>4</td>\n    </tr>\n    <tr>\n      <th>12</th>\n      <td>Aseul</td>\n      <td>Sandcastles 모래성</td>\n      <td>Sandcastles 모래성</td>\n      <td>5FDDW4rGxYCUQ5opR4lhZU</td>\n      <td>28</td>\n      <td>[k-indie, korean dream pop, korean electropop]</td>\n      <td>0.558</td>\n      <td>0.6740</td>\n      <td>3</td>\n      <td>-6.055</td>\n      <td>0</td>\n      <td>0.0268</td>\n      <td>0.042300</td>\n      <td>0.3700</td>\n      <td>0.262</td>\n      <td>140.052</td>\n      <td>298997</td>\n      <td>4</td>\n    </tr>\n  </tbody>\n</table>\n</div>"
     },
     "metadata": {},
     "execution_count": 78
    }
   ],
   "source": [
    "kindie = analysePlaylist(my_playlists_df.iloc[28, 2], my_playlists_df.iloc[28, 1])\n",
    "\n",
    "kindie\n",
    "\n",
    "# kindie.to_csv('Spreadsheets\\Playlists\\k not so pop.csv', index=False)"
   ]
  },
  {
   "source": [
    "### voices from another room (semi-automatic)"
   ],
   "cell_type": "markdown",
   "metadata": {}
  },
  {
   "cell_type": "code",
   "execution_count": 106,
   "metadata": {},
   "outputs": [
    {
     "output_type": "execute_result",
     "data": {
      "text/plain": [
       "name       Voices from Another Room\n",
       "id           2CTJSu2bawrJlyeWJtOKYC\n",
       "creator                   sidsaxena\n",
       "Name: 30, dtype: object"
      ]
     },
     "metadata": {},
     "execution_count": 106
    }
   ],
   "source": [
    "vfar = my_playlists_df[my_playlists_df['name'].str.contains('Voices')].iloc[0]\n",
    "vfar"
   ]
  },
  {
   "cell_type": "code",
   "execution_count": 109,
   "metadata": {},
   "outputs": [],
   "source": [
    "vfar_features = analysePlaylist(vfar['creator'], vfar['id']) # (creator, id)"
   ]
  },
  {
   "cell_type": "code",
   "execution_count": 110,
   "metadata": {},
   "outputs": [],
   "source": [
    "# vfar_features.to_csv('Spreadsheets/Playlists/Voices From Another Room.csv', index=False)"
   ]
  },
  {
   "cell_type": "code",
   "execution_count": 111,
   "metadata": {},
   "outputs": [
    {
     "output_type": "execute_result",
     "data": {
      "text/plain": [
       "                        artist  \\\n",
       "0                       Barrie   \n",
       "1             Astronauts, etc.   \n",
       "2                   CASTLEBEAT   \n",
       "3   You'll Never Get to Heaven   \n",
       "4                     Day Wave   \n",
       "5                  Voka Gentle   \n",
       "6                   Acid Ghost   \n",
       "7                     The F16s   \n",
       "8                   The Shutes   \n",
       "9               Electric Youth   \n",
       "10            Foxes In Fiction   \n",
       "11                       Perlo   \n",
       "12              Psychic Babble   \n",
       "13              Tyler Burkhart   \n",
       "14                        ADOY   \n",
       "15    The Jesus and Mary Chain   \n",
       "16           The Neighbourhood   \n",
       "17                     Vansire   \n",
       "18                      STRFKR   \n",
       "19                      MorMor   \n",
       "20                  CASTLEBEAT   \n",
       "21                  CASTLEBEAT   \n",
       "22                    Lyla Foy   \n",
       "23          The Japanese House   \n",
       "24                    Day Wave   \n",
       "25                   tomemitsu   \n",
       "\n",
       "                                                album  \\\n",
       "0                                    Happy To Be Here   \n",
       "1                                  Mind Out Wandering   \n",
       "2                                          CASTLEBEAT   \n",
       "3                                              Images   \n",
       "4                                                Drag   \n",
       "5                                          Branscombe   \n",
       "6                                           All Alone   \n",
       "7                                               Amber   \n",
       "8                                        Echo of Love   \n",
       "9                                      Memory Emotion   \n",
       "10                                     Ontario Gothic   \n",
       "11                                     Call Me a Fool   \n",
       "12                 My Brother's Ears/My Sister's Eyes   \n",
       "13                                        Sweet spell   \n",
       "14                                             CATNIP   \n",
       "15                     Psychocandy (Expanded Version)   \n",
       "16                       Chip Chrome & The Mono-Tones   \n",
       "17                                    Nice to See You   \n",
       "18                        Being No One, Going Nowhere   \n",
       "19                                            Outside   \n",
       "20                                                VHS   \n",
       "21                                         CASTLEBEAT   \n",
       "22                                    Mirrors the Sky   \n",
       "23                                 Saw You In A Dream   \n",
       "24  Kate's Not Here (Day Wave & Lawrence Rothman R...   \n",
       "25                                          I Shatter   \n",
       "\n",
       "                                           track_name                track_id  \\\n",
       "0                                             Geology  4qCfbDTCrFnfG5fYngu2wE   \n",
       "1                                        Up for Grabs  2gyXXC4IMj8K4HfUNUvqKO   \n",
       "2                                    Change Your Mind  4omurqpm7aWH9VVz2Ii4yO   \n",
       "3                                   Beyond the Clouds  6vMaCzTnismT6N45MDCMfa   \n",
       "4                                                Drag  0oXwUeFAE6IR2lYhaTpxRT   \n",
       "5                                          Branscombe  4mrOXzvbS0U0KsX7O6OqIo   \n",
       "6                                           All Alone  72xnRXxHiAhTfKSzlPdEmo   \n",
       "7                                               Amber  62bHWlIlUW6fbwBO29h64H   \n",
       "8                              Bright Blue Berlin Sky  6P30NMoLLzWTuue4faRjsd   \n",
       "9                                          Breathless  6bgUlpf4HVpuTdo5LuBTov   \n",
       "10                                     Ontario Gothic  7dCz4BVR2DvfLBo0tabZHC   \n",
       "11                                     Call Me a Fool  0TRu2iVCvDFDpnyWt5ktDZ   \n",
       "12                       Five Fold Kiss (Don't Sleep)  409pABExhKsAxAMdFgWZYD   \n",
       "13                        In the bathtub of the world  5oE2tnxS2GUe1oxDbVjvls   \n",
       "14                                              Grace  6hpWk3kV9phxtzxbzzXmIF   \n",
       "15                                    Just Like Honey  1LwP9g1Hjbs64jXM2Qsxry   \n",
       "16                                   Cherry Flavoured  40iocOzytrqaRn5RbGPDNp   \n",
       "17                                    Nice to See You  79OHuiNbjDmlz3xjYMNcaA   \n",
       "18                        Being No One, Going Nowhere  0RT5QxvDakfy5cFg55thUw   \n",
       "19                                            Outside  7Cx3kiPstZOSKAqTe3LtEi   \n",
       "20                                           I Follow  4RqVsGYERv5pmwVroKWPiu   \n",
       "21                                          Dreamgaze  6jygYHo8uOttsIs45U1YvI   \n",
       "22                                         Impossible  6hWT56Jas2g7B0Fvh8BThh   \n",
       "23                                 Saw You In A Dream  0U3u0HdRQjD8mAMYBak4Ok   \n",
       "24  Kate's Not Here - Day Wave & Lawrence Rothman ...  5gEni4dmBqme8fyPcyWYiK   \n",
       "25                                          I Shatter  1AHFkTkxGG6ed7gNTkgVLf   \n",
       "\n",
       "   popularity                                             genres  \\\n",
       "0          48                        [brooklyn indie, indie pop]   \n",
       "1          24                       [bay area indie, shiver pop]   \n",
       "2          53  [bedroom pop, dreamo, indie garage rock, indie...   \n",
       "3          39            [ambient pop, london on indie, nu gaze]   \n",
       "4          59  [bay area indie, chillwave, dreamo, indie pop,...   \n",
       "5          42                                                 []   \n",
       "6          54                                [indie garage rock]   \n",
       "7          36         [chennai indie, indian indie, indian rock]   \n",
       "8          42                              [isle of wight indie]   \n",
       "9          34                 [filter house, popwave, synthwave]   \n",
       "10         39     [chillwave, experimental pop, indie dream pop]   \n",
       "11         37                                     [ambient folk]   \n",
       "12         21                                                 []   \n",
       "13         34                               [lancaster pa indie]   \n",
       "14         47  [k-indie, korean city pop, korean dream pop, k...   \n",
       "15         63  [alternative rock, art rock, new wave, noise p...   \n",
       "16         67        [modern alternative rock, modern rock, pop]   \n",
       "17         45  [bedroom pop, indie garage rock, indie pop, ro...   \n",
       "18         49  [alternative dance, chillwave, indie pop, indi...   \n",
       "19         45            [canadian contemporary r&b, indie soul]   \n",
       "20         46  [bedroom pop, dreamo, indie garage rock, indie...   \n",
       "21         44  [bedroom pop, dreamo, indie garage rock, indie...   \n",
       "22          0                        [british singer-songwriter]   \n",
       "23         65  [electropop, indie pop, indie poptimism, indie...   \n",
       "24         52  [bay area indie, chillwave, dreamo, indie pop,...   \n",
       "25         29                                      [bedroom pop]   \n",
       "\n",
       "    danceability  energy key  loudness mode  speechiness  instrumentalness  \\\n",
       "0          0.690   0.721   4    -8.437    1       0.0323          0.649000   \n",
       "1          0.539   0.525   5   -10.910    1       0.0285          0.234000   \n",
       "2          0.384   0.578  11    -9.624    1       0.0312          0.886000   \n",
       "3          0.633   0.575   7    -9.667    0       0.0298          0.924000   \n",
       "4          0.537   0.713   7    -6.250    1       0.0272          0.650000   \n",
       "5          0.556   0.389   7   -15.394    1       0.0290          0.887000   \n",
       "6          0.509   0.588   0    -9.542    1       0.0298          0.845000   \n",
       "7          0.299   0.468   2   -10.777    1       0.0259          0.770000   \n",
       "8          0.534   0.626   6    -8.549    0       0.0288          0.034500   \n",
       "9          0.618   0.623   2    -7.899    1       0.0267          0.841000   \n",
       "10         0.303   0.542  11   -10.556    1       0.0323          0.815000   \n",
       "11         0.637   0.542   8    -8.489    1       0.0300          0.653000   \n",
       "12         0.632   0.622   5    -6.843    1       0.0291          0.015100   \n",
       "13         0.560   0.443   0    -8.395    0       0.0277          0.844000   \n",
       "14         0.622   0.701   1    -6.273    0       0.0312          0.000028   \n",
       "15         0.341   0.552   8   -10.503    1       0.0423          0.616000   \n",
       "16         0.617   0.574   6    -9.768    1       0.0276          0.010500   \n",
       "17         0.539   0.535   1    -9.717    1       0.0319          0.632000   \n",
       "18         0.655   0.506   7    -5.699    1       0.0253          0.928000   \n",
       "19         0.637   0.613   1    -7.432    1       0.0272          0.425000   \n",
       "20         0.491   0.571   9    -8.381    1       0.0301          0.923000   \n",
       "21         0.366   0.593   5    -7.048    1       0.0300          0.074000   \n",
       "22         0.719   0.460   0    -9.805    1       0.0337          0.308000   \n",
       "23         0.607   0.451   4    -8.206    1       0.0286          0.000000   \n",
       "24         0.482   0.866   7    -4.534    1       0.0293          0.116000   \n",
       "25         0.567   0.397   7   -13.610    1       0.0283          0.834000   \n",
       "\n",
       "    liveness  valence    tempo duration_ms time_signature  \n",
       "0     0.1250   0.3570  104.027      268120              4  \n",
       "1     0.1050   0.5350  175.972      176627              4  \n",
       "2     0.1250   0.0984  150.013      297273              4  \n",
       "3     0.1050   0.2390  117.520      248681              4  \n",
       "4     0.1000   0.3670   93.198      189651              4  \n",
       "5     0.1110   0.0865  111.012      439478              4  \n",
       "6     0.1150   0.4870  171.845      168648              4  \n",
       "7     0.2240   0.5930   95.069      206704              4  \n",
       "8     0.1090   0.3770  120.920      344633              4  \n",
       "9     0.1020   0.3330   97.984      271683              4  \n",
       "10    0.1260   0.2320  205.953      325242              4  \n",
       "11    0.0986   0.3670  119.966      204557              4  \n",
       "12    0.5700   0.4100  110.043      264947              4  \n",
       "13    0.0964   0.1500  119.869      442848              3  \n",
       "14    0.0965   0.6380  100.007      245280              4  \n",
       "15    0.0591   0.4860  121.361      182493              4  \n",
       "16    0.0983   0.3960   91.769      208453              4  \n",
       "17    0.2630   0.3520   78.885      181678              4  \n",
       "18    0.1070   0.2070   93.971      279893              4  \n",
       "19    0.1560   0.5980  127.006      238020              4  \n",
       "20    0.0868   0.6000  146.051      156367              4  \n",
       "21    0.1520   0.3190  149.915      165409              4  \n",
       "22    0.1130   0.3500  118.302      235072              4  \n",
       "23    0.1900   0.6760   94.054      208280              4  \n",
       "24    0.2470   0.3720  147.994      187364              4  \n",
       "25    0.0819   0.3360   83.997      297857              4  "
      ],
      "text/html": "<div>\n<style scoped>\n    .dataframe tbody tr th:only-of-type {\n        vertical-align: middle;\n    }\n\n    .dataframe tbody tr th {\n        vertical-align: top;\n    }\n\n    .dataframe thead th {\n        text-align: right;\n    }\n</style>\n<table border=\"1\" class=\"dataframe\">\n  <thead>\n    <tr style=\"text-align: right;\">\n      <th></th>\n      <th>artist</th>\n      <th>album</th>\n      <th>track_name</th>\n      <th>track_id</th>\n      <th>popularity</th>\n      <th>genres</th>\n      <th>danceability</th>\n      <th>energy</th>\n      <th>key</th>\n      <th>loudness</th>\n      <th>mode</th>\n      <th>speechiness</th>\n      <th>instrumentalness</th>\n      <th>liveness</th>\n      <th>valence</th>\n      <th>tempo</th>\n      <th>duration_ms</th>\n      <th>time_signature</th>\n    </tr>\n  </thead>\n  <tbody>\n    <tr>\n      <th>0</th>\n      <td>Barrie</td>\n      <td>Happy To Be Here</td>\n      <td>Geology</td>\n      <td>4qCfbDTCrFnfG5fYngu2wE</td>\n      <td>48</td>\n      <td>[brooklyn indie, indie pop]</td>\n      <td>0.690</td>\n      <td>0.721</td>\n      <td>4</td>\n      <td>-8.437</td>\n      <td>1</td>\n      <td>0.0323</td>\n      <td>0.649000</td>\n      <td>0.1250</td>\n      <td>0.3570</td>\n      <td>104.027</td>\n      <td>268120</td>\n      <td>4</td>\n    </tr>\n    <tr>\n      <th>1</th>\n      <td>Astronauts, etc.</td>\n      <td>Mind Out Wandering</td>\n      <td>Up for Grabs</td>\n      <td>2gyXXC4IMj8K4HfUNUvqKO</td>\n      <td>24</td>\n      <td>[bay area indie, shiver pop]</td>\n      <td>0.539</td>\n      <td>0.525</td>\n      <td>5</td>\n      <td>-10.910</td>\n      <td>1</td>\n      <td>0.0285</td>\n      <td>0.234000</td>\n      <td>0.1050</td>\n      <td>0.5350</td>\n      <td>175.972</td>\n      <td>176627</td>\n      <td>4</td>\n    </tr>\n    <tr>\n      <th>2</th>\n      <td>CASTLEBEAT</td>\n      <td>CASTLEBEAT</td>\n      <td>Change Your Mind</td>\n      <td>4omurqpm7aWH9VVz2Ii4yO</td>\n      <td>53</td>\n      <td>[bedroom pop, dreamo, indie garage rock, indie...</td>\n      <td>0.384</td>\n      <td>0.578</td>\n      <td>11</td>\n      <td>-9.624</td>\n      <td>1</td>\n      <td>0.0312</td>\n      <td>0.886000</td>\n      <td>0.1250</td>\n      <td>0.0984</td>\n      <td>150.013</td>\n      <td>297273</td>\n      <td>4</td>\n    </tr>\n    <tr>\n      <th>3</th>\n      <td>You'll Never Get to Heaven</td>\n      <td>Images</td>\n      <td>Beyond the Clouds</td>\n      <td>6vMaCzTnismT6N45MDCMfa</td>\n      <td>39</td>\n      <td>[ambient pop, london on indie, nu gaze]</td>\n      <td>0.633</td>\n      <td>0.575</td>\n      <td>7</td>\n      <td>-9.667</td>\n      <td>0</td>\n      <td>0.0298</td>\n      <td>0.924000</td>\n      <td>0.1050</td>\n      <td>0.2390</td>\n      <td>117.520</td>\n      <td>248681</td>\n      <td>4</td>\n    </tr>\n    <tr>\n      <th>4</th>\n      <td>Day Wave</td>\n      <td>Drag</td>\n      <td>Drag</td>\n      <td>0oXwUeFAE6IR2lYhaTpxRT</td>\n      <td>59</td>\n      <td>[bay area indie, chillwave, dreamo, indie pop,...</td>\n      <td>0.537</td>\n      <td>0.713</td>\n      <td>7</td>\n      <td>-6.250</td>\n      <td>1</td>\n      <td>0.0272</td>\n      <td>0.650000</td>\n      <td>0.1000</td>\n      <td>0.3670</td>\n      <td>93.198</td>\n      <td>189651</td>\n      <td>4</td>\n    </tr>\n    <tr>\n      <th>5</th>\n      <td>Voka Gentle</td>\n      <td>Branscombe</td>\n      <td>Branscombe</td>\n      <td>4mrOXzvbS0U0KsX7O6OqIo</td>\n      <td>42</td>\n      <td>[]</td>\n      <td>0.556</td>\n      <td>0.389</td>\n      <td>7</td>\n      <td>-15.394</td>\n      <td>1</td>\n      <td>0.0290</td>\n      <td>0.887000</td>\n      <td>0.1110</td>\n      <td>0.0865</td>\n      <td>111.012</td>\n      <td>439478</td>\n      <td>4</td>\n    </tr>\n    <tr>\n      <th>6</th>\n      <td>Acid Ghost</td>\n      <td>All Alone</td>\n      <td>All Alone</td>\n      <td>72xnRXxHiAhTfKSzlPdEmo</td>\n      <td>54</td>\n      <td>[indie garage rock]</td>\n      <td>0.509</td>\n      <td>0.588</td>\n      <td>0</td>\n      <td>-9.542</td>\n      <td>1</td>\n      <td>0.0298</td>\n      <td>0.845000</td>\n      <td>0.1150</td>\n      <td>0.4870</td>\n      <td>171.845</td>\n      <td>168648</td>\n      <td>4</td>\n    </tr>\n    <tr>\n      <th>7</th>\n      <td>The F16s</td>\n      <td>Amber</td>\n      <td>Amber</td>\n      <td>62bHWlIlUW6fbwBO29h64H</td>\n      <td>36</td>\n      <td>[chennai indie, indian indie, indian rock]</td>\n      <td>0.299</td>\n      <td>0.468</td>\n      <td>2</td>\n      <td>-10.777</td>\n      <td>1</td>\n      <td>0.0259</td>\n      <td>0.770000</td>\n      <td>0.2240</td>\n      <td>0.5930</td>\n      <td>95.069</td>\n      <td>206704</td>\n      <td>4</td>\n    </tr>\n    <tr>\n      <th>8</th>\n      <td>The Shutes</td>\n      <td>Echo of Love</td>\n      <td>Bright Blue Berlin Sky</td>\n      <td>6P30NMoLLzWTuue4faRjsd</td>\n      <td>42</td>\n      <td>[isle of wight indie]</td>\n      <td>0.534</td>\n      <td>0.626</td>\n      <td>6</td>\n      <td>-8.549</td>\n      <td>0</td>\n      <td>0.0288</td>\n      <td>0.034500</td>\n      <td>0.1090</td>\n      <td>0.3770</td>\n      <td>120.920</td>\n      <td>344633</td>\n      <td>4</td>\n    </tr>\n    <tr>\n      <th>9</th>\n      <td>Electric Youth</td>\n      <td>Memory Emotion</td>\n      <td>Breathless</td>\n      <td>6bgUlpf4HVpuTdo5LuBTov</td>\n      <td>34</td>\n      <td>[filter house, popwave, synthwave]</td>\n      <td>0.618</td>\n      <td>0.623</td>\n      <td>2</td>\n      <td>-7.899</td>\n      <td>1</td>\n      <td>0.0267</td>\n      <td>0.841000</td>\n      <td>0.1020</td>\n      <td>0.3330</td>\n      <td>97.984</td>\n      <td>271683</td>\n      <td>4</td>\n    </tr>\n    <tr>\n      <th>10</th>\n      <td>Foxes In Fiction</td>\n      <td>Ontario Gothic</td>\n      <td>Ontario Gothic</td>\n      <td>7dCz4BVR2DvfLBo0tabZHC</td>\n      <td>39</td>\n      <td>[chillwave, experimental pop, indie dream pop]</td>\n      <td>0.303</td>\n      <td>0.542</td>\n      <td>11</td>\n      <td>-10.556</td>\n      <td>1</td>\n      <td>0.0323</td>\n      <td>0.815000</td>\n      <td>0.1260</td>\n      <td>0.2320</td>\n      <td>205.953</td>\n      <td>325242</td>\n      <td>4</td>\n    </tr>\n    <tr>\n      <th>11</th>\n      <td>Perlo</td>\n      <td>Call Me a Fool</td>\n      <td>Call Me a Fool</td>\n      <td>0TRu2iVCvDFDpnyWt5ktDZ</td>\n      <td>37</td>\n      <td>[ambient folk]</td>\n      <td>0.637</td>\n      <td>0.542</td>\n      <td>8</td>\n      <td>-8.489</td>\n      <td>1</td>\n      <td>0.0300</td>\n      <td>0.653000</td>\n      <td>0.0986</td>\n      <td>0.3670</td>\n      <td>119.966</td>\n      <td>204557</td>\n      <td>4</td>\n    </tr>\n    <tr>\n      <th>12</th>\n      <td>Psychic Babble</td>\n      <td>My Brother's Ears/My Sister's Eyes</td>\n      <td>Five Fold Kiss (Don't Sleep)</td>\n      <td>409pABExhKsAxAMdFgWZYD</td>\n      <td>21</td>\n      <td>[]</td>\n      <td>0.632</td>\n      <td>0.622</td>\n      <td>5</td>\n      <td>-6.843</td>\n      <td>1</td>\n      <td>0.0291</td>\n      <td>0.015100</td>\n      <td>0.5700</td>\n      <td>0.4100</td>\n      <td>110.043</td>\n      <td>264947</td>\n      <td>4</td>\n    </tr>\n    <tr>\n      <th>13</th>\n      <td>Tyler Burkhart</td>\n      <td>Sweet spell</td>\n      <td>In the bathtub of the world</td>\n      <td>5oE2tnxS2GUe1oxDbVjvls</td>\n      <td>34</td>\n      <td>[lancaster pa indie]</td>\n      <td>0.560</td>\n      <td>0.443</td>\n      <td>0</td>\n      <td>-8.395</td>\n      <td>0</td>\n      <td>0.0277</td>\n      <td>0.844000</td>\n      <td>0.0964</td>\n      <td>0.1500</td>\n      <td>119.869</td>\n      <td>442848</td>\n      <td>3</td>\n    </tr>\n    <tr>\n      <th>14</th>\n      <td>ADOY</td>\n      <td>CATNIP</td>\n      <td>Grace</td>\n      <td>6hpWk3kV9phxtzxbzzXmIF</td>\n      <td>47</td>\n      <td>[k-indie, korean city pop, korean dream pop, k...</td>\n      <td>0.622</td>\n      <td>0.701</td>\n      <td>1</td>\n      <td>-6.273</td>\n      <td>0</td>\n      <td>0.0312</td>\n      <td>0.000028</td>\n      <td>0.0965</td>\n      <td>0.6380</td>\n      <td>100.007</td>\n      <td>245280</td>\n      <td>4</td>\n    </tr>\n    <tr>\n      <th>15</th>\n      <td>The Jesus and Mary Chain</td>\n      <td>Psychocandy (Expanded Version)</td>\n      <td>Just Like Honey</td>\n      <td>1LwP9g1Hjbs64jXM2Qsxry</td>\n      <td>63</td>\n      <td>[alternative rock, art rock, new wave, noise p...</td>\n      <td>0.341</td>\n      <td>0.552</td>\n      <td>8</td>\n      <td>-10.503</td>\n      <td>1</td>\n      <td>0.0423</td>\n      <td>0.616000</td>\n      <td>0.0591</td>\n      <td>0.4860</td>\n      <td>121.361</td>\n      <td>182493</td>\n      <td>4</td>\n    </tr>\n    <tr>\n      <th>16</th>\n      <td>The Neighbourhood</td>\n      <td>Chip Chrome &amp; The Mono-Tones</td>\n      <td>Cherry Flavoured</td>\n      <td>40iocOzytrqaRn5RbGPDNp</td>\n      <td>67</td>\n      <td>[modern alternative rock, modern rock, pop]</td>\n      <td>0.617</td>\n      <td>0.574</td>\n      <td>6</td>\n      <td>-9.768</td>\n      <td>1</td>\n      <td>0.0276</td>\n      <td>0.010500</td>\n      <td>0.0983</td>\n      <td>0.3960</td>\n      <td>91.769</td>\n      <td>208453</td>\n      <td>4</td>\n    </tr>\n    <tr>\n      <th>17</th>\n      <td>Vansire</td>\n      <td>Nice to See You</td>\n      <td>Nice to See You</td>\n      <td>79OHuiNbjDmlz3xjYMNcaA</td>\n      <td>45</td>\n      <td>[bedroom pop, indie garage rock, indie pop, ro...</td>\n      <td>0.539</td>\n      <td>0.535</td>\n      <td>1</td>\n      <td>-9.717</td>\n      <td>1</td>\n      <td>0.0319</td>\n      <td>0.632000</td>\n      <td>0.2630</td>\n      <td>0.3520</td>\n      <td>78.885</td>\n      <td>181678</td>\n      <td>4</td>\n    </tr>\n    <tr>\n      <th>18</th>\n      <td>STRFKR</td>\n      <td>Being No One, Going Nowhere</td>\n      <td>Being No One, Going Nowhere</td>\n      <td>0RT5QxvDakfy5cFg55thUw</td>\n      <td>49</td>\n      <td>[alternative dance, chillwave, indie pop, indi...</td>\n      <td>0.655</td>\n      <td>0.506</td>\n      <td>7</td>\n      <td>-5.699</td>\n      <td>1</td>\n      <td>0.0253</td>\n      <td>0.928000</td>\n      <td>0.1070</td>\n      <td>0.2070</td>\n      <td>93.971</td>\n      <td>279893</td>\n      <td>4</td>\n    </tr>\n    <tr>\n      <th>19</th>\n      <td>MorMor</td>\n      <td>Outside</td>\n      <td>Outside</td>\n      <td>7Cx3kiPstZOSKAqTe3LtEi</td>\n      <td>45</td>\n      <td>[canadian contemporary r&amp;b, indie soul]</td>\n      <td>0.637</td>\n      <td>0.613</td>\n      <td>1</td>\n      <td>-7.432</td>\n      <td>1</td>\n      <td>0.0272</td>\n      <td>0.425000</td>\n      <td>0.1560</td>\n      <td>0.5980</td>\n      <td>127.006</td>\n      <td>238020</td>\n      <td>4</td>\n    </tr>\n    <tr>\n      <th>20</th>\n      <td>CASTLEBEAT</td>\n      <td>VHS</td>\n      <td>I Follow</td>\n      <td>4RqVsGYERv5pmwVroKWPiu</td>\n      <td>46</td>\n      <td>[bedroom pop, dreamo, indie garage rock, indie...</td>\n      <td>0.491</td>\n      <td>0.571</td>\n      <td>9</td>\n      <td>-8.381</td>\n      <td>1</td>\n      <td>0.0301</td>\n      <td>0.923000</td>\n      <td>0.0868</td>\n      <td>0.6000</td>\n      <td>146.051</td>\n      <td>156367</td>\n      <td>4</td>\n    </tr>\n    <tr>\n      <th>21</th>\n      <td>CASTLEBEAT</td>\n      <td>CASTLEBEAT</td>\n      <td>Dreamgaze</td>\n      <td>6jygYHo8uOttsIs45U1YvI</td>\n      <td>44</td>\n      <td>[bedroom pop, dreamo, indie garage rock, indie...</td>\n      <td>0.366</td>\n      <td>0.593</td>\n      <td>5</td>\n      <td>-7.048</td>\n      <td>1</td>\n      <td>0.0300</td>\n      <td>0.074000</td>\n      <td>0.1520</td>\n      <td>0.3190</td>\n      <td>149.915</td>\n      <td>165409</td>\n      <td>4</td>\n    </tr>\n    <tr>\n      <th>22</th>\n      <td>Lyla Foy</td>\n      <td>Mirrors the Sky</td>\n      <td>Impossible</td>\n      <td>6hWT56Jas2g7B0Fvh8BThh</td>\n      <td>0</td>\n      <td>[british singer-songwriter]</td>\n      <td>0.719</td>\n      <td>0.460</td>\n      <td>0</td>\n      <td>-9.805</td>\n      <td>1</td>\n      <td>0.0337</td>\n      <td>0.308000</td>\n      <td>0.1130</td>\n      <td>0.3500</td>\n      <td>118.302</td>\n      <td>235072</td>\n      <td>4</td>\n    </tr>\n    <tr>\n      <th>23</th>\n      <td>The Japanese House</td>\n      <td>Saw You In A Dream</td>\n      <td>Saw You In A Dream</td>\n      <td>0U3u0HdRQjD8mAMYBak4Ok</td>\n      <td>65</td>\n      <td>[electropop, indie pop, indie poptimism, indie...</td>\n      <td>0.607</td>\n      <td>0.451</td>\n      <td>4</td>\n      <td>-8.206</td>\n      <td>1</td>\n      <td>0.0286</td>\n      <td>0.000000</td>\n      <td>0.1900</td>\n      <td>0.6760</td>\n      <td>94.054</td>\n      <td>208280</td>\n      <td>4</td>\n    </tr>\n    <tr>\n      <th>24</th>\n      <td>Day Wave</td>\n      <td>Kate's Not Here (Day Wave &amp; Lawrence Rothman R...</td>\n      <td>Kate's Not Here - Day Wave &amp; Lawrence Rothman ...</td>\n      <td>5gEni4dmBqme8fyPcyWYiK</td>\n      <td>52</td>\n      <td>[bay area indie, chillwave, dreamo, indie pop,...</td>\n      <td>0.482</td>\n      <td>0.866</td>\n      <td>7</td>\n      <td>-4.534</td>\n      <td>1</td>\n      <td>0.0293</td>\n      <td>0.116000</td>\n      <td>0.2470</td>\n      <td>0.3720</td>\n      <td>147.994</td>\n      <td>187364</td>\n      <td>4</td>\n    </tr>\n    <tr>\n      <th>25</th>\n      <td>tomemitsu</td>\n      <td>I Shatter</td>\n      <td>I Shatter</td>\n      <td>1AHFkTkxGG6ed7gNTkgVLf</td>\n      <td>29</td>\n      <td>[bedroom pop]</td>\n      <td>0.567</td>\n      <td>0.397</td>\n      <td>7</td>\n      <td>-13.610</td>\n      <td>1</td>\n      <td>0.0283</td>\n      <td>0.834000</td>\n      <td>0.0819</td>\n      <td>0.3360</td>\n      <td>83.997</td>\n      <td>297857</td>\n      <td>4</td>\n    </tr>\n  </tbody>\n</table>\n</div>"
     },
     "metadata": {},
     "execution_count": 111
    }
   ],
   "source": [
    "vfar_features"
   ]
  },
  {
   "source": [
    "### blends"
   ],
   "cell_type": "markdown",
   "metadata": {}
  },
  {
   "cell_type": "code",
   "execution_count": 124,
   "metadata": {},
   "outputs": [
    {
     "output_type": "execute_result",
     "data": {
      "text/plain": [
       "                    name                      id  creator\n",
       "4     Byronheart + Gadha  37i9dQZF1EJwk8bMFJ86Hp  spotify\n",
       "5          Dhruv + Gadha  37i9dQZF1EJDAofyoIEVRO  spotify\n",
       "6        Samarth + Gadha  37i9dQZF1EJzLXmaJSWoa8  spotify\n",
       "7   Twoheadedboy + Gadha  37i9dQZF1EJA9FtsyReGLU  spotify\n",
       "8   woosteresque + Gadha  37i9dQZF1EJMC6i7vRuhmV  spotify\n",
       "9          Nanda + Gadha  37i9dQZF1EJu04AyFmTvOk  spotify\n",
       "10      Shashwat + Gadha  37i9dQZF1EJx5ncR2PUGOj  spotify\n",
       "11          Udit + Gadha  37i9dQZF1EJJnrCJLcfFKP  spotify"
      ],
      "text/html": "<div>\n<style scoped>\n    .dataframe tbody tr th:only-of-type {\n        vertical-align: middle;\n    }\n\n    .dataframe tbody tr th {\n        vertical-align: top;\n    }\n\n    .dataframe thead th {\n        text-align: right;\n    }\n</style>\n<table border=\"1\" class=\"dataframe\">\n  <thead>\n    <tr style=\"text-align: right;\">\n      <th></th>\n      <th>name</th>\n      <th>id</th>\n      <th>creator</th>\n    </tr>\n  </thead>\n  <tbody>\n    <tr>\n      <th>4</th>\n      <td>Byronheart + Gadha</td>\n      <td>37i9dQZF1EJwk8bMFJ86Hp</td>\n      <td>spotify</td>\n    </tr>\n    <tr>\n      <th>5</th>\n      <td>Dhruv + Gadha</td>\n      <td>37i9dQZF1EJDAofyoIEVRO</td>\n      <td>spotify</td>\n    </tr>\n    <tr>\n      <th>6</th>\n      <td>Samarth + Gadha</td>\n      <td>37i9dQZF1EJzLXmaJSWoa8</td>\n      <td>spotify</td>\n    </tr>\n    <tr>\n      <th>7</th>\n      <td>Twoheadedboy + Gadha</td>\n      <td>37i9dQZF1EJA9FtsyReGLU</td>\n      <td>spotify</td>\n    </tr>\n    <tr>\n      <th>8</th>\n      <td>woosteresque + Gadha</td>\n      <td>37i9dQZF1EJMC6i7vRuhmV</td>\n      <td>spotify</td>\n    </tr>\n    <tr>\n      <th>9</th>\n      <td>Nanda + Gadha</td>\n      <td>37i9dQZF1EJu04AyFmTvOk</td>\n      <td>spotify</td>\n    </tr>\n    <tr>\n      <th>10</th>\n      <td>Shashwat + Gadha</td>\n      <td>37i9dQZF1EJx5ncR2PUGOj</td>\n      <td>spotify</td>\n    </tr>\n    <tr>\n      <th>11</th>\n      <td>Udit + Gadha</td>\n      <td>37i9dQZF1EJJnrCJLcfFKP</td>\n      <td>spotify</td>\n    </tr>\n  </tbody>\n</table>\n</div>"
     },
     "metadata": {},
     "execution_count": 124
    }
   ],
   "source": [
    "blends = my_playlists_df[my_playlists_df['name'].str.contains('\\+')]\n",
    "blends"
   ]
  },
  {
   "cell_type": "code",
   "execution_count": 131,
   "metadata": {},
   "outputs": [
    {
     "output_type": "execute_result",
     "data": {
      "text/plain": [
       "                   artist                                              album  \\\n",
       "0                Day Wave                                               Drag   \n",
       "1            Sleigh Bells                                             Treats   \n",
       "2                 Alvvays                                     Antisocialites   \n",
       "3             St. Vincent                                       MASSEDUCTION   \n",
       "4              John Mayer                                     Heavier Things   \n",
       "5           Steven Wilson                                   THE FUTURE BITES   \n",
       "6                  Halsey                  BADLANDS (Live From Webster Hall)   \n",
       "7         The Paper Kites                                         twelvefour   \n",
       "8    They Might Be Giants                                              Flood   \n",
       "9               Yuko Ando                                            Shogeki   \n",
       "10    Panic! At The Disco                                Pray for the Wicked   \n",
       "11               Mutemath                                           Mutemath   \n",
       "12      The Goo Goo Dolls                                  Dizzy up the Girl   \n",
       "13                 ISLAND                                               Girl   \n",
       "14                 Eagles                             Eagles (2013 Remaster)   \n",
       "15    The Pineapple Thief                              Versions of the Truth   \n",
       "16                  Lorde                            Pure Heroine (Extended)   \n",
       "17                FINNEAS                   Let’s Fall In Love For The Night   \n",
       "18                   ADOY                                              Young   \n",
       "19              Jake Bugg                                          Jake Bugg   \n",
       "20             Kali Uchis            Sin Miedo (del Amor y Otros Demonios) ∞   \n",
       "21             Charli XCX                                               Boys   \n",
       "22            Alicia Keys                        Girl on Fire (Remixes) - EP   \n",
       "23            Duran Duran                                          Astronaut   \n",
       "24               Dua Lipa                                   Future Nostalgia   \n",
       "25              Daft Punk                             Random Access Memories   \n",
       "26                 Bonzai                   I Feel Alright (Mura Masa Remix)   \n",
       "27             John Mayer                                    Last Train Home   \n",
       "28         Porcupine Tree                                        Anesthetize   \n",
       "29       The Technicolors              Ultraviolet Disguise (Deluxe Edition)   \n",
       "30         Stealers Wheel                                     Stealers Wheel   \n",
       "31  Red Hot Chili Peppers                                   Stadium Arcadium   \n",
       "32        City and Colour               Bring Me Your Love (Special Edition)   \n",
       "33               Day Wave  Kate's Not Here (Day Wave & Lawrence Rothman R...   \n",
       "34           Amit Trivedi  Manmarziyaan (Original Motion Picture Soundtrack)   \n",
       "35        Brandon Flowers                                 The Desired Effect   \n",
       "36     The Japanese House                                 Saw You In A Dream   \n",
       "37             The Chairs                                      LOVELY SUNDAY   \n",
       "38          slenderbodies                                           fabulist   \n",
       "39             Chromatics                                    Cherry (Deluxe)   \n",
       "40           Soccer Mommy                                       color theory   \n",
       "41             CASTLEBEAT                                                VHS   \n",
       "42        The Paper Kites                                         twelvefour   \n",
       "43                 The xx                                          I See You   \n",
       "44       Dirty Projectors                                     Lamp Lit Prose   \n",
       "45                Alvvays                                            Alvvays   \n",
       "46        Young the Giant                                      Mirror Master   \n",
       "47                 Barrie                                   Happy To Be Here   \n",
       "48              Lil Nas X                     MONTERO (Call Me By Your Name)   \n",
       "49                  Lorde                                          Melodrama   \n",
       "\n",
       "                                           track_name                track_id  \\\n",
       "0                                                Drag  0oXwUeFAE6IR2lYhaTpxRT   \n",
       "1                                           Rill Rill  3GbjOImkNo5nFT2GQxVr11   \n",
       "2                                         Not My Baby  27bBjan9bD8rUESGYqK9a7   \n",
       "3                                            New York  5IXTT9RvcVupmzLTFqIInj   \n",
       "4                                 Bigger Than My Body  0Jh9EBGN205Yc7JN2zZ2f1   \n",
       "5                                  12 THINGS I FORGOT  3U5qkg3OoX0KQxEaGqLYQT   \n",
       "6                                            Gasoline  4k0yY041y3wLd41uDjqROv   \n",
       "7                                      Revelator Eyes  4A8wLC09mcPYI6ZwM6Ia44   \n",
       "8                       Istanbul (Not Constantinople)  63vL5oxWrlvaJ0ayNaQnbX   \n",
       "9                                             Shogeki  5QwAdWCnauw0GpDzM3glrO   \n",
       "10                                         High Hopes  1rqqCSm0Qe4I9rUvWncaom   \n",
       "11                                       You Are Mine  5dd0OgF6h9sXrj7jhRPUhB   \n",
       "12                                               Iris  6Qyc6fS4DsZjB2mRW9DsQs   \n",
       "13                            Nighttime Written Blues  1DGhlvWQSbZoBr65q10I5B   \n",
       "14                       Take It Easy - 2013 Remaster  4yugZvBYaoREkJKtbG08Qr   \n",
       "15                                             Demons  1zNBl9QPfrD2hlL41BHedj   \n",
       "16                                               Ribs  0TEekvXTomKt3hdXDZxxeW   \n",
       "17                   Let's Fall in Love for the Night  7kQkmyoHCEqwe7QwDbkSXM   \n",
       "18                                              Young  2N9udjvetx4OMCA0RLFYEC   \n",
       "19                                     Lightning Bolt  79DO6dBi8936P6EShLB209   \n",
       "20                                          telepatía  6tDDoYIxWvMLTdKpjFkc1B   \n",
       "21                                               Boys  5o4yGlG0PfeVUa6ClIyOxq   \n",
       "22                                       Girl on Fire  4esOae7i4rqTbAu9o5Pxco   \n",
       "23                                    Still Breathing  0eM5NTWzTWZwpqdLrQI6eS   \n",
       "24                                         Levitating  39LLxExYz6ewLAcYrzQQyP   \n",
       "25           Instant Crush (feat. Julian Casablancas)  2cGxRwrMyEAp8dEbuZaVv6   \n",
       "26                   I Feel Alright - Mura Masa Remix  2Qdw2ExWzzaD9BMMe8cZYQ   \n",
       "27                                    Last Train Home  1fzf9Aad4y1RWrmwosAK5y   \n",
       "28                                 Sentimental - Live  3YN17oMf6KSlYll9RlEGkw   \n",
       "29                               Tonight You Are Mine  6p5XHlq18fKHj5ImzGRo1W   \n",
       "30                       Stuck In The Middle With You  3Vby4nGmtbDo7HDJamOWkT   \n",
       "31                                      Snow (Hey Oh)  2aibwv5hGXSgw7Yru8IYTO   \n",
       "32                                           The Girl  1IFRVS4t1olI0XG9RBWdKH   \n",
       "33  Kate's Not Here - Day Wave & Lawrence Rothman ...  5gEni4dmBqme8fyPcyWYiK   \n",
       "34                                 Daryaa - Unplugged  2BxqTLKKxVtRCi7VH4zCNj   \n",
       "35                                 Between Me And You  5DjplFUhkUdqY4XuMyzpIY   \n",
       "36                                 Saw You In A Dream  0U3u0HdRQjD8mAMYBak4Ok   \n",
       "37                                         Rollin' On  63oSPrP54in4X41vq6cNlL   \n",
       "38                                            anemone  1MD2yGSeBRALkMui1fZ05P   \n",
       "39                                             Cherry  4sRmzVSedvFkENbSJ342Ex   \n",
       "40                    yellow is the color of her eyes  5EDBVVqd2ogoG89XVQOvsn   \n",
       "41                                           I Follow  4RqVsGYERv5pmwVroKWPiu   \n",
       "42                                    Electric Indigo  79xbBvSiL94cKEww2amEI4   \n",
       "43                                         I Dare You  3pAw0BXL8acShtjUwLosw8   \n",
       "44                                      I Feel Energy  2m6FcfDqnTG5fNKu3O8jkA   \n",
       "45                                  Ones Who Love You  6UwyDozaC9Ndoh0Jr1jvwd   \n",
       "46                                       Call Me Back  14KP6cmTImZmrcAC5m0Azd   \n",
       "47                                            Geology  4qCfbDTCrFnfG5fYngu2wE   \n",
       "48                     MONTERO (Call Me By Your Name)  67BtfxlNbhBmCDR2L2l8qd   \n",
       "49                                           Supercut  6K8VQ84MqhsoakN5MjrnVR   \n",
       "\n",
       "   popularity                                             genres  \\\n",
       "0          59  [bay area indie, chillwave, dreamo, indie pop,...   \n",
       "1          54  [alternative dance, art pop, brooklyn indie, e...   \n",
       "2          54  [dreamo, indie pop, indie rock, shoegaze, toro...   \n",
       "3          56  [art pop, electropop, etherpop, freak folk, in...   \n",
       "4          57     [neo mellow, pop, pop rock, singer-songwriter]   \n",
       "5          32  [art rock, progressive metal, progressive rock...   \n",
       "6          37  [dance pop, electropop, etherpop, indie poptim...   \n",
       "7          42  [australian indie folk, indie folk, stomp and ...   \n",
       "8          65  [alternative rock, comic, geek rock, permanent...   \n",
       "9          66                [anime, japanese singer-songwriter]   \n",
       "10         82                    [baroque pop, emo, modern rock]   \n",
       "11         40                                 [alternative rock]   \n",
       "12         79  [alternative rock, neo mellow, permanent wave,...   \n",
       "13         41                          [modern alternative rock]   \n",
       "14         78  [album rock, classic rock, country rock, folk ...   \n",
       "15         39  [art rock, modern progressive rock, neo-progre...   \n",
       "16         78  [art pop, dance pop, electropop, metropopolis,...   \n",
       "17         76  [alt z, electropop, indie cafe pop, indie pop,...   \n",
       "18         43  [k-indie, korean city pop, korean dream pop, k...   \n",
       "19         62              [modern rock, nottingham indie, rock]   \n",
       "20         92                               [colombian pop, pop]   \n",
       "21         66  [art pop, candy pop, dance pop, electropop, es...   \n",
       "22         76  [hip pop, neo soul, pop, r&b, urban contemporary]   \n",
       "23         33  [dance rock, new romantic, new wave, new wave ...   \n",
       "24         87                           [dance pop, pop, uk pop]   \n",
       "25         76                            [electro, filter house]   \n",
       "26         21                                        [irish pop]   \n",
       "27         80     [neo mellow, pop, pop rock, singer-songwriter]   \n",
       "28         31  [alternative metal, art rock, progressive meta...   \n",
       "29         50           [modern alternative rock, phoenix indie]   \n",
       "30         73  [classic rock, classic uk pop, folk rock, mell...   \n",
       "31         79  [alternative rock, funk metal, funk rock, perm...   \n",
       "32         63                    [canadian folk, canadian indie]   \n",
       "33         52  [bay area indie, chillwave, dreamo, indie pop,...   \n",
       "34         27          [desi pop, filmi, modern bollywood, sufi]   \n",
       "35         46                         [modern rock, vegas indie]   \n",
       "36         65  [electropop, indie pop, indie poptimism, indie...   \n",
       "37         43                                    [chinese indie]   \n",
       "38         62  [indie poptimism, indie soul, modern rock, vap...   \n",
       "39         61  [alternative dance, art pop, chillwave, dream ...   \n",
       "40         55  [art pop, bubblegrunge, indie folk, indie pop,...   \n",
       "41         46  [bedroom pop, dreamo, indie garage rock, indie...   \n",
       "42         50  [australian indie folk, indie folk, stomp and ...   \n",
       "43         61               [downtempo, dream pop, indietronica]   \n",
       "44         32  [art pop, brooklyn indie, experimental pop, fr...   \n",
       "45         45  [dreamo, indie pop, indie rock, shoegaze, toro...   \n",
       "46         56  [indie pop, indie rock, modern alternative roc...   \n",
       "47         48                        [brooklyn indie, indie pop]   \n",
       "48        100                          [lgbtq+ hip hop, pop rap]   \n",
       "49         68  [art pop, dance pop, electropop, metropopolis,...   \n",
       "\n",
       "    danceability  energy key  loudness mode  speechiness  instrumentalness  \\\n",
       "0          0.537   0.713   7    -6.250    1       0.0272          0.650000   \n",
       "1          0.468   0.812   1    -3.440    0       0.0491          0.000001   \n",
       "2          0.342   0.644   0    -4.363    1       0.0346          0.299000   \n",
       "3          0.373   0.449  10   -11.646    1       0.1440          0.000013   \n",
       "4          0.608   0.937   4    -3.071    1       0.0330          0.040300   \n",
       "5          0.603   0.677   9    -9.395    1       0.0275          0.000115   \n",
       "6          0.731   0.580  10    -7.328    0       0.0399          0.000000   \n",
       "7          0.520   0.717   8    -9.016    1       0.0299          0.054000   \n",
       "8          0.688   0.748   5    -9.390    0       0.0377          0.004530   \n",
       "9          0.399   0.723  11    -4.507    1       0.0681          0.000000   \n",
       "10         0.579   0.904   5    -2.729    1       0.0618          0.000000   \n",
       "11         0.386   0.707   7    -8.560    0       0.0386          0.064100   \n",
       "12         0.315   0.715  11    -8.072    0       0.0362          0.000008   \n",
       "13         0.466   0.358   9   -11.614    1       0.0514          0.000130   \n",
       "14         0.575   0.670   7   -10.390    1       0.0318          0.000005   \n",
       "15         0.607   0.503   1   -12.523    1       0.0283          0.183000   \n",
       "16         0.511   0.472   4    -9.277    1       0.0910          0.614000   \n",
       "17         0.737   0.408   5    -7.941    1       0.1040          0.000000   \n",
       "18         0.630   0.511   7    -7.232    1       0.0264          0.000000   \n",
       "19         0.551   0.839   9    -4.555    1       0.0787          0.000000   \n",
       "20         0.653   0.524  11    -9.016    0       0.0502          0.000000   \n",
       "21         0.867   0.545   2    -5.192    1       0.0625          0.000289   \n",
       "22         0.482   0.706   9    -5.762    1       0.0607          0.001060   \n",
       "23         0.590   0.701   0    -6.793    1       0.0245          0.203000   \n",
       "24         0.695   0.884   6    -2.278    0       0.0753          0.000000   \n",
       "25         0.775   0.585  10    -9.516    0       0.0271          0.619000   \n",
       "26         0.669   0.661   1    -6.021    1       0.0438          0.000196   \n",
       "27         0.588   0.850   4    -6.431    1       0.0318          0.002020   \n",
       "28         0.552   0.509   9   -13.152    0       0.0391          0.050400   \n",
       "29         0.634   0.600  11    -6.662    1       0.0265          0.005830   \n",
       "30         0.820   0.575   7    -9.144    1       0.0408          0.000135   \n",
       "31         0.427   0.900  11    -3.674    1       0.0499          0.000017   \n",
       "32         0.404   0.542  10    -7.578    1       0.0349          0.000072   \n",
       "33         0.482   0.866   7    -4.534    1       0.0293          0.116000   \n",
       "34         0.648   0.346   7    -6.331    1       0.0326          0.000000   \n",
       "35         0.469   0.646   0    -6.573    1       0.0376          0.000295   \n",
       "36         0.607   0.451   4    -8.206    1       0.0286          0.000000   \n",
       "37         0.687   0.556   5    -9.366    1       0.0286          0.018900   \n",
       "38         0.854   0.631  11    -8.197    0       0.0452          0.009990   \n",
       "39         0.656   0.784   7    -6.389    0       0.0354          0.233000   \n",
       "40         0.371   0.510  11    -7.352    1       0.0276          0.125000   \n",
       "41         0.491   0.571   9    -8.381    1       0.0301          0.923000   \n",
       "42         0.576   0.698   1    -8.011    1       0.0350          0.198000   \n",
       "43         0.752   0.543   1    -9.483    1       0.0398          0.071600   \n",
       "44         0.723   0.695   0    -5.360    0       0.0494          0.010200   \n",
       "45         0.490   0.648   2    -5.931    1       0.0335          0.888000   \n",
       "46         0.750   0.365   7    -6.741    1       0.0372          0.008200   \n",
       "47         0.690   0.721   4    -8.437    1       0.0323          0.649000   \n",
       "48         0.610   0.508   8    -6.682    0       0.1520          0.000000   \n",
       "49         0.562   0.437   0   -10.229    1       0.0520          0.000022   \n",
       "\n",
       "    liveness  valence    tempo duration_ms time_signature  \n",
       "0     0.1000   0.3670   93.198      189651              4  \n",
       "1     0.0688   0.7890   72.987      229893              4  \n",
       "2     0.0988   0.1290  150.848      256413              4  \n",
       "3     0.1750   0.3270  137.866      154960              4  \n",
       "4     0.3090   0.5150  117.304      265960              4  \n",
       "5     0.0907   0.2170  119.057      282778              4  \n",
       "6     0.1290   0.3190  120.001      199593              4  \n",
       "7     0.1730   0.5680  153.025      262267              4  \n",
       "8     0.1360   0.8920  114.144      153813              4  \n",
       "9     0.3520   0.2200  137.032      181595              4  \n",
       "10    0.0640   0.6810   82.014      190947              4  \n",
       "11    0.3660   0.4020  104.868      283720              3  \n",
       "12    0.0942   0.4970  155.925      289533              3  \n",
       "13    0.0861   0.0902  119.069      292947              4  \n",
       "14    0.1290   0.7400  139.191      211578              4  \n",
       "15    0.0625   0.3540  140.031      273921              4  \n",
       "16    0.1100   0.0399  127.978      258969              4  \n",
       "17    0.1710   0.3740  127.921      190348              4  \n",
       "18    0.2700   0.4640  112.009      219360              4  \n",
       "19    0.1510   0.6810  116.051      144013              4  \n",
       "20    0.2030   0.5530   83.970      160191              4  \n",
       "21    0.0505   0.5250  139.943      162586              4  \n",
       "22    0.1050   0.1440   92.513      224920              4  \n",
       "23    0.0774   0.4400   97.998      359027              4  \n",
       "24    0.2130   0.9140  103.014      203808              4  \n",
       "25    0.0770   0.5180  109.942      337560              4  \n",
       "26    0.1100   0.4520   99.953      218410              4  \n",
       "27    0.0465   0.7680   93.003      187310              4  \n",
       "28    0.7070   0.2000   86.988      318533              4  \n",
       "29    0.0796   0.6400   90.017      230000              4  \n",
       "30    0.1090   0.9640  123.765      208947              4  \n",
       "31    0.1190   0.5990  104.655      334667              4  \n",
       "32    0.1370   0.1830  109.166      360107              4  \n",
       "33    0.2470   0.3720  147.994      187364              4  \n",
       "34    0.1280   0.4610   92.091      209511              4  \n",
       "35    0.1010   0.3900   80.133      279267              4  \n",
       "36    0.1900   0.6760   94.054      208280              4  \n",
       "37    0.1820   0.5170  103.907      234600              4  \n",
       "38    0.2020   0.6090  119.986      228062              4  \n",
       "39    0.1750   0.8020  108.245      271952              4  \n",
       "40    0.1390   0.1920  161.006      435080              4  \n",
       "41    0.0868   0.6000  146.051      156367              4  \n",
       "42    0.1170   0.6980   95.978      223520              4  \n",
       "43    0.1070   0.2790  126.002      233280              4  \n",
       "44    0.1140   0.7180  123.996      276627              4  \n",
       "45    0.0923   0.4290  117.042      227240              4  \n",
       "46    0.1220   0.1010   89.981      237747              4  \n",
       "47    0.1250   0.3570  104.027      268120              4  \n",
       "48    0.3840   0.7580  178.818      137876              4  \n",
       "49    0.0806   0.1500  124.852      277506              4  "
      ],
      "text/html": "<div>\n<style scoped>\n    .dataframe tbody tr th:only-of-type {\n        vertical-align: middle;\n    }\n\n    .dataframe tbody tr th {\n        vertical-align: top;\n    }\n\n    .dataframe thead th {\n        text-align: right;\n    }\n</style>\n<table border=\"1\" class=\"dataframe\">\n  <thead>\n    <tr style=\"text-align: right;\">\n      <th></th>\n      <th>artist</th>\n      <th>album</th>\n      <th>track_name</th>\n      <th>track_id</th>\n      <th>popularity</th>\n      <th>genres</th>\n      <th>danceability</th>\n      <th>energy</th>\n      <th>key</th>\n      <th>loudness</th>\n      <th>mode</th>\n      <th>speechiness</th>\n      <th>instrumentalness</th>\n      <th>liveness</th>\n      <th>valence</th>\n      <th>tempo</th>\n      <th>duration_ms</th>\n      <th>time_signature</th>\n    </tr>\n  </thead>\n  <tbody>\n    <tr>\n      <th>0</th>\n      <td>Day Wave</td>\n      <td>Drag</td>\n      <td>Drag</td>\n      <td>0oXwUeFAE6IR2lYhaTpxRT</td>\n      <td>59</td>\n      <td>[bay area indie, chillwave, dreamo, indie pop,...</td>\n      <td>0.537</td>\n      <td>0.713</td>\n      <td>7</td>\n      <td>-6.250</td>\n      <td>1</td>\n      <td>0.0272</td>\n      <td>0.650000</td>\n      <td>0.1000</td>\n      <td>0.3670</td>\n      <td>93.198</td>\n      <td>189651</td>\n      <td>4</td>\n    </tr>\n    <tr>\n      <th>1</th>\n      <td>Sleigh Bells</td>\n      <td>Treats</td>\n      <td>Rill Rill</td>\n      <td>3GbjOImkNo5nFT2GQxVr11</td>\n      <td>54</td>\n      <td>[alternative dance, art pop, brooklyn indie, e...</td>\n      <td>0.468</td>\n      <td>0.812</td>\n      <td>1</td>\n      <td>-3.440</td>\n      <td>0</td>\n      <td>0.0491</td>\n      <td>0.000001</td>\n      <td>0.0688</td>\n      <td>0.7890</td>\n      <td>72.987</td>\n      <td>229893</td>\n      <td>4</td>\n    </tr>\n    <tr>\n      <th>2</th>\n      <td>Alvvays</td>\n      <td>Antisocialites</td>\n      <td>Not My Baby</td>\n      <td>27bBjan9bD8rUESGYqK9a7</td>\n      <td>54</td>\n      <td>[dreamo, indie pop, indie rock, shoegaze, toro...</td>\n      <td>0.342</td>\n      <td>0.644</td>\n      <td>0</td>\n      <td>-4.363</td>\n      <td>1</td>\n      <td>0.0346</td>\n      <td>0.299000</td>\n      <td>0.0988</td>\n      <td>0.1290</td>\n      <td>150.848</td>\n      <td>256413</td>\n      <td>4</td>\n    </tr>\n    <tr>\n      <th>3</th>\n      <td>St. Vincent</td>\n      <td>MASSEDUCTION</td>\n      <td>New York</td>\n      <td>5IXTT9RvcVupmzLTFqIInj</td>\n      <td>56</td>\n      <td>[art pop, electropop, etherpop, freak folk, in...</td>\n      <td>0.373</td>\n      <td>0.449</td>\n      <td>10</td>\n      <td>-11.646</td>\n      <td>1</td>\n      <td>0.1440</td>\n      <td>0.000013</td>\n      <td>0.1750</td>\n      <td>0.3270</td>\n      <td>137.866</td>\n      <td>154960</td>\n      <td>4</td>\n    </tr>\n    <tr>\n      <th>4</th>\n      <td>John Mayer</td>\n      <td>Heavier Things</td>\n      <td>Bigger Than My Body</td>\n      <td>0Jh9EBGN205Yc7JN2zZ2f1</td>\n      <td>57</td>\n      <td>[neo mellow, pop, pop rock, singer-songwriter]</td>\n      <td>0.608</td>\n      <td>0.937</td>\n      <td>4</td>\n      <td>-3.071</td>\n      <td>1</td>\n      <td>0.0330</td>\n      <td>0.040300</td>\n      <td>0.3090</td>\n      <td>0.5150</td>\n      <td>117.304</td>\n      <td>265960</td>\n      <td>4</td>\n    </tr>\n    <tr>\n      <th>5</th>\n      <td>Steven Wilson</td>\n      <td>THE FUTURE BITES</td>\n      <td>12 THINGS I FORGOT</td>\n      <td>3U5qkg3OoX0KQxEaGqLYQT</td>\n      <td>32</td>\n      <td>[art rock, progressive metal, progressive rock...</td>\n      <td>0.603</td>\n      <td>0.677</td>\n      <td>9</td>\n      <td>-9.395</td>\n      <td>1</td>\n      <td>0.0275</td>\n      <td>0.000115</td>\n      <td>0.0907</td>\n      <td>0.2170</td>\n      <td>119.057</td>\n      <td>282778</td>\n      <td>4</td>\n    </tr>\n    <tr>\n      <th>6</th>\n      <td>Halsey</td>\n      <td>BADLANDS (Live From Webster Hall)</td>\n      <td>Gasoline</td>\n      <td>4k0yY041y3wLd41uDjqROv</td>\n      <td>37</td>\n      <td>[dance pop, electropop, etherpop, indie poptim...</td>\n      <td>0.731</td>\n      <td>0.580</td>\n      <td>10</td>\n      <td>-7.328</td>\n      <td>0</td>\n      <td>0.0399</td>\n      <td>0.000000</td>\n      <td>0.1290</td>\n      <td>0.3190</td>\n      <td>120.001</td>\n      <td>199593</td>\n      <td>4</td>\n    </tr>\n    <tr>\n      <th>7</th>\n      <td>The Paper Kites</td>\n      <td>twelvefour</td>\n      <td>Revelator Eyes</td>\n      <td>4A8wLC09mcPYI6ZwM6Ia44</td>\n      <td>42</td>\n      <td>[australian indie folk, indie folk, stomp and ...</td>\n      <td>0.520</td>\n      <td>0.717</td>\n      <td>8</td>\n      <td>-9.016</td>\n      <td>1</td>\n      <td>0.0299</td>\n      <td>0.054000</td>\n      <td>0.1730</td>\n      <td>0.5680</td>\n      <td>153.025</td>\n      <td>262267</td>\n      <td>4</td>\n    </tr>\n    <tr>\n      <th>8</th>\n      <td>They Might Be Giants</td>\n      <td>Flood</td>\n      <td>Istanbul (Not Constantinople)</td>\n      <td>63vL5oxWrlvaJ0ayNaQnbX</td>\n      <td>65</td>\n      <td>[alternative rock, comic, geek rock, permanent...</td>\n      <td>0.688</td>\n      <td>0.748</td>\n      <td>5</td>\n      <td>-9.390</td>\n      <td>0</td>\n      <td>0.0377</td>\n      <td>0.004530</td>\n      <td>0.1360</td>\n      <td>0.8920</td>\n      <td>114.144</td>\n      <td>153813</td>\n      <td>4</td>\n    </tr>\n    <tr>\n      <th>9</th>\n      <td>Yuko Ando</td>\n      <td>Shogeki</td>\n      <td>Shogeki</td>\n      <td>5QwAdWCnauw0GpDzM3glrO</td>\n      <td>66</td>\n      <td>[anime, japanese singer-songwriter]</td>\n      <td>0.399</td>\n      <td>0.723</td>\n      <td>11</td>\n      <td>-4.507</td>\n      <td>1</td>\n      <td>0.0681</td>\n      <td>0.000000</td>\n      <td>0.3520</td>\n      <td>0.2200</td>\n      <td>137.032</td>\n      <td>181595</td>\n      <td>4</td>\n    </tr>\n    <tr>\n      <th>10</th>\n      <td>Panic! At The Disco</td>\n      <td>Pray for the Wicked</td>\n      <td>High Hopes</td>\n      <td>1rqqCSm0Qe4I9rUvWncaom</td>\n      <td>82</td>\n      <td>[baroque pop, emo, modern rock]</td>\n      <td>0.579</td>\n      <td>0.904</td>\n      <td>5</td>\n      <td>-2.729</td>\n      <td>1</td>\n      <td>0.0618</td>\n      <td>0.000000</td>\n      <td>0.0640</td>\n      <td>0.6810</td>\n      <td>82.014</td>\n      <td>190947</td>\n      <td>4</td>\n    </tr>\n    <tr>\n      <th>11</th>\n      <td>Mutemath</td>\n      <td>Mutemath</td>\n      <td>You Are Mine</td>\n      <td>5dd0OgF6h9sXrj7jhRPUhB</td>\n      <td>40</td>\n      <td>[alternative rock]</td>\n      <td>0.386</td>\n      <td>0.707</td>\n      <td>7</td>\n      <td>-8.560</td>\n      <td>0</td>\n      <td>0.0386</td>\n      <td>0.064100</td>\n      <td>0.3660</td>\n      <td>0.4020</td>\n      <td>104.868</td>\n      <td>283720</td>\n      <td>3</td>\n    </tr>\n    <tr>\n      <th>12</th>\n      <td>The Goo Goo Dolls</td>\n      <td>Dizzy up the Girl</td>\n      <td>Iris</td>\n      <td>6Qyc6fS4DsZjB2mRW9DsQs</td>\n      <td>79</td>\n      <td>[alternative rock, neo mellow, permanent wave,...</td>\n      <td>0.315</td>\n      <td>0.715</td>\n      <td>11</td>\n      <td>-8.072</td>\n      <td>0</td>\n      <td>0.0362</td>\n      <td>0.000008</td>\n      <td>0.0942</td>\n      <td>0.4970</td>\n      <td>155.925</td>\n      <td>289533</td>\n      <td>3</td>\n    </tr>\n    <tr>\n      <th>13</th>\n      <td>ISLAND</td>\n      <td>Girl</td>\n      <td>Nighttime Written Blues</td>\n      <td>1DGhlvWQSbZoBr65q10I5B</td>\n      <td>41</td>\n      <td>[modern alternative rock]</td>\n      <td>0.466</td>\n      <td>0.358</td>\n      <td>9</td>\n      <td>-11.614</td>\n      <td>1</td>\n      <td>0.0514</td>\n      <td>0.000130</td>\n      <td>0.0861</td>\n      <td>0.0902</td>\n      <td>119.069</td>\n      <td>292947</td>\n      <td>4</td>\n    </tr>\n    <tr>\n      <th>14</th>\n      <td>Eagles</td>\n      <td>Eagles (2013 Remaster)</td>\n      <td>Take It Easy - 2013 Remaster</td>\n      <td>4yugZvBYaoREkJKtbG08Qr</td>\n      <td>78</td>\n      <td>[album rock, classic rock, country rock, folk ...</td>\n      <td>0.575</td>\n      <td>0.670</td>\n      <td>7</td>\n      <td>-10.390</td>\n      <td>1</td>\n      <td>0.0318</td>\n      <td>0.000005</td>\n      <td>0.1290</td>\n      <td>0.7400</td>\n      <td>139.191</td>\n      <td>211578</td>\n      <td>4</td>\n    </tr>\n    <tr>\n      <th>15</th>\n      <td>The Pineapple Thief</td>\n      <td>Versions of the Truth</td>\n      <td>Demons</td>\n      <td>1zNBl9QPfrD2hlL41BHedj</td>\n      <td>39</td>\n      <td>[art rock, modern progressive rock, neo-progre...</td>\n      <td>0.607</td>\n      <td>0.503</td>\n      <td>1</td>\n      <td>-12.523</td>\n      <td>1</td>\n      <td>0.0283</td>\n      <td>0.183000</td>\n      <td>0.0625</td>\n      <td>0.3540</td>\n      <td>140.031</td>\n      <td>273921</td>\n      <td>4</td>\n    </tr>\n    <tr>\n      <th>16</th>\n      <td>Lorde</td>\n      <td>Pure Heroine (Extended)</td>\n      <td>Ribs</td>\n      <td>0TEekvXTomKt3hdXDZxxeW</td>\n      <td>78</td>\n      <td>[art pop, dance pop, electropop, metropopolis,...</td>\n      <td>0.511</td>\n      <td>0.472</td>\n      <td>4</td>\n      <td>-9.277</td>\n      <td>1</td>\n      <td>0.0910</td>\n      <td>0.614000</td>\n      <td>0.1100</td>\n      <td>0.0399</td>\n      <td>127.978</td>\n      <td>258969</td>\n      <td>4</td>\n    </tr>\n    <tr>\n      <th>17</th>\n      <td>FINNEAS</td>\n      <td>Let’s Fall In Love For The Night</td>\n      <td>Let's Fall in Love for the Night</td>\n      <td>7kQkmyoHCEqwe7QwDbkSXM</td>\n      <td>76</td>\n      <td>[alt z, electropop, indie cafe pop, indie pop,...</td>\n      <td>0.737</td>\n      <td>0.408</td>\n      <td>5</td>\n      <td>-7.941</td>\n      <td>1</td>\n      <td>0.1040</td>\n      <td>0.000000</td>\n      <td>0.1710</td>\n      <td>0.3740</td>\n      <td>127.921</td>\n      <td>190348</td>\n      <td>4</td>\n    </tr>\n    <tr>\n      <th>18</th>\n      <td>ADOY</td>\n      <td>Young</td>\n      <td>Young</td>\n      <td>2N9udjvetx4OMCA0RLFYEC</td>\n      <td>43</td>\n      <td>[k-indie, korean city pop, korean dream pop, k...</td>\n      <td>0.630</td>\n      <td>0.511</td>\n      <td>7</td>\n      <td>-7.232</td>\n      <td>1</td>\n      <td>0.0264</td>\n      <td>0.000000</td>\n      <td>0.2700</td>\n      <td>0.4640</td>\n      <td>112.009</td>\n      <td>219360</td>\n      <td>4</td>\n    </tr>\n    <tr>\n      <th>19</th>\n      <td>Jake Bugg</td>\n      <td>Jake Bugg</td>\n      <td>Lightning Bolt</td>\n      <td>79DO6dBi8936P6EShLB209</td>\n      <td>62</td>\n      <td>[modern rock, nottingham indie, rock]</td>\n      <td>0.551</td>\n      <td>0.839</td>\n      <td>9</td>\n      <td>-4.555</td>\n      <td>1</td>\n      <td>0.0787</td>\n      <td>0.000000</td>\n      <td>0.1510</td>\n      <td>0.6810</td>\n      <td>116.051</td>\n      <td>144013</td>\n      <td>4</td>\n    </tr>\n    <tr>\n      <th>20</th>\n      <td>Kali Uchis</td>\n      <td>Sin Miedo (del Amor y Otros Demonios) ∞</td>\n      <td>telepatía</td>\n      <td>6tDDoYIxWvMLTdKpjFkc1B</td>\n      <td>92</td>\n      <td>[colombian pop, pop]</td>\n      <td>0.653</td>\n      <td>0.524</td>\n      <td>11</td>\n      <td>-9.016</td>\n      <td>0</td>\n      <td>0.0502</td>\n      <td>0.000000</td>\n      <td>0.2030</td>\n      <td>0.5530</td>\n      <td>83.970</td>\n      <td>160191</td>\n      <td>4</td>\n    </tr>\n    <tr>\n      <th>21</th>\n      <td>Charli XCX</td>\n      <td>Boys</td>\n      <td>Boys</td>\n      <td>5o4yGlG0PfeVUa6ClIyOxq</td>\n      <td>66</td>\n      <td>[art pop, candy pop, dance pop, electropop, es...</td>\n      <td>0.867</td>\n      <td>0.545</td>\n      <td>2</td>\n      <td>-5.192</td>\n      <td>1</td>\n      <td>0.0625</td>\n      <td>0.000289</td>\n      <td>0.0505</td>\n      <td>0.5250</td>\n      <td>139.943</td>\n      <td>162586</td>\n      <td>4</td>\n    </tr>\n    <tr>\n      <th>22</th>\n      <td>Alicia Keys</td>\n      <td>Girl on Fire (Remixes) - EP</td>\n      <td>Girl on Fire</td>\n      <td>4esOae7i4rqTbAu9o5Pxco</td>\n      <td>76</td>\n      <td>[hip pop, neo soul, pop, r&amp;b, urban contemporary]</td>\n      <td>0.482</td>\n      <td>0.706</td>\n      <td>9</td>\n      <td>-5.762</td>\n      <td>1</td>\n      <td>0.0607</td>\n      <td>0.001060</td>\n      <td>0.1050</td>\n      <td>0.1440</td>\n      <td>92.513</td>\n      <td>224920</td>\n      <td>4</td>\n    </tr>\n    <tr>\n      <th>23</th>\n      <td>Duran Duran</td>\n      <td>Astronaut</td>\n      <td>Still Breathing</td>\n      <td>0eM5NTWzTWZwpqdLrQI6eS</td>\n      <td>33</td>\n      <td>[dance rock, new romantic, new wave, new wave ...</td>\n      <td>0.590</td>\n      <td>0.701</td>\n      <td>0</td>\n      <td>-6.793</td>\n      <td>1</td>\n      <td>0.0245</td>\n      <td>0.203000</td>\n      <td>0.0774</td>\n      <td>0.4400</td>\n      <td>97.998</td>\n      <td>359027</td>\n      <td>4</td>\n    </tr>\n    <tr>\n      <th>24</th>\n      <td>Dua Lipa</td>\n      <td>Future Nostalgia</td>\n      <td>Levitating</td>\n      <td>39LLxExYz6ewLAcYrzQQyP</td>\n      <td>87</td>\n      <td>[dance pop, pop, uk pop]</td>\n      <td>0.695</td>\n      <td>0.884</td>\n      <td>6</td>\n      <td>-2.278</td>\n      <td>0</td>\n      <td>0.0753</td>\n      <td>0.000000</td>\n      <td>0.2130</td>\n      <td>0.9140</td>\n      <td>103.014</td>\n      <td>203808</td>\n      <td>4</td>\n    </tr>\n    <tr>\n      <th>25</th>\n      <td>Daft Punk</td>\n      <td>Random Access Memories</td>\n      <td>Instant Crush (feat. Julian Casablancas)</td>\n      <td>2cGxRwrMyEAp8dEbuZaVv6</td>\n      <td>76</td>\n      <td>[electro, filter house]</td>\n      <td>0.775</td>\n      <td>0.585</td>\n      <td>10</td>\n      <td>-9.516</td>\n      <td>0</td>\n      <td>0.0271</td>\n      <td>0.619000</td>\n      <td>0.0770</td>\n      <td>0.5180</td>\n      <td>109.942</td>\n      <td>337560</td>\n      <td>4</td>\n    </tr>\n    <tr>\n      <th>26</th>\n      <td>Bonzai</td>\n      <td>I Feel Alright (Mura Masa Remix)</td>\n      <td>I Feel Alright - Mura Masa Remix</td>\n      <td>2Qdw2ExWzzaD9BMMe8cZYQ</td>\n      <td>21</td>\n      <td>[irish pop]</td>\n      <td>0.669</td>\n      <td>0.661</td>\n      <td>1</td>\n      <td>-6.021</td>\n      <td>1</td>\n      <td>0.0438</td>\n      <td>0.000196</td>\n      <td>0.1100</td>\n      <td>0.4520</td>\n      <td>99.953</td>\n      <td>218410</td>\n      <td>4</td>\n    </tr>\n    <tr>\n      <th>27</th>\n      <td>John Mayer</td>\n      <td>Last Train Home</td>\n      <td>Last Train Home</td>\n      <td>1fzf9Aad4y1RWrmwosAK5y</td>\n      <td>80</td>\n      <td>[neo mellow, pop, pop rock, singer-songwriter]</td>\n      <td>0.588</td>\n      <td>0.850</td>\n      <td>4</td>\n      <td>-6.431</td>\n      <td>1</td>\n      <td>0.0318</td>\n      <td>0.002020</td>\n      <td>0.0465</td>\n      <td>0.7680</td>\n      <td>93.003</td>\n      <td>187310</td>\n      <td>4</td>\n    </tr>\n    <tr>\n      <th>28</th>\n      <td>Porcupine Tree</td>\n      <td>Anesthetize</td>\n      <td>Sentimental - Live</td>\n      <td>3YN17oMf6KSlYll9RlEGkw</td>\n      <td>31</td>\n      <td>[alternative metal, art rock, progressive meta...</td>\n      <td>0.552</td>\n      <td>0.509</td>\n      <td>9</td>\n      <td>-13.152</td>\n      <td>0</td>\n      <td>0.0391</td>\n      <td>0.050400</td>\n      <td>0.7070</td>\n      <td>0.2000</td>\n      <td>86.988</td>\n      <td>318533</td>\n      <td>4</td>\n    </tr>\n    <tr>\n      <th>29</th>\n      <td>The Technicolors</td>\n      <td>Ultraviolet Disguise (Deluxe Edition)</td>\n      <td>Tonight You Are Mine</td>\n      <td>6p5XHlq18fKHj5ImzGRo1W</td>\n      <td>50</td>\n      <td>[modern alternative rock, phoenix indie]</td>\n      <td>0.634</td>\n      <td>0.600</td>\n      <td>11</td>\n      <td>-6.662</td>\n      <td>1</td>\n      <td>0.0265</td>\n      <td>0.005830</td>\n      <td>0.0796</td>\n      <td>0.6400</td>\n      <td>90.017</td>\n      <td>230000</td>\n      <td>4</td>\n    </tr>\n    <tr>\n      <th>30</th>\n      <td>Stealers Wheel</td>\n      <td>Stealers Wheel</td>\n      <td>Stuck In The Middle With You</td>\n      <td>3Vby4nGmtbDo7HDJamOWkT</td>\n      <td>73</td>\n      <td>[classic rock, classic uk pop, folk rock, mell...</td>\n      <td>0.820</td>\n      <td>0.575</td>\n      <td>7</td>\n      <td>-9.144</td>\n      <td>1</td>\n      <td>0.0408</td>\n      <td>0.000135</td>\n      <td>0.1090</td>\n      <td>0.9640</td>\n      <td>123.765</td>\n      <td>208947</td>\n      <td>4</td>\n    </tr>\n    <tr>\n      <th>31</th>\n      <td>Red Hot Chili Peppers</td>\n      <td>Stadium Arcadium</td>\n      <td>Snow (Hey Oh)</td>\n      <td>2aibwv5hGXSgw7Yru8IYTO</td>\n      <td>79</td>\n      <td>[alternative rock, funk metal, funk rock, perm...</td>\n      <td>0.427</td>\n      <td>0.900</td>\n      <td>11</td>\n      <td>-3.674</td>\n      <td>1</td>\n      <td>0.0499</td>\n      <td>0.000017</td>\n      <td>0.1190</td>\n      <td>0.5990</td>\n      <td>104.655</td>\n      <td>334667</td>\n      <td>4</td>\n    </tr>\n    <tr>\n      <th>32</th>\n      <td>City and Colour</td>\n      <td>Bring Me Your Love (Special Edition)</td>\n      <td>The Girl</td>\n      <td>1IFRVS4t1olI0XG9RBWdKH</td>\n      <td>63</td>\n      <td>[canadian folk, canadian indie]</td>\n      <td>0.404</td>\n      <td>0.542</td>\n      <td>10</td>\n      <td>-7.578</td>\n      <td>1</td>\n      <td>0.0349</td>\n      <td>0.000072</td>\n      <td>0.1370</td>\n      <td>0.1830</td>\n      <td>109.166</td>\n      <td>360107</td>\n      <td>4</td>\n    </tr>\n    <tr>\n      <th>33</th>\n      <td>Day Wave</td>\n      <td>Kate's Not Here (Day Wave &amp; Lawrence Rothman R...</td>\n      <td>Kate's Not Here - Day Wave &amp; Lawrence Rothman ...</td>\n      <td>5gEni4dmBqme8fyPcyWYiK</td>\n      <td>52</td>\n      <td>[bay area indie, chillwave, dreamo, indie pop,...</td>\n      <td>0.482</td>\n      <td>0.866</td>\n      <td>7</td>\n      <td>-4.534</td>\n      <td>1</td>\n      <td>0.0293</td>\n      <td>0.116000</td>\n      <td>0.2470</td>\n      <td>0.3720</td>\n      <td>147.994</td>\n      <td>187364</td>\n      <td>4</td>\n    </tr>\n    <tr>\n      <th>34</th>\n      <td>Amit Trivedi</td>\n      <td>Manmarziyaan (Original Motion Picture Soundtrack)</td>\n      <td>Daryaa - Unplugged</td>\n      <td>2BxqTLKKxVtRCi7VH4zCNj</td>\n      <td>27</td>\n      <td>[desi pop, filmi, modern bollywood, sufi]</td>\n      <td>0.648</td>\n      <td>0.346</td>\n      <td>7</td>\n      <td>-6.331</td>\n      <td>1</td>\n      <td>0.0326</td>\n      <td>0.000000</td>\n      <td>0.1280</td>\n      <td>0.4610</td>\n      <td>92.091</td>\n      <td>209511</td>\n      <td>4</td>\n    </tr>\n    <tr>\n      <th>35</th>\n      <td>Brandon Flowers</td>\n      <td>The Desired Effect</td>\n      <td>Between Me And You</td>\n      <td>5DjplFUhkUdqY4XuMyzpIY</td>\n      <td>46</td>\n      <td>[modern rock, vegas indie]</td>\n      <td>0.469</td>\n      <td>0.646</td>\n      <td>0</td>\n      <td>-6.573</td>\n      <td>1</td>\n      <td>0.0376</td>\n      <td>0.000295</td>\n      <td>0.1010</td>\n      <td>0.3900</td>\n      <td>80.133</td>\n      <td>279267</td>\n      <td>4</td>\n    </tr>\n    <tr>\n      <th>36</th>\n      <td>The Japanese House</td>\n      <td>Saw You In A Dream</td>\n      <td>Saw You In A Dream</td>\n      <td>0U3u0HdRQjD8mAMYBak4Ok</td>\n      <td>65</td>\n      <td>[electropop, indie pop, indie poptimism, indie...</td>\n      <td>0.607</td>\n      <td>0.451</td>\n      <td>4</td>\n      <td>-8.206</td>\n      <td>1</td>\n      <td>0.0286</td>\n      <td>0.000000</td>\n      <td>0.1900</td>\n      <td>0.6760</td>\n      <td>94.054</td>\n      <td>208280</td>\n      <td>4</td>\n    </tr>\n    <tr>\n      <th>37</th>\n      <td>The Chairs</td>\n      <td>LOVELY SUNDAY</td>\n      <td>Rollin' On</td>\n      <td>63oSPrP54in4X41vq6cNlL</td>\n      <td>43</td>\n      <td>[chinese indie]</td>\n      <td>0.687</td>\n      <td>0.556</td>\n      <td>5</td>\n      <td>-9.366</td>\n      <td>1</td>\n      <td>0.0286</td>\n      <td>0.018900</td>\n      <td>0.1820</td>\n      <td>0.5170</td>\n      <td>103.907</td>\n      <td>234600</td>\n      <td>4</td>\n    </tr>\n    <tr>\n      <th>38</th>\n      <td>slenderbodies</td>\n      <td>fabulist</td>\n      <td>anemone</td>\n      <td>1MD2yGSeBRALkMui1fZ05P</td>\n      <td>62</td>\n      <td>[indie poptimism, indie soul, modern rock, vap...</td>\n      <td>0.854</td>\n      <td>0.631</td>\n      <td>11</td>\n      <td>-8.197</td>\n      <td>0</td>\n      <td>0.0452</td>\n      <td>0.009990</td>\n      <td>0.2020</td>\n      <td>0.6090</td>\n      <td>119.986</td>\n      <td>228062</td>\n      <td>4</td>\n    </tr>\n    <tr>\n      <th>39</th>\n      <td>Chromatics</td>\n      <td>Cherry (Deluxe)</td>\n      <td>Cherry</td>\n      <td>4sRmzVSedvFkENbSJ342Ex</td>\n      <td>61</td>\n      <td>[alternative dance, art pop, chillwave, dream ...</td>\n      <td>0.656</td>\n      <td>0.784</td>\n      <td>7</td>\n      <td>-6.389</td>\n      <td>0</td>\n      <td>0.0354</td>\n      <td>0.233000</td>\n      <td>0.1750</td>\n      <td>0.8020</td>\n      <td>108.245</td>\n      <td>271952</td>\n      <td>4</td>\n    </tr>\n    <tr>\n      <th>40</th>\n      <td>Soccer Mommy</td>\n      <td>color theory</td>\n      <td>yellow is the color of her eyes</td>\n      <td>5EDBVVqd2ogoG89XVQOvsn</td>\n      <td>55</td>\n      <td>[art pop, bubblegrunge, indie folk, indie pop,...</td>\n      <td>0.371</td>\n      <td>0.510</td>\n      <td>11</td>\n      <td>-7.352</td>\n      <td>1</td>\n      <td>0.0276</td>\n      <td>0.125000</td>\n      <td>0.1390</td>\n      <td>0.1920</td>\n      <td>161.006</td>\n      <td>435080</td>\n      <td>4</td>\n    </tr>\n    <tr>\n      <th>41</th>\n      <td>CASTLEBEAT</td>\n      <td>VHS</td>\n      <td>I Follow</td>\n      <td>4RqVsGYERv5pmwVroKWPiu</td>\n      <td>46</td>\n      <td>[bedroom pop, dreamo, indie garage rock, indie...</td>\n      <td>0.491</td>\n      <td>0.571</td>\n      <td>9</td>\n      <td>-8.381</td>\n      <td>1</td>\n      <td>0.0301</td>\n      <td>0.923000</td>\n      <td>0.0868</td>\n      <td>0.6000</td>\n      <td>146.051</td>\n      <td>156367</td>\n      <td>4</td>\n    </tr>\n    <tr>\n      <th>42</th>\n      <td>The Paper Kites</td>\n      <td>twelvefour</td>\n      <td>Electric Indigo</td>\n      <td>79xbBvSiL94cKEww2amEI4</td>\n      <td>50</td>\n      <td>[australian indie folk, indie folk, stomp and ...</td>\n      <td>0.576</td>\n      <td>0.698</td>\n      <td>1</td>\n      <td>-8.011</td>\n      <td>1</td>\n      <td>0.0350</td>\n      <td>0.198000</td>\n      <td>0.1170</td>\n      <td>0.6980</td>\n      <td>95.978</td>\n      <td>223520</td>\n      <td>4</td>\n    </tr>\n    <tr>\n      <th>43</th>\n      <td>The xx</td>\n      <td>I See You</td>\n      <td>I Dare You</td>\n      <td>3pAw0BXL8acShtjUwLosw8</td>\n      <td>61</td>\n      <td>[downtempo, dream pop, indietronica]</td>\n      <td>0.752</td>\n      <td>0.543</td>\n      <td>1</td>\n      <td>-9.483</td>\n      <td>1</td>\n      <td>0.0398</td>\n      <td>0.071600</td>\n      <td>0.1070</td>\n      <td>0.2790</td>\n      <td>126.002</td>\n      <td>233280</td>\n      <td>4</td>\n    </tr>\n    <tr>\n      <th>44</th>\n      <td>Dirty Projectors</td>\n      <td>Lamp Lit Prose</td>\n      <td>I Feel Energy</td>\n      <td>2m6FcfDqnTG5fNKu3O8jkA</td>\n      <td>32</td>\n      <td>[art pop, brooklyn indie, experimental pop, fr...</td>\n      <td>0.723</td>\n      <td>0.695</td>\n      <td>0</td>\n      <td>-5.360</td>\n      <td>0</td>\n      <td>0.0494</td>\n      <td>0.010200</td>\n      <td>0.1140</td>\n      <td>0.7180</td>\n      <td>123.996</td>\n      <td>276627</td>\n      <td>4</td>\n    </tr>\n    <tr>\n      <th>45</th>\n      <td>Alvvays</td>\n      <td>Alvvays</td>\n      <td>Ones Who Love You</td>\n      <td>6UwyDozaC9Ndoh0Jr1jvwd</td>\n      <td>45</td>\n      <td>[dreamo, indie pop, indie rock, shoegaze, toro...</td>\n      <td>0.490</td>\n      <td>0.648</td>\n      <td>2</td>\n      <td>-5.931</td>\n      <td>1</td>\n      <td>0.0335</td>\n      <td>0.888000</td>\n      <td>0.0923</td>\n      <td>0.4290</td>\n      <td>117.042</td>\n      <td>227240</td>\n      <td>4</td>\n    </tr>\n    <tr>\n      <th>46</th>\n      <td>Young the Giant</td>\n      <td>Mirror Master</td>\n      <td>Call Me Back</td>\n      <td>14KP6cmTImZmrcAC5m0Azd</td>\n      <td>56</td>\n      <td>[indie pop, indie rock, modern alternative roc...</td>\n      <td>0.750</td>\n      <td>0.365</td>\n      <td>7</td>\n      <td>-6.741</td>\n      <td>1</td>\n      <td>0.0372</td>\n      <td>0.008200</td>\n      <td>0.1220</td>\n      <td>0.1010</td>\n      <td>89.981</td>\n      <td>237747</td>\n      <td>4</td>\n    </tr>\n    <tr>\n      <th>47</th>\n      <td>Barrie</td>\n      <td>Happy To Be Here</td>\n      <td>Geology</td>\n      <td>4qCfbDTCrFnfG5fYngu2wE</td>\n      <td>48</td>\n      <td>[brooklyn indie, indie pop]</td>\n      <td>0.690</td>\n      <td>0.721</td>\n      <td>4</td>\n      <td>-8.437</td>\n      <td>1</td>\n      <td>0.0323</td>\n      <td>0.649000</td>\n      <td>0.1250</td>\n      <td>0.3570</td>\n      <td>104.027</td>\n      <td>268120</td>\n      <td>4</td>\n    </tr>\n    <tr>\n      <th>48</th>\n      <td>Lil Nas X</td>\n      <td>MONTERO (Call Me By Your Name)</td>\n      <td>MONTERO (Call Me By Your Name)</td>\n      <td>67BtfxlNbhBmCDR2L2l8qd</td>\n      <td>100</td>\n      <td>[lgbtq+ hip hop, pop rap]</td>\n      <td>0.610</td>\n      <td>0.508</td>\n      <td>8</td>\n      <td>-6.682</td>\n      <td>0</td>\n      <td>0.1520</td>\n      <td>0.000000</td>\n      <td>0.3840</td>\n      <td>0.7580</td>\n      <td>178.818</td>\n      <td>137876</td>\n      <td>4</td>\n    </tr>\n    <tr>\n      <th>49</th>\n      <td>Lorde</td>\n      <td>Melodrama</td>\n      <td>Supercut</td>\n      <td>6K8VQ84MqhsoakN5MjrnVR</td>\n      <td>68</td>\n      <td>[art pop, dance pop, electropop, metropopolis,...</td>\n      <td>0.562</td>\n      <td>0.437</td>\n      <td>0</td>\n      <td>-10.229</td>\n      <td>1</td>\n      <td>0.0520</td>\n      <td>0.000022</td>\n      <td>0.0806</td>\n      <td>0.1500</td>\n      <td>124.852</td>\n      <td>277506</td>\n      <td>4</td>\n    </tr>\n  </tbody>\n</table>\n</div>"
     },
     "metadata": {},
     "execution_count": 131
    }
   ],
   "source": [
    "byron = blends.iloc[0]\n",
    "byron_blend = analysePlaylist(byron['creator'], byron['id'])\n",
    "byron_blend"
   ]
  },
  {
   "cell_type": "code",
   "execution_count": 135,
   "metadata": {},
   "outputs": [],
   "source": [
    "byron_blend.to_csv(\"Spreadsheets/Playlists/Byronheart + Gadha.csv\", index=False)"
   ]
  },
  {
   "cell_type": "code",
   "execution_count": 140,
   "metadata": {},
   "outputs": [
    {
     "output_type": "stream",
     "name": "stdout",
     "text": [
      "Requesting track 0/1\n"
     ]
    }
   ],
   "source": [
    "test = getTracklistFeatures(['0IcSLT53eE07Jmok64Ppo3'])\n",
    "test.to_csv('../Other/test.csv', index=False)"
   ]
  },
  {
   "cell_type": "code",
   "execution_count": 137,
   "metadata": {},
   "outputs": [],
   "source": [
    "sp = getToken()"
   ]
  },
  {
   "cell_type": "code",
   "execution_count": null,
   "metadata": {},
   "outputs": [],
   "source": []
  }
 ]
}