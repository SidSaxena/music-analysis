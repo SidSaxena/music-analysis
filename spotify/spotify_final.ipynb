{
 "metadata": {
  "language_info": {
   "codemirror_mode": {
    "name": "ipython",
    "version": 3
   },
   "file_extension": ".py",
   "mimetype": "text/x-python",
   "name": "python",
   "nbconvert_exporter": "python",
   "pygments_lexer": "ipython3",
   "version": "3.8.2-final"
  },
  "orig_nbformat": 2,
  "kernelspec": {
   "name": "python38264bitbf0b7ef9fc924619ab877e804e46f0ca",
   "display_name": "Python 3.8.2 64-bit"
  }
 },
 "nbformat": 4,
 "nbformat_minor": 2,
 "cells": [
  {
   "cell_type": "code",
   "execution_count": null,
   "metadata": {},
   "outputs": [],
   "source": [
    "# spotipy modules\n",
    "import spotipy\n",
    "import spotipy.util as util\n",
    "from spotipy.oauth2 import SpotifyClientCredentials"
   ]
  },
  {
   "cell_type": "code",
   "execution_count": null,
   "metadata": {},
   "outputs": [],
   "source": [
    "# other libraries\n",
    "from decouple import config \n",
    "import time"
   ]
  },
  {
   "cell_type": "code",
   "execution_count": null,
   "metadata": {},
   "outputs": [],
   "source": [
    "# visualisation libraries\n",
    "import pandas as pd\n",
    "import numpy as np \n",
    "import seaborn as sns\n",
    "import matplotlib.pyplot as plt\n",
    "%matplotlib inline"
   ]
  },
  {
   "cell_type": "code",
   "execution_count": null,
   "metadata": {},
   "outputs": [],
   "source": [
    "# environment variables\n",
    "client_id = config('SPOTIPY_CLIENT_ID')\n",
    "client_secret = config('SPOTIPY_CLIENT_SECRET')\n",
    "redirect_uri = 'http://google.com/'"
   ]
  },
  {
   "cell_type": "code",
   "execution_count": null,
   "metadata": {},
   "outputs": [],
   "source": [
    "# authorization\n",
    "client_credentials_manager = SpotifyClientCredentials(client_id=client_id, client_secret=client_secret)"
   ]
  },
  {
   "cell_type": "code",
   "execution_count": null,
   "metadata": {},
   "outputs": [],
   "source": [
    "username = 'sidsaxena'"
   ]
  },
  {
   "cell_type": "code",
   "execution_count": null,
   "metadata": {},
   "outputs": [],
   "source": [
    "scope = 'ugc-image-upload user-read-playback-state user-modify-playback-state user-read-currently-playing streaming app-remote-control user-read-email user-read-private playlist-read-collaborative playlist-modify-public playlist-read-private playlist-modify-private user-library-modify user-library-read user-top-read user-read-playback-position user-read-recently-played user-follow-read user-follow-modify'"
   ]
  },
  {
   "cell_type": "code",
   "execution_count": null,
   "metadata": {},
   "outputs": [],
   "source": [
    "try:\n",
    "    \n",
    "    token = util.prompt_for_user_token(username=username, scope=scope, client_id=client_id, client_secret= client_secret, redirect_uri=redirect_uri)\n",
    "    sp = spotipy.Spotify(auth=token)\n",
    "\n",
    "except:\n",
    "\n",
    "    print('Token not accessible for user: ', username)\n"
   ]
  },
  {
   "cell_type": "code",
   "execution_count": null,
   "metadata": {},
   "outputs": [],
   "source": [
    "def getUserPlaylists(user):\n",
    "\n",
    "    name_list = []\n",
    "    id_list = []\n",
    "    creator_list = []\n",
    "    offset=0\n",
    "    playlists = []\n",
    "\n",
    "    while True:\n",
    "        results = sp.user_playlists(user, offset=offset)\n",
    "        playlists += results['items']\n",
    "\n",
    "        if results['next'] is not None:\n",
    "            offset += 50\n",
    "        else:\n",
    "            break\n",
    "\n",
    "    for playlist, _ in enumerate(playlists):\n",
    "        name_list.append(playlists[playlist]['name'])\n",
    "        id_list.append(playlists[playlist]['id'])\n",
    "        creator_list.append(playlists[playlist]['owner']['id'])\n",
    "    \n",
    "    creator_id_tuple = tuple(zip(creator_list, id_list))\n",
    "\n",
    "    playlist_dict = dict(name = name_list, id = id_list, creator = creator_list)\n",
    "        \n",
    "    playlist_df = pd.DataFrame(playlist_dict)\n",
    "    multiple_playlist_dict = list(creator_id_tuple)\n",
    "    playlist_df.to_csv('{}-playlists.csv'.format(user))\n",
    "    return playlist_df, multiple_playlist_dict"
   ]
  },
  {
   "cell_type": "code",
   "execution_count": null,
   "metadata": {},
   "outputs": [],
   "source": [
    "def getTrackIds(user, playlist_id):\n",
    "    \"\"\"get track ids from a playlist and return id list.\"\"\"\n",
    "    \n",
    "    ids = []\n",
    "    playlist = sp.user_playlist(user, playlist_id)\n",
    "    for item in playlist['tracks']['items']:\n",
    "        track = item['track']\n",
    "        ids.append(track['id'])\n",
    "    return ids\n",
    "\n",
    "# ids = getTrackIds(my_user, vfar_id)"
   ]
  },
  {
   "cell_type": "code",
   "execution_count": null,
   "metadata": {},
   "outputs": [],
   "source": [
    "def getTrackIdsFromAlbum(album_id):\n",
    "\n",
    "    tracklist = []\n",
    "    track_id_list = []\n",
    "\n",
    "    results = sp.album_tracks(album_id)\n",
    "    tracks = results['items']\n",
    "    album_results = sp.album(album_id)\n",
    "    album_name = album_results['name'] \n",
    "    album_tracks = album_results['tracks']\n",
    "    for track, _ in enumerate(tracks):\n",
    "        tracklist.append(tracks[track]['name'])\n",
    "        track_id_list.append(tracks[track]['id']) \n",
    "\n",
    "    return track_id_list"
   ]
  },
  {
   "cell_type": "code",
   "execution_count": null,
   "metadata": {},
   "outputs": [],
   "source": [
    "def analysePlaylist(creator, playlist_id):\n",
    "    \n",
    "    tracks = []\n",
    "    offset = 0\n",
    "    # Create empty dataframe\n",
    "    playlist_features_list = ['artist','album','track_name', 'track_id', 'popularity', 'genres', 'danceability','energy','key','loudness','mode', 'speechiness','instrumentalness','liveness','valence','tempo', 'duration_ms','time_signature']\n",
    "    \n",
    "    playlist_df = pd.DataFrame(columns = playlist_features_list)\n",
    "    \n",
    "    # Loop through every track in the playlist, extract features and append the features to the playlist df\n",
    "        \n",
    "    while True:\n",
    "        results = sp.user_playlist_tracks(creator, playlist_id, offset=offset)\n",
    "        tracks += results['items']\n",
    "\n",
    "        if results['next'] is not None:\n",
    "            offset += 100\n",
    "        else:\n",
    "            break\n",
    "\n",
    "    for track in tracks:       \n",
    "        \n",
    "        artist = track['track']['album']['artists'][0]\n",
    "        artist_id = artist['id']\n",
    "        genre = sp.artist(artist_id)\n",
    "        genres = genre['genres']\n",
    "\n",
    "        playlist_features = {}        \n",
    "        playlist_features['artist'] = artist['name']\n",
    "        playlist_features['album'] = track['track']['album']['name']\n",
    "        playlist_features['track_name'] = track['track']['name']\n",
    "        playlist_features['track_id'] = track['track']['id']\n",
    "        playlist_features['popularity'] = track['track']['popularity']\n",
    "        playlist_features['genres'] = [genres]\n",
    "    \n",
    "        # Get audio features\n",
    "        time.sleep(0.5)\n",
    "        audio_features = sp.audio_features(playlist_features['track_id'])[0]\n",
    "        for feature in playlist_features_list[6:]:\n",
    "            playlist_features[feature] = audio_features[feature]\n",
    "        \n",
    "        # Concat the dfs\n",
    "        track_df = pd.DataFrame(playlist_features, index = [0])\n",
    "        playlist_df = pd.concat([playlist_df, track_df], ignore_index = True)\n",
    "    \n",
    "    playlist_df.to_csv('{}-{}.csv'.format(creator, playlist_id))\n",
    "    return playlist_df"
   ]
  },
  {
   "cell_type": "code",
   "execution_count": null,
   "metadata": {},
   "outputs": [],
   "source": [
    "def analysePlaylistsList(playlist_tuple_list):\n",
    "    \"\"\"function to analyse multiple playlists\"\"\"\n",
    "\n",
    "    for id, _ in enumerate(playlist_tuple_list):\n",
    "        playlist_df = analysePlaylist(playlist_tuple_list[id][0], playlist_tuple_list[id][1])\n",
    "        # playlist_df['playlist'] = PLAYLIST NAME\n",
    "\n",
    "        if id == 0:\n",
    "            playlist_tuple_df = playlist_df\n",
    "        else:\n",
    "            playlist_tuple_df = pd.concat([playlist_tuple_df, playlist_df], ignore_index=True)\n",
    "\n",
    "    playlist_tuple_df.to_csv('multiple playlists.csv')\n",
    "    return playlist_tuple_df"
   ]
  },
  {
   "cell_type": "code",
   "execution_count": null,
   "metadata": {},
   "outputs": [],
   "source": [
    "def getDiscography(name):\n",
    "    \"\"\"get discography of an artist by searching its name and return a dataframe and genres in a seperate variable\"\"\"\n",
    "\n",
    "    release_date_list = []\n",
    "    track_id_list = []   \n",
    "    tracklist = []\n",
    "    album_list = []    \n",
    "    track_album_dict = {}\n",
    "\n",
    "    album_names = []\n",
    "    album_id = []\n",
    "    album_release_date = []\n",
    "\n",
    "    single_names = []\n",
    "    single_id = []\n",
    "    single_release_date = []\n",
    "\n",
    "    results = sp.search(q=name, type='artist')\n",
    "    artist = results['artists']['items'][0]\n",
    "\n",
    "    artist_name = artist['name']\n",
    "    artist_id = artist['id']\n",
    "    artist_genres = artist['genres']\n",
    "\n",
    "    artist_albums = sp.artist_albums(artist_id, album_type='album')\n",
    "    albums = artist_albums['items']\n",
    "    \n",
    "    while artist_albums['next']:\n",
    "        artist_albums = sp.next(artist_albums)\n",
    "        albums.extend(artist_albums['items'])\n",
    "\n",
    "    for album in albums:\n",
    "        album_names.append(album['name'])\n",
    "        album_id.append(album['id'])\n",
    "        album_release_date.append(album['release_date'])\n",
    "\n",
    "    \n",
    "    artist_singles = sp.artist_albums(artist_id, album_type='single')\n",
    "    singles = artist_singles['items']\n",
    "    \n",
    "    while artist_singles['next']:\n",
    "        artist_singles = sp.next(artist_singles)\n",
    "        singles.extend(artist_singles['items'])\n",
    "\n",
    "    for single in singles:\n",
    "        single_names.append(single['name'])\n",
    "        single_id.append(single['id'])\n",
    "        single_release_date.append(single['release_date'])\n",
    "\n",
    "\n",
    "    # MUCH BETTER CODE but need to figure out a way to append release date.\n",
    "    # for album in album_id:\n",
    "    #     tracks = sp.album_tracks(album)\n",
    "    #     tracks = tracks['items']\n",
    "    #     album_name = sp.album(album)['name']\n",
    "    #     for track in tracks:\n",
    "    #         track_name = track['name']\n",
    "    #         track_id_list.append(track['id'])\n",
    "    #         tracklist.append(track_name)\n",
    "    #         album_list.append(album_name)\n",
    "    #         release_date_list.append(album_release_date[])\n",
    "\n",
    "\n",
    "    for album, _ in enumerate(album_id):\n",
    "        tracks = sp.album_tracks(album_id[album])\n",
    "        tracks = tracks['items']\n",
    "        album_name = sp.album(album_id[album])['name'] \n",
    "        for track, _ in enumerate(tracks):\n",
    "            track_name = tracks[track]['name']\n",
    "            track_id_list.append(tracks[track]['id']) \n",
    "            tracklist.append(track_name)\n",
    "            album_list.append(album_name)\n",
    "            release_date_list.append(album_release_date[album])\n",
    "    \n",
    "    for single, _ in enumerate(single_id):\n",
    "        tracks = sp.album_tracks(single_id[single])\n",
    "        tracks = tracks['items']\n",
    "        album_name = sp.album(single_id[single])['name'] \n",
    "        for track, _ in enumerate(tracks):\n",
    "            single_name = tracks[track]['name']\n",
    "            track_id_list.append(tracks[track]['id']) \n",
    "            tracklist.append(single_name)\n",
    "            album_list.append(album_name)\n",
    "            release_date_list.append(single_release_date[single])\n",
    "\n",
    "    \n",
    "\n",
    "\n",
    "    track_album_dict = {'track': tracklist, 'album': album_list, 'release_date': release_date_list, 'id': track_id_list}  \n",
    "    df = pd.DataFrame(track_album_dict)\n",
    "    df.to_csv('{}-discog.csv'.format(artist['name']))\n",
    "    return df"
   ]
  },
  {
   "cell_type": "code",
   "execution_count": null,
   "metadata": {},
   "outputs": [],
   "source": [
    "def getTrackFeatures(id):\n",
    "    \"\"\"get features of a track by its ID.\"\"\"\n",
    "    \n",
    "    meta = sp.track(id)\n",
    "    features = sp.audio_features(id)\n",
    "\n",
    "    #meta\n",
    "    name = meta['name']\n",
    "    album = meta['album']['name']\n",
    "    artist = meta['album']['artists'][0]['name']\n",
    "    artist_id = meta['album']['artists'][0]['id']\n",
    "    genre = sp.artist(artist_id)['genres']\n",
    "    release_date = meta['album']['release_date']\n",
    "    length = meta['duration_ms']\n",
    "    popularity = meta['popularity']\n",
    "\n",
    "    #features\n",
    "    danceability = features[0]['danceability']\n",
    "    energy = features[0]['energy']\n",
    "    key = features[0]['key']\n",
    "    loudness = features[0]['loudness']\n",
    "    mode = features[0]['mode']\n",
    "    speechiness = features[0]['speechiness']\n",
    "    acousticness = features[0]['acousticness']\n",
    "    instrumentalness = features[0]['instrumentalness']\n",
    "    liveness = features[0]['liveness']\n",
    "    valence = features[0]['valence']\n",
    "    tempo = features[0]['tempo']\n",
    "    time_signature = features[0]['time_signature']\n",
    "\n",
    "    track = [name, album, artist, release_date, genre, length, popularity,danceability, energy, key, loudness, mode, speechiness, acousticness, instrumentalness, liveness, valence, tempo, time_signature]\n",
    "\n",
    "    return track"
   ]
  },
  {
   "cell_type": "code",
   "execution_count": null,
   "metadata": {},
   "outputs": [],
   "source": [
    "def getTracklistFeatures(tracklist):\n",
    "    \"\"\"get features of multiple tracks from a list of IDs and return a dataframe\"\"\"\n",
    "\n",
    "  # loop over track ids \n",
    "    tracks = []\n",
    "    for id in range(len(tracklist)):\n",
    "        track = getTrackFeatures(tracklist[id])\n",
    "        tracks.append(track)\n",
    "\n",
    "  # create dataset\n",
    "    df = pd.DataFrame(tracks, columns = ['name', 'album', 'artist', 'release_date', 'genres', 'length', 'popularity', 'danceability', 'energy', 'key', 'loudness', 'mode', 'speechiness', 'acousticness', 'instrumentalness', 'liveness', 'valence', 'tempo', 'time_signature'])\n",
    "    df.to_csv(\"tracklist-features.csv\", sep = ',')\n",
    "    return df"
   ]
  },
  {
   "cell_type": "code",
   "execution_count": null,
   "metadata": {},
   "outputs": [],
   "source": [
    "def getUriFromDf(df):\n",
    "    saved_uris = []\n",
    "    artist_names = df['artist'].values\n",
    "    track_names = df['track'].values\n",
    "\n",
    "    for i in range(len(artist_names)):\n",
    "        artist = artist_names[i]\n",
    "        track = track_names[i]\n",
    "        print(f'{i} - {artist}: {track}')\n",
    "        q = 'artist:{} track: {}'.format(artist, track)\n",
    "        results = sp.search(q=q, limit=1, type='track')\n",
    "        if len(results['tracks']['items']) > 0:\n",
    "            uri = results['tracks']['items'][0]['uri']\n",
    "        else: \n",
    "            i += 1\n",
    "        saved_uris.append(uri)\n",
    "        \n",
    "    return saved_uris"
   ]
  },
  {
   "cell_type": "code",
   "execution_count": 64,
   "metadata": {
    "tags": [
     "outputPrepend"
    ]
   },
   "outputs": [
    {
     "output_type": "stream",
     "name": "stdout",
     "text": " Feder: Goodbye (feat. Lyse) - Radio Edit\n15254 - Maroon 5: Moves Like Jagger - Studio Recording From The Voice Performance\n15255 - Marshmello: Alone\n15256 - Sean Paul: Got 2 Luv U (feat. Alexis Jordan)\n15257 - Ambient Generation: Passive Aggressive\n15258 - Raul Orellana: Entre dos aguas\n15259 - Andrea Oliva: Decomposing\n15260 - Melosense: Connected - Original Mix\n15261 - Russ Liquid: Opus One\n15262 - Cisum: Turn Left\n15263 - Tosca: Suzuki\n15264 - Solid Sessions: Janeiro - Chiller Twist Blue Line Remix\n15265 - Klems: A Night In Paris\n15266 - deadmau5: Creep\n15267 - Chicane: Offshore\n15268 - Feynman: Reflection\n15269 - Alesso: Destinations\n15270 - Anki: Interlude; 22\n15271 - Ólafur Arnalds: Raddir - Island Songs III\n15272 - Orbital: The Box - Part 1\n15273 - Soundprank: Harbour - Original Mix\n15274 - Pulshar: Nospheratu (Echospace Reduction)\n15275 - 4lienetic: Nos Couleurs - Original Mix\n15276 - Aeuria: The Meantime (Part. 3)\n15277 - keeno: Fire Tree\n15278 - LVNDSCAPE: X\n15279 - King Arthur: Believe In The Kingdom\n15280 - Cubicolor: Intro\n15281 - Noble Oak: Dream-spark\n15282 - Robert Nickson: Spiral - Chillout Mix\n15283 - Markus Schulz: Code 10-66\n15284 - Ohmna: The Sun 'Ll Shine - Bali Ambient Mix\n15285 - Grabbitz: 7.6.14 (Intro)\n15286 - Energy 52: Cafe Del Mar - Michael Woods Remix\n15287 - Envio: Touched By The Sun - Rusch & Elusive’s Chill Out Mix\n15288 - A.Squared: Overseas - Radio Mix\n15289 - The Kinetic Movement: High Buildings, Small People - Original\n15290 - St.Petersburg Chamber Choir: Rachmaninov: Vespers \"Bogoroditse Devo\" (All-Night Vigil) - Alberto Bof Rework\n15291 - Year 200X: Ducktales (The Moon)\n15292 - Afrojack: Gone (feat. Ty Dolla $ign)\n15293 - Crywolf: Runaway - Acoustic Version\n15294 - Amy B: Blue Bird - Naruto Shippuden\n15295 - Eddie Van Der Meer: Krone (OST From 'Guilty Crown')\n15296 - Eddie Van Der Meer: Signal (OP From \"91 Days\")\n15297 - Swedish House Mafia: Don't You Worry Child (Radio Edit) [feat. John Martin]\n15298 - T.O.L.D.: Lucifer's Eyes\n15299 - Lights & Motion: Home\n15300 - Swedish House Mafia: One (Radio Edit)\n15301 - Eden Project: Man Down\n15302 - Blue: Best in Me\n15303 - IHF: Evolve\n15304 - The BlackWhite: All Of Your Voices\n15305 - yates: CAKE\n15306 - smnm: Think Twice\n15307 - smnm: Gravity\n15308 - Two Can: Holding On To You feat. Savoi - Gianni Marino Remix\n15309 - Lights & Motion: This Explosion Within\n15310 - Blackbear: Sniffing Vicodin in Paris (Danny Olson Remix) [feat. Danny Olson]\n15311 - Enkídú: Falling (Illenium & Said the Sky Remix)\n15312 - Eden: Nocturne (Pierce Fulton Remix)\n15313 - Blue: One Love\n15314 - frnd: Friend - Steve James Remix\n15315 - Førd: Oblivion (feat. Rya Park)\n15316 - Krewella: Team\n15317 - I The Ai: Revolver (I the Ai Remix)\n15318 - Zedd: Papercut - Grey Remix\n15319 - Hardwell: Run Wild - Dr Phunk Remix\n15320 - Ryder: Ruins (Bkaye X Ben Maxwell Remix)\n15321 - KISNOU: Same Destiny\n15322 - luhx.: no rush.\n15323 - Daniel Ferri: Everything's Not Lost\n15324 - khexi: Wake Up (Live)\n15325 - treyvfx: Danger Silent - 9909\n15326 - Owl City: Dreams and Disasters\n15327 - Blackmill: Spirit Of Life\n15328 - Kodaline: All I Want\n15329 - MrSuicideSheep: Chad Valley - Labasa\n15330 - Crywolf: St. Patrick (PVRIS Cover)\n15331 - Ane Brun: All My Tears\n15332 - Urbandawn: Prime Expansion\n15333 - Kevin Abstract: empty\n15334 - Incubus: Dig\n15335 - Incubus: Stellar\n15336 - Crywolf: Anachronism\n15337 - GABE THE DOG: The Final Countdown\n15338 - GABE THE DOG: What is Dog (Haddaway)\n15339 - Sufjan Stevens: The Man of Metropolis Steals Our Hearts\n15340 - Bully: Trying\n15341 - Hilltop Hoods: The Nosebleed Section\n15342 - Max Frost: White Lies\n15343 - Summer Camp: Losing My Mind\n15344 - Daniel Ferri: Hymn For The Weekend\n15345 - Daniel Ferri: Adventure Of A Lifetime\n15346 - Daniel Ferri: Uptown Funk\n15347 - Amy Schumer Stand Up: Women Who Kill\n15348 - IHF: Senseless (feat. Jenni Potts)\n15349 - Listenbee: Save Me\n15350 - Crywolf: Runaway\n15351 - 「Boku dake ga Inai Machi」ED: Sore wa Chiisana Hikari no Youna それは小さな光のような~ (piano solo) // Sayuri\n15352 - Eden: Catch Me If You Can (Bonus Track)\n15353 - Lincoln Jesser: Something Right\n15354 - Echos: Tomorrow\n15355 - Polarheart: Dystopia\n15356 - Hugh: Direction\n15357 - Say Lou Lou: Instant Crush (Daft Punk Cover)\n15358 - Stephen: Mr. Man\n15359 - Eden: Rock And Roll\n15360 - MØ: Drum\n15361 - Astronomyy: Ocean Eyes (Astronomyy Edit)\n15362 - aru54: Fullmetal Alchemist Brotherhood - Again\n15363 - Haywyre: Prelude to the Voyage\n15364 - Enzalla: Fireflies - Original\n15365 - Direct: So Sure\n15366 - Eden Project: woah\n15367 - Brenton Mattheus: Invisible Waves\n15368 - Enzalla: Alive - Original Mix\n15369 - LoneMoon: Thoughts\n15370 - Umpire: Rewind\n15371 - Noxive: Collapse\n15372 - Enzalla: Cobalt\n15373 - ABSRDST: On The Lip\n15374 - Hush: Withered\n15375 - Direct: One Step Forward\n15376 - Enzalla: Somewhere\n15377 - Hush: This Side Of Love\n15378 - Direct: Lonely Soul\n15379 - Ampyx: Leap of Faith\n15380 - Direct: With Me\n15381 - Said The Sky: Painted White - Original Mix\n15382 - Hush: October\n15383 - Enzalla: Sun\n15384 - Haywyre: Friction\n15385 - Dabin: Hold feat. Daniela Andrade - Mr FijiWiji Remix\n15386 - Grabbitz: A Walk to the Gallows\n15387 - Enzalla: All The Things\n15388 - Ampyx: Lmao\n15389 - A Himitsu: Lucid Dream\n15390 - Direct: Make Me Feel\n15391 - Enzalla: Spira\n15392 - Ampyx: What's to Come\n15393 - BH: Let Me Go (feat. Ashley Apollodor) - Original Mix\n15394 - Said The Sky: Everything\n15395 - Direct: False Dawn\n15396 - Hush: What Should I Do\n15397 - Enzalla: Drown - Original Mix\n15398 - ABSRDST: Life Slices\n15399 - Ampyx: Shoot for the Stars\n15400 - Direct: Through the Night (Direct Remix)\n15401 - LoneMoon: Subway\n15402 - Noxive: Silver\n15403 - Hush: Naked and Weightless\n15404 - Ampyx: Resurrection (Bonus Track)\n15405 - Direct: Parallax\n15406 - Enzalla: Sad Tune\n15407 - Jonah Wei Haas: Let U Go\n15408 - Draper: Aftermath\n15409 - Noxive: Asylum\n15410 - Direct: Time to Say Goodbye\n15411 - LoneMoon: no masks (ft. irahnik)\n15412 - Laura Brehm: Don't Wait\n15413 - Direct: Wanna Know You (feat. Holly Drummond)\n15414 - Ampyx: Skyfall\n15415 - Direct: Lark\n15416 - Mendum: Rain (feat. Brenton Mattheus)\n15417 - Direct: Memory (feat. Holly Drummond)\n15418 - Adam Tell: Death By Nostalgia\n15419 - Direct: Rift\n15420 - Enzalla: Pillar of Cocoon - Original\n15421 - Twilight Meadow: Homeward Bound\n15422 - Jonah Wei Haas: Sidonia (Feat. Reuben Gingrich)\n15423 - LoneMoon: Contemplations [prod. YUNGZ4N3]\n15424 - Direct: Scars (feat. Devin Santi)\n15425 - Ampyx: While You're Gone\n15426 - Enzalla: Amaranth\n15427 - LoneMoon: Mirror\n15428 - Echos: Haunt\n15429 - Janee: Lake\n15430 - James Hersey: Juliet (Startrampe Live Session)\n15431 - Lights & Motion: Lights & Motion - Home\n15432 - Lights & Motion: Lights & Motion - Aerials\n15433 - Unday Records: Hydrogen Sea - In Dreams\n15434 - Motsa: Petrichor (feat. Sophie Lindinger)\n15435 - Tilka: Missing Home\n15436 - Cape Cub: Swim - Rami Remix\n15437 - Imagined Herbal Flows: Beyond The Sun\n15438 - John Mayer: Clarity - Live at C.W. Mitchell Pavillion\n15439 - Red Hot Chili Peppers: Otherside (Lyrics)\n15440 - Red Hot Chili Peppers: Snow (Hey Oh) (Lyrics)\n15441 - Crywolf: Stomach It ft. EDEN\n15442 - SevnthWonder: Higher Love (feat. Tokyo Megaplex & Stel Leo)\n15443 - Jakoban & D!avolo: Stay (feat. Gaby Henshaw)\n15444 - Flume: Say It (feat. Tove Lo) (Illenium Remix)\n15445 - MrSuicideSheep: A R I Z O N A - I Was Wrong\n15446 - brollymusic: They Run, They Hide\n15447 - Muse: Starlight - AOL session\n15448 - Enya: Metamorphosis\n15449 - 'Pictures' Official Video (HD): Benjamin Francis Leftwich\n15450 - 'Atlas Hands' Official Video (HD): Benjamin Francis Leftwich\n15451 - '1904': Benjamin Francis Leftwich\n15452 - 'Butterfly Culture' (HD): Benjamin Francis Leftwich\n15453 - 'Snowship': Benjamin Francis Leftwich\n15454 - 'Sophie' (HD): Benjamin Francis Leftwich\n15455 - 'Maps' (HD): Benjamin Francis Leftwich\n15456 - 'Don't Go Slow' (HD): Benjamin Francis Leftwich\n15457 - Vancouver Sleep Clinic: (Aftermath)\n15458 - Credit: Hearts & Minds\n15459 - The Nicholas: Pocket (prod. San Holo)\n15460 - Muse: Survival (Live from stadium) (London Olympics 2012 - HDTV.1080i)\n15461 - Blackmill Feat. Veela: Let It Be\n15462 - Blackmill: Home\n15463 - Blackmill: City Lights\n15464 - The Cat Empire: Still Young\n15465 - Tycho: Awake - Com Truise Remix\n15466 - Lilly Ahlberg: Fade\n15467 - Cape Cub: Heat Of The Night\n15468 - Cape Cub: Closer\n15469 - Cape Cub: The Start\n15470 - Møme: Playground\n15471 - The Eden Project: Jupiter\n15472 - The Eden Project: Limitless\n15473 - Rameses B: I Need You\n15474 - Hazey Eyes: Need You\n15475 - Emmure: Word of Intulo (WORLD'S HARDEST GUITAR COVER)\n15476 - how to write an Alt: J song\n15477 - Just A Gent: Rolling Dice\n15478 - Muse: Knights Of Cydonia [Live From Wembley Stadium]\n15479 - Dabin: Touch feat. Daniela Andrade - Imagined Herbal Flows Remix\n15480 - Kozoro: Fantasy\n15481 - Witchburn: The Hunted\n15482 - The Glitch Mob: Can't Kill Us\n15483 - Freedom Fry: Shaky Ground (Feast. Remix)\n15484 - Kozah: Dream State\n15485 - Bright Lights: Runaway (feat. 3lau) (Xan Griffin Remix)\n15486 - Fakear: Song For Jo\n15487 - Creaky Jackals: High Tide (feat. WILD)\n15488 - Julie Bergan: Arigato\n15489 - Cade: Make You Feel Loved\n15490 - Draper: All I See (feat. Laura Brehm) (Kicks N Licks Remix)\n15491 - Tilka: Missing Home (feat. Always Never)\n15492 - Danrell: White Noise (feat. Ryder)\n15493 - Whethan: Can't Hide (feat. Ashe)\n15494 - KRNE x Ghasper: Fake Friends\n15495 - Jane XØ x Dannic: Undone\n15496 - Khamsin: Once (feat. Layna)\n15497 - Seven Lions X Illenium X Said The Sky: Rush Over Me (feat. HALIENE)\n15498 - Direct, MrFijiWiji & Holly Drummond: Trust In Me\n15499 - Gabbie June: American Dream (Not Your Dope Remix)\n15500 - Pluto X ye.: Feel The Fire (Breath Vocal Mix)\n15501 - Hydde & Hawkes: Ghost\n15502 - Gnash: I hate U, I love U (ft. Olivia O'Brien)\n15503 - Sufjan Stevens: Silent Night\n15504 - Sufjan Stevens: O Come O Come Emmanuel\n15505 - Sufjan Stevens: Go Nightly Cares\n15506 - Sufjan Stevens: Auld Lang Syne\n15507 - Sufjan Stevens: The Sleigh In The Moon\n15508 - digy: Tragedy (feat. Kirsch) (Indiginis Remix)\n15509 - Sufjan Stevens: In This Temple as in the Hearts of Man for Whom He Saved the Earth\n15510 - Sufjan Stevens: Decatur, or, Round of Applause for Your Stepmother!\n15511 - Sufjan Stevens: Prairie Fire That Wanders About\n15512 - Sufjan Stevens: To the Workers of the Rock River Valley Region, I Have an Idea Concerning Your Predicament, and It Involves an Inner Tube, Bath Mats, and 21 Able-bodied Men\n15513 - Sufjan Stevens: The Seer's Tower\n15514 - Sufjan Stevens: Jacksonville\n15515 - Speaker of the House: Speaker of the House x REMMI - Awake, As\n15516 - Unday Records: Hydrogen Sea - Beating Heart\n15517 - Unday Records: Hydrogen Sea - Leave A Mark\n15518 - Unday Records: Hydrogen Sea - Before I Go\n15519 - Unday Records: Hydrogen Sea - Walk Away Now\n15520 - MrSuicideSheep: Direct, Mr FijiWiji, & Holly Drummond -\n15521 - equimanthornn: Ergo Proxy - Monoral - Kiri\n15522 - Reaktion: Alone (ft. The Eden Project)\n15523 - Reaktion: Save Me (ft. The Eden Project)\n15524 - MitiS: Born - Original Mix\n15525 - Yuna: Crush\n15526 - Concerning the UFO Sighting Near Highland, Illinois: Sufjan Stevens\n15527 - Blue Foundation: Ghost (lyrics)\n15528 - Puppet & The Eden Project: The Fire\n15529 - The Eden Project: Lost\n15530 - The Eden Project: drowning\n15531 - The Eden Project: Fumes\n15532 - The Eden Project: XO\n15533 - MrSuicideSheep: XYLØ - Afterlife (Fareoh Remix)\n15534 - angelabechararadio: What the Water Gave Me\n15535 - Blue Foundation Official: Blue Foundation 'Eyes On Fire'\n15536 - MrSuicideSheep: Billie Eilish - Six Feet Under (Hazey Ey\n15537 - Andrew & Veda: Alive\n15538 - Nuni is a dork: [SnK] The Reluctant Heroes Piano Version\n15539 - Ursa Major: Falling\n15540 - Benjamin Francis Leftwich: Atlas Hands (Thomas Jack Remix)\n15541 - TELYKast: XYLØ - Dead End Love (TELYKast Remix)\n15542 - Raagalogik: Footprints\n15543 - Running Young: Out of Time\n15544 - brollymusic: Hollow Home Rd\n15545 - brollymusic: Under the Waves\n15546 - brollymusic: Coma\n15547 - brollymusic: Dragon Eyes\n15548 - brollymusic: I Need Heaven\n15549 - MrSuicideSheep: Mt. Wolf - Red (The Walton Hoax Remix)\n15550 - Muthi Nuraliya: Ally Kerr - The Sore Feet Song\n15551 - Billie Eilish: Ocean Eyes (Astronomyy Remix)\n15552 - Eden: End Credits (Feat. Leah Kelly)\n15553 - Seven Lions: Seven Lions x Illenium x Said The Sky -\n15554 - Marching Church: Heart Of Life\n15555 - Direct, Mr FijiWiji, & Holly Drummond: Trust In Me\n15556 - Your EDM's Collection: The Eden Project - Jupiter\n15557 - FES`: Steins;Gate - Gate Of Steiner (Piano)\n15558 - SiriusBaka: Steins;Gate - Believe Me\n15559 - Lights & Motion: Lights & Motion - Requiem\n15560 - Lights & Motion: Reanimation\n15561 - Zacky The Pianist: Shingeki no Kyojin ED -  Utsukushiki Zan\n15562 - Tori's: Utsukushiki Zankoku na Sekai\n15563 - Porter Robinson's SHELTER: Behind The Scenes with Crunchyroll\n15564 - MrSuicideSheep: Haux - Caves (Samuraii Remix)\n15565 - kiri: Monoral\n15566 - MrSuicideSheep: Skyvoice - Say Goodbye (feat. Noctilucen\n15567 - MrSuicideSheep: Meadowlark - Headlights\n15568 - bitbird: The Nicholas - Pocket (prod. San Holo)\n15569 - Etherwood: Cast Away\n15570 - Goldhouse: On & On\n15571 - MrSuicideSheep: Cruel Youth - Hatefuck\n15572 - brollymusic: Brolly - Ghost Town\n15573 - The Eden Project: Blank Space\n15574 - The Eden Project: Crazy in Love ft. Leah Kelly\n15575 - The Eden Project: Gone\n15576 - The Glitch Mob: Our Demons - Hive Remix\n15577 - The Glitch Mob: Beauty of the Unhidden Heart - Dean Grenier Remix\n15578 - The Glitch Mob: Mind of a Beast\n15579 - The Glitch Mob: Our Demons (feat. Aja Volkman) [Commentary]\n15580 - The Glitch Mob: Drive It Like You Stole It - DRINK THE S\n15581 - Sound Remedy: Daughter - Medicine (Sound Remedy Remix)\n15582 - Hegemon: Skrux - Essence\n15583 - FrenchAbsynthe: Nothing arrived acoustic - Villagers\n15584 - Shingeki no Kyojin: Levi Theme (Piano)\n15585 - Shingeki no Kyojin: Utsukushiki Zankoku na Sekai\n15586 - Sayuri: Sorewa Chiisana Hikarinoyouna\n15587 - Zacky The Pianist: Attack on Titan ED - Beautiful Cruel Wor\n15588 - ODESZA: Hey Now\n15589 - ODESZA: We Were Young\n15590 - ODESZA: Above The Middle\n15591 - ODESZA: I Want You\n15592 - MrSuicideSheep: MAX - Lights Down Low (Feat. gnash)\n15593 - Sunner Cracker: Complication - Durarara - Opening 2\n15594 - maripossa2: Attack On Titan - Ending Theme Full\n15595 - Subtact & Jay Rodger: Burden\n15596 - Eden: Catch Me If You Can\n15597 - Speaker of the House x REMMI: Awake, Asleep\n15598 - Progressive Spectrum: 08.理(ことわり)[Ri (Kotowari)] - OST Mushishi\n15599 - Jon Bellion: Overwhelming\n15600 - Jon Bellion: Woke The F*ck Up\n15601 - Echos: All I Want (Pierce Fulton Remix)\n15602 - Eden: Fumes (feat. gnash)\n15603 - Snow Patrol: Run (live @ Oxegen 2009)\n15604 - Muse: Assassin (Grand Omega Bosses Edit)\n15605 - Muse: In Your World [Live From Le Zenith] - Live\n15606 - Ella Vos: White Noise\n15607 - Illenium: It's All on U (feat. Liam O'Donnell)\n15608 - MrSuicideSheep: Billy Lockett - Wide Eyed (Vacant Remix)\n15609 - Dinka: Überflieger\n15610 - Brandyn Burnette: Brandyn Burnette x Win & Woo - Underneat\n15611 - The Script: Before the Worst\n15612 - Unday Records: Hydrogen Sea & I Will, I Swear - If The\n15613 - Hellberg: Slumber Party\n15614 - Hang Massive: Once Again - 2011 ( hang drum duo )\n15615 - Parov Stelar: Ragtime Cat feat. Lilja Bloom\n15616 - HAUX: Caves (Samuraii Remix)\n15617 - Crywolf: Neverland [feat. Charity Lane]\n15618 - MrSuicideSheep: Enzalla - Alive\n15619 - Eden: The Eden Project - drowning.\n15620 - MrSuicideSheep: AK - 52 Weeks\n15621 - MrSuicideSheep: Waventide - Dawn Light (ft. Farisha)\n15622 - Joe Mason: The Him ft. Oktavian - Balance (Joe Maso\n15623 - Lemaitre: Haze Feat Phoebe Ryan\n15624 - iamfuturebound: how do you feel?\n15625 - Jacm: JacM & Jaiden Stylez - To The Moon & Bac\n15626 - Tülpa: GNATS Ft. BLANKTS\n15627 - MrSuicideSheep: Kaizen X Shinigami - Bloom (CONVEX Remix\n15628 - MrSuicideSheep: 5 Million Subscriber Gaming Mix (by TheF\n15629 - MrSuicideSheep: Aruna - The End (WRLD Remix)\n15630 - MrSuicideSheep: Yoe Mase - PTSD\n15631 - brollymusic: Up in Lights\n15632 - The Vibe Guide: Henry Green - Electric Feel (Gespleu Dow\n15633 - MrSuicideSheep: Tony Anderson - Eyes Wide Open\n15634 - Bardyshere: Owl City - Beautiful Times ft. Lindsey S\n15635 - Hopium: Dreamers ft Phoebe Lou\n15636 - ODESZA: ODESZA - Light (feat. Little Dragon)\n15637 - MΛJIK: Save Me\n15638 - Polarheart: Enigma\n15639 - Brandyn Burnette x Win & Woo: Underneath\n15640 - Yoe Mase: Nothing More\n15641 - remmi: Awake, Asleep\n15642 - Crywolf: Cataclasm ( Stream)\n15643 - Illuminine featuring I will, I swear: Armor\n15644 - I will, i swear: Strings Of Gold\n15645 - I will, i swear: lakes\n15646 - I will, i swear: Better Than This\n15647 - I will, i swear: Summer Nights\n15648 - I will, i swear: fractures\n15649 - I will, i swear: Mess\n15650 - I will, i swear: Sleep\n15651 - I will, i swear: Long Days\n15652 - Filous: James Hersey - Coming Over (filous Remix\n15653 - MrSuicideSheep: Rameses B - Bae Bae\n15654 - Ishi: Mother Prism (Radio Edit)\n15655 - Ozymandiias: EDEN - Say Something\n15656 - MrSuicideSheep: Echos - Don't Let Me Go (Echos Remix)\n15657 - Lauv: Come Back Home\n15658 - MrSuicideSheep: Snow Dayy - The Tunnel (Said The Sky Rem\n15659 - MrSuicideSheep: Wildes - Bare\n15660 - MrSuicideSheep: Aether & Enzalla - Elysia's Heart\n15661 - MrSuicideSheep: ALMA - Watcher\n15662 - Kygo: Ed Sheeran - I See Fire (Kygo Remix)\n15663 - Thomas Jack.: Gabriel Rios - Gold (Thomas Jack Remix)\n15664 - MrSuicideSheep: BH - The Summit\n15665 - Didrick ▼: Porter Robinson - Sad Machine (Didrick &\n15666 - Vinyl Pinups: Gold Rays\n15667 - GAMPER & DADONI: Red Hot Chili Peppers - Californication\n15668 - Olivver the Kid: BBBlue\n15669 - Luxx: Luxx - Meant To Be Ft. Georgia Francis (\n15670 - MrSuicideSheep: Say Lou Lou - Instant Crush (Daft Punk C\n15671 - jessgillespie: Bastille - Flaws\n15672 - Jacm: Eels - I Need Some Sleep (JacM Remix)\n15673 - MrSuicideSheep: The Wombats - Greek Tragedy (Bastille Re\n15674 - Filous: The Glitch Mob - Our Demons (filous Remi\n15675 - OutForDelivery: Imagine Dragons - Demons // Cover // Wat\n15676 - MrSuicideSheep: TheFatRat - Time Lapse\n15677 - MrSuicideSheep: Milky Chance - Flashed Junk Mind (filous\n15678 - MrSuicideSheep: Sam Sure - Hunger\n15679 - OutForDelivery: Daft Punk - Instant Crush Cover // Watch\n15680 - Boehm: Boehm Feat. George Ogilvie - I Forget Wh\n15681 - MitiS: Life Of Sin (Original Mix) *Free Downloa\n15682 - Vybloom ∞: Vybloom - Body Full of Lightning\n15683 - MrSuicideSheep: James Hersey - What I've Done (Feast. Re\n15684 - Revealed Recordings: Paris Blohm & Taylr Renee - Left Behinds\n15685 - MrSuicideSheep: The Eden Project - XO\n15686 - OutForDelivery: Muse - Madness Cover with Vocals // WATC\n15687 - OutForDelivery: Muse - Supermassive Desires // One Man B\n15688 - Revealed Recordings: Jewelz & Scott Sparks feat. Quilla - Unl\n15689 - MrSuicideSheep: Crywolf - Shrike\n15690 - MrSuicideSheep: Nick Leng - Inside Your Mind (feat. Carm\n15691 - MrSuicideSheep: Mr FijiWiji - Yours Truly (feat. Danyka\n15692 - JFARR: jfarr - Ride (FREE DOWNLOAD)\n15693 - MISSIO: I've Lost My Way\n15694 - Xeuphoria: EDEN - End Credits (Xeuphoria Piano Ver.\n15695 - Lauv: Reforget (Lyrics)\n15696 - Forget Gravity: Infinite Spires\n15697 - Annie Eve: Southern\n15698 - PMtoyou: Turn Red\n15699 - Eskimo Recordings: NTEIBINT feat. Birsen - Riptide\n15700 - Eskimo Recordings: Hydrogen Sea - Wear Out (Mees Dierdorp R\n15701 - Unday Records: Hydrogen Sea - Voyager\n15702 - Unday Records: Hydrogen Sea - Worry\n15703 - Unday Records: Hydrogen Sea - Free Falling\n15704 - Unday Records: Hydrogen Sea - Lead Us Home\n15705 - Unday Records: Hydrogen Sea - Another Skin\n15706 - Hydrogen Sea: Worry\n15707 - Tsar B: Escalate\n15708 - Hydrogen Sea: Only Oleanders\n15709 - Hydrogen Sea: Wear Out\n15710 - Jacm: Bon Iver - Perth (JacM Chillstep Remix)\n15711 - MrSuicideSheep: Yoe Mase - Snow Ghosts\n"
    }
   ],
   "source": []
  },
  {
   "cell_type": "code",
   "execution_count": null,
   "metadata": {
    "tags": []
   },
   "outputs": [],
   "source": [
    "# my_playlists_df, my_playlists_list = getUserPlaylists(username)"
   ]
  },
  {
   "cell_type": "code",
   "execution_count": null,
   "metadata": {},
   "outputs": [],
   "source": [
    "scrobbles_unique = pd.read_csv('../lastfm/Spreadsheets/SidSaxena_unique_scrobbles_2020-08-25.csv')"
   ]
  },
  {
   "cell_type": "code",
   "execution_count": null,
   "metadata": {
    "tags": [
     "outputPrepend"
    ]
   },
   "outputs": [],
   "source": [
    "# scrobbles_uri = getUriFromDf(scrobbles_unique)"
   ]
  },
  {
   "cell_type": "code",
   "execution_count": 70,
   "metadata": {},
   "outputs": [],
   "source": [
    "scrobbles_uri = saved_uris"
   ]
  },
  {
   "cell_type": "code",
   "execution_count": 73,
   "metadata": {},
   "outputs": [
    {
     "output_type": "execute_result",
     "data": {
      "text/plain": "15712"
     },
     "metadata": {},
     "execution_count": 73
    }
   ],
   "source": [
    "len(scrobbles_uri)"
   ]
  },
  {
   "cell_type": "code",
   "execution_count": 69,
   "metadata": {},
   "outputs": [],
   "source": [
    "# np.savetxt(\"scrobbles_uri_unique.csv\", saved_uris, delimiter=\",\", fmt='%s')"
   ]
  }
 ]
}