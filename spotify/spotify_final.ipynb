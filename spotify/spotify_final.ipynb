{
 "metadata": {
  "language_info": {
   "codemirror_mode": {
    "name": "ipython",
    "version": 3
   },
   "file_extension": ".py",
   "mimetype": "text/x-python",
   "name": "python",
   "nbconvert_exporter": "python",
   "pygments_lexer": "ipython3",
   "version": "3.8.2-final"
  },
  "orig_nbformat": 2,
  "kernelspec": {
   "name": "python_defaultSpec_1598629058730",
   "display_name": "Python 3.8.2 64-bit"
  }
 },
 "nbformat": 4,
 "nbformat_minor": 2,
 "cells": [
  {
   "cell_type": "code",
   "execution_count": 1,
   "metadata": {},
   "outputs": [],
   "source": [
    "# spotipy modules\n",
    "import spotipy\n",
    "import spotipy.util as util\n",
    "from spotipy.oauth2 import SpotifyClientCredentials"
   ]
  },
  {
   "cell_type": "code",
   "execution_count": 2,
   "metadata": {},
   "outputs": [],
   "source": [
    "# other libraries\n",
    "from decouple import config \n",
    "import time\n",
    "from IPython.core.display import clear_output\n",
    "import csv\n",
    "from itertools import chain"
   ]
  },
  {
   "cell_type": "code",
   "execution_count": 3,
   "metadata": {},
   "outputs": [],
   "source": [
    "# visualisation libraries\n",
    "import pandas as pd\n",
    "import numpy as np \n",
    "import seaborn as sns\n",
    "import matplotlib.pyplot as plt\n",
    "%matplotlib inline"
   ]
  },
  {
   "cell_type": "code",
   "execution_count": 4,
   "metadata": {},
   "outputs": [],
   "source": [
    "# environment variables\n",
    "client_id = config('SPOTIPY_CLIENT_ID')\n",
    "client_secret = config('SPOTIPY_CLIENT_SECRET')\n",
    "redirect_uri = 'http://google.com/'"
   ]
  },
  {
   "cell_type": "code",
   "execution_count": 5,
   "metadata": {},
   "outputs": [],
   "source": [
    "# authorization\n",
    "client_credentials_manager = SpotifyClientCredentials(client_id=client_id, client_secret=client_secret)"
   ]
  },
  {
   "cell_type": "code",
   "execution_count": 6,
   "metadata": {},
   "outputs": [],
   "source": [
    "username = 'sidsaxena'"
   ]
  },
  {
   "cell_type": "code",
   "execution_count": 7,
   "metadata": {},
   "outputs": [],
   "source": [
    "scope = 'ugc-image-upload user-read-playback-state user-modify-playback-state user-read-currently-playing streaming app-remote-control user-read-email user-read-private playlist-read-collaborative playlist-modify-public playlist-read-private playlist-modify-private user-library-modify user-library-read user-top-read user-read-playback-position user-read-recently-played user-follow-read user-follow-modify'"
   ]
  },
  {
   "cell_type": "code",
   "execution_count": 8,
   "metadata": {},
   "outputs": [],
   "source": [
    "def getToken():\n",
    "    try:\n",
    "\n",
    "        token = util.prompt_for_user_token(username=username, scope=scope, client_id=client_id, client_secret= client_secret, redirect_uri=redirect_uri, cache_path='/home/sid/development/python/music-analysis/spotify/.cache-sidsaxena')\n",
    "        sp = spotipy.Spotify(auth=token)\n",
    "\n",
    "    except:\n",
    "        print('Token not accessible for user: ', username)\n",
    "    return sp"
   ]
  },
  {
   "cell_type": "code",
   "execution_count": 9,
   "metadata": {},
   "outputs": [],
   "source": [
    "sp = getToken()"
   ]
  },
  {
   "cell_type": "code",
   "execution_count": 10,
   "metadata": {},
   "outputs": [],
   "source": [
    "def getUserPlaylists(user):\n",
    "\n",
    "    name_list = []\n",
    "    id_list = []\n",
    "    creator_list = []\n",
    "    offset=0\n",
    "    playlists = []\n",
    "\n",
    "    while True:\n",
    "        results = sp.user_playlists(user, offset=offset)\n",
    "        playlists += results['items']\n",
    "\n",
    "        if results['next'] is not None:\n",
    "            offset += 50\n",
    "        else:\n",
    "            break\n",
    "\n",
    "    for playlist, _ in enumerate(playlists):\n",
    "        name_list.append(playlists[playlist]['name'])\n",
    "        id_list.append(playlists[playlist]['id'])\n",
    "        creator_list.append(playlists[playlist]['owner']['id'])\n",
    "    \n",
    "    creator_id_tuple = tuple(zip(creator_list, id_list))\n",
    "\n",
    "    playlist_dict = dict(name = name_list, id = id_list, creator = creator_list)\n",
    "        \n",
    "    playlist_df = pd.DataFrame(playlist_dict)\n",
    "    multiple_playlist_dict = list(creator_id_tuple)\n",
    "    playlist_df.to_csv('{}-playlists.csv'.format(user))\n",
    "    return playlist_df, multiple_playlist_dict"
   ]
  },
  {
   "cell_type": "code",
   "execution_count": 11,
   "metadata": {},
   "outputs": [],
   "source": [
    "def getTrackIds(user, playlist_id):\n",
    "    \"\"\"get track ids from a playlist and return id list.\"\"\"\n",
    "    \n",
    "    ids = []\n",
    "    playlist = sp.user_playlist(user, playlist_id)\n",
    "    for item in playlist['tracks']['items']:\n",
    "        track = item['track']\n",
    "        ids.append(track['id'])\n",
    "    return ids\n",
    "\n",
    "# ids = getTrackIds(my_user, vfar_id)"
   ]
  },
  {
   "cell_type": "code",
   "execution_count": 12,
   "metadata": {},
   "outputs": [],
   "source": [
    "def getTrackIdsFromAlbum(album_id):\n",
    "\n",
    "    tracklist = []\n",
    "    track_id_list = []\n",
    "\n",
    "    results = sp.album_tracks(album_id)\n",
    "    tracks = results['items']\n",
    "    album_results = sp.album(album_id)\n",
    "    album_name = album_results['name'] \n",
    "    album_tracks = album_results['tracks']\n",
    "    for track, _ in enumerate(tracks):\n",
    "        tracklist.append(tracks[track]['name'])\n",
    "        track_id_list.append(tracks[track]['id']) \n",
    "\n",
    "    return track_id_list"
   ]
  },
  {
   "cell_type": "code",
   "execution_count": 13,
   "metadata": {},
   "outputs": [],
   "source": [
    "def analysePlaylist(creator, playlist_id):\n",
    "    \n",
    "    tracks = []\n",
    "    offset = 0\n",
    "    # Create empty dataframe\n",
    "    playlist_features_list = ['artist','album','track_name', 'track_id', 'popularity', 'genres', 'danceability','energy','key','loudness','mode', 'speechiness','instrumentalness','liveness','valence','tempo', 'duration_ms','time_signature']\n",
    "    \n",
    "    playlist_df = pd.DataFrame(columns = playlist_features_list)\n",
    "    \n",
    "    # Loop through every track in the playlist, extract features and append the features to the playlist df\n",
    "        \n",
    "    while True:\n",
    "        results = sp.user_playlist_tracks(creator, playlist_id, offset=offset)\n",
    "        tracks += results['items']\n",
    "\n",
    "        if results['next'] is not None:\n",
    "            offset += 100\n",
    "        else:\n",
    "            break\n",
    "\n",
    "    for track in tracks:       \n",
    "        \n",
    "        artist = track['track']['album']['artists'][0]\n",
    "        artist_id = artist['id']\n",
    "        genre = sp.artist(artist_id)\n",
    "        genres = genre['genres']\n",
    "\n",
    "        playlist_features = {}        \n",
    "        playlist_features['artist'] = artist['name']\n",
    "        playlist_features['album'] = track['track']['album']['name']\n",
    "        playlist_features['track_name'] = track['track']['name']\n",
    "        playlist_features['track_id'] = track['track']['id']\n",
    "        playlist_features['popularity'] = track['track']['popularity']\n",
    "        playlist_features['genres'] = [genres]\n",
    "    \n",
    "        # Get audio features\n",
    "        time.sleep(0.5)\n",
    "        audio_features = sp.audio_features(playlist_features['track_id'])[0]\n",
    "        for feature in playlist_features_list[6:]:\n",
    "            playlist_features[feature] = audio_features[feature]\n",
    "        \n",
    "        # Concat the dfs\n",
    "        track_df = pd.DataFrame(playlist_features, index = [0])\n",
    "        playlist_df = pd.concat([playlist_df, track_df], ignore_index = True)\n",
    "    \n",
    "    playlist_df.to_csv('{}-{}.csv'.format(creator, playlist_id))\n",
    "    return playlist_df"
   ]
  },
  {
   "cell_type": "code",
   "execution_count": 14,
   "metadata": {},
   "outputs": [],
   "source": [
    "def analysePlaylistsList(playlist_tuple_list):\n",
    "    \"\"\"function to analyse multiple playlists\"\"\"\n",
    "\n",
    "    for id, _ in enumerate(playlist_tuple_list):\n",
    "        playlist_df = analysePlaylist(playlist_tuple_list[id][0], playlist_tuple_list[id][1])\n",
    "        # playlist_df['playlist'] = PLAYLIST NAME\n",
    "\n",
    "        if id == 0:\n",
    "            playlist_tuple_df = playlist_df\n",
    "        else:\n",
    "            playlist_tuple_df = pd.concat([playlist_tuple_df, playlist_df], ignore_index=True)\n",
    "\n",
    "    playlist_tuple_df.to_csv('multiple playlists.csv')\n",
    "    return playlist_tuple_df"
   ]
  },
  {
   "cell_type": "code",
   "execution_count": 15,
   "metadata": {},
   "outputs": [],
   "source": [
    "def getDiscography(name):\n",
    "    \"\"\"get discography of an artist by searching its name and return a dataframe and genres in a seperate variable\"\"\"\n",
    "\n",
    "    release_date_list = []\n",
    "    track_id_list = []   \n",
    "    tracklist = []\n",
    "    album_list = []    \n",
    "    track_album_dict = {}\n",
    "\n",
    "    album_names = []\n",
    "    album_id = []\n",
    "    album_release_date = []\n",
    "\n",
    "    single_names = []\n",
    "    single_id = []\n",
    "    single_release_date = []\n",
    "\n",
    "    results = sp.search(q=name, type='artist')\n",
    "    artist = results['artists']['items'][0]\n",
    "\n",
    "    artist_name = artist['name']\n",
    "    artist_id = artist['id']\n",
    "    artist_genres = artist['genres']\n",
    "\n",
    "    artist_albums = sp.artist_albums(artist_id, album_type='album')\n",
    "    albums = artist_albums['items']\n",
    "    \n",
    "    while artist_albums['next']:\n",
    "        artist_albums = sp.next(artist_albums)\n",
    "        albums.extend(artist_albums['items'])\n",
    "\n",
    "    for album in albums:\n",
    "        album_names.append(album['name'])\n",
    "        album_id.append(album['id'])\n",
    "        album_release_date.append(album['release_date'])\n",
    "\n",
    "    \n",
    "    artist_singles = sp.artist_albums(artist_id, album_type='single')\n",
    "    singles = artist_singles['items']\n",
    "    \n",
    "    while artist_singles['next']:\n",
    "        artist_singles = sp.next(artist_singles)\n",
    "        singles.extend(artist_singles['items'])\n",
    "\n",
    "    for single in singles:\n",
    "        single_names.append(single['name'])\n",
    "        single_id.append(single['id'])\n",
    "        single_release_date.append(single['release_date'])\n",
    "\n",
    "\n",
    "    # MUCH BETTER CODE but need to figure out a way to append release date.\n",
    "    # for album in album_id:\n",
    "    #     tracks = sp.album_tracks(album)\n",
    "    #     tracks = tracks['items']\n",
    "    #     album_name = sp.album(album)['name']\n",
    "    #     for track in tracks:\n",
    "    #         track_name = track['name']\n",
    "    #         track_id_list.append(track['id'])\n",
    "    #         tracklist.append(track_name)\n",
    "    #         album_list.append(album_name)\n",
    "    #         release_date_list.append(album_release_date[])\n",
    "\n",
    "\n",
    "    for album, _ in enumerate(album_id):\n",
    "        tracks = sp.album_tracks(album_id[album])\n",
    "        tracks = tracks['items']\n",
    "        album_name = sp.album(album_id[album])['name'] \n",
    "        for track, _ in enumerate(tracks):\n",
    "            track_name = tracks[track]['name']\n",
    "            track_id_list.append(tracks[track]['id']) \n",
    "            tracklist.append(track_name)\n",
    "            album_list.append(album_name)\n",
    "            release_date_list.append(album_release_date[album])\n",
    "    \n",
    "    for single, _ in enumerate(single_id):\n",
    "        tracks = sp.album_tracks(single_id[single])\n",
    "        tracks = tracks['items']\n",
    "        album_name = sp.album(single_id[single])['name'] \n",
    "        for track, _ in enumerate(tracks):\n",
    "            single_name = tracks[track]['name']\n",
    "            track_id_list.append(tracks[track]['id']) \n",
    "            tracklist.append(single_name)\n",
    "            album_list.append(album_name)\n",
    "            release_date_list.append(single_release_date[single])\n",
    "\n",
    "    \n",
    "\n",
    "\n",
    "    track_album_dict = {'track': tracklist, 'album': album_list, 'release_date': release_date_list, 'id': track_id_list}  \n",
    "    df = pd.DataFrame(track_album_dict)\n",
    "    df.to_csv('{}-discog.csv'.format(artist['name']))\n",
    "    return df"
   ]
  },
  {
   "cell_type": "code",
   "execution_count": 16,
   "metadata": {},
   "outputs": [],
   "source": [
    "def getTrackFeatures(id):\n",
    "    \"\"\"get features of a track by its ID.\"\"\"\n",
    "    \n",
    "    meta = sp.track(id)\n",
    "    features = sp.audio_features(id)\n",
    "\n",
    "    #meta\n",
    "    name = meta['name']\n",
    "    album = meta['album']['name']\n",
    "    artist = meta['album']['artists'][0]['name']\n",
    "    artist_id = meta['album']['artists'][0]['id']\n",
    "    genre = sp.artist(artist_id)['genres']\n",
    "    release_date = meta['album']['release_date']\n",
    "    length = meta['duration_ms']\n",
    "    popularity = meta['popularity']\n",
    "\n",
    "    #features\n",
    "    danceability = features[0]['danceability']\n",
    "    energy = features[0]['energy']\n",
    "    key = features[0]['key']\n",
    "    loudness = features[0]['loudness']\n",
    "    mode = features[0]['mode']\n",
    "    speechiness = features[0]['speechiness']\n",
    "    acousticness = features[0]['acousticness']\n",
    "    instrumentalness = features[0]['instrumentalness']\n",
    "    liveness = features[0]['liveness']\n",
    "    valence = features[0]['valence']\n",
    "    tempo = features[0]['tempo']\n",
    "    time_signature = features[0]['time_signature']\n",
    "\n",
    "    track = [name, album, artist, release_date, genre, length, popularity,danceability, energy, key, loudness, mode, speechiness, acousticness, instrumentalness, liveness, valence, tempo, time_signature]\n",
    "\n",
    "    return track"
   ]
  },
  {
   "cell_type": "code",
   "execution_count": 17,
   "metadata": {},
   "outputs": [],
   "source": [
    "def getTracklistFeatures(tracklist):\n",
    "    \"\"\"get features of multiple tracks from a list of IDs and return a dataframe\"\"\"\n",
    "\n",
    "  # loop over track ids \n",
    "    tracks = []\n",
    "    for id in range(len(tracklist)):\n",
    "        track = getTrackFeatures(tracklist[id])\n",
    "        tracks.append(track)\n",
    "        \n",
    "        # see status\n",
    "        print('Requesting track {}/{}'.format(id, len(tracklist)))\n",
    "        # clear output\n",
    "        clear_output(wait=True)\n",
    "\n",
    "  # create dataset\n",
    "    df = pd.DataFrame(tracks, columns = ['track', 'album', 'artist', 'release_date', 'genres', 'length', 'popularity', 'danceability', 'energy', 'key', 'loudness', 'mode', 'speechiness', 'acousticness', 'instrumentalness', 'liveness', 'valence', 'tempo', 'time_signature'])\n",
    "    df.to_csv(\"tracklist-features.csv\", sep = ',')\n",
    "    return df"
   ]
  },
  {
   "cell_type": "code",
   "execution_count": 18,
   "metadata": {},
   "outputs": [],
   "source": [
    "def getUriFromDf(df):\n",
    "    saved_uris = []\n",
    "    artist_names = df['artist'].values\n",
    "    track_names = df['track'].values\n",
    "\n",
    "    for i in range(len(artist_names)):\n",
    "        artist = artist_names[i]\n",
    "        track = track_names[i]\n",
    "        print(f'{i} - {artist}: {track}')\n",
    "        q = 'artist:{} track: {}'.format(artist, track)\n",
    "        results = sp.search(q=q, limit=1, type='track')\n",
    "        if len(results['tracks']['items']) > 0:\n",
    "            uri = results['tracks']['items'][0]['uri']\n",
    "        else: \n",
    "            i += 1\n",
    "        saved_uris.append(uri)\n",
    "        \n",
    "    return saved_uris"
   ]
  },
  {
   "cell_type": "code",
   "execution_count": 19,
   "metadata": {
    "tags": []
   },
   "outputs": [],
   "source": [
    "# my_playlists_df, my_playlists_list = getUserPlaylists(username)"
   ]
  },
  {
   "cell_type": "code",
   "execution_count": 20,
   "metadata": {
    "tags": []
   },
   "outputs": [],
   "source": [
    "# scrobbles_uri = getUriFromDf(scrobbles_unique)"
   ]
  },
  {
   "cell_type": "code",
   "execution_count": 21,
   "metadata": {},
   "outputs": [],
   "source": [
    "# l = list(csv.reader(open('../spotify/Spreadsheets/scrobbles_unique_uris.csv', 'r')))\n",
    "# mylist = map(list, zip(*l[0:])) # transpose list\n",
    "# scrobble_uris = list(chain.from_iterable(mylist))"
   ]
  },
  {
   "cell_type": "code",
   "execution_count": 22,
   "metadata": {},
   "outputs": [],
   "source": [
    "# np.savetxt(\"scrobbles_uri_unique.csv\", saved_uris, delimiter=\",\", fmt='%s')"
   ]
  },
  {
   "cell_type": "code",
   "execution_count": 23,
   "metadata": {
    "tags": []
   },
   "outputs": [],
   "source": [
    "# scrobble_features = getTracklistFeatures(scrobble_uris)\n",
    "# scrobble_features.to_csv('scrobbles_features.csv', index=False)"
   ]
  },
  {
   "cell_type": "code",
   "execution_count": 24,
   "metadata": {},
   "outputs": [],
   "source": [
    "# refresh token\n",
    "sp = getToken()"
   ]
  },
  {
   "cell_type": "code",
   "execution_count": 230,
   "metadata": {
    "tags": []
   },
   "outputs": [
    {
     "output_type": "execute_result",
     "data": {
      "text/plain": "                        artist                track             datetime\n0               Matt Berninger    Serpentine Prison  2020-08-25 11:25:07\n1                       Geotic            Gondolier  2020-08-25 11:19:53\n2               Sticky Fingers             Rum Rage  2020-08-25 11:15:45\n3               Declan McKenna              In Blue  2020-08-25 11:10:56\n4      Winnetka Bowling League             On The 5  2020-08-25 11:08:02\n...                        ...                  ...                  ...\n82901                     XYLØ        Dead End Love  2016-10-08 06:51:20\n82902                     XYLØ        Dead End Love  2016-10-08 06:48:06\n82903                     XYLØ        Dead End Love  2016-10-08 06:45:48\n82904                     Lauv              Breathe  2016-10-08 06:43:52\n82905                  Crywolf  Quantum Immortality  2016-10-08 06:39:15\n\n[82906 rows x 3 columns]",
      "text/html": "<div>\n<style scoped>\n    .dataframe tbody tr th:only-of-type {\n        vertical-align: middle;\n    }\n\n    .dataframe tbody tr th {\n        vertical-align: top;\n    }\n\n    .dataframe thead th {\n        text-align: right;\n    }\n</style>\n<table border=\"1\" class=\"dataframe\">\n  <thead>\n    <tr style=\"text-align: right;\">\n      <th></th>\n      <th>artist</th>\n      <th>track</th>\n      <th>datetime</th>\n    </tr>\n  </thead>\n  <tbody>\n    <tr>\n      <th>0</th>\n      <td>Matt Berninger</td>\n      <td>Serpentine Prison</td>\n      <td>2020-08-25 11:25:07</td>\n    </tr>\n    <tr>\n      <th>1</th>\n      <td>Geotic</td>\n      <td>Gondolier</td>\n      <td>2020-08-25 11:19:53</td>\n    </tr>\n    <tr>\n      <th>2</th>\n      <td>Sticky Fingers</td>\n      <td>Rum Rage</td>\n      <td>2020-08-25 11:15:45</td>\n    </tr>\n    <tr>\n      <th>3</th>\n      <td>Declan McKenna</td>\n      <td>In Blue</td>\n      <td>2020-08-25 11:10:56</td>\n    </tr>\n    <tr>\n      <th>4</th>\n      <td>Winnetka Bowling League</td>\n      <td>On The 5</td>\n      <td>2020-08-25 11:08:02</td>\n    </tr>\n    <tr>\n      <th>...</th>\n      <td>...</td>\n      <td>...</td>\n      <td>...</td>\n    </tr>\n    <tr>\n      <th>82901</th>\n      <td>XYLØ</td>\n      <td>Dead End Love</td>\n      <td>2016-10-08 06:51:20</td>\n    </tr>\n    <tr>\n      <th>82902</th>\n      <td>XYLØ</td>\n      <td>Dead End Love</td>\n      <td>2016-10-08 06:48:06</td>\n    </tr>\n    <tr>\n      <th>82903</th>\n      <td>XYLØ</td>\n      <td>Dead End Love</td>\n      <td>2016-10-08 06:45:48</td>\n    </tr>\n    <tr>\n      <th>82904</th>\n      <td>Lauv</td>\n      <td>Breathe</td>\n      <td>2016-10-08 06:43:52</td>\n    </tr>\n    <tr>\n      <th>82905</th>\n      <td>Crywolf</td>\n      <td>Quantum Immortality</td>\n      <td>2016-10-08 06:39:15</td>\n    </tr>\n  </tbody>\n</table>\n<p>82906 rows × 3 columns</p>\n</div>"
     },
     "metadata": {},
     "execution_count": 230
    }
   ],
   "source": [
    "scrobbles = pd.read_csv('/home/sid/development/python/music-analysis/lastfm/Spreadsheets/SidSaxena_scrobbles_2020-08-25.csv')\n",
    "scrobbles = scrobbles.drop(['album', 'artist_mbid', 'album_mbid', 'track_mbid', 'timestamp'], axis=1)\n",
    "scrobbles"
   ]
  },
  {
   "cell_type": "code",
   "execution_count": 26,
   "metadata": {},
   "outputs": [
    {
     "output_type": "execute_result",
     "data": {
      "text/plain": "                        artist                                    track\n0               Matt Berninger                        Serpentine Prison\n1                       Geotic                                Gondolier\n2               Sticky Fingers                                 Rum Rage\n3               Declan McKenna                                  In Blue\n4      Winnetka Bowling League                                 On The 5\n...                        ...                                      ...\n15707                   Tsar B                                 Escalate\n15708             Hydrogen Sea                           Only Oleanders\n15709             Hydrogen Sea                                 Wear Out\n15710                     Jacm  Bon Iver - Perth (JacM Chillstep Remix)\n15711           MrSuicideSheep                   Yoe Mase - Snow Ghosts\n\n[15712 rows x 2 columns]",
      "text/html": "<div>\n<style scoped>\n    .dataframe tbody tr th:only-of-type {\n        vertical-align: middle;\n    }\n\n    .dataframe tbody tr th {\n        vertical-align: top;\n    }\n\n    .dataframe thead th {\n        text-align: right;\n    }\n</style>\n<table border=\"1\" class=\"dataframe\">\n  <thead>\n    <tr style=\"text-align: right;\">\n      <th></th>\n      <th>artist</th>\n      <th>track</th>\n    </tr>\n  </thead>\n  <tbody>\n    <tr>\n      <th>0</th>\n      <td>Matt Berninger</td>\n      <td>Serpentine Prison</td>\n    </tr>\n    <tr>\n      <th>1</th>\n      <td>Geotic</td>\n      <td>Gondolier</td>\n    </tr>\n    <tr>\n      <th>2</th>\n      <td>Sticky Fingers</td>\n      <td>Rum Rage</td>\n    </tr>\n    <tr>\n      <th>3</th>\n      <td>Declan McKenna</td>\n      <td>In Blue</td>\n    </tr>\n    <tr>\n      <th>4</th>\n      <td>Winnetka Bowling League</td>\n      <td>On The 5</td>\n    </tr>\n    <tr>\n      <th>...</th>\n      <td>...</td>\n      <td>...</td>\n    </tr>\n    <tr>\n      <th>15707</th>\n      <td>Tsar B</td>\n      <td>Escalate</td>\n    </tr>\n    <tr>\n      <th>15708</th>\n      <td>Hydrogen Sea</td>\n      <td>Only Oleanders</td>\n    </tr>\n    <tr>\n      <th>15709</th>\n      <td>Hydrogen Sea</td>\n      <td>Wear Out</td>\n    </tr>\n    <tr>\n      <th>15710</th>\n      <td>Jacm</td>\n      <td>Bon Iver - Perth (JacM Chillstep Remix)</td>\n    </tr>\n    <tr>\n      <th>15711</th>\n      <td>MrSuicideSheep</td>\n      <td>Yoe Mase - Snow Ghosts</td>\n    </tr>\n  </tbody>\n</table>\n<p>15712 rows × 2 columns</p>\n</div>"
     },
     "metadata": {},
     "execution_count": 26
    }
   ],
   "source": [
    "scrobbles_unique = pd.read_csv('/home/sid/development/python/music-analysis/lastfm/Spreadsheets/SidSaxena_unique_scrobbles_2020-08-25.csv')\n",
    "scrobbles_unique\n"
   ]
  },
  {
   "cell_type": "code",
   "execution_count": 64,
   "metadata": {
    "tags": []
   },
   "outputs": [
    {
     "output_type": "execute_result",
     "data": {
      "text/plain": "                   track                               album  \\\n0      Serpentine Prison                   Serpentine Prison   \n1              Gondolier                            Traversa   \n2               Rum Rage                    Land Of Pleasure   \n3                In Blue  MOOMINVALLEY (Official Soundtrack)   \n4               On The 5                            On The 5   \n...                  ...                                 ...   \n15683           Turn Red                            Turn Red   \n15691              Worry                           In Dreams   \n15692           Escalate                              Tsar B   \n15693     Only Oleanders                      Only Oleanders   \n15694           Wear Out                            Wear Out   \n\n                        artist release_date  \\\n0               Matt Berninger   2020-05-20   \n1                       Geotic   2018-10-19   \n2               Sticky Fingers   2014-08-01   \n3              Various Artists   2019-04-19   \n4      Winnetka Bowling League   2018-08-10   \n...                        ...          ...   \n15683                  PMtoyou   2014-04-27   \n15691             Hydrogen Sea   2016-09-16   \n15692                   Tsar B   2016-08-26   \n15693             Hydrogen Sea   2014-11-18   \n15694             Hydrogen Sea   2014-10-01   \n\n                                              genres  length  popularity  \\\n0                                                 []  272280          55   \n1                           ['experimental ambient']  319500          30   \n2      ['australian reggae fusion', 'reggae fusion']  252299          67   \n3                                                 []  294021          53   \n4             ['indie pop', 'la pop', 'modern rock']  179840          53   \n...                                              ...     ...         ...   \n15683                                             []  261906           8   \n15691                  ['belgian indie', 'etherpop']  226733          19   \n15692                                ['belgian pop']  225506          54   \n15693                  ['belgian indie', 'etherpop']  191560           3   \n15694                  ['belgian indie', 'etherpop']  226426           5   \n\n       danceability  energy  key  loudness  mode  speechiness  acousticness  \\\n0             0.608   0.377   11   -11.553     1       0.0329        0.3780   \n1             0.874   0.441   11    -9.976     1       0.1160        0.6120   \n2             0.594   0.273    5    -9.402     1       0.0291        0.8730   \n3             0.578   0.456    0   -10.155     1       0.0243        0.1680   \n4             0.556   0.602   11    -5.757     0       0.0299        0.6660   \n...             ...     ...  ...       ...   ...          ...           ...   \n15683         0.624   0.681    2    -9.107     1       0.0297        0.5470   \n15691         0.645   0.785   10    -8.201     0       0.0724        0.0601   \n15692         0.455   0.373    5    -9.337     0       0.0491        0.1060   \n15693         0.487   0.507    5   -11.661     0       0.0569        0.1130   \n15694         0.712   0.765    0   -12.796     0       0.0670        0.6970   \n\n       instrumentalness  liveness  valence    tempo  time_signature  \n0              0.149000    0.1080    0.370  110.079               4  \n1              0.812000    0.0853    0.541  120.001               4  \n2              0.000000    0.0895    0.362  131.851               4  \n3              0.003060    0.2020    0.276   96.979               4  \n4              0.000059    0.1040    0.402  119.919               4  \n...                 ...       ...      ...      ...             ...  \n15683          0.790000    0.1090    0.524  159.036               3  \n15691          0.095500    0.1090    0.429   97.013               4  \n15692          0.001020    0.2170    0.149  112.062               4  \n15693          0.002020    0.2210    0.450   88.753               4  \n15694          0.330000    0.1010    0.545  140.069               4  \n\n[12485 rows x 19 columns]",
      "text/html": "<div>\n<style scoped>\n    .dataframe tbody tr th:only-of-type {\n        vertical-align: middle;\n    }\n\n    .dataframe tbody tr th {\n        vertical-align: top;\n    }\n\n    .dataframe thead th {\n        text-align: right;\n    }\n</style>\n<table border=\"1\" class=\"dataframe\">\n  <thead>\n    <tr style=\"text-align: right;\">\n      <th></th>\n      <th>track</th>\n      <th>album</th>\n      <th>artist</th>\n      <th>release_date</th>\n      <th>genres</th>\n      <th>length</th>\n      <th>popularity</th>\n      <th>danceability</th>\n      <th>energy</th>\n      <th>key</th>\n      <th>loudness</th>\n      <th>mode</th>\n      <th>speechiness</th>\n      <th>acousticness</th>\n      <th>instrumentalness</th>\n      <th>liveness</th>\n      <th>valence</th>\n      <th>tempo</th>\n      <th>time_signature</th>\n    </tr>\n  </thead>\n  <tbody>\n    <tr>\n      <th>0</th>\n      <td>Serpentine Prison</td>\n      <td>Serpentine Prison</td>\n      <td>Matt Berninger</td>\n      <td>2020-05-20</td>\n      <td>[]</td>\n      <td>272280</td>\n      <td>55</td>\n      <td>0.608</td>\n      <td>0.377</td>\n      <td>11</td>\n      <td>-11.553</td>\n      <td>1</td>\n      <td>0.0329</td>\n      <td>0.3780</td>\n      <td>0.149000</td>\n      <td>0.1080</td>\n      <td>0.370</td>\n      <td>110.079</td>\n      <td>4</td>\n    </tr>\n    <tr>\n      <th>1</th>\n      <td>Gondolier</td>\n      <td>Traversa</td>\n      <td>Geotic</td>\n      <td>2018-10-19</td>\n      <td>['experimental ambient']</td>\n      <td>319500</td>\n      <td>30</td>\n      <td>0.874</td>\n      <td>0.441</td>\n      <td>11</td>\n      <td>-9.976</td>\n      <td>1</td>\n      <td>0.1160</td>\n      <td>0.6120</td>\n      <td>0.812000</td>\n      <td>0.0853</td>\n      <td>0.541</td>\n      <td>120.001</td>\n      <td>4</td>\n    </tr>\n    <tr>\n      <th>2</th>\n      <td>Rum Rage</td>\n      <td>Land Of Pleasure</td>\n      <td>Sticky Fingers</td>\n      <td>2014-08-01</td>\n      <td>['australian reggae fusion', 'reggae fusion']</td>\n      <td>252299</td>\n      <td>67</td>\n      <td>0.594</td>\n      <td>0.273</td>\n      <td>5</td>\n      <td>-9.402</td>\n      <td>1</td>\n      <td>0.0291</td>\n      <td>0.8730</td>\n      <td>0.000000</td>\n      <td>0.0895</td>\n      <td>0.362</td>\n      <td>131.851</td>\n      <td>4</td>\n    </tr>\n    <tr>\n      <th>3</th>\n      <td>In Blue</td>\n      <td>MOOMINVALLEY (Official Soundtrack)</td>\n      <td>Various Artists</td>\n      <td>2019-04-19</td>\n      <td>[]</td>\n      <td>294021</td>\n      <td>53</td>\n      <td>0.578</td>\n      <td>0.456</td>\n      <td>0</td>\n      <td>-10.155</td>\n      <td>1</td>\n      <td>0.0243</td>\n      <td>0.1680</td>\n      <td>0.003060</td>\n      <td>0.2020</td>\n      <td>0.276</td>\n      <td>96.979</td>\n      <td>4</td>\n    </tr>\n    <tr>\n      <th>4</th>\n      <td>On The 5</td>\n      <td>On The 5</td>\n      <td>Winnetka Bowling League</td>\n      <td>2018-08-10</td>\n      <td>['indie pop', 'la pop', 'modern rock']</td>\n      <td>179840</td>\n      <td>53</td>\n      <td>0.556</td>\n      <td>0.602</td>\n      <td>11</td>\n      <td>-5.757</td>\n      <td>0</td>\n      <td>0.0299</td>\n      <td>0.6660</td>\n      <td>0.000059</td>\n      <td>0.1040</td>\n      <td>0.402</td>\n      <td>119.919</td>\n      <td>4</td>\n    </tr>\n    <tr>\n      <th>...</th>\n      <td>...</td>\n      <td>...</td>\n      <td>...</td>\n      <td>...</td>\n      <td>...</td>\n      <td>...</td>\n      <td>...</td>\n      <td>...</td>\n      <td>...</td>\n      <td>...</td>\n      <td>...</td>\n      <td>...</td>\n      <td>...</td>\n      <td>...</td>\n      <td>...</td>\n      <td>...</td>\n      <td>...</td>\n      <td>...</td>\n      <td>...</td>\n    </tr>\n    <tr>\n      <th>15683</th>\n      <td>Turn Red</td>\n      <td>Turn Red</td>\n      <td>PMtoyou</td>\n      <td>2014-04-27</td>\n      <td>[]</td>\n      <td>261906</td>\n      <td>8</td>\n      <td>0.624</td>\n      <td>0.681</td>\n      <td>2</td>\n      <td>-9.107</td>\n      <td>1</td>\n      <td>0.0297</td>\n      <td>0.5470</td>\n      <td>0.790000</td>\n      <td>0.1090</td>\n      <td>0.524</td>\n      <td>159.036</td>\n      <td>3</td>\n    </tr>\n    <tr>\n      <th>15691</th>\n      <td>Worry</td>\n      <td>In Dreams</td>\n      <td>Hydrogen Sea</td>\n      <td>2016-09-16</td>\n      <td>['belgian indie', 'etherpop']</td>\n      <td>226733</td>\n      <td>19</td>\n      <td>0.645</td>\n      <td>0.785</td>\n      <td>10</td>\n      <td>-8.201</td>\n      <td>0</td>\n      <td>0.0724</td>\n      <td>0.0601</td>\n      <td>0.095500</td>\n      <td>0.1090</td>\n      <td>0.429</td>\n      <td>97.013</td>\n      <td>4</td>\n    </tr>\n    <tr>\n      <th>15692</th>\n      <td>Escalate</td>\n      <td>Tsar B</td>\n      <td>Tsar B</td>\n      <td>2016-08-26</td>\n      <td>['belgian pop']</td>\n      <td>225506</td>\n      <td>54</td>\n      <td>0.455</td>\n      <td>0.373</td>\n      <td>5</td>\n      <td>-9.337</td>\n      <td>0</td>\n      <td>0.0491</td>\n      <td>0.1060</td>\n      <td>0.001020</td>\n      <td>0.2170</td>\n      <td>0.149</td>\n      <td>112.062</td>\n      <td>4</td>\n    </tr>\n    <tr>\n      <th>15693</th>\n      <td>Only Oleanders</td>\n      <td>Only Oleanders</td>\n      <td>Hydrogen Sea</td>\n      <td>2014-11-18</td>\n      <td>['belgian indie', 'etherpop']</td>\n      <td>191560</td>\n      <td>3</td>\n      <td>0.487</td>\n      <td>0.507</td>\n      <td>5</td>\n      <td>-11.661</td>\n      <td>0</td>\n      <td>0.0569</td>\n      <td>0.1130</td>\n      <td>0.002020</td>\n      <td>0.2210</td>\n      <td>0.450</td>\n      <td>88.753</td>\n      <td>4</td>\n    </tr>\n    <tr>\n      <th>15694</th>\n      <td>Wear Out</td>\n      <td>Wear Out</td>\n      <td>Hydrogen Sea</td>\n      <td>2014-10-01</td>\n      <td>['belgian indie', 'etherpop']</td>\n      <td>226426</td>\n      <td>5</td>\n      <td>0.712</td>\n      <td>0.765</td>\n      <td>0</td>\n      <td>-12.796</td>\n      <td>0</td>\n      <td>0.0670</td>\n      <td>0.6970</td>\n      <td>0.330000</td>\n      <td>0.1010</td>\n      <td>0.545</td>\n      <td>140.069</td>\n      <td>4</td>\n    </tr>\n  </tbody>\n</table>\n<p>12485 rows × 19 columns</p>\n</div>"
     },
     "metadata": {},
     "execution_count": 64
    }
   ],
   "source": [
    "scrobbles_features = pd.read_csv('/home/sid/development/python/music-analysis/spotify/Spreadsheets/scrobbles_features.csv')\n",
    "scrobbles_features = scrobbles_features.drop_duplicates()\n",
    "scrobbles_features.rename(columns={'name':'track'}, inplace=True)\n",
    "scrobbles_features"
   ]
  },
  {
   "cell_type": "code",
   "execution_count": 286,
   "metadata": {},
   "outputs": [],
   "source": [
    "merged = pd.merge(scrobbles, scrobbles_features)\n",
    "merged = merged.sort_values('datetime', ascending=False)\n",
    "merged.to_csv('Scrobbles with Features (56K).csv', index=False)"
   ]
  },
  {
   "cell_type": "code",
   "execution_count": 287,
   "metadata": {},
   "outputs": [
    {
     "output_type": "execute_result",
     "data": {
      "text/plain": "                        artist              track             datetime  \\\n0               Matt Berninger  Serpentine Prison  2020-08-25 11:25:07   \n2                       Geotic          Gondolier  2020-08-25 11:19:53   \n4               Sticky Fingers           Rum Rage  2020-08-25 11:15:45   \n6      Winnetka Bowling League           On The 5  2020-08-25 11:08:02   \n8                   Mad Season            Wake Up  2020-08-25 11:00:31   \n...                        ...                ...                  ...   \n43431                    Michl               Gone  2016-10-08 07:02:33   \n24898                     XYLØ      Dead End Love  2016-10-08 06:51:20   \n24899                     XYLØ      Dead End Love  2016-10-08 06:48:06   \n24900                     XYLØ      Dead End Love  2016-10-08 06:45:48   \n19094                     Lauv            Breathe  2016-10-08 06:43:52   \n\n                                         album release_date  \\\n0                            Serpentine Prison   2020-05-20   \n2                                     Traversa   2018-10-19   \n4                             Land Of Pleasure   2014-08-01   \n6                                     On The 5   2018-08-10   \n8                       Above (Deluxe Edition)         1995   \n...                                        ...          ...   \n43431                                    Michl   2016-08-12   \n24898                            Dead End Love   2016-09-30   \n24899                            Dead End Love   2016-09-30   \n24900                            Dead End Love   2016-09-30   \n19094  I met you when I was 18. (the playlist)   2018-05-31   \n\n                                                  genres  length  popularity  \\\n0                                                     []  272280          55   \n2                               ['experimental ambient']  319500          30   \n4          ['australian reggae fusion', 'reggae fusion']  252299          67   \n6                 ['indie pop', 'la pop', 'modern rock']  179840          53   \n8      ['alternative metal', 'alternative rock', 'blu...  456026          54   \n...                                                  ...     ...         ...   \n43431    ['electropop', 'indie poptimism', 'vapor soul']  172000          45   \n24898  ['electropop', 'indie electropop', 'indie popt...  227765          26   \n24899  ['electropop', 'indie electropop', 'indie popt...  227765          26   \n24900  ['electropop', 'indie electropop', 'indie popt...  227765          26   \n19094                                            ['pop']  237810          65   \n\n       danceability  energy  key  loudness  mode  speechiness  acousticness  \\\n0             0.608   0.377   11   -11.553     1       0.0329         0.378   \n2             0.874   0.441   11    -9.976     1       0.1160         0.612   \n4             0.594   0.273    5    -9.402     1       0.0291         0.873   \n6             0.556   0.602   11    -5.757     0       0.0299         0.666   \n8             0.339   0.276    7   -10.746     1       0.0285         0.141   \n...             ...     ...  ...       ...   ...          ...           ...   \n43431         0.658   0.525   10    -6.903     0       0.1500         0.556   \n24898         0.589   0.765    6    -5.755     0       0.0351         0.021   \n24899         0.589   0.765    6    -5.755     0       0.0351         0.021   \n24900         0.589   0.765    6    -5.755     0       0.0351         0.021   \n19094         0.320   0.393    4    -8.080     1       0.0390         0.728   \n\n       instrumentalness  liveness  valence    tempo  time_signature  \n0              0.149000    0.1080    0.370  110.079               4  \n2              0.812000    0.0853    0.541  120.001               4  \n4              0.000000    0.0895    0.362  131.851               4  \n6              0.000059    0.1040    0.402  119.919               4  \n8              0.009060    0.1000    0.308   83.181               4  \n...                 ...       ...      ...      ...             ...  \n43431          0.000058    0.0883    0.265   82.006               4  \n24898          0.000079    0.1990    0.667  151.958               4  \n24899          0.000079    0.1990    0.667  151.958               4  \n24900          0.000079    0.1990    0.667  151.958               4  \n19094          0.000000    0.3410    0.193  136.746               4  \n\n[56097 rows x 20 columns]",
      "text/html": "<div>\n<style scoped>\n    .dataframe tbody tr th:only-of-type {\n        vertical-align: middle;\n    }\n\n    .dataframe tbody tr th {\n        vertical-align: top;\n    }\n\n    .dataframe thead th {\n        text-align: right;\n    }\n</style>\n<table border=\"1\" class=\"dataframe\">\n  <thead>\n    <tr style=\"text-align: right;\">\n      <th></th>\n      <th>artist</th>\n      <th>track</th>\n      <th>datetime</th>\n      <th>album</th>\n      <th>release_date</th>\n      <th>genres</th>\n      <th>length</th>\n      <th>popularity</th>\n      <th>danceability</th>\n      <th>energy</th>\n      <th>key</th>\n      <th>loudness</th>\n      <th>mode</th>\n      <th>speechiness</th>\n      <th>acousticness</th>\n      <th>instrumentalness</th>\n      <th>liveness</th>\n      <th>valence</th>\n      <th>tempo</th>\n      <th>time_signature</th>\n    </tr>\n  </thead>\n  <tbody>\n    <tr>\n      <th>0</th>\n      <td>Matt Berninger</td>\n      <td>Serpentine Prison</td>\n      <td>2020-08-25 11:25:07</td>\n      <td>Serpentine Prison</td>\n      <td>2020-05-20</td>\n      <td>[]</td>\n      <td>272280</td>\n      <td>55</td>\n      <td>0.608</td>\n      <td>0.377</td>\n      <td>11</td>\n      <td>-11.553</td>\n      <td>1</td>\n      <td>0.0329</td>\n      <td>0.378</td>\n      <td>0.149000</td>\n      <td>0.1080</td>\n      <td>0.370</td>\n      <td>110.079</td>\n      <td>4</td>\n    </tr>\n    <tr>\n      <th>2</th>\n      <td>Geotic</td>\n      <td>Gondolier</td>\n      <td>2020-08-25 11:19:53</td>\n      <td>Traversa</td>\n      <td>2018-10-19</td>\n      <td>['experimental ambient']</td>\n      <td>319500</td>\n      <td>30</td>\n      <td>0.874</td>\n      <td>0.441</td>\n      <td>11</td>\n      <td>-9.976</td>\n      <td>1</td>\n      <td>0.1160</td>\n      <td>0.612</td>\n      <td>0.812000</td>\n      <td>0.0853</td>\n      <td>0.541</td>\n      <td>120.001</td>\n      <td>4</td>\n    </tr>\n    <tr>\n      <th>4</th>\n      <td>Sticky Fingers</td>\n      <td>Rum Rage</td>\n      <td>2020-08-25 11:15:45</td>\n      <td>Land Of Pleasure</td>\n      <td>2014-08-01</td>\n      <td>['australian reggae fusion', 'reggae fusion']</td>\n      <td>252299</td>\n      <td>67</td>\n      <td>0.594</td>\n      <td>0.273</td>\n      <td>5</td>\n      <td>-9.402</td>\n      <td>1</td>\n      <td>0.0291</td>\n      <td>0.873</td>\n      <td>0.000000</td>\n      <td>0.0895</td>\n      <td>0.362</td>\n      <td>131.851</td>\n      <td>4</td>\n    </tr>\n    <tr>\n      <th>6</th>\n      <td>Winnetka Bowling League</td>\n      <td>On The 5</td>\n      <td>2020-08-25 11:08:02</td>\n      <td>On The 5</td>\n      <td>2018-08-10</td>\n      <td>['indie pop', 'la pop', 'modern rock']</td>\n      <td>179840</td>\n      <td>53</td>\n      <td>0.556</td>\n      <td>0.602</td>\n      <td>11</td>\n      <td>-5.757</td>\n      <td>0</td>\n      <td>0.0299</td>\n      <td>0.666</td>\n      <td>0.000059</td>\n      <td>0.1040</td>\n      <td>0.402</td>\n      <td>119.919</td>\n      <td>4</td>\n    </tr>\n    <tr>\n      <th>8</th>\n      <td>Mad Season</td>\n      <td>Wake Up</td>\n      <td>2020-08-25 11:00:31</td>\n      <td>Above (Deluxe Edition)</td>\n      <td>1995</td>\n      <td>['alternative metal', 'alternative rock', 'blu...</td>\n      <td>456026</td>\n      <td>54</td>\n      <td>0.339</td>\n      <td>0.276</td>\n      <td>7</td>\n      <td>-10.746</td>\n      <td>1</td>\n      <td>0.0285</td>\n      <td>0.141</td>\n      <td>0.009060</td>\n      <td>0.1000</td>\n      <td>0.308</td>\n      <td>83.181</td>\n      <td>4</td>\n    </tr>\n    <tr>\n      <th>...</th>\n      <td>...</td>\n      <td>...</td>\n      <td>...</td>\n      <td>...</td>\n      <td>...</td>\n      <td>...</td>\n      <td>...</td>\n      <td>...</td>\n      <td>...</td>\n      <td>...</td>\n      <td>...</td>\n      <td>...</td>\n      <td>...</td>\n      <td>...</td>\n      <td>...</td>\n      <td>...</td>\n      <td>...</td>\n      <td>...</td>\n      <td>...</td>\n      <td>...</td>\n    </tr>\n    <tr>\n      <th>43431</th>\n      <td>Michl</td>\n      <td>Gone</td>\n      <td>2016-10-08 07:02:33</td>\n      <td>Michl</td>\n      <td>2016-08-12</td>\n      <td>['electropop', 'indie poptimism', 'vapor soul']</td>\n      <td>172000</td>\n      <td>45</td>\n      <td>0.658</td>\n      <td>0.525</td>\n      <td>10</td>\n      <td>-6.903</td>\n      <td>0</td>\n      <td>0.1500</td>\n      <td>0.556</td>\n      <td>0.000058</td>\n      <td>0.0883</td>\n      <td>0.265</td>\n      <td>82.006</td>\n      <td>4</td>\n    </tr>\n    <tr>\n      <th>24898</th>\n      <td>XYLØ</td>\n      <td>Dead End Love</td>\n      <td>2016-10-08 06:51:20</td>\n      <td>Dead End Love</td>\n      <td>2016-09-30</td>\n      <td>['electropop', 'indie electropop', 'indie popt...</td>\n      <td>227765</td>\n      <td>26</td>\n      <td>0.589</td>\n      <td>0.765</td>\n      <td>6</td>\n      <td>-5.755</td>\n      <td>0</td>\n      <td>0.0351</td>\n      <td>0.021</td>\n      <td>0.000079</td>\n      <td>0.1990</td>\n      <td>0.667</td>\n      <td>151.958</td>\n      <td>4</td>\n    </tr>\n    <tr>\n      <th>24899</th>\n      <td>XYLØ</td>\n      <td>Dead End Love</td>\n      <td>2016-10-08 06:48:06</td>\n      <td>Dead End Love</td>\n      <td>2016-09-30</td>\n      <td>['electropop', 'indie electropop', 'indie popt...</td>\n      <td>227765</td>\n      <td>26</td>\n      <td>0.589</td>\n      <td>0.765</td>\n      <td>6</td>\n      <td>-5.755</td>\n      <td>0</td>\n      <td>0.0351</td>\n      <td>0.021</td>\n      <td>0.000079</td>\n      <td>0.1990</td>\n      <td>0.667</td>\n      <td>151.958</td>\n      <td>4</td>\n    </tr>\n    <tr>\n      <th>24900</th>\n      <td>XYLØ</td>\n      <td>Dead End Love</td>\n      <td>2016-10-08 06:45:48</td>\n      <td>Dead End Love</td>\n      <td>2016-09-30</td>\n      <td>['electropop', 'indie electropop', 'indie popt...</td>\n      <td>227765</td>\n      <td>26</td>\n      <td>0.589</td>\n      <td>0.765</td>\n      <td>6</td>\n      <td>-5.755</td>\n      <td>0</td>\n      <td>0.0351</td>\n      <td>0.021</td>\n      <td>0.000079</td>\n      <td>0.1990</td>\n      <td>0.667</td>\n      <td>151.958</td>\n      <td>4</td>\n    </tr>\n    <tr>\n      <th>19094</th>\n      <td>Lauv</td>\n      <td>Breathe</td>\n      <td>2016-10-08 06:43:52</td>\n      <td>I met you when I was 18. (the playlist)</td>\n      <td>2018-05-31</td>\n      <td>['pop']</td>\n      <td>237810</td>\n      <td>65</td>\n      <td>0.320</td>\n      <td>0.393</td>\n      <td>4</td>\n      <td>-8.080</td>\n      <td>1</td>\n      <td>0.0390</td>\n      <td>0.728</td>\n      <td>0.000000</td>\n      <td>0.3410</td>\n      <td>0.193</td>\n      <td>136.746</td>\n      <td>4</td>\n    </tr>\n  </tbody>\n</table>\n<p>56097 rows × 20 columns</p>\n</div>"
     },
     "metadata": {},
     "execution_count": 287
    }
   ],
   "source": [
    "merged"
   ]
  },
  {
   "cell_type": "code",
   "execution_count": null,
   "metadata": {},
   "outputs": [],
   "source": []
  }
 ]
}