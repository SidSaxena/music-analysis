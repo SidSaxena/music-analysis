{
 "metadata": {
  "language_info": {
   "codemirror_mode": {
    "name": "ipython",
    "version": 3
   },
   "file_extension": ".py",
   "mimetype": "text/x-python",
   "name": "python",
   "nbconvert_exporter": "python",
   "pygments_lexer": "ipython3",
   "version": 3
  },
  "orig_nbformat": 2,
  "kernelspec": {
   "name": "python_defaultSpec_1596277962781",
   "display_name": "Python 3.8.2 64-bit"
  }
 },
 "nbformat": 4,
 "nbformat_minor": 2,
 "cells": [
  {
   "cell_type": "markdown",
   "metadata": {},
   "source": [
    "Example 3 : Login via OAuth and scope and user info."
   ]
  },
  {
   "cell_type": "code",
   "execution_count": 1,
   "metadata": {},
   "outputs": [],
   "source": [
    "import spotipy"
   ]
  },
  {
   "cell_type": "code",
   "execution_count": 2,
   "metadata": {},
   "outputs": [],
   "source": [
    "from spotipy.oauth2 import SpotifyOAuth"
   ]
  },
  {
   "cell_type": "code",
   "execution_count": 3,
   "metadata": {},
   "outputs": [],
   "source": [
    "scope = 'user-library-read'"
   ]
  },
  {
   "cell_type": "code",
   "execution_count": null,
   "metadata": {},
   "outputs": [],
   "source": [
    "sp = spotipy.Spotify(auth_manager=SpotifyOAuth(username= 'sidsaxena', scope=scope, redirect_uri='http://google.com/'))"
   ]
  },
  {
   "cell_type": "code",
   "execution_count": 11,
   "metadata": {},
   "outputs": [],
   "source": [
    "results = sp.current_user_saved_tracks()"
   ]
  },
  {
   "cell_type": "code",
   "execution_count": 12,
   "metadata": {
    "tags": []
   },
   "outputs": [
    {
     "output_type": "stream",
     "name": "stdout",
     "text": "0 Gorillaz  -  Doncamatic (feat. Daley)\n1 Radiohead  -  No Surprises\n2 Cage The Elephant  -  Cigarette Daydreams\n3 Arctic Monkeys  -  Do I Wanna Know?\n4 Radiohead  -  Paranoid Android\n5 Jimmy Eat World  -  The Middle\n6 Westlife  -  My Love\n7 Electric Youth  -  Breathless\n8 Mt. Wolf  -  Heavenbound\n9 alt-J  -  Lovely Day (Bonus Track)\n10 mitsume  -  エスパー\n11 Winnetka Bowling League  -  On The 5\n12 HAWAI  -  I'M STILL HERE\n13 Geotic  -  Gondolier\n14 Moon Panda  -  Rabbit\n15 Hailaker  -  Coma / Smoke\n16 Gregory Alan Isakov  -  Berth\n17 Alex Siegel  -  Daydreaming Pilot\n18 Masakatsu Takagi  -  Amamizu\n19 Daniel Olsén  -  Clair de lune\n"
    }
   ],
   "source": [
    "for idx, item in enumerate(results['items']):\n",
    "    track = item['track']\n",
    "    print(idx, track['artists'][0]['name'], \" - \", track['name'])"
   ]
  },
  {
   "cell_type": "code",
   "execution_count": null,
   "metadata": {},
   "outputs": [],
   "source": []
  }
 ]
}